{
 "cells": [
  {
   "cell_type": "code",
   "execution_count": 1,
   "metadata": {
    "collapsed": true
   },
   "outputs": [],
   "source": [
    "import graphlab\n",
    "import graphlab as gl\n",
    "import datetime\n",
    "import pandas as pd\n",
    "from pandas import DataFrame"
   ]
  },
  {
   "cell_type": "code",
   "execution_count": 3,
   "metadata": {
    "collapsed": false
   },
   "outputs": [
    {
     "data": {
      "text/html": [
       "<pre>Finished parsing file /home/omar/aggressive_dedup.json.gz</pre>"
      ],
      "text/plain": [
       "Finished parsing file /home/omar/aggressive_dedup.json.gz"
      ]
     },
     "metadata": {},
     "output_type": "display_data"
    },
    {
     "data": {
      "text/html": [
       "<pre>Parsing completed. Parsed 100 lines in 0.915085 secs.</pre>"
      ],
      "text/plain": [
       "Parsing completed. Parsed 100 lines in 0.915085 secs."
      ]
     },
     "metadata": {},
     "output_type": "display_data"
    },
    {
     "name": "stdout",
     "output_type": "stream",
     "text": [
      "------------------------------------------------------\n",
      "Inferred types from first 100 line(s) of file as \n",
      "column_type_hints=[dict]\n",
      "If parsing fails due to incorrect types, you can correct\n",
      "the inferred type list above and pass it to read_csv in\n",
      "the column_type_hints argument\n",
      "------------------------------------------------------\n"
     ]
    },
    {
     "data": {
      "text/html": [
       "<pre>Read 96319 lines. Lines per second: 53320.1</pre>"
      ],
      "text/plain": [
       "Read 96319 lines. Lines per second: 53320.1"
      ]
     },
     "metadata": {},
     "output_type": "display_data"
    },
    {
     "data": {
      "text/html": [
       "<pre>Read 556409 lines. Lines per second: 74474.2</pre>"
      ],
      "text/plain": [
       "Read 556409 lines. Lines per second: 74474.2"
      ]
     },
     "metadata": {},
     "output_type": "display_data"
    },
    {
     "data": {
      "text/html": [
       "<pre>Read 1004258 lines. Lines per second: 75944.2</pre>"
      ],
      "text/plain": [
       "Read 1004258 lines. Lines per second: 75944.2"
      ]
     },
     "metadata": {},
     "output_type": "display_data"
    },
    {
     "data": {
      "text/html": [
       "<pre>Read 1451428 lines. Lines per second: 76673</pre>"
      ],
      "text/plain": [
       "Read 1451428 lines. Lines per second: 76673"
      ]
     },
     "metadata": {},
     "output_type": "display_data"
    },
    {
     "data": {
      "text/html": [
       "<pre>Read 1914234 lines. Lines per second: 77742.2</pre>"
      ],
      "text/plain": [
       "Read 1914234 lines. Lines per second: 77742.2"
      ]
     },
     "metadata": {},
     "output_type": "display_data"
    },
    {
     "data": {
      "text/html": [
       "<pre>Read 2334084 lines. Lines per second: 76889.1</pre>"
      ],
      "text/plain": [
       "Read 2334084 lines. Lines per second: 76889.1"
      ]
     },
     "metadata": {},
     "output_type": "display_data"
    },
    {
     "data": {
      "text/html": [
       "<pre>Read 2773086 lines. Lines per second: 76740.4</pre>"
      ],
      "text/plain": [
       "Read 2773086 lines. Lines per second: 76740.4"
      ]
     },
     "metadata": {},
     "output_type": "display_data"
    },
    {
     "data": {
      "text/html": [
       "<pre>Read 3202660 lines. Lines per second: 76299.3</pre>"
      ],
      "text/plain": [
       "Read 3202660 lines. Lines per second: 76299.3"
      ]
     },
     "metadata": {},
     "output_type": "display_data"
    },
    {
     "data": {
      "text/html": [
       "<pre>Read 3667870 lines. Lines per second: 76753.9</pre>"
      ],
      "text/plain": [
       "Read 3667870 lines. Lines per second: 76753.9"
      ]
     },
     "metadata": {},
     "output_type": "display_data"
    },
    {
     "data": {
      "text/html": [
       "<pre>Read 4122861 lines. Lines per second: 76877.8</pre>"
      ],
      "text/plain": [
       "Read 4122861 lines. Lines per second: 76877.8"
      ]
     },
     "metadata": {},
     "output_type": "display_data"
    },
    {
     "data": {
      "text/html": [
       "<pre>Read 4559095 lines. Lines per second: 76743.8</pre>"
      ],
      "text/plain": [
       "Read 4559095 lines. Lines per second: 76743.8"
      ]
     },
     "metadata": {},
     "output_type": "display_data"
    },
    {
     "data": {
      "text/html": [
       "<pre>Read 4930212 lines. Lines per second: 76434.9</pre>"
      ],
      "text/plain": [
       "Read 4930212 lines. Lines per second: 76434.9"
      ]
     },
     "metadata": {},
     "output_type": "display_data"
    },
    {
     "data": {
      "text/html": [
       "<pre>Read 5369277 lines. Lines per second: 76378.1</pre>"
      ],
      "text/plain": [
       "Read 5369277 lines. Lines per second: 76378.1"
      ]
     },
     "metadata": {},
     "output_type": "display_data"
    },
    {
     "data": {
      "text/html": [
       "<pre>Read 5822327 lines. Lines per second: 76444.1</pre>"
      ],
      "text/plain": [
       "Read 5822327 lines. Lines per second: 76444.1"
      ]
     },
     "metadata": {},
     "output_type": "display_data"
    },
    {
     "data": {
      "text/html": [
       "<pre>Read 6257788 lines. Lines per second: 76306</pre>"
      ],
      "text/plain": [
       "Read 6257788 lines. Lines per second: 76306"
      ]
     },
     "metadata": {},
     "output_type": "display_data"
    },
    {
     "data": {
      "text/html": [
       "<pre>Read 6701840 lines. Lines per second: 76318.7</pre>"
      ],
      "text/plain": [
       "Read 6701840 lines. Lines per second: 76318.7"
      ]
     },
     "metadata": {},
     "output_type": "display_data"
    },
    {
     "data": {
      "text/html": [
       "<pre>Read 7150264 lines. Lines per second: 76373.9</pre>"
      ],
      "text/plain": [
       "Read 7150264 lines. Lines per second: 76373.9"
      ]
     },
     "metadata": {},
     "output_type": "display_data"
    },
    {
     "data": {
      "text/html": [
       "<pre>Read 7602735 lines. Lines per second: 76487.4</pre>"
      ],
      "text/plain": [
       "Read 7602735 lines. Lines per second: 76487.4"
      ]
     },
     "metadata": {},
     "output_type": "display_data"
    },
    {
     "data": {
      "text/html": [
       "<pre>Read 8025992 lines. Lines per second: 76298.5</pre>"
      ],
      "text/plain": [
       "Read 8025992 lines. Lines per second: 76298.5"
      ]
     },
     "metadata": {},
     "output_type": "display_data"
    },
    {
     "data": {
      "text/html": [
       "<pre>Read 8462462 lines. Lines per second: 76267.6</pre>"
      ],
      "text/plain": [
       "Read 8462462 lines. Lines per second: 76267.6"
      ]
     },
     "metadata": {},
     "output_type": "display_data"
    },
    {
     "data": {
      "text/html": [
       "<pre>Read 8902949 lines. Lines per second: 76239</pre>"
      ],
      "text/plain": [
       "Read 8902949 lines. Lines per second: 76239"
      ]
     },
     "metadata": {},
     "output_type": "display_data"
    },
    {
     "data": {
      "text/html": [
       "<pre>Read 9343774 lines. Lines per second: 76201.4</pre>"
      ],
      "text/plain": [
       "Read 9343774 lines. Lines per second: 76201.4"
      ]
     },
     "metadata": {},
     "output_type": "display_data"
    },
    {
     "data": {
      "text/html": [
       "<pre>Read 9794125 lines. Lines per second: 76221.7</pre>"
      ],
      "text/plain": [
       "Read 9794125 lines. Lines per second: 76221.7"
      ]
     },
     "metadata": {},
     "output_type": "display_data"
    },
    {
     "data": {
      "text/html": [
       "<pre>Read 10226221 lines. Lines per second: 76151.4</pre>"
      ],
      "text/plain": [
       "Read 10226221 lines. Lines per second: 76151.4"
      ]
     },
     "metadata": {},
     "output_type": "display_data"
    },
    {
     "data": {
      "text/html": [
       "<pre>Read 10673688 lines. Lines per second: 76148.4</pre>"
      ],
      "text/plain": [
       "Read 10673688 lines. Lines per second: 76148.4"
      ]
     },
     "metadata": {},
     "output_type": "display_data"
    },
    {
     "data": {
      "text/html": [
       "<pre>Read 11040540 lines. Lines per second: 76083.1</pre>"
      ],
      "text/plain": [
       "Read 11040540 lines. Lines per second: 76083.1"
      ]
     },
     "metadata": {},
     "output_type": "display_data"
    },
    {
     "data": {
      "text/html": [
       "<pre>Read 11486347 lines. Lines per second: 76113.7</pre>"
      ],
      "text/plain": [
       "Read 11486347 lines. Lines per second: 76113.7"
      ]
     },
     "metadata": {},
     "output_type": "display_data"
    },
    {
     "data": {
      "text/html": [
       "<pre>Read 11927750 lines. Lines per second: 76112</pre>"
      ],
      "text/plain": [
       "Read 11927750 lines. Lines per second: 76112"
      ]
     },
     "metadata": {},
     "output_type": "display_data"
    },
    {
     "data": {
      "text/html": [
       "<pre>Read 12284738 lines. Lines per second: 76018</pre>"
      ],
      "text/plain": [
       "Read 12284738 lines. Lines per second: 76018"
      ]
     },
     "metadata": {},
     "output_type": "display_data"
    },
    {
     "data": {
      "text/html": [
       "<pre>Read 12736781 lines. Lines per second: 76076.2</pre>"
      ],
      "text/plain": [
       "Read 12736781 lines. Lines per second: 76076.2"
      ]
     },
     "metadata": {},
     "output_type": "display_data"
    },
    {
     "data": {
      "text/html": [
       "<pre>Read 13177345 lines. Lines per second: 76032.4</pre>"
      ],
      "text/plain": [
       "Read 13177345 lines. Lines per second: 76032.4"
      ]
     },
     "metadata": {},
     "output_type": "display_data"
    },
    {
     "data": {
      "text/html": [
       "<pre>Read 13624875 lines. Lines per second: 76030.9</pre>"
      ],
      "text/plain": [
       "Read 13624875 lines. Lines per second: 76030.9"
      ]
     },
     "metadata": {},
     "output_type": "display_data"
    },
    {
     "data": {
      "text/html": [
       "<pre>Read 14005455 lines. Lines per second: 76054.9</pre>"
      ],
      "text/plain": [
       "Read 14005455 lines. Lines per second: 76054.9"
      ]
     },
     "metadata": {},
     "output_type": "display_data"
    },
    {
     "data": {
      "text/html": [
       "<pre>Read 14451408 lines. Lines per second: 76024.3</pre>"
      ],
      "text/plain": [
       "Read 14451408 lines. Lines per second: 76024.3"
      ]
     },
     "metadata": {},
     "output_type": "display_data"
    },
    {
     "data": {
      "text/html": [
       "<pre>Read 14819695 lines. Lines per second: 75959.2</pre>"
      ],
      "text/plain": [
       "Read 14819695 lines. Lines per second: 75959.2"
      ]
     },
     "metadata": {},
     "output_type": "display_data"
    },
    {
     "data": {
      "text/html": [
       "<pre>Read 15198254 lines. Lines per second: 75957.8</pre>"
      ],
      "text/plain": [
       "Read 15198254 lines. Lines per second: 75957.8"
      ]
     },
     "metadata": {},
     "output_type": "display_data"
    },
    {
     "data": {
      "text/html": [
       "<pre>Read 15638977 lines. Lines per second: 75898.3</pre>"
      ],
      "text/plain": [
       "Read 15638977 lines. Lines per second: 75898.3"
      ]
     },
     "metadata": {},
     "output_type": "display_data"
    },
    {
     "data": {
      "text/html": [
       "<pre>Read 16025943 lines. Lines per second: 58832.9</pre>"
      ],
      "text/plain": [
       "Read 16025943 lines. Lines per second: 58832.9"
      ]
     },
     "metadata": {},
     "output_type": "display_data"
    },
    {
     "data": {
      "text/html": [
       "<pre>Read 16177127 lines. Lines per second: 58187.9</pre>"
      ],
      "text/plain": [
       "Read 16177127 lines. Lines per second: 58187.9"
      ]
     },
     "metadata": {},
     "output_type": "display_data"
    },
    {
     "data": {
      "text/html": [
       "<pre>Read 16253054 lines. Lines per second: 55514.7</pre>"
      ],
      "text/plain": [
       "Read 16253054 lines. Lines per second: 55514.7"
      ]
     },
     "metadata": {},
     "output_type": "display_data"
    },
    {
     "data": {
      "text/html": [
       "<pre>Read 16699213 lines. Lines per second: 55920.5</pre>"
      ],
      "text/plain": [
       "Read 16699213 lines. Lines per second: 55920.5"
      ]
     },
     "metadata": {},
     "output_type": "display_data"
    },
    {
     "data": {
      "text/html": [
       "<pre>Read 17069739 lines. Lines per second: 56180.8</pre>"
      ],
      "text/plain": [
       "Read 17069739 lines. Lines per second: 56180.8"
      ]
     },
     "metadata": {},
     "output_type": "display_data"
    },
    {
     "data": {
      "text/html": [
       "<pre>Read 17432179 lines. Lines per second: 56415.4</pre>"
      ],
      "text/plain": [
       "Read 17432179 lines. Lines per second: 56415.4"
      ]
     },
     "metadata": {},
     "output_type": "display_data"
    },
    {
     "data": {
      "text/html": [
       "<pre>Read 17816929 lines. Lines per second: 56726.2</pre>"
      ],
      "text/plain": [
       "Read 17816929 lines. Lines per second: 56726.2"
      ]
     },
     "metadata": {},
     "output_type": "display_data"
    },
    {
     "data": {
      "text/html": [
       "<pre>Read 18174240 lines. Lines per second: 56962.8</pre>"
      ],
      "text/plain": [
       "Read 18174240 lines. Lines per second: 56962.8"
      ]
     },
     "metadata": {},
     "output_type": "display_data"
    },
    {
     "data": {
      "text/html": [
       "<pre>Read 18619389 lines. Lines per second: 57287.5</pre>"
      ],
      "text/plain": [
       "Read 18619389 lines. Lines per second: 57287.5"
      ]
     },
     "metadata": {},
     "output_type": "display_data"
    },
    {
     "data": {
      "text/html": [
       "<pre>Read 18770758 lines. Lines per second: 55321.3</pre>"
      ],
      "text/plain": [
       "Read 18770758 lines. Lines per second: 55321.3"
      ]
     },
     "metadata": {},
     "output_type": "display_data"
    },
    {
     "data": {
      "text/html": [
       "<pre>Read 19144594 lines. Lines per second: 55592.8</pre>"
      ],
      "text/plain": [
       "Read 19144594 lines. Lines per second: 55592.8"
      ]
     },
     "metadata": {},
     "output_type": "display_data"
    },
    {
     "data": {
      "text/html": [
       "<pre>Read 19592582 lines. Lines per second: 55937.6</pre>"
      ],
      "text/plain": [
       "Read 19592582 lines. Lines per second: 55937.6"
      ]
     },
     "metadata": {},
     "output_type": "display_data"
    },
    {
     "data": {
      "text/html": [
       "<pre>Read 20046910 lines. Lines per second: 56291.9</pre>"
      ],
      "text/plain": [
       "Read 20046910 lines. Lines per second: 56291.9"
      ]
     },
     "metadata": {},
     "output_type": "display_data"
    },
    {
     "data": {
      "text/html": [
       "<pre>Read 20483443 lines. Lines per second: 56581.4</pre>"
      ],
      "text/plain": [
       "Read 20483443 lines. Lines per second: 56581.4"
      ]
     },
     "metadata": {},
     "output_type": "display_data"
    },
    {
     "data": {
      "text/html": [
       "<pre>Read 20931291 lines. Lines per second: 56891.1</pre>"
      ],
      "text/plain": [
       "Read 20931291 lines. Lines per second: 56891.1"
      ]
     },
     "metadata": {},
     "output_type": "display_data"
    },
    {
     "data": {
      "text/html": [
       "<pre>Read 21308703 lines. Lines per second: 56548.4</pre>"
      ],
      "text/plain": [
       "Read 21308703 lines. Lines per second: 56548.4"
      ]
     },
     "metadata": {},
     "output_type": "display_data"
    },
    {
     "data": {
      "text/html": [
       "<pre>Read 21382546 lines. Lines per second: 55315.5</pre>"
      ],
      "text/plain": [
       "Read 21382546 lines. Lines per second: 55315.5"
      ]
     },
     "metadata": {},
     "output_type": "display_data"
    },
    {
     "data": {
      "text/html": [
       "<pre>Read 21835712 lines. Lines per second: 55640.5</pre>"
      ],
      "text/plain": [
       "Read 21835712 lines. Lines per second: 55640.5"
      ]
     },
     "metadata": {},
     "output_type": "display_data"
    },
    {
     "data": {
      "text/html": [
       "<pre>Read 22279848 lines. Lines per second: 55930.6</pre>"
      ],
      "text/plain": [
       "Read 22279848 lines. Lines per second: 55930.6"
      ]
     },
     "metadata": {},
     "output_type": "display_data"
    },
    {
     "data": {
      "text/html": [
       "<pre>Read 22737850 lines. Lines per second: 56250.2</pre>"
      ],
      "text/plain": [
       "Read 22737850 lines. Lines per second: 56250.2"
      ]
     },
     "metadata": {},
     "output_type": "display_data"
    },
    {
     "data": {
      "text/html": [
       "<pre>Read 23179226 lines. Lines per second: 56517</pre>"
      ],
      "text/plain": [
       "Read 23179226 lines. Lines per second: 56517"
      ]
     },
     "metadata": {},
     "output_type": "display_data"
    },
    {
     "data": {
      "text/html": [
       "<pre>Read 23617364 lines. Lines per second: 56769.9</pre>"
      ],
      "text/plain": [
       "Read 23617364 lines. Lines per second: 56769.9"
      ]
     },
     "metadata": {},
     "output_type": "display_data"
    },
    {
     "data": {
      "text/html": [
       "<pre>Read 23926733 lines. Lines per second: 55300.8</pre>"
      ],
      "text/plain": [
       "Read 23926733 lines. Lines per second: 55300.8"
      ]
     },
     "metadata": {},
     "output_type": "display_data"
    },
    {
     "data": {
      "text/html": [
       "<pre>Read 24364486 lines. Lines per second: 55559.1</pre>"
      ],
      "text/plain": [
       "Read 24364486 lines. Lines per second: 55559.1"
      ]
     },
     "metadata": {},
     "output_type": "display_data"
    },
    {
     "data": {
      "text/html": [
       "<pre>Read 24815947 lines. Lines per second: 55850.9</pre>"
      ],
      "text/plain": [
       "Read 24815947 lines. Lines per second: 55850.9"
      ]
     },
     "metadata": {},
     "output_type": "display_data"
    },
    {
     "data": {
      "text/html": [
       "<pre>Read 25250608 lines. Lines per second: 56079.3</pre>"
      ],
      "text/plain": [
       "Read 25250608 lines. Lines per second: 56079.3"
      ]
     },
     "metadata": {},
     "output_type": "display_data"
    },
    {
     "data": {
      "text/html": [
       "<pre>Read 25705565 lines. Lines per second: 56349.1</pre>"
      ],
      "text/plain": [
       "Read 25705565 lines. Lines per second: 56349.1"
      ]
     },
     "metadata": {},
     "output_type": "display_data"
    },
    {
     "data": {
      "text/html": [
       "<pre>Read 26147464 lines. Lines per second: 56587.5</pre>"
      ],
      "text/plain": [
       "Read 26147464 lines. Lines per second: 56587.5"
      ]
     },
     "metadata": {},
     "output_type": "display_data"
    },
    {
     "data": {
      "text/html": [
       "<pre>Read 26437784 lines. Lines per second: 56049.3</pre>"
      ],
      "text/plain": [
       "Read 26437784 lines. Lines per second: 56049.3"
      ]
     },
     "metadata": {},
     "output_type": "display_data"
    },
    {
     "data": {
      "text/html": [
       "<pre>Read 26512829 lines. Lines per second: 55267.3</pre>"
      ],
      "text/plain": [
       "Read 26512829 lines. Lines per second: 55267.3"
      ]
     },
     "metadata": {},
     "output_type": "display_data"
    },
    {
     "data": {
      "text/html": [
       "<pre>Read 26959318 lines. Lines per second: 55521.4</pre>"
      ],
      "text/plain": [
       "Read 26959318 lines. Lines per second: 55521.4"
      ]
     },
     "metadata": {},
     "output_type": "display_data"
    },
    {
     "data": {
      "text/html": [
       "<pre>Read 27345623 lines. Lines per second: 55746.5</pre>"
      ],
      "text/plain": [
       "Read 27345623 lines. Lines per second: 55746.5"
      ]
     },
     "metadata": {},
     "output_type": "display_data"
    },
    {
     "data": {
      "text/html": [
       "<pre>Read 27804795 lines. Lines per second: 56001.3</pre>"
      ],
      "text/plain": [
       "Read 27804795 lines. Lines per second: 56001.3"
      ]
     },
     "metadata": {},
     "output_type": "display_data"
    },
    {
     "data": {
      "text/html": [
       "<pre>Read 28173263 lines. Lines per second: 56185.3</pre>"
      ],
      "text/plain": [
       "Read 28173263 lines. Lines per second: 56185.3"
      ]
     },
     "metadata": {},
     "output_type": "display_data"
    },
    {
     "data": {
      "text/html": [
       "<pre>Read 28604730 lines. Lines per second: 56384.6</pre>"
      ],
      "text/plain": [
       "Read 28604730 lines. Lines per second: 56384.6"
      ]
     },
     "metadata": {},
     "output_type": "display_data"
    },
    {
     "data": {
      "text/html": [
       "<pre>Read 28971531 lines. Lines per second: 56551.3</pre>"
      ],
      "text/plain": [
       "Read 28971531 lines. Lines per second: 56551.3"
      ]
     },
     "metadata": {},
     "output_type": "display_data"
    },
    {
     "data": {
      "text/html": [
       "<pre>Read 29046245 lines. Lines per second: 55201.2</pre>"
      ],
      "text/plain": [
       "Read 29046245 lines. Lines per second: 55201.2"
      ]
     },
     "metadata": {},
     "output_type": "display_data"
    },
    {
     "data": {
      "text/html": [
       "<pre>Read 29504172 lines. Lines per second: 55452.9</pre>"
      ],
      "text/plain": [
       "Read 29504172 lines. Lines per second: 55452.9"
      ]
     },
     "metadata": {},
     "output_type": "display_data"
    },
    {
     "data": {
      "text/html": [
       "<pre>Read 29948037 lines. Lines per second: 55675.5</pre>"
      ],
      "text/plain": [
       "Read 29948037 lines. Lines per second: 55675.5"
      ]
     },
     "metadata": {},
     "output_type": "display_data"
    },
    {
     "data": {
      "text/html": [
       "<pre>Read 30399496 lines. Lines per second: 55906</pre>"
      ],
      "text/plain": [
       "Read 30399496 lines. Lines per second: 55906"
      ]
     },
     "metadata": {},
     "output_type": "display_data"
    },
    {
     "data": {
      "text/html": [
       "<pre>Read 30827776 lines. Lines per second: 56091.5</pre>"
      ],
      "text/plain": [
       "Read 30827776 lines. Lines per second: 56091.5"
      ]
     },
     "metadata": {},
     "output_type": "display_data"
    },
    {
     "data": {
      "text/html": [
       "<pre>Read 31241055 lines. Lines per second: 56241.8</pre>"
      ],
      "text/plain": [
       "Read 31241055 lines. Lines per second: 56241.8"
      ]
     },
     "metadata": {},
     "output_type": "display_data"
    },
    {
     "data": {
      "text/html": [
       "<pre>Read 31515332 lines. Lines per second: 55079.2</pre>"
      ],
      "text/plain": [
       "Read 31515332 lines. Lines per second: 55079.2"
      ]
     },
     "metadata": {},
     "output_type": "display_data"
    },
    {
     "data": {
      "text/html": [
       "<pre>Read 31954854 lines. Lines per second: 55283.8</pre>"
      ],
      "text/plain": [
       "Read 31954854 lines. Lines per second: 55283.8"
      ]
     },
     "metadata": {},
     "output_type": "display_data"
    },
    {
     "data": {
      "text/html": [
       "<pre>Read 32414769 lines. Lines per second: 55518.1</pre>"
      ],
      "text/plain": [
       "Read 32414769 lines. Lines per second: 55518.1"
      ]
     },
     "metadata": {},
     "output_type": "display_data"
    },
    {
     "data": {
      "text/html": [
       "<pre>Read 32844127 lines. Lines per second: 55692.1</pre>"
      ],
      "text/plain": [
       "Read 32844127 lines. Lines per second: 55692.1"
      ]
     },
     "metadata": {},
     "output_type": "display_data"
    },
    {
     "data": {
      "text/html": [
       "<pre>Read 33295306 lines. Lines per second: 55906.9</pre>"
      ],
      "text/plain": [
       "Read 33295306 lines. Lines per second: 55906.9"
      ]
     },
     "metadata": {},
     "output_type": "display_data"
    },
    {
     "data": {
      "text/html": [
       "<pre>Read 33748082 lines. Lines per second: 56117.3</pre>"
      ],
      "text/plain": [
       "Read 33748082 lines. Lines per second: 56117.3"
      ]
     },
     "metadata": {},
     "output_type": "display_data"
    },
    {
     "data": {
      "text/html": [
       "<pre>Read 34127135 lines. Lines per second: 55085.7</pre>"
      ],
      "text/plain": [
       "Read 34127135 lines. Lines per second: 55085.7"
      ]
     },
     "metadata": {},
     "output_type": "display_data"
    },
    {
     "data": {
      "text/html": [
       "<pre>Read 34578029 lines. Lines per second: 55295.7</pre>"
      ],
      "text/plain": [
       "Read 34578029 lines. Lines per second: 55295.7"
      ]
     },
     "metadata": {},
     "output_type": "display_data"
    },
    {
     "data": {
      "text/html": [
       "<pre>Read 35034734 lines. Lines per second: 55501.5</pre>"
      ],
      "text/plain": [
       "Read 35034734 lines. Lines per second: 55501.5"
      ]
     },
     "metadata": {},
     "output_type": "display_data"
    },
    {
     "data": {
      "text/html": [
       "<pre>Read 35482597 lines. Lines per second: 55686.5</pre>"
      ],
      "text/plain": [
       "Read 35482597 lines. Lines per second: 55686.5"
      ]
     },
     "metadata": {},
     "output_type": "display_data"
    },
    {
     "data": {
      "text/html": [
       "<pre>Read 35868401 lines. Lines per second: 55860.3</pre>"
      ],
      "text/plain": [
       "Read 35868401 lines. Lines per second: 55860.3"
      ]
     },
     "metadata": {},
     "output_type": "display_data"
    },
    {
     "data": {
      "text/html": [
       "<pre>Read 36299698 lines. Lines per second: 56021.1</pre>"
      ],
      "text/plain": [
       "Read 36299698 lines. Lines per second: 56021.1"
      ]
     },
     "metadata": {},
     "output_type": "display_data"
    },
    {
     "data": {
      "text/html": [
       "<pre>Read 36661927 lines. Lines per second: 55079</pre>"
      ],
      "text/plain": [
       "Read 36661927 lines. Lines per second: 55079"
      ]
     },
     "metadata": {},
     "output_type": "display_data"
    },
    {
     "data": {
      "text/html": [
       "<pre>Read 37099924 lines. Lines per second: 55243</pre>"
      ],
      "text/plain": [
       "Read 37099924 lines. Lines per second: 55243"
      ]
     },
     "metadata": {},
     "output_type": "display_data"
    },
    {
     "data": {
      "text/html": [
       "<pre>Read 37539851 lines. Lines per second: 55413.4</pre>"
      ],
      "text/plain": [
       "Read 37539851 lines. Lines per second: 55413.4"
      ]
     },
     "metadata": {},
     "output_type": "display_data"
    },
    {
     "data": {
      "text/html": [
       "<pre>Read 37992311 lines. Lines per second: 55601.8</pre>"
      ],
      "text/plain": [
       "Read 37992311 lines. Lines per second: 55601.8"
      ]
     },
     "metadata": {},
     "output_type": "display_data"
    },
    {
     "data": {
      "text/html": [
       "<pre>Read 38430100 lines. Lines per second: 55764.4</pre>"
      ],
      "text/plain": [
       "Read 38430100 lines. Lines per second: 55764.4"
      ]
     },
     "metadata": {},
     "output_type": "display_data"
    },
    {
     "data": {
      "text/html": [
       "<pre>Read 38890072 lines. Lines per second: 55960.3</pre>"
      ],
      "text/plain": [
       "Read 38890072 lines. Lines per second: 55960.3"
      ]
     },
     "metadata": {},
     "output_type": "display_data"
    },
    {
     "data": {
      "text/html": [
       "<pre>Read 39193803 lines. Lines per second: 55074.7</pre>"
      ],
      "text/plain": [
       "Read 39193803 lines. Lines per second: 55074.7"
      ]
     },
     "metadata": {},
     "output_type": "display_data"
    },
    {
     "data": {
      "text/html": [
       "<pre>Read 39643854 lines. Lines per second: 55250.7</pre>"
      ],
      "text/plain": [
       "Read 39643854 lines. Lines per second: 55250.7"
      ]
     },
     "metadata": {},
     "output_type": "display_data"
    },
    {
     "data": {
      "text/html": [
       "<pre>Read 40082069 lines. Lines per second: 55411</pre>"
      ],
      "text/plain": [
       "Read 40082069 lines. Lines per second: 55411"
      ]
     },
     "metadata": {},
     "output_type": "display_data"
    },
    {
     "data": {
      "text/html": [
       "<pre>Read 40522977 lines. Lines per second: 55575.1</pre>"
      ],
      "text/plain": [
       "Read 40522977 lines. Lines per second: 55575.1"
      ]
     },
     "metadata": {},
     "output_type": "display_data"
    },
    {
     "data": {
      "text/html": [
       "<pre>Read 40938051 lines. Lines per second: 55699.9</pre>"
      ],
      "text/plain": [
       "Read 40938051 lines. Lines per second: 55699.9"
      ]
     },
     "metadata": {},
     "output_type": "display_data"
    },
    {
     "data": {
      "text/html": [
       "<pre>Read 41303090 lines. Lines per second: 55822.1</pre>"
      ],
      "text/plain": [
       "Read 41303090 lines. Lines per second: 55822.1"
      ]
     },
     "metadata": {},
     "output_type": "display_data"
    },
    {
     "data": {
      "text/html": [
       "<pre>Read 41674270 lines. Lines per second: 55008.9</pre>"
      ],
      "text/plain": [
       "Read 41674270 lines. Lines per second: 55008.9"
      ]
     },
     "metadata": {},
     "output_type": "display_data"
    },
    {
     "data": {
      "text/html": [
       "<pre>Read 42114861 lines. Lines per second: 55166.8</pre>"
      ],
      "text/plain": [
       "Read 42114861 lines. Lines per second: 55166.8"
      ]
     },
     "metadata": {},
     "output_type": "display_data"
    },
    {
     "data": {
      "text/html": [
       "<pre>Read 42560253 lines. Lines per second: 55325.5</pre>"
      ],
      "text/plain": [
       "Read 42560253 lines. Lines per second: 55325.5"
      ]
     },
     "metadata": {},
     "output_type": "display_data"
    },
    {
     "data": {
      "text/html": [
       "<pre>Read 43010644 lines. Lines per second: 55491.2</pre>"
      ],
      "text/plain": [
       "Read 43010644 lines. Lines per second: 55491.2"
      ]
     },
     "metadata": {},
     "output_type": "display_data"
    },
    {
     "data": {
      "text/html": [
       "<pre>Read 43384548 lines. Lines per second: 55618.1</pre>"
      ],
      "text/plain": [
       "Read 43384548 lines. Lines per second: 55618.1"
      ]
     },
     "metadata": {},
     "output_type": "display_data"
    },
    {
     "data": {
      "text/html": [
       "<pre>Read 43841406 lines. Lines per second: 55781.6</pre>"
      ],
      "text/plain": [
       "Read 43841406 lines. Lines per second: 55781.6"
      ]
     },
     "metadata": {},
     "output_type": "display_data"
    },
    {
     "data": {
      "text/html": [
       "<pre>Read 44203684 lines. Lines per second: 55514.9</pre>"
      ],
      "text/plain": [
       "Read 44203684 lines. Lines per second: 55514.9"
      ]
     },
     "metadata": {},
     "output_type": "display_data"
    },
    {
     "data": {
      "text/html": [
       "<pre>Read 44280151 lines. Lines per second: 55038.6</pre>"
      ],
      "text/plain": [
       "Read 44280151 lines. Lines per second: 55038.6"
      ]
     },
     "metadata": {},
     "output_type": "display_data"
    },
    {
     "data": {
      "text/html": [
       "<pre>Read 44726808 lines. Lines per second: 55191.3</pre>"
      ],
      "text/plain": [
       "Read 44726808 lines. Lines per second: 55191.3"
      ]
     },
     "metadata": {},
     "output_type": "display_data"
    },
    {
     "data": {
      "text/html": [
       "<pre>Read 45073262 lines. Lines per second: 55282.3</pre>"
      ],
      "text/plain": [
       "Read 45073262 lines. Lines per second: 55282.3"
      ]
     },
     "metadata": {},
     "output_type": "display_data"
    },
    {
     "data": {
      "text/html": [
       "<pre>Read 45454281 lines. Lines per second: 55410.9</pre>"
      ],
      "text/plain": [
       "Read 45454281 lines. Lines per second: 55410.9"
      ]
     },
     "metadata": {},
     "output_type": "display_data"
    },
    {
     "data": {
      "text/html": [
       "<pre>Read 45901314 lines. Lines per second: 55553.4</pre>"
      ],
      "text/plain": [
       "Read 45901314 lines. Lines per second: 55553.4"
      ]
     },
     "metadata": {},
     "output_type": "display_data"
    },
    {
     "data": {
      "text/html": [
       "<pre>Read 46346054 lines. Lines per second: 55691.4</pre>"
      ],
      "text/plain": [
       "Read 46346054 lines. Lines per second: 55691.4"
      ]
     },
     "metadata": {},
     "output_type": "display_data"
    },
    {
     "data": {
      "text/html": [
       "<pre>Read 46720010 lines. Lines per second: 55809</pre>"
      ],
      "text/plain": [
       "Read 46720010 lines. Lines per second: 55809"
      ]
     },
     "metadata": {},
     "output_type": "display_data"
    },
    {
     "data": {
      "text/html": [
       "<pre>Read 46866062 lines. Lines per second: 55003.9</pre>"
      ],
      "text/plain": [
       "Read 46866062 lines. Lines per second: 55003.9"
      ]
     },
     "metadata": {},
     "output_type": "display_data"
    },
    {
     "data": {
      "text/html": [
       "<pre>Read 47242250 lines. Lines per second: 55124.1</pre>"
      ],
      "text/plain": [
       "Read 47242250 lines. Lines per second: 55124.1"
      ]
     },
     "metadata": {},
     "output_type": "display_data"
    },
    {
     "data": {
      "text/html": [
       "<pre>Read 47685445 lines. Lines per second: 55257.7</pre>"
      ],
      "text/plain": [
       "Read 47685445 lines. Lines per second: 55257.7"
      ]
     },
     "metadata": {},
     "output_type": "display_data"
    },
    {
     "data": {
      "text/html": [
       "<pre>Read 48137727 lines. Lines per second: 55409.1</pre>"
      ],
      "text/plain": [
       "Read 48137727 lines. Lines per second: 55409.1"
      ]
     },
     "metadata": {},
     "output_type": "display_data"
    },
    {
     "data": {
      "text/html": [
       "<pre>Read 48593187 lines. Lines per second: 55561.3</pre>"
      ],
      "text/plain": [
       "Read 48593187 lines. Lines per second: 55561.3"
      ]
     },
     "metadata": {},
     "output_type": "display_data"
    },
    {
     "data": {
      "text/html": [
       "<pre>Read 49050669 lines. Lines per second: 55709.4</pre>"
      ],
      "text/plain": [
       "Read 49050669 lines. Lines per second: 55709.4"
      ]
     },
     "metadata": {},
     "output_type": "display_data"
    },
    {
     "data": {
      "text/html": [
       "<pre>Read 49425814 lines. Lines per second: 55026.7</pre>"
      ],
      "text/plain": [
       "Read 49425814 lines. Lines per second: 55026.7"
      ]
     },
     "metadata": {},
     "output_type": "display_data"
    },
    {
     "data": {
      "text/html": [
       "<pre>Read 49876240 lines. Lines per second: 55168.9</pre>"
      ],
      "text/plain": [
       "Read 49876240 lines. Lines per second: 55168.9"
      ]
     },
     "metadata": {},
     "output_type": "display_data"
    },
    {
     "data": {
      "text/html": [
       "<pre>Read 50320153 lines. Lines per second: 55302.3</pre>"
      ],
      "text/plain": [
       "Read 50320153 lines. Lines per second: 55302.3"
      ]
     },
     "metadata": {},
     "output_type": "display_data"
    },
    {
     "data": {
      "text/html": [
       "<pre>Read 50773341 lines. Lines per second: 55446</pre>"
      ],
      "text/plain": [
       "Read 50773341 lines. Lines per second: 55446"
      ]
     },
     "metadata": {},
     "output_type": "display_data"
    },
    {
     "data": {
      "text/html": [
       "<pre>Read 51221600 lines. Lines per second: 55580.8</pre>"
      ],
      "text/plain": [
       "Read 51221600 lines. Lines per second: 55580.8"
      ]
     },
     "metadata": {},
     "output_type": "display_data"
    },
    {
     "data": {
      "text/html": [
       "<pre>Read 51668077 lines. Lines per second: 55715.4</pre>"
      ],
      "text/plain": [
       "Read 51668077 lines. Lines per second: 55715.4"
      ]
     },
     "metadata": {},
     "output_type": "display_data"
    },
    {
     "data": {
      "text/html": [
       "<pre>Read 51964026 lines. Lines per second: 55031.5</pre>"
      ],
      "text/plain": [
       "Read 51964026 lines. Lines per second: 55031.5"
      ]
     },
     "metadata": {},
     "output_type": "display_data"
    },
    {
     "data": {
      "text/html": [
       "<pre>Read 52411243 lines. Lines per second: 55167.1</pre>"
      ],
      "text/plain": [
       "Read 52411243 lines. Lines per second: 55167.1"
      ]
     },
     "metadata": {},
     "output_type": "display_data"
    },
    {
     "data": {
      "text/html": [
       "<pre>Read 52855021 lines. Lines per second: 55295.8</pre>"
      ],
      "text/plain": [
       "Read 52855021 lines. Lines per second: 55295.8"
      ]
     },
     "metadata": {},
     "output_type": "display_data"
    },
    {
     "data": {
      "text/html": [
       "<pre>Read 53303671 lines. Lines per second: 55431.1</pre>"
      ],
      "text/plain": [
       "Read 53303671 lines. Lines per second: 55431.1"
      ]
     },
     "metadata": {},
     "output_type": "display_data"
    },
    {
     "data": {
      "text/html": [
       "<pre>Read 53755296 lines. Lines per second: 55561.5</pre>"
      ],
      "text/plain": [
       "Read 53755296 lines. Lines per second: 55561.5"
      ]
     },
     "metadata": {},
     "output_type": "display_data"
    },
    {
     "data": {
      "text/html": [
       "<pre>Read 54202962 lines. Lines per second: 55688.8</pre>"
      ],
      "text/plain": [
       "Read 54202962 lines. Lines per second: 55688.8"
      ]
     },
     "metadata": {},
     "output_type": "display_data"
    },
    {
     "data": {
      "text/html": [
       "<pre>Read 54573698 lines. Lines per second: 55055.3</pre>"
      ],
      "text/plain": [
       "Read 54573698 lines. Lines per second: 55055.3"
      ]
     },
     "metadata": {},
     "output_type": "display_data"
    },
    {
     "data": {
      "text/html": [
       "<pre>Read 55008814 lines. Lines per second: 55167.8</pre>"
      ],
      "text/plain": [
       "Read 55008814 lines. Lines per second: 55167.8"
      ]
     },
     "metadata": {},
     "output_type": "display_data"
    },
    {
     "data": {
      "text/html": [
       "<pre>Read 55462670 lines. Lines per second: 55297.7</pre>"
      ],
      "text/plain": [
       "Read 55462670 lines. Lines per second: 55297.7"
      ]
     },
     "metadata": {},
     "output_type": "display_data"
    },
    {
     "data": {
      "text/html": [
       "<pre>Read 55905764 lines. Lines per second: 55418.5</pre>"
      ],
      "text/plain": [
       "Read 55905764 lines. Lines per second: 55418.5"
      ]
     },
     "metadata": {},
     "output_type": "display_data"
    },
    {
     "data": {
      "text/html": [
       "<pre>Read 56335428 lines. Lines per second: 55525.6</pre>"
      ],
      "text/plain": [
       "Read 56335428 lines. Lines per second: 55525.6"
      ]
     },
     "metadata": {},
     "output_type": "display_data"
    },
    {
     "data": {
      "text/html": [
       "<pre>Read 56790289 lines. Lines per second: 55656.4</pre>"
      ],
      "text/plain": [
       "Read 56790289 lines. Lines per second: 55656.4"
      ]
     },
     "metadata": {},
     "output_type": "display_data"
    },
    {
     "data": {
      "text/html": [
       "<pre>Read 57212213 lines. Lines per second: 55024.7</pre>"
      ],
      "text/plain": [
       "Read 57212213 lines. Lines per second: 55024.7"
      ]
     },
     "metadata": {},
     "output_type": "display_data"
    },
    {
     "data": {
      "text/html": [
       "<pre>Read 57636498 lines. Lines per second: 55123.6</pre>"
      ],
      "text/plain": [
       "Read 57636498 lines. Lines per second: 55123.6"
      ]
     },
     "metadata": {},
     "output_type": "display_data"
    },
    {
     "data": {
      "text/html": [
       "<pre>Read 58077075 lines. Lines per second: 55241.3</pre>"
      ],
      "text/plain": [
       "Read 58077075 lines. Lines per second: 55241.3"
      ]
     },
     "metadata": {},
     "output_type": "display_data"
    },
    {
     "data": {
      "text/html": [
       "<pre>Read 58513063 lines. Lines per second: 55351.8</pre>"
      ],
      "text/plain": [
       "Read 58513063 lines. Lines per second: 55351.8"
      ]
     },
     "metadata": {},
     "output_type": "display_data"
    },
    {
     "data": {
      "text/html": [
       "<pre>Read 58972303 lines. Lines per second: 55479.4</pre>"
      ],
      "text/plain": [
       "Read 58972303 lines. Lines per second: 55479.4"
      ]
     },
     "metadata": {},
     "output_type": "display_data"
    },
    {
     "data": {
      "text/html": [
       "<pre>Read 59421200 lines. Lines per second: 55598.4</pre>"
      ],
      "text/plain": [
       "Read 59421200 lines. Lines per second: 55598.4"
      ]
     },
     "metadata": {},
     "output_type": "display_data"
    },
    {
     "data": {
      "text/html": [
       "<pre>Read 59864411 lines. Lines per second: 55710</pre>"
      ],
      "text/plain": [
       "Read 59864411 lines. Lines per second: 55710"
      ]
     },
     "metadata": {},
     "output_type": "display_data"
    },
    {
     "data": {
      "text/html": [
       "<pre>Read 59932128 lines. Lines per second: 55028.1</pre>"
      ],
      "text/plain": [
       "Read 59932128 lines. Lines per second: 55028.1"
      ]
     },
     "metadata": {},
     "output_type": "display_data"
    },
    {
     "data": {
      "text/html": [
       "<pre>Read 60370568 lines. Lines per second: 55134.6</pre>"
      ],
      "text/plain": [
       "Read 60370568 lines. Lines per second: 55134.6"
      ]
     },
     "metadata": {},
     "output_type": "display_data"
    },
    {
     "data": {
      "text/html": [
       "<pre>Read 60819858 lines. Lines per second: 55252.3</pre>"
      ],
      "text/plain": [
       "Read 60819858 lines. Lines per second: 55252.3"
      ]
     },
     "metadata": {},
     "output_type": "display_data"
    },
    {
     "data": {
      "text/html": [
       "<pre>Read 61260107 lines. Lines per second: 55359.8</pre>"
      ],
      "text/plain": [
       "Read 61260107 lines. Lines per second: 55359.8"
      ]
     },
     "metadata": {},
     "output_type": "display_data"
    },
    {
     "data": {
      "text/html": [
       "<pre>Read 61703124 lines. Lines per second: 55468.6</pre>"
      ],
      "text/plain": [
       "Read 61703124 lines. Lines per second: 55468.6"
      ]
     },
     "metadata": {},
     "output_type": "display_data"
    },
    {
     "data": {
      "text/html": [
       "<pre>Read 62138047 lines. Lines per second: 55570</pre>"
      ],
      "text/plain": [
       "Read 62138047 lines. Lines per second: 55570"
      ]
     },
     "metadata": {},
     "output_type": "display_data"
    },
    {
     "data": {
      "text/html": [
       "<pre>Read 62570002 lines. Lines per second: 55006.6</pre>"
      ],
      "text/plain": [
       "Read 62570002 lines. Lines per second: 55006.6"
      ]
     },
     "metadata": {},
     "output_type": "display_data"
    },
    {
     "data": {
      "text/html": [
       "<pre>Read 63013399 lines. Lines per second: 55108.9</pre>"
      ],
      "text/plain": [
       "Read 63013399 lines. Lines per second: 55108.9"
      ]
     },
     "metadata": {},
     "output_type": "display_data"
    },
    {
     "data": {
      "text/html": [
       "<pre>Read 63460896 lines. Lines per second: 55219.9</pre>"
      ],
      "text/plain": [
       "Read 63460896 lines. Lines per second: 55219.9"
      ]
     },
     "metadata": {},
     "output_type": "display_data"
    },
    {
     "data": {
      "text/html": [
       "<pre>Read 63892618 lines. Lines per second: 55313.9</pre>"
      ],
      "text/plain": [
       "Read 63892618 lines. Lines per second: 55313.9"
      ]
     },
     "metadata": {},
     "output_type": "display_data"
    },
    {
     "data": {
      "text/html": [
       "<pre>Read 64338700 lines. Lines per second: 55420.2</pre>"
      ],
      "text/plain": [
       "Read 64338700 lines. Lines per second: 55420.2"
      ]
     },
     "metadata": {},
     "output_type": "display_data"
    },
    {
     "data": {
      "text/html": [
       "<pre>Read 64776256 lines. Lines per second: 55520.3</pre>"
      ],
      "text/plain": [
       "Read 64776256 lines. Lines per second: 55520.3"
      ]
     },
     "metadata": {},
     "output_type": "display_data"
    },
    {
     "data": {
      "text/html": [
       "<pre>Read 65064395 lines. Lines per second: 54963.2</pre>"
      ],
      "text/plain": [
       "Read 65064395 lines. Lines per second: 54963.2"
      ]
     },
     "metadata": {},
     "output_type": "display_data"
    },
    {
     "data": {
      "text/html": [
       "<pre>Read 65525949 lines. Lines per second: 55082.4</pre>"
      ],
      "text/plain": [
       "Read 65525949 lines. Lines per second: 55082.4"
      ]
     },
     "metadata": {},
     "output_type": "display_data"
    },
    {
     "data": {
      "text/html": [
       "<pre>Read 65974210 lines. Lines per second: 55190.6</pre>"
      ],
      "text/plain": [
       "Read 65974210 lines. Lines per second: 55190.6"
      ]
     },
     "metadata": {},
     "output_type": "display_data"
    },
    {
     "data": {
      "text/html": [
       "<pre>Read 66420923 lines. Lines per second: 55293.7</pre>"
      ],
      "text/plain": [
       "Read 66420923 lines. Lines per second: 55293.7"
      ]
     },
     "metadata": {},
     "output_type": "display_data"
    },
    {
     "data": {
      "text/html": [
       "<pre>Read 66890318 lines. Lines per second: 55416.4</pre>"
      ],
      "text/plain": [
       "Read 66890318 lines. Lines per second: 55416.4"
      ]
     },
     "metadata": {},
     "output_type": "display_data"
    },
    {
     "data": {
      "text/html": [
       "<pre>Read 67332869 lines. Lines per second: 55515.4</pre>"
      ],
      "text/plain": [
       "Read 67332869 lines. Lines per second: 55515.4"
      ]
     },
     "metadata": {},
     "output_type": "display_data"
    },
    {
     "data": {
      "text/html": [
       "<pre>Read 67706740 lines. Lines per second: 54982.7</pre>"
      ],
      "text/plain": [
       "Read 67706740 lines. Lines per second: 54982.7"
      ]
     },
     "metadata": {},
     "output_type": "display_data"
    },
    {
     "data": {
      "text/html": [
       "<pre>Read 68135536 lines. Lines per second: 55072.4</pre>"
      ],
      "text/plain": [
       "Read 68135536 lines. Lines per second: 55072.4"
      ]
     },
     "metadata": {},
     "output_type": "display_data"
    },
    {
     "data": {
      "text/html": [
       "<pre>Read 68569661 lines. Lines per second: 55163</pre>"
      ],
      "text/plain": [
       "Read 68569661 lines. Lines per second: 55163"
      ]
     },
     "metadata": {},
     "output_type": "display_data"
    },
    {
     "data": {
      "text/html": [
       "<pre>Read 69010383 lines. Lines per second: 55259.3</pre>"
      ],
      "text/plain": [
       "Read 69010383 lines. Lines per second: 55259.3"
      ]
     },
     "metadata": {},
     "output_type": "display_data"
    },
    {
     "data": {
      "text/html": [
       "<pre>Read 69459300 lines. Lines per second: 55362</pre>"
      ],
      "text/plain": [
       "Read 69459300 lines. Lines per second: 55362"
      ]
     },
     "metadata": {},
     "output_type": "display_data"
    },
    {
     "data": {
      "text/html": [
       "<pre>Read 69901686 lines. Lines per second: 55454.4</pre>"
      ],
      "text/plain": [
       "Read 69901686 lines. Lines per second: 55454.4"
      ]
     },
     "metadata": {},
     "output_type": "display_data"
    },
    {
     "data": {
      "text/html": [
       "<pre>Read 70204327 lines. Lines per second: 55437</pre>"
      ],
      "text/plain": [
       "Read 70204327 lines. Lines per second: 55437"
      ]
     },
     "metadata": {},
     "output_type": "display_data"
    },
    {
     "data": {
      "text/html": [
       "<pre>Read 70275715 lines. Lines per second: 54949.6</pre>"
      ],
      "text/plain": [
       "Read 70275715 lines. Lines per second: 54949.6"
      ]
     },
     "metadata": {},
     "output_type": "display_data"
    },
    {
     "data": {
      "text/html": [
       "<pre>Read 70668774 lines. Lines per second: 55006.9</pre>"
      ],
      "text/plain": [
       "Read 70668774 lines. Lines per second: 55006.9"
      ]
     },
     "metadata": {},
     "output_type": "display_data"
    },
    {
     "data": {
      "text/html": [
       "<pre>Read 71117699 lines. Lines per second: 55106.5</pre>"
      ],
      "text/plain": [
       "Read 71117699 lines. Lines per second: 55106.5"
      ]
     },
     "metadata": {},
     "output_type": "display_data"
    },
    {
     "data": {
      "text/html": [
       "<pre>Read 71566645 lines. Lines per second: 55205.3</pre>"
      ],
      "text/plain": [
       "Read 71566645 lines. Lines per second: 55205.3"
      ]
     },
     "metadata": {},
     "output_type": "display_data"
    },
    {
     "data": {
      "text/html": [
       "<pre>Read 72012998 lines. Lines per second: 55301.3</pre>"
      ],
      "text/plain": [
       "Read 72012998 lines. Lines per second: 55301.3"
      ]
     },
     "metadata": {},
     "output_type": "display_data"
    },
    {
     "data": {
      "text/html": [
       "<pre>Read 72457375 lines. Lines per second: 55394.2</pre>"
      ],
      "text/plain": [
       "Read 72457375 lines. Lines per second: 55394.2"
      ]
     },
     "metadata": {},
     "output_type": "display_data"
    },
    {
     "data": {
      "text/html": [
       "<pre>Read 72836296 lines. Lines per second: 54896.6</pre>"
      ],
      "text/plain": [
       "Read 72836296 lines. Lines per second: 54896.6"
      ]
     },
     "metadata": {},
     "output_type": "display_data"
    },
    {
     "data": {
      "text/html": [
       "<pre>Read 73279925 lines. Lines per second: 54991.2</pre>"
      ],
      "text/plain": [
       "Read 73279925 lines. Lines per second: 54991.2"
      ]
     },
     "metadata": {},
     "output_type": "display_data"
    },
    {
     "data": {
      "text/html": [
       "<pre>Read 73730235 lines. Lines per second: 55089.2</pre>"
      ],
      "text/plain": [
       "Read 73730235 lines. Lines per second: 55089.2"
      ]
     },
     "metadata": {},
     "output_type": "display_data"
    },
    {
     "data": {
      "text/html": [
       "<pre>Read 74188513 lines. Lines per second: 55193.2</pre>"
      ],
      "text/plain": [
       "Read 74188513 lines. Lines per second: 55193.2"
      ]
     },
     "metadata": {},
     "output_type": "display_data"
    },
    {
     "data": {
      "text/html": [
       "<pre>Read 74567582 lines. Lines per second: 55258.2</pre>"
      ],
      "text/plain": [
       "Read 74567582 lines. Lines per second: 55258.2"
      ]
     },
     "metadata": {},
     "output_type": "display_data"
    },
    {
     "data": {
      "text/html": [
       "<pre>Read 74987321 lines. Lines per second: 55327.1</pre>"
      ],
      "text/plain": [
       "Read 74987321 lines. Lines per second: 55327.1"
      ]
     },
     "metadata": {},
     "output_type": "display_data"
    },
    {
     "data": {
      "text/html": [
       "<pre>Read 75369444 lines. Lines per second: 54869</pre>"
      ],
      "text/plain": [
       "Read 75369444 lines. Lines per second: 54869"
      ]
     },
     "metadata": {},
     "output_type": "display_data"
    },
    {
     "data": {
      "text/html": [
       "<pre>Read 75821046 lines. Lines per second: 54963.2</pre>"
      ],
      "text/plain": [
       "Read 75821046 lines. Lines per second: 54963.2"
      ]
     },
     "metadata": {},
     "output_type": "display_data"
    },
    {
     "data": {
      "text/html": [
       "<pre>Read 76273652 lines. Lines per second: 55056.9</pre>"
      ],
      "text/plain": [
       "Read 76273652 lines. Lines per second: 55056.9"
      ]
     },
     "metadata": {},
     "output_type": "display_data"
    },
    {
     "data": {
      "text/html": [
       "<pre>Read 76707278 lines. Lines per second: 55137.7</pre>"
      ],
      "text/plain": [
       "Read 76707278 lines. Lines per second: 55137.7"
      ]
     },
     "metadata": {},
     "output_type": "display_data"
    },
    {
     "data": {
      "text/html": [
       "<pre>Read 77148916 lines. Lines per second: 55223</pre>"
      ],
      "text/plain": [
       "Read 77148916 lines. Lines per second: 55223"
      ]
     },
     "metadata": {},
     "output_type": "display_data"
    },
    {
     "data": {
      "text/html": [
       "<pre>Read 77606606 lines. Lines per second: 55320</pre>"
      ],
      "text/plain": [
       "Read 77606606 lines. Lines per second: 55320"
      ]
     },
     "metadata": {},
     "output_type": "display_data"
    },
    {
     "data": {
      "text/html": [
       "<pre>Read 77910947 lines. Lines per second: 54860.6</pre>"
      ],
      "text/plain": [
       "Read 77910947 lines. Lines per second: 54860.6"
      ]
     },
     "metadata": {},
     "output_type": "display_data"
    },
    {
     "data": {
      "text/html": [
       "<pre>Read 78282523 lines. Lines per second: 54917</pre>"
      ],
      "text/plain": [
       "Read 78282523 lines. Lines per second: 54917"
      ]
     },
     "metadata": {},
     "output_type": "display_data"
    },
    {
     "data": {
      "text/html": [
       "<pre>Read 78658657 lines. Lines per second: 54962.4</pre>"
      ],
      "text/plain": [
       "Read 78658657 lines. Lines per second: 54962.4"
      ]
     },
     "metadata": {},
     "output_type": "display_data"
    },
    {
     "data": {
      "text/html": [
       "<pre>Read 79038041 lines. Lines per second: 55032.6</pre>"
      ],
      "text/plain": [
       "Read 79038041 lines. Lines per second: 55032.6"
      ]
     },
     "metadata": {},
     "output_type": "display_data"
    },
    {
     "data": {
      "text/html": [
       "<pre>Read 79474423 lines. Lines per second: 55111.5</pre>"
      ],
      "text/plain": [
       "Read 79474423 lines. Lines per second: 55111.5"
      ]
     },
     "metadata": {},
     "output_type": "display_data"
    },
    {
     "data": {
      "text/html": [
       "<pre>Read 79923742 lines. Lines per second: 55201.1</pre>"
      ],
      "text/plain": [
       "Read 79923742 lines. Lines per second: 55201.1"
      ]
     },
     "metadata": {},
     "output_type": "display_data"
    },
    {
     "data": {
      "text/html": [
       "<pre>Read 80375524 lines. Lines per second: 54802.3</pre>"
      ],
      "text/plain": [
       "Read 80375524 lines. Lines per second: 54802.3"
      ]
     },
     "metadata": {},
     "output_type": "display_data"
    },
    {
     "data": {
      "text/html": [
       "<pre>Read 80829195 lines. Lines per second: 54894.4</pre>"
      ],
      "text/plain": [
       "Read 80829195 lines. Lines per second: 54894.4"
      ]
     },
     "metadata": {},
     "output_type": "display_data"
    },
    {
     "data": {
      "text/html": [
       "<pre>Read 81282576 lines. Lines per second: 54984.9</pre>"
      ],
      "text/plain": [
       "Read 81282576 lines. Lines per second: 54984.9"
      ]
     },
     "metadata": {},
     "output_type": "display_data"
    },
    {
     "data": {
      "text/html": [
       "<pre>Read 81717735 lines. Lines per second: 55059.2</pre>"
      ],
      "text/plain": [
       "Read 81717735 lines. Lines per second: 55059.2"
      ]
     },
     "metadata": {},
     "output_type": "display_data"
    },
    {
     "data": {
      "text/html": [
       "<pre>Read 82170358 lines. Lines per second: 55149</pre>"
      ],
      "text/plain": [
       "Read 82170358 lines. Lines per second: 55149"
      ]
     },
     "metadata": {},
     "output_type": "display_data"
    },
    {
     "data": {
      "text/html": [
       "<pre>Finished parsing file /home/omar/aggressive_dedup.json.gz</pre>"
      ],
      "text/plain": [
       "Finished parsing file /home/omar/aggressive_dedup.json.gz"
      ]
     },
     "metadata": {},
     "output_type": "display_data"
    },
    {
     "data": {
      "text/html": [
       "<pre>Parsing completed. Parsed 82456877 lines in 1492.93 secs.</pre>"
      ],
      "text/plain": [
       "Parsing completed. Parsed 82456877 lines in 1492.93 secs."
      ]
     },
     "metadata": {},
     "output_type": "display_data"
    }
   ],
   "source": [
    "#macauley_amazon_data = gl.SFrame.read_json(\"aggressive_dedup.json.gz2\")\n",
    "macauley_amazon_data_unpacked = gl.SFrame.read_csv(\"aggressive_dedup.json.gz\", header=False).unpack('X1', column_name_prefix='')\n",
    "#macauley_amazon_data_unpacked = gl.SFrame.read_csv(\"aggressive_dedup.json.gz2\",column_type_hints=[dict], header=False).unpack('reviewerID', column_name_prefix='').unpack('asin', column_name_prefix='').unpack('reviewerName', column_name_prefix='').unpack('helpful', column_name_prefix='').unpack('reviewText', column_name_prefix='').unpack('overall', column_name_prefix='').unpack('summary', column_name_prefix='').unpack('unixReviewTime', column_name_prefix='').unpack('reviewTime', column_name_prefix='')\n",
    "#macauley_amazon_data = gl.SFrame.read_csv(\"aggressive_dedup.json.gz2\")\n",
    "#sf = load_json_from_file('aggressive_dedup.json.gz2')\n",
    "#macauley_amazon_data_unpacked = gl.SFrame(\"aggressive_dedup.json.gz2\")"
   ]
  },
  {
   "cell_type": "code",
   "execution_count": 6,
   "metadata": {
    "collapsed": false
   },
   "outputs": [
    {
     "data": {
      "text/plain": [
       "{'X1': {'asin': 'B00BBPAMWE',\n",
       "  'helpful': [0L, 0L],\n",
       "  'overall': 5.0,\n",
       "  'reviewText': 'This is the only paddle holster that I have found that fits my Taurus PT1911AR.  The Taurus has a larger accessory rail than most other 1911s.  This holster works great.',\n",
       "  'reviewTime': '10 2, 2013',\n",
       "  'reviewerID': 'A00063061AK7XBIZLCOXJ',\n",
       "  'reviewerName': 'Brian Covil',\n",
       "  'summary': 'Taurus PT 1911 AR',\n",
       "  'unixReviewTime': 1380672000L}}"
      ]
     },
     "execution_count": 6,
     "metadata": {},
     "output_type": "execute_result"
    }
   ],
   "source": [
    "macauley_amazon_data[400]"
   ]
  },
  {
   "cell_type": "code",
   "execution_count": 7,
   "metadata": {
    "collapsed": false
   },
   "outputs": [],
   "source": [
    "def load_json_from_file(filename):\n",
    "    \"\"\"\n",
    "    Load JSON from a file.\n",
    "    @input  filename  Name of the file to be read.\n",
    "    @returns Output SFrame\n",
    "    \"\"\"\n",
    "    # Read the entire file into a SFrame with one row\n",
    "    sf = gl.SFrame.read_csv(filename, delimiter='\\n',column_type_hints=[dict], header=False)\n",
    "    #  +--------------------------------+\n",
    "    #  |               X1               |\n",
    "    #  +--------------------------------+\n",
    "    #  | [{'Phone': '0845 46 45', ' ... |\n",
    "    #  +--------------------------------+\n",
    "    \n",
    "    # Stack the single large row into many rows. After stacking, each row is a\n",
    "    # dictionary that contains the data. \n",
    "    sf = sf.stack('X1')\n",
    "    \n",
    "    #+--------------------------------+\n",
    "    #|               X1               |\n",
    "    #+--------------------------------+\n",
    "    #| {'Phone': '0845 46 45', 'N ... |\n",
    "    #| {'Phone': '0800 744 7888', ... |\n",
    "    #| {'Phone': '(01303) 294965' ... |\n",
    "    #|              ...               |\n",
    "    #+--------------------------------+\n",
    "    \n",
    "    # The dictionary can be unpacked to generate the individual columns.\n",
    "    sf = sf.unpack('X1', column_name_prefix='')\n",
    "    return sf"
   ]
  },
  {
   "cell_type": "code",
   "execution_count": 24,
   "metadata": {
    "collapsed": false
   },
   "outputs": [
    {
     "data": {
      "text/html": [
       "<div style=\"max-height:1000px;max-width:1500px;overflow:auto;\"><table frame=\"box\" rules=\"cols\">\n",
       "    <tr>\n",
       "        <th style=\"padding-left: 1em; padding-right: 1em; text-align: center\">asin</th>\n",
       "        <th style=\"padding-left: 1em; padding-right: 1em; text-align: center\">helpful</th>\n",
       "        <th style=\"padding-left: 1em; padding-right: 1em; text-align: center\">overall</th>\n",
       "        <th style=\"padding-left: 1em; padding-right: 1em; text-align: center\">reviewText</th>\n",
       "        <th style=\"padding-left: 1em; padding-right: 1em; text-align: center\">reviewTime</th>\n",
       "        <th style=\"padding-left: 1em; padding-right: 1em; text-align: center\">reviewerID</th>\n",
       "        <th style=\"padding-left: 1em; padding-right: 1em; text-align: center\">reviewerName</th>\n",
       "    </tr>\n",
       "    <tr>\n",
       "        <td style=\"padding-left: 1em; padding-right: 1em; text-align: center; vertical-align: top\">B003UYU16G</td>\n",
       "        <td style=\"padding-left: 1em; padding-right: 1em; text-align: center; vertical-align: top\">[0, 0]</td>\n",
       "        <td style=\"padding-left: 1em; padding-right: 1em; text-align: center; vertical-align: top\">5.0</td>\n",
       "        <td style=\"padding-left: 1em; padding-right: 1em; text-align: center; vertical-align: top\">It is and does exactly<br>what the description  ...</td>\n",
       "        <td style=\"padding-left: 1em; padding-right: 1em; text-align: center; vertical-align: top\">11 21, 2012</td>\n",
       "        <td style=\"padding-left: 1em; padding-right: 1em; text-align: center; vertical-align: top\">A00000262KYZUE4J55XGL</td>\n",
       "        <td style=\"padding-left: 1em; padding-right: 1em; text-align: center; vertical-align: top\">Steven N Elich</td>\n",
       "    </tr>\n",
       "    <tr>\n",
       "        <td style=\"padding-left: 1em; padding-right: 1em; text-align: center; vertical-align: top\">B005FYPK9C</td>\n",
       "        <td style=\"padding-left: 1em; padding-right: 1em; text-align: center; vertical-align: top\">[0, 0]</td>\n",
       "        <td style=\"padding-left: 1em; padding-right: 1em; text-align: center; vertical-align: top\">5.0</td>\n",
       "        <td style=\"padding-left: 1em; padding-right: 1em; text-align: center; vertical-align: top\">I was sketchy at first<br>about these but once you ...</td>\n",
       "        <td style=\"padding-left: 1em; padding-right: 1em; text-align: center; vertical-align: top\">01 8, 2013</td>\n",
       "        <td style=\"padding-left: 1em; padding-right: 1em; text-align: center; vertical-align: top\">A000008615DZQRRI946FO</td>\n",
       "        <td style=\"padding-left: 1em; padding-right: 1em; text-align: center; vertical-align: top\">mj waldon</td>\n",
       "    </tr>\n",
       "    <tr>\n",
       "        <td style=\"padding-left: 1em; padding-right: 1em; text-align: center; vertical-align: top\">B000VEBG9Y</td>\n",
       "        <td style=\"padding-left: 1em; padding-right: 1em; text-align: center; vertical-align: top\">[0, 0]</td>\n",
       "        <td style=\"padding-left: 1em; padding-right: 1em; text-align: center; vertical-align: top\">3.0</td>\n",
       "        <td style=\"padding-left: 1em; padding-right: 1em; text-align: center; vertical-align: top\">Very mobile product.<br>Efficient. Easy to use; ...</td>\n",
       "        <td style=\"padding-left: 1em; padding-right: 1em; text-align: center; vertical-align: top\">03 24, 2014</td>\n",
       "        <td style=\"padding-left: 1em; padding-right: 1em; text-align: center; vertical-align: top\">A00000922W28P2OCH6JSE</td>\n",
       "        <td style=\"padding-left: 1em; padding-right: 1em; text-align: center; vertical-align: top\">Gabriel Merrill</td>\n",
       "    </tr>\n",
       "    <tr>\n",
       "        <td style=\"padding-left: 1em; padding-right: 1em; text-align: center; vertical-align: top\">B001EJMS6K</td>\n",
       "        <td style=\"padding-left: 1em; padding-right: 1em; text-align: center; vertical-align: top\">[0, 0]</td>\n",
       "        <td style=\"padding-left: 1em; padding-right: 1em; text-align: center; vertical-align: top\">4.0</td>\n",
       "        <td style=\"padding-left: 1em; padding-right: 1em; text-align: center; vertical-align: top\">Easy to use a mobile. If<br>you're taller than 4ft, ...</td>\n",
       "        <td style=\"padding-left: 1em; padding-right: 1em; text-align: center; vertical-align: top\">03 24, 2014</td>\n",
       "        <td style=\"padding-left: 1em; padding-right: 1em; text-align: center; vertical-align: top\">A00000922W28P2OCH6JSE</td>\n",
       "        <td style=\"padding-left: 1em; padding-right: 1em; text-align: center; vertical-align: top\">Gabriel Merrill</td>\n",
       "    </tr>\n",
       "    <tr>\n",
       "        <td style=\"padding-left: 1em; padding-right: 1em; text-align: center; vertical-align: top\">B003XJCNVO</td>\n",
       "        <td style=\"padding-left: 1em; padding-right: 1em; text-align: center; vertical-align: top\">[0, 0]</td>\n",
       "        <td style=\"padding-left: 1em; padding-right: 1em; text-align: center; vertical-align: top\">4.0</td>\n",
       "        <td style=\"padding-left: 1em; padding-right: 1em; text-align: center; vertical-align: top\">Love this feeder. Heavy<br>duty &amp; capacity. Best ...</td>\n",
       "        <td style=\"padding-left: 1em; padding-right: 1em; text-align: center; vertical-align: top\">03 24, 2014</td>\n",
       "        <td style=\"padding-left: 1em; padding-right: 1em; text-align: center; vertical-align: top\">A00000922W28P2OCH6JSE</td>\n",
       "        <td style=\"padding-left: 1em; padding-right: 1em; text-align: center; vertical-align: top\">Gabriel Merrill</td>\n",
       "    </tr>\n",
       "    <tr>\n",
       "        <td style=\"padding-left: 1em; padding-right: 1em; text-align: center; vertical-align: top\">B00G3KN9LI</td>\n",
       "        <td style=\"padding-left: 1em; padding-right: 1em; text-align: center; vertical-align: top\">[0, 0]</td>\n",
       "        <td style=\"padding-left: 1em; padding-right: 1em; text-align: center; vertical-align: top\">4.0</td>\n",
       "        <td style=\"padding-left: 1em; padding-right: 1em; text-align: center; vertical-align: top\">Solid, stable mount.<br>Holds iPhone with phone ...</td>\n",
       "        <td style=\"padding-left: 1em; padding-right: 1em; text-align: center; vertical-align: top\">03 29, 2014</td>\n",
       "        <td style=\"padding-left: 1em; padding-right: 1em; text-align: center; vertical-align: top\">A00000922W28P2OCH6JSE</td>\n",
       "        <td style=\"padding-left: 1em; padding-right: 1em; text-align: center; vertical-align: top\">Gabriel Merrill</td>\n",
       "    </tr>\n",
       "    <tr>\n",
       "        <td style=\"padding-left: 1em; padding-right: 1em; text-align: center; vertical-align: top\">B000SAUVC4</td>\n",
       "        <td style=\"padding-left: 1em; padding-right: 1em; text-align: center; vertical-align: top\">[0, 0]</td>\n",
       "        <td style=\"padding-left: 1em; padding-right: 1em; text-align: center; vertical-align: top\">5.0</td>\n",
       "        <td style=\"padding-left: 1em; padding-right: 1em; text-align: center; vertical-align: top\">I bought this pepper<br>because I wanted a lo ...</td>\n",
       "        <td style=\"padding-left: 1em; padding-right: 1em; text-align: center; vertical-align: top\">08 12, 2013</td>\n",
       "        <td style=\"padding-left: 1em; padding-right: 1em; text-align: center; vertical-align: top\">A000013090ZI3HIT9N5V</td>\n",
       "        <td style=\"padding-left: 1em; padding-right: 1em; text-align: center; vertical-align: top\">Elvis florian</td>\n",
       "    </tr>\n",
       "    <tr>\n",
       "        <td style=\"padding-left: 1em; padding-right: 1em; text-align: center; vertical-align: top\">B00125OS3C</td>\n",
       "        <td style=\"padding-left: 1em; padding-right: 1em; text-align: center; vertical-align: top\">[0, 0]</td>\n",
       "        <td style=\"padding-left: 1em; padding-right: 1em; text-align: center; vertical-align: top\">5.0</td>\n",
       "        <td style=\"padding-left: 1em; padding-right: 1em; text-align: center; vertical-align: top\">Beautiful photos/film<br>with wonderful music. ...</td>\n",
       "        <td style=\"padding-left: 1em; padding-right: 1em; text-align: center; vertical-align: top\">08 31, 2013</td>\n",
       "        <td style=\"padding-left: 1em; padding-right: 1em; text-align: center; vertical-align: top\">A00001362Q1PGIX2FYSSH</td>\n",
       "        <td style=\"padding-left: 1em; padding-right: 1em; text-align: center; vertical-align: top\">Pamela Bellamy</td>\n",
       "    </tr>\n",
       "    <tr>\n",
       "        <td style=\"padding-left: 1em; padding-right: 1em; text-align: center; vertical-align: top\">B002IGHX40</td>\n",
       "        <td style=\"padding-left: 1em; padding-right: 1em; text-align: center; vertical-align: top\">[1, 1]</td>\n",
       "        <td style=\"padding-left: 1em; padding-right: 1em; text-align: center; vertical-align: top\">2.0</td>\n",
       "        <td style=\"padding-left: 1em; padding-right: 1em; text-align: center; vertical-align: top\">My idea of Colorado is<br>&amp;#34;Mountains&amp;#34;. ...</td>\n",
       "        <td style=\"padding-left: 1em; padding-right: 1em; text-align: center; vertical-align: top\">08 31, 2013</td>\n",
       "        <td style=\"padding-left: 1em; padding-right: 1em; text-align: center; vertical-align: top\">A00001362Q1PGIX2FYSSH</td>\n",
       "        <td style=\"padding-left: 1em; padding-right: 1em; text-align: center; vertical-align: top\">Pamela Bellamy</td>\n",
       "    </tr>\n",
       "    <tr>\n",
       "        <td style=\"padding-left: 1em; padding-right: 1em; text-align: center; vertical-align: top\">B004WPCQKG</td>\n",
       "        <td style=\"padding-left: 1em; padding-right: 1em; text-align: center; vertical-align: top\">[6, 7]</td>\n",
       "        <td style=\"padding-left: 1em; padding-right: 1em; text-align: center; vertical-align: top\">1.0</td>\n",
       "        <td style=\"padding-left: 1em; padding-right: 1em; text-align: center; vertical-align: top\">No matter what we did the<br>bills just kept jamming ...</td>\n",
       "        <td style=\"padding-left: 1em; padding-right: 1em; text-align: center; vertical-align: top\">11 19, 2012</td>\n",
       "        <td style=\"padding-left: 1em; padding-right: 1em; text-align: center; vertical-align: top\">A00001483M88NBD66LEP0</td>\n",
       "        <td style=\"padding-left: 1em; padding-right: 1em; text-align: center; vertical-align: top\">JARPD</td>\n",
       "    </tr>\n",
       "</table>\n",
       "<table frame=\"box\" rules=\"cols\">\n",
       "    <tr>\n",
       "        <th style=\"padding-left: 1em; padding-right: 1em; text-align: center\">summary</th>\n",
       "        <th style=\"padding-left: 1em; padding-right: 1em; text-align: center\">unixReviewTime</th>\n",
       "        <th style=\"padding-left: 1em; padding-right: 1em; text-align: center\">clean_review</th>\n",
       "    </tr>\n",
       "    <tr>\n",
       "        <td style=\"padding-left: 1em; padding-right: 1em; text-align: center; vertical-align: top\">Does what it's supposed<br>to do ...</td>\n",
       "        <td style=\"padding-left: 1em; padding-right: 1em; text-align: center; vertical-align: top\">1353456000</td>\n",
       "        <td style=\"padding-left: 1em; padding-right: 1em; text-align: center; vertical-align: top\">It is and does exactly<br>what the description  ...</td>\n",
       "    </tr>\n",
       "    <tr>\n",
       "        <td style=\"padding-left: 1em; padding-right: 1em; text-align: center; vertical-align: top\">great buy</td>\n",
       "        <td style=\"padding-left: 1em; padding-right: 1em; text-align: center; vertical-align: top\">1357603200</td>\n",
       "        <td style=\"padding-left: 1em; padding-right: 1em; text-align: center; vertical-align: top\">I was sketchy at first<br>about these but once you ...</td>\n",
       "    </tr>\n",
       "    <tr>\n",
       "        <td style=\"padding-left: 1em; padding-right: 1em; text-align: center; vertical-align: top\">Great product but needs a<br>varmint guard. ...</td>\n",
       "        <td style=\"padding-left: 1em; padding-right: 1em; text-align: center; vertical-align: top\">1395619200</td>\n",
       "        <td style=\"padding-left: 1em; padding-right: 1em; text-align: center; vertical-align: top\">Very mobile product<br>Efficient Easy to use ...</td>\n",
       "    </tr>\n",
       "    <tr>\n",
       "        <td style=\"padding-left: 1em; padding-right: 1em; text-align: center; vertical-align: top\">Great inexpensive<br>product. Mounts easily ...</td>\n",
       "        <td style=\"padding-left: 1em; padding-right: 1em; text-align: center; vertical-align: top\">1395619200</td>\n",
       "        <td style=\"padding-left: 1em; padding-right: 1em; text-align: center; vertical-align: top\">Easy to use a mobile If<br>youre taller than 4ft be ...</td>\n",
       "    </tr>\n",
       "    <tr>\n",
       "        <td style=\"padding-left: 1em; padding-right: 1em; text-align: center; vertical-align: top\">Great feeder. Would<br>recommend for use for ...</td>\n",
       "        <td style=\"padding-left: 1em; padding-right: 1em; text-align: center; vertical-align: top\">1395619200</td>\n",
       "        <td style=\"padding-left: 1em; padding-right: 1em; text-align: center; vertical-align: top\">Love this feeder Heavy<br>duty  capacity Best ...</td>\n",
       "    </tr>\n",
       "    <tr>\n",
       "        <td style=\"padding-left: 1em; padding-right: 1em; text-align: center; vertical-align: top\">Solid mount.</td>\n",
       "        <td style=\"padding-left: 1em; padding-right: 1em; text-align: center; vertical-align: top\">1396051200</td>\n",
       "        <td style=\"padding-left: 1em; padding-right: 1em; text-align: center; vertical-align: top\">Solid stable mount Holds<br>iPhone with phone ...</td>\n",
       "    </tr>\n",
       "    <tr>\n",
       "        <td style=\"padding-left: 1em; padding-right: 1em; text-align: center; vertical-align: top\">Cayenne powder strength</td>\n",
       "        <td style=\"padding-left: 1em; padding-right: 1em; text-align: center; vertical-align: top\">1376265600</td>\n",
       "        <td style=\"padding-left: 1em; padding-right: 1em; text-align: center; vertical-align: top\">I bought this pepper<br>because I wanted a lo ...</td>\n",
       "    </tr>\n",
       "    <tr>\n",
       "        <td style=\"padding-left: 1em; padding-right: 1em; text-align: center; vertical-align: top\">A very good film in<br>several areas of ...</td>\n",
       "        <td style=\"padding-left: 1em; padding-right: 1em; text-align: center; vertical-align: top\">1377907200</td>\n",
       "        <td style=\"padding-left: 1em; padding-right: 1em; text-align: center; vertical-align: top\">Beautiful photosfilm with<br>wonderful music  Giriodi ...</td>\n",
       "    </tr>\n",
       "    <tr>\n",
       "        <td style=\"padding-left: 1em; padding-right: 1em; text-align: center; vertical-align: top\">Doesn't show the beauty<br>of Colorado. ...</td>\n",
       "        <td style=\"padding-left: 1em; padding-right: 1em; text-align: center; vertical-align: top\">1377907200</td>\n",
       "        <td style=\"padding-left: 1em; padding-right: 1em; text-align: center; vertical-align: top\">My idea of Colorado is<br>34Mountains34  Colorado ...</td>\n",
       "    </tr>\n",
       "    <tr>\n",
       "        <td style=\"padding-left: 1em; padding-right: 1em; text-align: center; vertical-align: top\">Disappointed</td>\n",
       "        <td style=\"padding-left: 1em; padding-right: 1em; text-align: center; vertical-align: top\">1353283200</td>\n",
       "        <td style=\"padding-left: 1em; padding-right: 1em; text-align: center; vertical-align: top\">No matter what we did the<br>bills just kept jamming ...</td>\n",
       "    </tr>\n",
       "</table>\n",
       "[82836502 rows x 10 columns]<br/>Note: Only the head of the SFrame is printed.<br/>You can use print_rows(num_rows=m, num_columns=n) to print more rows and columns.\n",
       "</div>"
      ],
      "text/plain": [
       "Columns:\n",
       "\tasin\tstr\n",
       "\thelpful\tlist\n",
       "\toverall\tfloat\n",
       "\treviewText\tstr\n",
       "\treviewTime\tstr\n",
       "\treviewerID\tstr\n",
       "\treviewerName\tstr\n",
       "\tsummary\tstr\n",
       "\tunixReviewTime\tint\n",
       "\tclean_review\tstr\n",
       "\n",
       "Rows: 82836502\n",
       "\n",
       "Data:\n",
       "+------------+---------+---------+-------------------------------+-------------+\n",
       "|    asin    | helpful | overall |           reviewText          |  reviewTime |\n",
       "+------------+---------+---------+-------------------------------+-------------+\n",
       "| B003UYU16G |  [0, 0] |   5.0   | It is and does exactly wha... | 11 21, 2012 |\n",
       "| B005FYPK9C |  [0, 0] |   5.0   | I was sketchy at first abo... |  01 8, 2013 |\n",
       "| B000VEBG9Y |  [0, 0] |   3.0   | Very mobile product. Effic... | 03 24, 2014 |\n",
       "| B001EJMS6K |  [0, 0] |   4.0   | Easy to use a mobile. If y... | 03 24, 2014 |\n",
       "| B003XJCNVO |  [0, 0] |   4.0   | Love this feeder. Heavy du... | 03 24, 2014 |\n",
       "| B00G3KN9LI |  [0, 0] |   4.0   | Solid, stable mount. Holds... | 03 29, 2014 |\n",
       "| B000SAUVC4 |  [0, 0] |   5.0   | I bought this pepper becau... | 08 12, 2013 |\n",
       "| B00125OS3C |  [0, 0] |   5.0   | Beautiful photos/film with... | 08 31, 2013 |\n",
       "| B002IGHX40 |  [1, 1] |   2.0   | My idea of Colorado is &#3... | 08 31, 2013 |\n",
       "| B004WPCQKG |  [6, 7] |   1.0   | No matter what we did the ... | 11 19, 2012 |\n",
       "+------------+---------+---------+-------------------------------+-------------+\n",
       "+-----------------------+-----------------+-------------------------------+\n",
       "|       reviewerID      |   reviewerName  |            summary            |\n",
       "+-----------------------+-----------------+-------------------------------+\n",
       "| A00000262KYZUE4J55XGL |  Steven N Elich | Does what it's supposed to do |\n",
       "| A000008615DZQRRI946FO |    mj waldon    |           great buy           |\n",
       "| A00000922W28P2OCH6JSE | Gabriel Merrill | Great product but needs a ... |\n",
       "| A00000922W28P2OCH6JSE | Gabriel Merrill | Great inexpensive product.... |\n",
       "| A00000922W28P2OCH6JSE | Gabriel Merrill | Great feeder. Would recomm... |\n",
       "| A00000922W28P2OCH6JSE | Gabriel Merrill |          Solid mount.         |\n",
       "|  A000013090ZI3HIT9N5V |  Elvis florian  |    Cayenne powder strength    |\n",
       "| A00001362Q1PGIX2FYSSH |  Pamela Bellamy | A very good film in severa... |\n",
       "| A00001362Q1PGIX2FYSSH |  Pamela Bellamy | Doesn't show the beauty of... |\n",
       "| A00001483M88NBD66LEP0 |      JARPD      |          Disappointed         |\n",
       "+-----------------------+-----------------+-------------------------------+\n",
       "+----------------+-------------------------------+\n",
       "| unixReviewTime |          clean_review         |\n",
       "+----------------+-------------------------------+\n",
       "|   1353456000   | It is and does exactly wha... |\n",
       "|   1357603200   | I was sketchy at first abo... |\n",
       "|   1395619200   | Very mobile product Effici... |\n",
       "|   1395619200   | Easy to use a mobile If yo... |\n",
       "|   1395619200   | Love this feeder Heavy dut... |\n",
       "|   1396051200   | Solid stable mount Holds i... |\n",
       "|   1376265600   | I bought this pepper becau... |\n",
       "|   1377907200   | Beautiful photosfilm with ... |\n",
       "|   1377907200   | My idea of Colorado is 34M... |\n",
       "|   1353283200   | No matter what we did the ... |\n",
       "+----------------+-------------------------------+\n",
       "[82836502 rows x 10 columns]\n",
       "Note: Only the head of the SFrame is printed.\n",
       "You can use print_rows(num_rows=m, num_columns=n) to print more rows and columns."
      ]
     },
     "execution_count": 24,
     "metadata": {},
     "output_type": "execute_result"
    }
   ],
   "source": [
    "macauley_amazon_data_unpacked"
   ]
  },
  {
   "cell_type": "code",
   "execution_count": 6,
   "metadata": {
    "collapsed": false
   },
   "outputs": [],
   "source": [
    "macauley_amazon_data_unpacked['clean_review'] = macauley_amazon_data_unpacked['reviewText'].apply(lambda x: remove_punctuation(x))"
   ]
  },
  {
   "cell_type": "code",
   "execution_count": 7,
   "metadata": {
    "collapsed": true
   },
   "outputs": [],
   "source": [
    "macauley_amazon_data_unpacked_positive = macauley_amazon_data_unpacked[macauley_amazon_data_unpacked['overall']>=4]"
   ]
  },
  {
   "cell_type": "code",
   "execution_count": 8,
   "metadata": {
    "collapsed": false
   },
   "outputs": [],
   "source": [
    "macauley_amazon_data_unpacked_negative = macauley_amazon_data_unpacked[macauley_amazon_data_unpacked['overall']<=2]"
   ]
  },
  {
   "cell_type": "code",
   "execution_count": 9,
   "metadata": {
    "collapsed": true
   },
   "outputs": [],
   "source": [
    "macauley_amazon_data_unpacked_neutral = macauley_amazon_data_unpacked[macauley_amazon_data_unpacked['overall']==3]"
   ]
  },
  {
   "cell_type": "code",
   "execution_count": 4,
   "metadata": {
    "collapsed": true
   },
   "outputs": [],
   "source": [
    "macauley_amazon_data = macauley_amazon_data_unpacked[macauley_amazon_data_unpacked['overall'] != 3]"
   ]
  },
  {
   "cell_type": "code",
   "execution_count": 5,
   "metadata": {
    "collapsed": true
   },
   "outputs": [],
   "source": [
    "macauley_amazon_data['sentiment'] = macauley_amazon_data['overall'].apply(lambda rating : +1 if rating > 3 else -1)"
   ]
  },
  {
   "cell_type": "code",
   "execution_count": 6,
   "metadata": {
    "collapsed": true
   },
   "outputs": [],
   "source": [
    "train_data, test_data = macauley_amazon_data.random_split(.8, seed=1)"
   ]
  },
  {
   "cell_type": "code",
   "execution_count": null,
   "metadata": {
    "collapsed": false
   },
   "outputs": [],
   "source": [
    "from sklearn.feature_extraction.text import CountVectorizer\n",
    "\n",
    "vectorizer = CountVectorizer(token_pattern=r'\\b\\w+\\b')\n",
    "     # Use this token pattern to keep single-letter words\n",
    "# First, learn vocabulary from the training data and assign columns to words\n",
    "# Then convert the training data into a sparse matrix\n",
    "train_matrix = vectorizer.fit_transform(train_data['reviewText'])\n",
    "# Second, convert the test data into a sparse matrix, using the same word-column mapping\n",
    "test_matrix = vectorizer.transform(test_data['reviewText'])"
   ]
  },
  {
   "cell_type": "code",
   "execution_count": 2,
   "metadata": {
    "collapsed": false
   },
   "outputs": [
    {
     "name": "stdout",
     "output_type": "stream",
     "text": [
      "This non-commercial license of GraphLab Create for academic use is assigned to oaabde01@louisville.edu and will expire on September 22, 2017.\n"
     ]
    },
    {
     "name": "stderr",
     "output_type": "stream",
     "text": [
      "[INFO] graphlab.cython.cy_server: GraphLab Create v2.1 started. Logging: /tmp/graphlab_server_1484590566.log\n"
     ]
    },
    {
     "data": {
      "text/html": [
       "<pre>Finished parsing file /home/omar/training.1600000.processed.noemoticon.csv</pre>"
      ],
      "text/plain": [
       "Finished parsing file /home/omar/training.1600000.processed.noemoticon.csv"
      ]
     },
     "metadata": {},
     "output_type": "display_data"
    },
    {
     "data": {
      "text/html": [
       "<pre>Parsing completed. Parsed 100 lines in 4.79423 secs.</pre>"
      ],
      "text/plain": [
       "Parsing completed. Parsed 100 lines in 4.79423 secs."
      ]
     },
     "metadata": {},
     "output_type": "display_data"
    },
    {
     "name": "stdout",
     "output_type": "stream",
     "text": [
      "------------------------------------------------------\n",
      "Inferred types from first 100 line(s) of file as \n",
      "column_type_hints=[int,int,str,str,str,str]\n",
      "If parsing fails due to incorrect types, you can correct\n",
      "the inferred type list above and pass it to read_csv in\n",
      "the column_type_hints argument\n",
      "------------------------------------------------------\n"
     ]
    },
    {
     "data": {
      "text/html": [
       "<pre>Read 351019 lines. Lines per second: 87324.1</pre>"
      ],
      "text/plain": [
       "Read 351019 lines. Lines per second: 87324.1"
      ]
     },
     "metadata": {},
     "output_type": "display_data"
    },
    {
     "data": {
      "text/html": [
       "<pre>Finished parsing file /home/omar/training.1600000.processed.noemoticon.csv</pre>"
      ],
      "text/plain": [
       "Finished parsing file /home/omar/training.1600000.processed.noemoticon.csv"
      ]
     },
     "metadata": {},
     "output_type": "display_data"
    },
    {
     "data": {
      "text/html": [
       "<pre>Parsing completed. Parsed 1600000 lines in 7.17921 secs.</pre>"
      ],
      "text/plain": [
       "Parsing completed. Parsed 1600000 lines in 7.17921 secs."
      ]
     },
     "metadata": {},
     "output_type": "display_data"
    }
   ],
   "source": [
    "sentiment140_tweets = gl.SFrame.read_csv(\"training.1600000.processed.noemoticon.csv\")"
   ]
  },
  {
   "cell_type": "code",
   "execution_count": 3,
   "metadata": {
    "collapsed": false
   },
   "outputs": [
    {
     "data": {
      "text/html": [
       "<div style=\"max-height:1000px;max-width:1500px;overflow:auto;\"><table frame=\"box\" rules=\"cols\">\n",
       "    <tr>\n",
       "        <th style=\"padding-left: 1em; padding-right: 1em; text-align: center\">Sentiment</th>\n",
       "        <th style=\"padding-left: 1em; padding-right: 1em; text-align: center\">ID</th>\n",
       "        <th style=\"padding-left: 1em; padding-right: 1em; text-align: center\">Date</th>\n",
       "        <th style=\"padding-left: 1em; padding-right: 1em; text-align: center\">Query</th>\n",
       "        <th style=\"padding-left: 1em; padding-right: 1em; text-align: center\">user</th>\n",
       "        <th style=\"padding-left: 1em; padding-right: 1em; text-align: center\">Tweet</th>\n",
       "    </tr>\n",
       "    <tr>\n",
       "        <td style=\"padding-left: 1em; padding-right: 1em; text-align: center; vertical-align: top\">0</td>\n",
       "        <td style=\"padding-left: 1em; padding-right: 1em; text-align: center; vertical-align: top\">1467810369</td>\n",
       "        <td style=\"padding-left: 1em; padding-right: 1em; text-align: center; vertical-align: top\">Mon Apr 06 22:19:45 PDT<br>2009 ...</td>\n",
       "        <td style=\"padding-left: 1em; padding-right: 1em; text-align: center; vertical-align: top\">NO_QUERY</td>\n",
       "        <td style=\"padding-left: 1em; padding-right: 1em; text-align: center; vertical-align: top\">_TheSpecialOne_</td>\n",
       "        <td style=\"padding-left: 1em; padding-right: 1em; text-align: center; vertical-align: top\">@switchfoot<br>http://twitpic.com/2y1zl ...</td>\n",
       "    </tr>\n",
       "    <tr>\n",
       "        <td style=\"padding-left: 1em; padding-right: 1em; text-align: center; vertical-align: top\">0</td>\n",
       "        <td style=\"padding-left: 1em; padding-right: 1em; text-align: center; vertical-align: top\">1467810672</td>\n",
       "        <td style=\"padding-left: 1em; padding-right: 1em; text-align: center; vertical-align: top\">Mon Apr 06 22:19:49 PDT<br>2009 ...</td>\n",
       "        <td style=\"padding-left: 1em; padding-right: 1em; text-align: center; vertical-align: top\">NO_QUERY</td>\n",
       "        <td style=\"padding-left: 1em; padding-right: 1em; text-align: center; vertical-align: top\">scotthamilton</td>\n",
       "        <td style=\"padding-left: 1em; padding-right: 1em; text-align: center; vertical-align: top\">is upset that he can't<br>update his Facebook by ...</td>\n",
       "    </tr>\n",
       "    <tr>\n",
       "        <td style=\"padding-left: 1em; padding-right: 1em; text-align: center; vertical-align: top\">0</td>\n",
       "        <td style=\"padding-left: 1em; padding-right: 1em; text-align: center; vertical-align: top\">1467810917</td>\n",
       "        <td style=\"padding-left: 1em; padding-right: 1em; text-align: center; vertical-align: top\">Mon Apr 06 22:19:53 PDT<br>2009 ...</td>\n",
       "        <td style=\"padding-left: 1em; padding-right: 1em; text-align: center; vertical-align: top\">NO_QUERY</td>\n",
       "        <td style=\"padding-left: 1em; padding-right: 1em; text-align: center; vertical-align: top\">mattycus</td>\n",
       "        <td style=\"padding-left: 1em; padding-right: 1em; text-align: center; vertical-align: top\">@Kenichan I dived many<br>times for the ball. ...</td>\n",
       "    </tr>\n",
       "    <tr>\n",
       "        <td style=\"padding-left: 1em; padding-right: 1em; text-align: center; vertical-align: top\">0</td>\n",
       "        <td style=\"padding-left: 1em; padding-right: 1em; text-align: center; vertical-align: top\">1467811184</td>\n",
       "        <td style=\"padding-left: 1em; padding-right: 1em; text-align: center; vertical-align: top\">Mon Apr 06 22:19:57 PDT<br>2009 ...</td>\n",
       "        <td style=\"padding-left: 1em; padding-right: 1em; text-align: center; vertical-align: top\">NO_QUERY</td>\n",
       "        <td style=\"padding-left: 1em; padding-right: 1em; text-align: center; vertical-align: top\">ElleCTF</td>\n",
       "        <td style=\"padding-left: 1em; padding-right: 1em; text-align: center; vertical-align: top\">my whole body feels itchy<br>and like its on fire ...</td>\n",
       "    </tr>\n",
       "    <tr>\n",
       "        <td style=\"padding-left: 1em; padding-right: 1em; text-align: center; vertical-align: top\">0</td>\n",
       "        <td style=\"padding-left: 1em; padding-right: 1em; text-align: center; vertical-align: top\">1467811193</td>\n",
       "        <td style=\"padding-left: 1em; padding-right: 1em; text-align: center; vertical-align: top\">Mon Apr 06 22:19:57 PDT<br>2009 ...</td>\n",
       "        <td style=\"padding-left: 1em; padding-right: 1em; text-align: center; vertical-align: top\">NO_QUERY</td>\n",
       "        <td style=\"padding-left: 1em; padding-right: 1em; text-align: center; vertical-align: top\">Karoli</td>\n",
       "        <td style=\"padding-left: 1em; padding-right: 1em; text-align: center; vertical-align: top\">@nationwideclass no, it's<br>not behaving at all. i'm ...</td>\n",
       "    </tr>\n",
       "    <tr>\n",
       "        <td style=\"padding-left: 1em; padding-right: 1em; text-align: center; vertical-align: top\">0</td>\n",
       "        <td style=\"padding-left: 1em; padding-right: 1em; text-align: center; vertical-align: top\">1467811372</td>\n",
       "        <td style=\"padding-left: 1em; padding-right: 1em; text-align: center; vertical-align: top\">Mon Apr 06 22:20:00 PDT<br>2009 ...</td>\n",
       "        <td style=\"padding-left: 1em; padding-right: 1em; text-align: center; vertical-align: top\">NO_QUERY</td>\n",
       "        <td style=\"padding-left: 1em; padding-right: 1em; text-align: center; vertical-align: top\">joy_wolf</td>\n",
       "        <td style=\"padding-left: 1em; padding-right: 1em; text-align: center; vertical-align: top\">@Kwesidei not the whole<br>crew ...</td>\n",
       "    </tr>\n",
       "    <tr>\n",
       "        <td style=\"padding-left: 1em; padding-right: 1em; text-align: center; vertical-align: top\">0</td>\n",
       "        <td style=\"padding-left: 1em; padding-right: 1em; text-align: center; vertical-align: top\">1467811592</td>\n",
       "        <td style=\"padding-left: 1em; padding-right: 1em; text-align: center; vertical-align: top\">Mon Apr 06 22:20:03 PDT<br>2009 ...</td>\n",
       "        <td style=\"padding-left: 1em; padding-right: 1em; text-align: center; vertical-align: top\">NO_QUERY</td>\n",
       "        <td style=\"padding-left: 1em; padding-right: 1em; text-align: center; vertical-align: top\">mybirch</td>\n",
       "        <td style=\"padding-left: 1em; padding-right: 1em; text-align: center; vertical-align: top\">Need a hug </td>\n",
       "    </tr>\n",
       "    <tr>\n",
       "        <td style=\"padding-left: 1em; padding-right: 1em; text-align: center; vertical-align: top\">0</td>\n",
       "        <td style=\"padding-left: 1em; padding-right: 1em; text-align: center; vertical-align: top\">1467811594</td>\n",
       "        <td style=\"padding-left: 1em; padding-right: 1em; text-align: center; vertical-align: top\">Mon Apr 06 22:20:03 PDT<br>2009 ...</td>\n",
       "        <td style=\"padding-left: 1em; padding-right: 1em; text-align: center; vertical-align: top\">NO_QUERY</td>\n",
       "        <td style=\"padding-left: 1em; padding-right: 1em; text-align: center; vertical-align: top\">coZZ</td>\n",
       "        <td style=\"padding-left: 1em; padding-right: 1em; text-align: center; vertical-align: top\">@LOLTrish hey  long time<br>no see! Yes.. Rains a ...</td>\n",
       "    </tr>\n",
       "    <tr>\n",
       "        <td style=\"padding-left: 1em; padding-right: 1em; text-align: center; vertical-align: top\">0</td>\n",
       "        <td style=\"padding-left: 1em; padding-right: 1em; text-align: center; vertical-align: top\">1467811795</td>\n",
       "        <td style=\"padding-left: 1em; padding-right: 1em; text-align: center; vertical-align: top\">Mon Apr 06 22:20:05 PDT<br>2009 ...</td>\n",
       "        <td style=\"padding-left: 1em; padding-right: 1em; text-align: center; vertical-align: top\">NO_QUERY</td>\n",
       "        <td style=\"padding-left: 1em; padding-right: 1em; text-align: center; vertical-align: top\">2Hood4Hollywood</td>\n",
       "        <td style=\"padding-left: 1em; padding-right: 1em; text-align: center; vertical-align: top\">@Tatiana_K nope they<br>didn't have it ...</td>\n",
       "    </tr>\n",
       "    <tr>\n",
       "        <td style=\"padding-left: 1em; padding-right: 1em; text-align: center; vertical-align: top\">0</td>\n",
       "        <td style=\"padding-left: 1em; padding-right: 1em; text-align: center; vertical-align: top\">1467812025</td>\n",
       "        <td style=\"padding-left: 1em; padding-right: 1em; text-align: center; vertical-align: top\">Mon Apr 06 22:20:09 PDT<br>2009 ...</td>\n",
       "        <td style=\"padding-left: 1em; padding-right: 1em; text-align: center; vertical-align: top\">NO_QUERY</td>\n",
       "        <td style=\"padding-left: 1em; padding-right: 1em; text-align: center; vertical-align: top\">mimismo</td>\n",
       "        <td style=\"padding-left: 1em; padding-right: 1em; text-align: center; vertical-align: top\">@twittera que me muera ? </td>\n",
       "    </tr>\n",
       "</table>\n",
       "[1600000 rows x 6 columns]<br/>Note: Only the head of the SFrame is printed.<br/>You can use print_rows(num_rows=m, num_columns=n) to print more rows and columns.\n",
       "</div>"
      ],
      "text/plain": [
       "Columns:\n",
       "\tSentiment\tint\n",
       "\tID\tint\n",
       "\tDate\tstr\n",
       "\tQuery\tstr\n",
       "\tuser\tstr\n",
       "\tTweet\tstr\n",
       "\n",
       "Rows: 1600000\n",
       "\n",
       "Data:\n",
       "+-----------+------------+------------------------------+----------+\n",
       "| Sentiment |     ID     |             Date             |  Query   |\n",
       "+-----------+------------+------------------------------+----------+\n",
       "|     0     | 1467810369 | Mon Apr 06 22:19:45 PDT 2009 | NO_QUERY |\n",
       "|     0     | 1467810672 | Mon Apr 06 22:19:49 PDT 2009 | NO_QUERY |\n",
       "|     0     | 1467810917 | Mon Apr 06 22:19:53 PDT 2009 | NO_QUERY |\n",
       "|     0     | 1467811184 | Mon Apr 06 22:19:57 PDT 2009 | NO_QUERY |\n",
       "|     0     | 1467811193 | Mon Apr 06 22:19:57 PDT 2009 | NO_QUERY |\n",
       "|     0     | 1467811372 | Mon Apr 06 22:20:00 PDT 2009 | NO_QUERY |\n",
       "|     0     | 1467811592 | Mon Apr 06 22:20:03 PDT 2009 | NO_QUERY |\n",
       "|     0     | 1467811594 | Mon Apr 06 22:20:03 PDT 2009 | NO_QUERY |\n",
       "|     0     | 1467811795 | Mon Apr 06 22:20:05 PDT 2009 | NO_QUERY |\n",
       "|     0     | 1467812025 | Mon Apr 06 22:20:09 PDT 2009 | NO_QUERY |\n",
       "+-----------+------------+------------------------------+----------+\n",
       "+-----------------+-------------------------------+\n",
       "|       user      |             Tweet             |\n",
       "+-----------------+-------------------------------+\n",
       "| _TheSpecialOne_ | @switchfoot http://twitpic... |\n",
       "|  scotthamilton  | is upset that he can't upd... |\n",
       "|     mattycus    | @Kenichan I dived many tim... |\n",
       "|     ElleCTF     | my whole body feels itchy ... |\n",
       "|      Karoli     | @nationwideclass no, it's ... |\n",
       "|     joy_wolf    | @Kwesidei not the whole crew  |\n",
       "|     mybirch     |          Need a hug           |\n",
       "|       coZZ      | @LOLTrish hey  long time n... |\n",
       "| 2Hood4Hollywood | @Tatiana_K nope they didn'... |\n",
       "|     mimismo     |   @twittera que me muera ?    |\n",
       "+-----------------+-------------------------------+\n",
       "[1600000 rows x 6 columns]\n",
       "Note: Only the head of the SFrame is printed.\n",
       "You can use print_rows(num_rows=m, num_columns=n) to print more rows and columns."
      ]
     },
     "execution_count": 3,
     "metadata": {},
     "output_type": "execute_result"
    }
   ],
   "source": [
    "sentiment140_tweets"
   ]
  },
  {
   "cell_type": "code",
   "execution_count": 18,
   "metadata": {
    "collapsed": false
   },
   "outputs": [],
   "source": [
    "neg_tweets = sentiment140_tweets[sentiment140_tweets['Sentiment']==0]"
   ]
  },
  {
   "cell_type": "code",
   "execution_count": 19,
   "metadata": {
    "collapsed": true
   },
   "outputs": [],
   "source": [
    "pos_tweets = sentiment140_tweets[sentiment140_tweets['Sentiment']==4]"
   ]
  },
  {
   "cell_type": "code",
   "execution_count": 226,
   "metadata": {
    "collapsed": false
   },
   "outputs": [],
   "source": [
    "ng_lr_tweets_500 = neg_tweets[:500000]\n",
    "ps_lr_tweets_500 = pos_tweets[:500000]"
   ]
  },
  {
   "cell_type": "code",
   "execution_count": 5,
   "metadata": {
    "collapsed": true
   },
   "outputs": [],
   "source": [
    "def remove_punctuation(text):\n",
    "    import string\n",
    "    return text.translate(None, string.punctuation)"
   ]
  },
  {
   "cell_type": "code",
   "execution_count": 8,
   "metadata": {
    "collapsed": true
   },
   "outputs": [],
   "source": [
    "sentiment140_tweets['clean_tweet'] = sentiment140_tweets['Tweet'].apply(lambda x: remove_punctuation(x))"
   ]
  },
  {
   "cell_type": "code",
   "execution_count": 228,
   "metadata": {
    "collapsed": false
   },
   "outputs": [],
   "source": [
    "#lr_tweets_1m = ng_lr_tweets_500\n",
    "#lr_tweets_1m = lr_tweets_1m.append(ps_lr_tweets_500)\n",
    "GLmodel_pos_neg_1m = graphlab.logistic_classifier.create(train,target='clean_tweet',features )"
   ]
  },
  {
   "cell_type": "markdown",
   "metadata": {},
   "source": [
    "## Preparing the training data for positive and negative text"
   ]
  },
  {
   "cell_type": "code",
   "execution_count": 20,
   "metadata": {
    "collapsed": true
   },
   "outputs": [],
   "source": [
    "po_tweets = pos_tweets[:50000]"
   ]
  },
  {
   "cell_type": "code",
   "execution_count": 64,
   "metadata": {
    "collapsed": false
   },
   "outputs": [
    {
     "name": "stderr",
     "output_type": "stream",
     "text": [
      "Using TensorFlow backend.\n"
     ]
    }
   ],
   "source": [
    "from keras.models import Sequential\n",
    "from keras.layers import Dense\n",
    "from keras.models import model_from_json"
   ]
  },
  {
   "cell_type": "code",
   "execution_count": 21,
   "metadata": {
    "collapsed": true
   },
   "outputs": [],
   "source": [
    "ng_tweets = neg_tweets[:50000]"
   ]
  },
  {
   "cell_type": "code",
   "execution_count": 16,
   "metadata": {
    "collapsed": false
   },
   "outputs": [
    {
     "data": {
      "text/html": [
       "<div style=\"max-height:1000px;max-width:1500px;overflow:auto;\"><table frame=\"box\" rules=\"cols\">\n",
       "    <tr>\n",
       "        <th style=\"padding-left: 1em; padding-right: 1em; text-align: center\">asin</th>\n",
       "        <th style=\"padding-left: 1em; padding-right: 1em; text-align: center\">helpful</th>\n",
       "        <th style=\"padding-left: 1em; padding-right: 1em; text-align: center\">overall</th>\n",
       "        <th style=\"padding-left: 1em; padding-right: 1em; text-align: center\">reviewText</th>\n",
       "        <th style=\"padding-left: 1em; padding-right: 1em; text-align: center\">reviewTime</th>\n",
       "        <th style=\"padding-left: 1em; padding-right: 1em; text-align: center\">reviewerID</th>\n",
       "        <th style=\"padding-left: 1em; padding-right: 1em; text-align: center\">reviewerName</th>\n",
       "    </tr>\n",
       "    <tr>\n",
       "        <td style=\"padding-left: 1em; padding-right: 1em; text-align: center; vertical-align: top\">B003UYU16G</td>\n",
       "        <td style=\"padding-left: 1em; padding-right: 1em; text-align: center; vertical-align: top\">[0, 0]</td>\n",
       "        <td style=\"padding-left: 1em; padding-right: 1em; text-align: center; vertical-align: top\">5.0</td>\n",
       "        <td style=\"padding-left: 1em; padding-right: 1em; text-align: center; vertical-align: top\">It is and does exactly<br>what the description  ...</td>\n",
       "        <td style=\"padding-left: 1em; padding-right: 1em; text-align: center; vertical-align: top\">11 21, 2012</td>\n",
       "        <td style=\"padding-left: 1em; padding-right: 1em; text-align: center; vertical-align: top\">A00000262KYZUE4J55XGL</td>\n",
       "        <td style=\"padding-left: 1em; padding-right: 1em; text-align: center; vertical-align: top\">Steven N Elich</td>\n",
       "    </tr>\n",
       "    <tr>\n",
       "        <td style=\"padding-left: 1em; padding-right: 1em; text-align: center; vertical-align: top\">B005FYPK9C</td>\n",
       "        <td style=\"padding-left: 1em; padding-right: 1em; text-align: center; vertical-align: top\">[0, 0]</td>\n",
       "        <td style=\"padding-left: 1em; padding-right: 1em; text-align: center; vertical-align: top\">5.0</td>\n",
       "        <td style=\"padding-left: 1em; padding-right: 1em; text-align: center; vertical-align: top\">I was sketchy at first<br>about these but once you ...</td>\n",
       "        <td style=\"padding-left: 1em; padding-right: 1em; text-align: center; vertical-align: top\">01 8, 2013</td>\n",
       "        <td style=\"padding-left: 1em; padding-right: 1em; text-align: center; vertical-align: top\">A000008615DZQRRI946FO</td>\n",
       "        <td style=\"padding-left: 1em; padding-right: 1em; text-align: center; vertical-align: top\">mj waldon</td>\n",
       "    </tr>\n",
       "    <tr>\n",
       "        <td style=\"padding-left: 1em; padding-right: 1em; text-align: center; vertical-align: top\">B001EJMS6K</td>\n",
       "        <td style=\"padding-left: 1em; padding-right: 1em; text-align: center; vertical-align: top\">[0, 0]</td>\n",
       "        <td style=\"padding-left: 1em; padding-right: 1em; text-align: center; vertical-align: top\">4.0</td>\n",
       "        <td style=\"padding-left: 1em; padding-right: 1em; text-align: center; vertical-align: top\">Easy to use a mobile. If<br>you're taller than 4ft, ...</td>\n",
       "        <td style=\"padding-left: 1em; padding-right: 1em; text-align: center; vertical-align: top\">03 24, 2014</td>\n",
       "        <td style=\"padding-left: 1em; padding-right: 1em; text-align: center; vertical-align: top\">A00000922W28P2OCH6JSE</td>\n",
       "        <td style=\"padding-left: 1em; padding-right: 1em; text-align: center; vertical-align: top\">Gabriel Merrill</td>\n",
       "    </tr>\n",
       "    <tr>\n",
       "        <td style=\"padding-left: 1em; padding-right: 1em; text-align: center; vertical-align: top\">B003XJCNVO</td>\n",
       "        <td style=\"padding-left: 1em; padding-right: 1em; text-align: center; vertical-align: top\">[0, 0]</td>\n",
       "        <td style=\"padding-left: 1em; padding-right: 1em; text-align: center; vertical-align: top\">4.0</td>\n",
       "        <td style=\"padding-left: 1em; padding-right: 1em; text-align: center; vertical-align: top\">Love this feeder. Heavy<br>duty &amp; capacity. Best ...</td>\n",
       "        <td style=\"padding-left: 1em; padding-right: 1em; text-align: center; vertical-align: top\">03 24, 2014</td>\n",
       "        <td style=\"padding-left: 1em; padding-right: 1em; text-align: center; vertical-align: top\">A00000922W28P2OCH6JSE</td>\n",
       "        <td style=\"padding-left: 1em; padding-right: 1em; text-align: center; vertical-align: top\">Gabriel Merrill</td>\n",
       "    </tr>\n",
       "    <tr>\n",
       "        <td style=\"padding-left: 1em; padding-right: 1em; text-align: center; vertical-align: top\">B00G3KN9LI</td>\n",
       "        <td style=\"padding-left: 1em; padding-right: 1em; text-align: center; vertical-align: top\">[0, 0]</td>\n",
       "        <td style=\"padding-left: 1em; padding-right: 1em; text-align: center; vertical-align: top\">4.0</td>\n",
       "        <td style=\"padding-left: 1em; padding-right: 1em; text-align: center; vertical-align: top\">Solid, stable mount.<br>Holds iPhone with phone ...</td>\n",
       "        <td style=\"padding-left: 1em; padding-right: 1em; text-align: center; vertical-align: top\">03 29, 2014</td>\n",
       "        <td style=\"padding-left: 1em; padding-right: 1em; text-align: center; vertical-align: top\">A00000922W28P2OCH6JSE</td>\n",
       "        <td style=\"padding-left: 1em; padding-right: 1em; text-align: center; vertical-align: top\">Gabriel Merrill</td>\n",
       "    </tr>\n",
       "    <tr>\n",
       "        <td style=\"padding-left: 1em; padding-right: 1em; text-align: center; vertical-align: top\">B000SAUVC4</td>\n",
       "        <td style=\"padding-left: 1em; padding-right: 1em; text-align: center; vertical-align: top\">[0, 0]</td>\n",
       "        <td style=\"padding-left: 1em; padding-right: 1em; text-align: center; vertical-align: top\">5.0</td>\n",
       "        <td style=\"padding-left: 1em; padding-right: 1em; text-align: center; vertical-align: top\">I bought this pepper<br>because I wanted a lo ...</td>\n",
       "        <td style=\"padding-left: 1em; padding-right: 1em; text-align: center; vertical-align: top\">08 12, 2013</td>\n",
       "        <td style=\"padding-left: 1em; padding-right: 1em; text-align: center; vertical-align: top\">A000013090ZI3HIT9N5V</td>\n",
       "        <td style=\"padding-left: 1em; padding-right: 1em; text-align: center; vertical-align: top\">Elvis florian</td>\n",
       "    </tr>\n",
       "    <tr>\n",
       "        <td style=\"padding-left: 1em; padding-right: 1em; text-align: center; vertical-align: top\">B00125OS3C</td>\n",
       "        <td style=\"padding-left: 1em; padding-right: 1em; text-align: center; vertical-align: top\">[0, 0]</td>\n",
       "        <td style=\"padding-left: 1em; padding-right: 1em; text-align: center; vertical-align: top\">5.0</td>\n",
       "        <td style=\"padding-left: 1em; padding-right: 1em; text-align: center; vertical-align: top\">Beautiful photos/film<br>with wonderful music. ...</td>\n",
       "        <td style=\"padding-left: 1em; padding-right: 1em; text-align: center; vertical-align: top\">08 31, 2013</td>\n",
       "        <td style=\"padding-left: 1em; padding-right: 1em; text-align: center; vertical-align: top\">A00001362Q1PGIX2FYSSH</td>\n",
       "        <td style=\"padding-left: 1em; padding-right: 1em; text-align: center; vertical-align: top\">Pamela Bellamy</td>\n",
       "    </tr>\n",
       "    <tr>\n",
       "        <td style=\"padding-left: 1em; padding-right: 1em; text-align: center; vertical-align: top\">0957544901</td>\n",
       "        <td style=\"padding-left: 1em; padding-right: 1em; text-align: center; vertical-align: top\">[0, 0]</td>\n",
       "        <td style=\"padding-left: 1em; padding-right: 1em; text-align: center; vertical-align: top\">4.0</td>\n",
       "        <td style=\"padding-left: 1em; padding-right: 1em; text-align: center; vertical-align: top\">This book is really great<br>for those that have an ...</td>\n",
       "        <td style=\"padding-left: 1em; padding-right: 1em; text-align: center; vertical-align: top\">04 19, 2014</td>\n",
       "        <td style=\"padding-left: 1em; padding-right: 1em; text-align: center; vertical-align: top\">A000023026XVLM97BM7KY</td>\n",
       "        <td style=\"padding-left: 1em; padding-right: 1em; text-align: center; vertical-align: top\">T.Dobrowolski</td>\n",
       "    </tr>\n",
       "    <tr>\n",
       "        <td style=\"padding-left: 1em; padding-right: 1em; text-align: center; vertical-align: top\">B002Y2U8MC</td>\n",
       "        <td style=\"padding-left: 1em; padding-right: 1em; text-align: center; vertical-align: top\">[1, 1]</td>\n",
       "        <td style=\"padding-left: 1em; padding-right: 1em; text-align: center; vertical-align: top\">5.0</td>\n",
       "        <td style=\"padding-left: 1em; padding-right: 1em; text-align: center; vertical-align: top\">It is not a sticker, it<br>is a Chritsmas story  by ...</td>\n",
       "        <td style=\"padding-left: 1em; padding-right: 1em; text-align: center; vertical-align: top\">02 18, 2013</td>\n",
       "        <td style=\"padding-left: 1em; padding-right: 1em; text-align: center; vertical-align: top\">A00003262KNLZOSMMMFVV</td>\n",
       "        <td style=\"padding-left: 1em; padding-right: 1em; text-align: center; vertical-align: top\">Harue Rojas</td>\n",
       "    </tr>\n",
       "    <tr>\n",
       "        <td style=\"padding-left: 1em; padding-right: 1em; text-align: center; vertical-align: top\">B004P598FY</td>\n",
       "        <td style=\"padding-left: 1em; padding-right: 1em; text-align: center; vertical-align: top\">[1, 1]</td>\n",
       "        <td style=\"padding-left: 1em; padding-right: 1em; text-align: center; vertical-align: top\">5.0</td>\n",
       "        <td style=\"padding-left: 1em; padding-right: 1em; text-align: center; vertical-align: top\">LOve the size and the<br>details, and its very ...</td>\n",
       "        <td style=\"padding-left: 1em; padding-right: 1em; text-align: center; vertical-align: top\">02 18, 2013</td>\n",
       "        <td style=\"padding-left: 1em; padding-right: 1em; text-align: center; vertical-align: top\">A00003262KNLZOSMMMFVV</td>\n",
       "        <td style=\"padding-left: 1em; padding-right: 1em; text-align: center; vertical-align: top\">Harue Rojas</td>\n",
       "    </tr>\n",
       "</table>\n",
       "<table frame=\"box\" rules=\"cols\">\n",
       "    <tr>\n",
       "        <th style=\"padding-left: 1em; padding-right: 1em; text-align: center\">summary</th>\n",
       "        <th style=\"padding-left: 1em; padding-right: 1em; text-align: center\">unixReviewTime</th>\n",
       "        <th style=\"padding-left: 1em; padding-right: 1em; text-align: center\">clean_review</th>\n",
       "    </tr>\n",
       "    <tr>\n",
       "        <td style=\"padding-left: 1em; padding-right: 1em; text-align: center; vertical-align: top\">Does what it's supposed<br>to do ...</td>\n",
       "        <td style=\"padding-left: 1em; padding-right: 1em; text-align: center; vertical-align: top\">1353456000</td>\n",
       "        <td style=\"padding-left: 1em; padding-right: 1em; text-align: center; vertical-align: top\">It is and does exactly<br>what the description  ...</td>\n",
       "    </tr>\n",
       "    <tr>\n",
       "        <td style=\"padding-left: 1em; padding-right: 1em; text-align: center; vertical-align: top\">great buy</td>\n",
       "        <td style=\"padding-left: 1em; padding-right: 1em; text-align: center; vertical-align: top\">1357603200</td>\n",
       "        <td style=\"padding-left: 1em; padding-right: 1em; text-align: center; vertical-align: top\">I was sketchy at first<br>about these but once you ...</td>\n",
       "    </tr>\n",
       "    <tr>\n",
       "        <td style=\"padding-left: 1em; padding-right: 1em; text-align: center; vertical-align: top\">Great inexpensive<br>product. Mounts easily ...</td>\n",
       "        <td style=\"padding-left: 1em; padding-right: 1em; text-align: center; vertical-align: top\">1395619200</td>\n",
       "        <td style=\"padding-left: 1em; padding-right: 1em; text-align: center; vertical-align: top\">Easy to use a mobile If<br>youre taller than 4ft be ...</td>\n",
       "    </tr>\n",
       "    <tr>\n",
       "        <td style=\"padding-left: 1em; padding-right: 1em; text-align: center; vertical-align: top\">Great feeder. Would<br>recommend for use for ...</td>\n",
       "        <td style=\"padding-left: 1em; padding-right: 1em; text-align: center; vertical-align: top\">1395619200</td>\n",
       "        <td style=\"padding-left: 1em; padding-right: 1em; text-align: center; vertical-align: top\">Love this feeder Heavy<br>duty  capacity Best ...</td>\n",
       "    </tr>\n",
       "    <tr>\n",
       "        <td style=\"padding-left: 1em; padding-right: 1em; text-align: center; vertical-align: top\">Solid mount.</td>\n",
       "        <td style=\"padding-left: 1em; padding-right: 1em; text-align: center; vertical-align: top\">1396051200</td>\n",
       "        <td style=\"padding-left: 1em; padding-right: 1em; text-align: center; vertical-align: top\">Solid stable mount Holds<br>iPhone with phone ...</td>\n",
       "    </tr>\n",
       "    <tr>\n",
       "        <td style=\"padding-left: 1em; padding-right: 1em; text-align: center; vertical-align: top\">Cayenne powder strength</td>\n",
       "        <td style=\"padding-left: 1em; padding-right: 1em; text-align: center; vertical-align: top\">1376265600</td>\n",
       "        <td style=\"padding-left: 1em; padding-right: 1em; text-align: center; vertical-align: top\">I bought this pepper<br>because I wanted a lo ...</td>\n",
       "    </tr>\n",
       "    <tr>\n",
       "        <td style=\"padding-left: 1em; padding-right: 1em; text-align: center; vertical-align: top\">A very good film in<br>several areas of ...</td>\n",
       "        <td style=\"padding-left: 1em; padding-right: 1em; text-align: center; vertical-align: top\">1377907200</td>\n",
       "        <td style=\"padding-left: 1em; padding-right: 1em; text-align: center; vertical-align: top\">Beautiful photosfilm with<br>wonderful music  Giriodi ...</td>\n",
       "    </tr>\n",
       "    <tr>\n",
       "        <td style=\"padding-left: 1em; padding-right: 1em; text-align: center; vertical-align: top\">Use creativity to design<br>your life ...</td>\n",
       "        <td style=\"padding-left: 1em; padding-right: 1em; text-align: center; vertical-align: top\">1397865600</td>\n",
       "        <td style=\"padding-left: 1em; padding-right: 1em; text-align: center; vertical-align: top\">This book is really great<br>for those that have an ...</td>\n",
       "    </tr>\n",
       "    <tr>\n",
       "        <td style=\"padding-left: 1em; padding-right: 1em; text-align: center; vertical-align: top\">Very complete</td>\n",
       "        <td style=\"padding-left: 1em; padding-right: 1em; text-align: center; vertical-align: top\">1361145600</td>\n",
       "        <td style=\"padding-left: 1em; padding-right: 1em; text-align: center; vertical-align: top\">It is not a sticker it is<br>a Chritsmas story  by ...</td>\n",
       "    </tr>\n",
       "    <tr>\n",
       "        <td style=\"padding-left: 1em; padding-right: 1em; text-align: center; vertical-align: top\">Great details</td>\n",
       "        <td style=\"padding-left: 1em; padding-right: 1em; text-align: center; vertical-align: top\">1361145600</td>\n",
       "        <td style=\"padding-left: 1em; padding-right: 1em; text-align: center; vertical-align: top\">LOve the size and the<br>details and its very ...</td>\n",
       "    </tr>\n",
       "</table>\n",
       "[50000 rows x 10 columns]<br/>Note: Only the head of the SFrame is printed.<br/>You can use print_rows(num_rows=m, num_columns=n) to print more rows and columns.\n",
       "</div>"
      ],
      "text/plain": [
       "Columns:\n",
       "\tasin\tstr\n",
       "\thelpful\tlist\n",
       "\toverall\tfloat\n",
       "\treviewText\tstr\n",
       "\treviewTime\tstr\n",
       "\treviewerID\tstr\n",
       "\treviewerName\tstr\n",
       "\tsummary\tstr\n",
       "\tunixReviewTime\tint\n",
       "\tclean_review\tstr\n",
       "\n",
       "Rows: 50000\n",
       "\n",
       "Data:\n",
       "+------------+---------+---------+-------------------------------+-------------+\n",
       "|    asin    | helpful | overall |           reviewText          |  reviewTime |\n",
       "+------------+---------+---------+-------------------------------+-------------+\n",
       "| B003UYU16G |  [0, 0] |   5.0   | It is and does exactly wha... | 11 21, 2012 |\n",
       "| B005FYPK9C |  [0, 0] |   5.0   | I was sketchy at first abo... |  01 8, 2013 |\n",
       "| B001EJMS6K |  [0, 0] |   4.0   | Easy to use a mobile. If y... | 03 24, 2014 |\n",
       "| B003XJCNVO |  [0, 0] |   4.0   | Love this feeder. Heavy du... | 03 24, 2014 |\n",
       "| B00G3KN9LI |  [0, 0] |   4.0   | Solid, stable mount. Holds... | 03 29, 2014 |\n",
       "| B000SAUVC4 |  [0, 0] |   5.0   | I bought this pepper becau... | 08 12, 2013 |\n",
       "| B00125OS3C |  [0, 0] |   5.0   | Beautiful photos/film with... | 08 31, 2013 |\n",
       "| 0957544901 |  [0, 0] |   4.0   | This book is really great ... | 04 19, 2014 |\n",
       "| B002Y2U8MC |  [1, 1] |   5.0   | It is not a sticker, it is... | 02 18, 2013 |\n",
       "| B004P598FY |  [1, 1] |   5.0   | LOve the size and the deta... | 02 18, 2013 |\n",
       "+------------+---------+---------+-------------------------------+-------------+\n",
       "+-----------------------+-----------------+-------------------------------+\n",
       "|       reviewerID      |   reviewerName  |            summary            |\n",
       "+-----------------------+-----------------+-------------------------------+\n",
       "| A00000262KYZUE4J55XGL |  Steven N Elich | Does what it's supposed to do |\n",
       "| A000008615DZQRRI946FO |    mj waldon    |           great buy           |\n",
       "| A00000922W28P2OCH6JSE | Gabriel Merrill | Great inexpensive product.... |\n",
       "| A00000922W28P2OCH6JSE | Gabriel Merrill | Great feeder. Would recomm... |\n",
       "| A00000922W28P2OCH6JSE | Gabriel Merrill |          Solid mount.         |\n",
       "|  A000013090ZI3HIT9N5V |  Elvis florian  |    Cayenne powder strength    |\n",
       "| A00001362Q1PGIX2FYSSH |  Pamela Bellamy | A very good film in severa... |\n",
       "| A000023026XVLM97BM7KY |  T.Dobrowolski  | Use creativity to design y... |\n",
       "| A00003262KNLZOSMMMFVV |   Harue Rojas   |         Very complete         |\n",
       "| A00003262KNLZOSMMMFVV |   Harue Rojas   |         Great details         |\n",
       "+-----------------------+-----------------+-------------------------------+\n",
       "+----------------+-------------------------------+\n",
       "| unixReviewTime |          clean_review         |\n",
       "+----------------+-------------------------------+\n",
       "|   1353456000   | It is and does exactly wha... |\n",
       "|   1357603200   | I was sketchy at first abo... |\n",
       "|   1395619200   | Easy to use a mobile If yo... |\n",
       "|   1395619200   | Love this feeder Heavy dut... |\n",
       "|   1396051200   | Solid stable mount Holds i... |\n",
       "|   1376265600   | I bought this pepper becau... |\n",
       "|   1377907200   | Beautiful photosfilm with ... |\n",
       "|   1397865600   | This book is really great ... |\n",
       "|   1361145600   | It is not a sticker it is ... |\n",
       "|   1361145600   | LOve the size and the deta... |\n",
       "+----------------+-------------------------------+\n",
       "[50000 rows x 10 columns]\n",
       "Note: Only the head of the SFrame is printed.\n",
       "You can use print_rows(num_rows=m, num_columns=n) to print more rows and columns."
      ]
     },
     "execution_count": 16,
     "metadata": {},
     "output_type": "execute_result"
    }
   ],
   "source": [
    "po_reviews"
   ]
  },
  {
   "cell_type": "code",
   "execution_count": 24,
   "metadata": {
    "collapsed": true
   },
   "outputs": [],
   "source": [
    "import numpy\n",
    "import os"
   ]
  },
  {
   "cell_type": "code",
   "execution_count": 65,
   "metadata": {
    "collapsed": false
   },
   "outputs": [
    {
     "ename": "NameError",
     "evalue": "name 'model' is not defined",
     "output_type": "error",
     "traceback": [
      "\u001b[0;31m---------------------------------------------------------------------------\u001b[0m",
      "\u001b[0;31mNameError\u001b[0m                                 Traceback (most recent call last)",
      "\u001b[0;32m<ipython-input-65-c7b2a947d6fb>\u001b[0m in \u001b[0;36m<module>\u001b[0;34m()\u001b[0m\n\u001b[0;32m----> 1\u001b[0;31m \u001b[0mmodel_json\u001b[0m \u001b[0;34m=\u001b[0m \u001b[0mmodel\u001b[0m\u001b[0;34m.\u001b[0m\u001b[0mto_json\u001b[0m\u001b[0;34m(\u001b[0m\u001b[0;34m)\u001b[0m\u001b[0;34m\u001b[0m\u001b[0m\n\u001b[0m\u001b[1;32m      2\u001b[0m \u001b[0;32mwith\u001b[0m \u001b[0mopen\u001b[0m\u001b[0;34m(\u001b[0m\u001b[0;34m\"model.json\"\u001b[0m\u001b[0;34m,\u001b[0m \u001b[0;34m\"w\"\u001b[0m\u001b[0;34m)\u001b[0m \u001b[0;32mas\u001b[0m \u001b[0mjson_file\u001b[0m\u001b[0;34m:\u001b[0m\u001b[0;34m\u001b[0m\u001b[0m\n\u001b[1;32m      3\u001b[0m     \u001b[0mjson_file\u001b[0m\u001b[0;34m.\u001b[0m\u001b[0mwrite\u001b[0m\u001b[0;34m(\u001b[0m\u001b[0mmodel_json\u001b[0m\u001b[0;34m)\u001b[0m\u001b[0;34m\u001b[0m\u001b[0m\n\u001b[1;32m      4\u001b[0m \u001b[0;31m# serialize weights to HDF5\u001b[0m\u001b[0;34m\u001b[0m\u001b[0;34m\u001b[0m\u001b[0m\n\u001b[1;32m      5\u001b[0m \u001b[0mmodel\u001b[0m\u001b[0;34m.\u001b[0m\u001b[0msave_weights\u001b[0m\u001b[0;34m(\u001b[0m\u001b[0;34m\"model_pos_neg_200.h5\"\u001b[0m\u001b[0;34m)\u001b[0m\u001b[0;34m\u001b[0m\u001b[0m\n",
      "\u001b[0;31mNameError\u001b[0m: name 'model' is not defined"
     ]
    }
   ],
   "source": [
    "model_json = model.to_json()\n",
    "with open(\"model.json\", \"w\") as json_file:\n",
    "    json_file.write(model_json)\n",
    "# serialize weights to HDF5\n",
    "model.save_weights(\"model_pos_neg_200.h5\")\n",
    "print(\"Saved model to disk\")"
   ]
  },
  {
   "cell_type": "code",
   "execution_count": null,
   "metadata": {
    "collapsed": true
   },
   "outputs": [],
   "source": [
    "/home/omar/CNN-for-Sentence-Classification-in-Keras-master/model.json\n",
    "/home/omar/CNN-for-Sentence-Classification-in-Keras-master/model_pos_neg_200.h5"
   ]
  },
  {
   "cell_type": "code",
   "execution_count": 99,
   "metadata": {
    "collapsed": false
   },
   "outputs": [
    {
     "name": "stdout",
     "output_type": "stream",
     "text": [
      "Loaded model from disk\n"
     ]
    }
   ],
   "source": [
    "#json_file = open('/home/omar/CNN-for-Sentence-Classification-in-Keras-master_other/model_pos_other_1m.json', 'r')\n",
    "json_file = open('/home/omar/CNN-for-Sentence-Classification-in-Keras-master/model_neg_other_1m.json', 'r')\n",
    "loaded_model_json = json_file.read()\n",
    "json_file.close()\n",
    "loaded_model = model_from_json(loaded_model_json)\n",
    "#loaded_model_pos_other = model_from_json(loaded_model_json)\n",
    "# load weights into new model\n",
    "#loaded_model_pos_other.load_weights(\"/home/omar/CNN-for-Sentence-Classification-in-Keras-master_other/model_pos_other_1m.h5\")\n",
    "loaded_model.load_weights(\"/home/omar/CNN-for-Sentence-Classification-in-Keras-master/model_neg_other_1m.h5\")\n",
    "print(\"Loaded model from disk\")"
   ]
  },
  {
   "cell_type": "code",
   "execution_count": 223,
   "metadata": {
    "collapsed": false
   },
   "outputs": [
    {
     "data": {
      "text/plain": [
       "{'cut_tweet': 'truckersquigz Microsoft MISpeedway nationwide88 Cant wait to see you up here I will be at the race on sun',\n",
       " 'predictions': array('d', [1.0]),\n",
       " 'predictionsProbs': array('d', [0.9529197812080383]),\n",
       " 'predictionspos': array('d', [0.5509617328643799]),\n",
       " 'predictionsposclasses': array('d', [1.0]),\n",
       " 'predictionsposprobs': array('d', [0.5509617328643799])}"
      ]
     },
     "execution_count": 223,
     "metadata": {},
     "output_type": "execute_result"
    }
   ],
   "source": [
    "#loaded_model.predict_classes(x)\n",
    "#tweets['predictionspos'] = loaded_model.predict(x)\n",
    "#tweets['predictionsposprobs'] = loaded_model.predict_proba(x)\n",
    "#tweets['predictionsposclasses'] = loaded_model.predict_classes(x)\n",
    "tweets[6]"
   ]
  },
  {
   "cell_type": "code",
   "execution_count": 111,
   "metadata": {
    "collapsed": false
   },
   "outputs": [
    {
     "name": "stdout",
     "output_type": "stream",
     "text": [
      "[0, 2, 3, 4, 5, 6, 7, 8, 10, 11, 13, 15, 16, 17, 18, 19, 20, 22, 24, 25, 26, 27, 28, 30, 31, 33, 35, 36, 41, 42, 43, 44, 48, 49, 51, 54, 55, 61, 62, 63, 65, 66, 67, 69, 71, 72, 73, 74, 80, 81, 82, 83, 84, 85, 86, 90, 91, 92, 93, 96, 98, 99, 100, 101, 102, 103, 104, 107, 110, 114, 116, 117, 118, 120, 121, 122, 123, 124, 126, 127, 129, 131, 132, 134, 135, 136, 138, 139, 141, 142, 143, 144, 146, 149, 150, 151, 154, 155, 158, 162, 163, 164, 165, 167, 169, 178, 179, 181, 182, 183, 184, 185, 191, 192, 194, 196, 201, 202, 205, 206, 209, 210, 211, 215, 216, 217, 218, 219, 223, 225, 226, 227, 233, 234, 235, 236, 238, 240, 241, 243, 247, 248, 250, 251, 252, 254, 256, 261, 265, 268, 269, 270, 275, 276, 277, 279, 281, 282, 283, 284, 286, 287, 290, 293, 298, 299, 301, 304, 307, 309, 311, 312, 313, 317, 319, 320, 321, 322, 323, 324, 325, 326, 328, 329, 330, 332, 334, 335, 337, 338, 339, 340, 341, 342, 343, 344, 345, 346, 347, 349, 352, 355, 356, 358, 359, 360, 361, 363, 364, 365, 366, 367, 368, 369, 370, 372, 374, 375, 377, 381, 382, 384, 385, 387, 390, 393, 395, 399, 401, 402, 404, 406, 407, 408, 409, 410, 412, 413, 417, 420, 425, 426, 427, 428, 431, 433, 437, 438, 439, 442, 446, 448, 449, 450, 452, 453, 454, 457, 458, 462, 463, 464, 465, 468, 469, 471, 473, 475, 476, 479, 482, 483, 484, 485, 486, 487, 490, 495, 496, 500, 502, 506, 507, 509, 510, 518, 519, 520, 521, 522, 524, 525, 526, 527, 528, 529, 531, 533, 535, 536, 538, 540, 543, 544, 546, 548, 549, 550, 551, 553, 554, 555, 557, 558, 559, 560, 563, 564, 565, 566, 568, 570, 571, 574, 581, 592, 604, 605, 623, 627, 628, 635, 636, 637, 639, 640, 642, 643, 645, 648, 649, 650, 651, 652, 654, 657, 659, 660, 662, 663, 664, 666, 670, 671, 672, 673, 674, 676, 682, 685, 687, 690, 691, 692, 693, 694, 695, 697, 699, 701, 702, 703, 707, 708, 710, 711, 712, 715, 716, 717, 719, 720, 721, 723, 725, 727, 729, 731, 732, 733, 734, 735, 736, 738, 741, 744, 745, 747, 748, 749, 752, 753, 754, 755, 756, 757, 760, 761, 763, 764, 765, 768, 772, 773, 774, 775, 777, 778, 779, 780, 781, 782, 784, 785, 786, 787, 788, 789, 791, 794, 795, 797, 798, 799, 801, 802, 803, 804, 806, 808, 813, 814, 815, 816, 817, 818, 819, 830, 857, 874, 875, 876, 885, 886, 888, 890, 899, 901, 902, 911, 912, 915, 916, 919, 921, 922, 923, 930, 934, 938, 939, 941, 945, 946, 951, 952, 953, 955, 957, 958, 961, 969, 970, 971, 972, 977, 978, 979, 984, 985, 989, 990, 992, 993, 994, 995, 996, 997, 998, 999, 1000, 1001, 1002, 1004, 1005, 1006, 1018, 1020, 1025, 1026, 1028, 1029, 1036, 1038, 1039, 1043, 1044, 1046, 1047, 1048, 1050, 1051, 1052, 1054, 1055, 1057, 1058, 1061, 1062, 1063, 1064, 1066, 1067, 1069, 1070, 1071, 1072, 1073, 1074, 1075, 1076, 1077, 1078, 1080, 1087, 1088, 1089, 1090, 1091, 1092, 1093, 1094, 1098, 1099, 1100, 1101, 1102, 1103, 1104, 1105, 1106, 1107, 1108, 1110, 1113, 1116, 1117, 1118, 1120, 1121, 1122, 1124, 1125, 1127, 1128, 1129, 1130, 1132, 1135, 1136, 1137, 1138, 1139, 1140, 1141, 1142, 1143, 1144, 1145, 1146, 1148, 1149, 1150, 1151, 1153, 1154, 1155, 1157, 1158, 1159, 1160, 1163, 1164, 1166, 1169, 1170, 1172, 1173, 1174, 1175, 1177, 1180, 1181, 1183, 1184, 1186, 1187, 1189, 1190, 1191, 1193, 1194, 1195, 1197, 1199, 1201, 1204, 1205, 1207, 1210, 1211, 1212, 1217, 1223, 1224, 1225, 1227, 1228, 1229, 1231, 1234, 1235, 1237, 1241, 1243, 1246, 1247, 1250, 1251, 1254, 1255, 1256, 1261, 1263, 1265, 1266, 1268, 1274, 1275, 1276, 1281, 1282, 1284, 1287, 1291, 1293, 1295, 1296, 1298, 1303, 1306, 1308, 1309, 1310, 1312, 1314, 1317, 1318, 1319, 1320, 1322, 1328, 1329, 1330, 1335, 1336, 1337, 1338, 1339, 1340, 1341, 1342, 1343, 1344, 1347, 1348, 1350, 1351, 1352, 1353, 1354, 1355, 1356, 1357, 1358, 1360, 1361, 1363, 1364, 1365, 1367, 1368, 1369, 1370, 1371, 1372, 1373, 1374, 1375, 1379, 1380, 1381, 1382, 1383, 1385, 1386, 1387, 1388, 1389, 1390, 1391, 1392, 1394, 1406, 1407, 1408, 1409, 1410, 1413, 1418, 1419, 1427, 1428, 1432, 1433, 1437, 1441, 1448, 1451, 1455, 1456, 1457, 1458, 1459, 1461, 1463, 1464, 1465, 1467, 1468, 1469, 1470, 1472, 1473, 1475, 1476, 1480, 1481, 1482, 1483, 1484, 1486, 1487, 1488, 1490, 1492, 1493, 1494, 1495, 1498, 1499, 1501, 1503, 1505, 1506, 1511, 1512, 1513, 1514, 1515, 1516, 1517, 1518, 1521, 1522, 1524, 1525, 1527, 1528, 1529, 1530, 1531, 1534, 1536, 1537, 1538, 1539, 1541, 1542, 1543, 1544, 1545, 1546, 1549, 1551, 1552, 1554, 1555, 1556, 1557, 1558, 1559, 1560, 1561, 1562, 1563, 1565, 1571, 1574, 1577, 1578, 1579, 1580, 1582, 1583, 1584, 1585, 1586, 1588, 1589, 1590, 1592, 1596, 1609, 1614, 1623, 1632, 1636, 1642, 1645, 1646, 1650, 1653, 1654, 1656, 1657, 1659, 1660, 1661, 1665, 1666, 1667, 1668, 1669, 1671, 1672, 1673, 1674, 1676, 1678, 1681, 1683, 1684, 1687, 1688, 1696, 1698, 1699, 1700, 1702, 1703, 1704, 1705, 1706, 1708, 1711, 1712, 1713, 1714, 1715, 1717, 1718, 1719, 1720, 1721, 1722, 1723, 1729, 1730, 1733, 1735, 1736, 1737, 1740, 1742, 1743, 1744, 1745, 1746, 1747, 1748, 1749, 1750, 1752, 1753, 1754, 1755, 1756, 1758, 1760, 1762, 1764, 1765, 1770, 1771, 1772, 1773, 1774, 1775, 1779, 1780, 1781, 1782, 1784, 1785, 1786, 1789, 1795, 1798, 1800, 1804, 1812, 1816, 1822, 1826, 1834, 1835, 1836, 1840, 1842, 1843, 1845, 1846, 1847, 1848, 1849, 1851, 1852, 1853, 1854, 1856, 1859, 1861, 1862, 1864, 1865, 1869, 1870, 1871, 1872, 1875, 1878, 1879, 1880, 1882, 1883, 1886, 1887, 1888, 1889, 1890, 1893, 1895, 1902, 1906, 1908, 1921, 1922, 1924, 1926, 1931, 1933, 1939, 1940, 1943, 1944, 1946, 1949, 1950, 1951, 1952, 1953, 1954, 1955, 1956, 1958, 1959, 1963, 1964, 1967, 1970, 1971, 1973, 1974, 1975, 1976, 1979, 1982, 1985, 1987, 1988, 1989, 1991, 1992, 1995, 1996, 1997, 2000, 2001, 2002, 2003, 2004, 2005, 2006, 2007, 2009, 2019, 2020, 2022, 2024, 2025, 2028, 2030, 2037, 2038, 2039, 2042, 2045, 2046, 2049, 2050, 2051, 2052, 2053, 2054, 2055, 2056, 2059, 2060, 2062, 2063, 2068, 2069, 2071, 2072, 2074, 2075, 2079, 2080, 2085, 2087, 2090, 2091, 2092, 2099, 2100, 2101, 2102, 2103, 2104, 2105, 2107, 2109, 2111, 2112, 2114, 2116, 2119, 2121, 2123, 2126, 2134, 2136, 2138, 2140, 2142, 2144, 2145, 2147, 2153, 2157, 2158, 2161, 2163, 2170, 2174, 2184, 2185, 2186, 2187, 2194, 2197, 2200, 2202, 2204, 2205, 2206, 2207, 2208, 2213, 2216, 2218, 2221, 2222, 2224, 2226, 2227, 2229, 2230, 2233, 2241, 2245, 2246, 2247, 2248, 2252, 2253, 2255, 2256, 2257, 2258, 2259, 2261, 2266, 2269, 2272, 2273, 2277, 2278, 2280, 2282, 2286, 2287, 2288, 2289, 2291, 2292, 2293, 2294, 2298, 2302, 2304, 2305, 2307, 2309, 2310, 2316, 2317, 2319, 2325, 2327, 2329, 2331, 2332, 2333, 2334, 2335, 2337, 2338, 2339, 2340, 2341, 2346, 2347, 2348, 2350, 2351, 2352, 2353, 2354, 2355, 2357, 2358, 2360, 2364, 2365, 2367, 2368, 2370, 2372, 2374, 2376, 2378, 2380, 2381, 2382, 2383, 2384, 2388, 2391, 2392, 2393, 2394, 2396, 2400, 2404, 2405, 2406, 2407, 2408, 2409, 2411, 2412, 2413, 2415, 2417, 2418, 2419, 2421, 2423, 2427, 2428, 2429, 2430, 2431, 2432, 2433, 2436, 2437, 2438, 2439, 2440, 2441, 2442, 2443, 2445, 2447, 2448, 2450, 2451, 2454, 2455, 2458, 2459, 2460, 2462, 2463, 2466, 2467, 2468, 2469, 2470, 2472, 2473, 2477, 2479, 2480, 2481, 2483, 2484, 2485, 2486, 2488, 2489, 2491, 2492, 2493, 2497, 2499, 2500, 2502, 2506, 2507, 2509, 2521, 2529, 2530, 2547, 2548, 2552, 2558, 2561, 2564, 2565, 2568, 2572, 2574, 2575, 2576, 2577, 2584, 2585, 2588, 2593, 2594, 2597, 2599, 2600, 2601, 2603, 2604, 2609, 2611, 2612, 2613, 2616, 2617, 2618, 2619, 2624, 2627, 2628, 2629, 2632, 2634, 2635, 2636, 2637, 2638, 2640, 2641, 2642, 2643, 2644, 2645, 2646, 2647, 2648, 2649, 2650, 2651, 2652, 2653, 2654, 2655, 2657, 2658, 2662, 2663, 2664, 2666, 2668, 2669, 2670, 2671, 2673, 2674, 2675, 2676, 2677, 2678, 2679, 2681, 2682, 2683, 2685, 2686, 2687, 2688, 2690, 2693, 2694, 2695, 2696, 2697, 2698, 2699, 2700, 2703, 2707, 2711, 2713, 2714, 2715, 2716, 2717, 2719, 2721, 2722, 2723, 2724, 2726, 2727, 2730, 2731, 2733, 2735, 2736, 2738, 2739, 2740, 2742, 2743, 2744, 2745, 2746, 2750, 2752, 2754, 2755, 2757, 2758, 2759, 2760, 2761, 2768, 2769, 2770, 2771, 2772, 2773, 2774, 2775, 2776, 2777, 2779, 2783, 2784, 2785, 2786, 2789, 2790, 2791, 2792, 2793, 2794, 2795, 2796, 2797, 2799, 2801, 2802, 2804, 2805, 2807, 2808, 2810, 2812, 2813, 2814, 2815, 2817, 2818, 2819, 2821, 2822, 2823, 2824, 2825, 2826, 2827, 2829, 2830, 2831, 2833, 2834, 2835, 2836, 2837, 2838, 2839, 2840, 2841, 2842, 2843, 2845, 2848, 2849, 2850, 2851, 2852, 2854, 2857, 2861, 2862, 2863, 2864, 2867, 2868, 2869, 2870, 2871, 2872, 2873, 2874, 2875, 2877, 2878, 2879, 2880, 2881, 2882, 2884, 2886, 2890, 2891, 2892, 2895, 2896, 2897, 2898, 2899, 2901, 2907, 2909, 2914, 2915, 2924, 2925, 2926, 2929, 2932, 2933, 2937, 2938, 2939, 2940, 2942, 2943, 2945, 2946, 2947, 2950, 2951, 2956, 2957, 2958, 2959, 2960, 2961, 2964, 2965, 2966, 2967, 2968, 2970, 2971, 2972, 2974, 2975, 2977, 2978, 2981, 2982, 2983, 2987, 2988, 2991, 2993, 2994, 2997, 2999, 3004, 3007, 3009, 3011, 3012, 3013, 3014, 3016, 3018, 3026, 3027, 3028, 3029, 3030, 3031, 3033, 3035, 3037, 3040, 3044, 3050, 3053, 3055, 3057, 3067, 3068, 3069, 3072, 3073, 3078, 3080, 3088, 3090, 3096, 3097, 3098, 3100, 3102, 3104, 3105, 3106, 3108, 3109, 3111, 3112, 3113, 3115, 3116, 3118, 3119, 3123, 3125, 3126, 3127, 3129, 3131, 3133, 3134, 3135, 3136, 3138, 3139, 3141, 3142, 3143, 3144, 3145, 3148, 3149, 3150, 3151, 3152, 3153, 3154, 3155, 3156, 3157, 3159, 3163, 3165, 3166, 3168, 3170, 3171, 3172, 3173, 3174, 3175, 3177, 3178, 3180, 3181, 3182, 3184, 3185, 3189, 3190, 3191, 3192, 3193, 3194, 3197, 3198, 3201, 3204, 3206, 3207, 3209, 3210, 3211, 3213, 3215, 3216, 3217, 3220, 3221, 3222, 3223, 3226, 3227, 3228, 3229, 3231, 3234, 3236, 3237, 3238, 3242, 3247, 3249, 3250, 3252, 3254, 3255, 3256, 3257, 3258, 3262, 3264, 3269, 3271, 3272, 3273, 3275, 3276, 3277, 3278, 3279, 3282, 3284, 3285, 3286, 3288, 3289, 3291, 3292, 3294, 3300, 3302, 3303, 3306, 3309, 3310, 3311, 3312, 3313, 3315, 3316, 3317, 3318, 3321, 3323, 3324, 3325, 3326, 3328, 3333, 3334, 3335, 3339, 3340, 3341, 3343, 3344, 3346, 3349, 3350, 3351, 3358, 3363, 3364, 3366, 3368, 3370, 3376, 3378, 3382, 3384, 3385, 3389, 3390, 3399, 3400, 3401, 3404, 3405, 3409, 3411, 3414, 3416, 3419, 3422, 3423, 3424, 3426, 3427, 3433, 3437, 3439, 3444, 3445, 3446, 3451, 3453, 3455, 3459, 3460, 3462, 3465, 3466, 3467, 3469, 3477, 3479, 3481, 3482, 3484, 3485, 3486, 3489, 3490, 3492, 3493, 3494, 3495, 3497, 3498, 3500, 3501, 3502, 3504, 3508, 3510, 3513, 3517, 3518, 3521, 3524, 3528, 3530, 3532, 3533, 3534, 3535, 3536, 3537, 3538, 3539, 3540, 3541, 3542, 3543, 3544, 3545, 3546, 3548, 3550, 3551, 3552, 3561, 3562, 3563, 3565, 3569, 3572, 3573, 3575, 3577, 3579, 3582, 3586, 3587, 3588, 3589, 3590, 3591, 3592, 3594, 3595, 3596, 3598, 3599, 3600, 3601, 3602, 3603, 3605, 3606, 3607, 3612, 3613, 3614, 3615, 3616, 3621, 3622, 3623, 3625, 3626, 3633, 3636, 3638, 3639, 3640, 3642, 3643, 3645, 3646, 3649, 3650, 3652, 3653, 3654, 3655, 3656, 3658, 3660, 3661, 3664, 3665, 3669, 3671, 3672, 3676, 3677, 3678, 3679, 3680, 3681, 3683, 3685, 3686, 3687, 3688, 3689, 3690, 3691, 3693, 3695, 3696, 3698, 3699, 3700, 3701, 3703, 3704, 3705, 3706, 3707, 3708, 3710, 3711, 3712, 3713, 3715, 3716, 3718, 3719, 3720, 3721, 3722, 3724, 3725, 3726, 3727, 3730, 3731, 3734, 3736, 3737, 3739, 3740, 3744, 3746, 3748, 3750, 3751, 3752, 3753, 3754, 3756, 3757, 3760, 3763, 3767, 3768, 3769, 3770, 3771, 3772, 3774, 3775, 3776, 3777, 3778, 3779, 3780, 3781, 3782, 3783, 3784, 3785, 3786, 3787, 3789, 3790, 3791, 3792, 3793, 3794, 3796, 3797, 3798, 3799, 3800, 3803, 3804, 3805, 3808, 3809, 3815, 3816, 3817, 3820, 3821, 3822, 3823, 3825, 3826, 3828, 3829, 3830, 3833, 3834, 3835, 3836, 3838, 3839, 3840, 3842, 3843, 3845, 3847, 3848, 3849, 3850, 3852, 3853, 3854, 3855, 3856, 3857, 3858, 3861, 3862, 3863, 3865, 3867, 3868, 3870, 3872, 3873, 3874, 3875, 3876, 3877, 3878, 3879, 3881, 3882, 3884, 3885, 3886, 3887, 3888, 3890, 3891, 3892, 3893, 3895, 3896, 3897, 3898, 3899, 3900, 3901, 3905, 3906, 3909, 3910, 3911, 3913, 3915, 3917, 3919, 3920, 3921, 3923, 3924, 3927, 3928, 3929, 3930, 3932, 3935, 3936, 3937, 3938, 3945, 3950, 3951, 3957, 3960, 3961, 3962, 3963, 3965, 3967, 3974, 3975, 3978, 3979, 3981, 3982, 3983, 3984, 3986, 3989, 3990, 3991, 3992, 3993, 3994, 3995, 3999, 4001, 4002, 4007, 4008, 4010, 4013, 4014, 4015, 4022, 4023, 4044, 4045, 4047, 4048, 4049, 4050, 4052, 4053, 4055, 4057, 4058, 4059, 4060, 4061, 4062, 4063, 4064, 4068, 4069, 4075, 4077, 4078, 4079, 4081, 4083, 4084, 4087, 4088, 4090, 4094, 4095, 4100, 4101, 4104, 4105, 4109, 4116, 4117, 4120, 4126, 4128, 4133, 4136, 4137, 4138, 4139, 4140, 4141, 4143, 4144, 4145, 4147, 4148, 4149, 4150, 4152, 4155, 4156, 4157, 4158, 4161, 4162, 4164, 4165, 4166, 4193, 4195, 4201, 4203, 4206, 4219, 4222, 4224, 4226, 4228, 4230, 4231, 4237, 4239, 4241, 4242, 4250, 4251, 4253, 4255, 4256, 4257, 4259, 4262, 4263, 4264, 4269, 4270, 4271, 4272, 4273, 4274, 4276, 4278, 4282, 4283, 4284, 4286, 4288, 4290, 4291, 4292, 4302, 4311, 4314, 4315, 4317, 4321, 4326, 4327, 4328, 4337, 4339, 4344, 4345, 4346, 4348, 4349, 4350, 4351, 4352, 4353, 4354, 4359, 4360, 4361, 4362, 4363, 4365, 4368, 4370, 4371, 4372, 4373, 4374, 4376, 4377, 4378, 4380, 4381, 4382, 4383, 4385, 4386, 4387, 4388, 4390, 4391, 4392, 4393, 4395, 4398, 4401, 4402, 4403, 4406, 4407, 4408, 4412, 4414, 4416, 4418, 4421, 4422, 4423, 4424, 4425, 4427, 4428, 4429, 4431, 4434, 4436, 4438, 4439, 4440, 4442, 4446, 4447, 4448, 4449, 4451, 4454, 4456, 4457, 4460, 4463, 4464, 4468, 4471, 4483, 4484, 4485, 4487, 4488, 4490, 4492, 4494, 4495, 4501, 4507, 4509, 4514, 4518, 4520, 4521, 4524, 4527, 4528, 4529, 4532, 4536, 4537, 4538, 4539, 4541, 4542, 4544, 4545, 4549, 4550, 4552, 4553, 4555, 4556, 4557, 4558, 4559, 4560, 4562, 4563, 4565, 4566, 4567, 4568, 4569, 4571, 4572, 4574, 4575, 4576, 4577, 4578, 4579, 4580, 4582, 4583, 4584, 4585, 4588, 4589, 4590, 4592, 4593, 4594, 4595, 4598, 4599, 4600, 4601, 4604, 4608, 4609, 4610, 4611, 4612, 4613, 4614, 4615, 4616, 4617, 4618, 4619, 4620, 4621, 4624, 4625, 4626, 4628, 4635, 4636, 4637, 4638, 4639, 4640, 4641, 4642, 4644, 4646, 4647, 4648, 4649, 4652, 4675, 4677, 4682, 4689, 4698, 4699, 4700, 4704, 4707, 4708, 4716, 4718, 4720, 4721, 4722, 4724, 4727, 4728, 4729, 4730, 4731, 4734, 4735, 4736, 4739, 4741, 4743, 4745, 4747, 4749, 4750, 4752, 4753, 4754, 4755, 4756, 4757, 4758, 4759, 4760, 4762, 4764, 4766, 4767, 4768, 4769, 4770, 4771, 4772, 4773, 4776, 4784, 4785, 4787, 4788, 4790, 4791, 4792, 4793, 4794, 4795, 4796, 4797, 4799, 4800, 4801, 4802, 4803, 4804, 4805, 4806, 4809, 4811, 4816, 4817, 4818, 4822, 4824, 4825, 4826, 4828, 4829, 4830, 4831, 4832, 4833, 4834, 4837, 4839, 4844, 4846, 4850, 4852, 4854, 4856, 4857, 4858, 4860, 4861, 4862, 4864, 4865, 4866, 4867, 4868, 4869, 4872, 4874, 4875, 4876, 4877, 4878, 4879, 4882, 4883, 4884, 4886, 4887, 4888, 4889, 4892, 4893, 4894, 4895, 4898, 4899, 4900, 4902, 4906, 4907, 4913, 4915, 4917, 4929, 4932, 4935, 4937, 4938, 4939, 4940, 4941, 4942, 4943, 4944, 4945, 4949, 4956, 4958, 4961, 4964, 4967, 4969, 4970, 4972, 4974, 4977, 4978, 4979, 4982, 4984, 4986, 4989, 4990, 4991, 4992, 4993, 4994, 4995, 4996, 4997, 4998, 4999, 5000, 5001, 5002, 5003, 5005, 5006, 5009, 5010, 5011, 5012, 5013, 5016, 5020, 5025, 5026, 5028, 5035, 5036, 5037, 5038, 5040, 5051, 5052, 5054, 5055, 5057, 5061, 5063, 5065, 5067, 5069, 5070, 5071, 5073, 5074, 5075, 5076, 5078, 5079, 5080, 5082, 5083, 5084, 5086, 5088, 5091, 5093, 5097, 5098, 5101, 5102, 5104, 5105, 5107, 5109, 5110, 5113, 5115, 5116, 5117, 5120, 5121, 5126, 5128, 5130, 5132, 5134, 5136, 5140, 5141, 5142, 5143, 5144, 5145, 5149, 5152, 5155, 5156, 5157, 5159, 5160, 5161, 5162, 5163, 5166, 5168, 5170, 5171, 5174, 5176, 5177, 5180, 5181, 5182, 5184, 5185, 5190, 5192, 5194, 5195, 5196, 5198, 5199, 5201, 5202, 5206, 5207, 5211, 5212, 5213, 5215, 5216, 5219, 5221, 5222, 5224, 5225, 5229, 5230, 5231, 5232, 5233, 5234, 5235, 5237, 5239, 5240, 5242, 5244, 5245, 5247, 5248, 5249, 5250, 5251, 5253, 5254, 5255, 5256, 5257, 5258, 5259, 5261, 5262, 5263, 5264, 5265, 5266, 5268, 5269, 5270, 5272, 5273, 5274, 5277, 5280, 5281, 5282, 5283, 5284, 5285, 5286, 5288, 5289, 5290, 5291, 5292, 5294, 5295, 5297, 5298, 5299, 5303, 5304, 5305, 5306, 5307, 5309, 5310, 5312, 5313, 5314, 5315, 5317, 5318, 5319, 5321, 5322, 5323, 5325, 5327, 5329, 5330, 5331, 5333, 5334, 5335, 5337, 5338, 5340, 5341, 5342, 5353, 5355, 5356, 5358, 5362, 5363, 5372, 5381, 5382, 5387, 5390, 5391, 5392, 5395, 5400, 5404, 5408, 5411, 5412, 5413, 5414, 5416, 5417, 5419, 5421, 5423, 5424, 5428, 5429, 5431, 5433, 5434, 5435, 5438, 5439, 5441, 5442, 5444, 5445, 5447, 5448, 5451, 5452, 5455, 5456, 5458, 5459, 5463, 5468, 5470, 5471, 5472, 5475, 5476, 5477, 5479, 5480, 5481, 5482, 5483, 5484, 5486, 5487, 5488, 5489, 5491, 5492, 5493, 5494, 5495, 5496, 5498]\n",
      "2871\n"
     ]
    }
   ],
   "source": [
    "#tweets['predictions'] = loaded_model.predict_classes(x)\n",
    "predictions = loaded_model_pos_other.predict(x)\n",
    "#t = tweets[tweets['predictions'][0]!=1]\n",
    "other=[]\n",
    "counter=0\n",
    "for i in range(len(predictions)):\n",
    "    if predictions[i] >0.5:\n",
    "        other.append(i)\n",
    "        counter+=1\n",
    "print other\n",
    "print counter"
   ]
  },
  {
   "cell_type": "code",
   "execution_count": 167,
   "metadata": {
    "collapsed": false,
    "scrolled": true
   },
   "outputs": [
    {
     "data": {
      "text/html": [
       "<pre>Finished parsing file /home/omar/CNN-for-Sentence-Classification-in-Keras-master/data/tweets17_raw.csv</pre>"
      ],
      "text/plain": [
       "Finished parsing file /home/omar/CNN-for-Sentence-Classification-in-Keras-master/data/tweets17_raw.csv"
      ]
     },
     "metadata": {},
     "output_type": "display_data"
    },
    {
     "data": {
      "text/html": [
       "<pre>Parsing completed. Parsed 100 lines in 0.018971 secs.</pre>"
      ],
      "text/plain": [
       "Parsing completed. Parsed 100 lines in 0.018971 secs."
      ]
     },
     "metadata": {},
     "output_type": "display_data"
    },
    {
     "name": "stdout",
     "output_type": "stream",
     "text": [
      "------------------------------------------------------\n",
      "Inferred types from first 100 line(s) of file as \n",
      "column_type_hints=[str]\n",
      "If parsing fails due to incorrect types, you can correct\n",
      "the inferred type list above and pass it to read_csv in\n",
      "the column_type_hints argument\n",
      "------------------------------------------------------\n"
     ]
    },
    {
     "data": {
      "text/html": [
       "<pre>Finished parsing file /home/omar/CNN-for-Sentence-Classification-in-Keras-master/data/tweets17_raw.csv</pre>"
      ],
      "text/plain": [
       "Finished parsing file /home/omar/CNN-for-Sentence-Classification-in-Keras-master/data/tweets17_raw.csv"
      ]
     },
     "metadata": {},
     "output_type": "display_data"
    },
    {
     "data": {
      "text/html": [
       "<pre>Parsing completed. Parsed 3589 lines in 0.011629 secs.</pre>"
      ],
      "text/plain": [
       "Parsing completed. Parsed 3589 lines in 0.011629 secs."
      ]
     },
     "metadata": {},
     "output_type": "display_data"
    }
   ],
   "source": [
    "tweets = graphlab.SFrame.read_csv('/home/omar/CNN-for-Sentence-Classification-in-Keras-master/data/tweets17_raw.csv')"
   ]
  },
  {
   "cell_type": "code",
   "execution_count": 108,
   "metadata": {
    "collapsed": false
   },
   "outputs": [],
   "source": [
    "import numpy as np\n",
    "import re\n",
    "import itertools\n",
    "from collections import Counter\n",
    "\"\"\"\n",
    "Original taken from https://github.com/dennybritz/cnn-text-classification-tf\n",
    "\"\"\"\n",
    "\n",
    "def clean_str(string):\n",
    "    \"\"\"\n",
    "    Tokenization/string cleaning for all datasets except for SST.\n",
    "    Original taken from https://github.com/yoonkim/CNN_sentence/blob/master/process_data.py\n",
    "    \"\"\"\n",
    "    string = re.sub(r\"[^A-Za-z0-9(),!?\\'\\`]\", \" \", string)\n",
    "    string = re.sub(r\"\\'s\", \" \\'s\", string)\n",
    "    string = re.sub(r\"\\'ve\", \" \\'ve\", string)\n",
    "    string = re.sub(r\"n\\'t\", \" n\\'t\", string)\n",
    "    string = re.sub(r\"\\'re\", \" \\'re\", string)\n",
    "    string = re.sub(r\"\\'d\", \" \\'d\", string)\n",
    "    string = re.sub(r\"\\'ll\", \" \\'ll\", string)\n",
    "    string = re.sub(r\",\", \" , \", string)\n",
    "    string = re.sub(r\"!\", \" ! \", string)\n",
    "    string = re.sub(r\"\\(\", \" \\( \", string)\n",
    "    string = re.sub(r\"\\)\", \" \\) \", string)\n",
    "    string = re.sub(r\"\\?\", \" \\? \", string)\n",
    "    string = re.sub(r\"\\s{2,}\", \" \", string)\n",
    "    return string.strip().lower()\n",
    "\n",
    "\n",
    "def load_data_and_labels():\n",
    "    \"\"\"\n",
    "    Loads MR polarity data from files, splits the data into words and generates labels.\n",
    "    Returns split sentences and labels.\n",
    "    \"\"\"\n",
    "    # Load data from files\n",
    "    # model_pos_other_1m.json\n",
    "    #testneg.neg\n",
    "    #tweets_pos_neg_neu17_raw\n",
    "    positive_examples = list(open(\"/home/omar/CNN-for-Sentence-Classification-in-Keras-master/data/tweets_pos_neg_neu17_raw.csv\").readlines())\n",
    "    positive_examples = [s.strip() for s in positive_examples]\n",
    "    #negative_examples = list(open(\"/home/omar/CNN-for-Sentence-Classification-in-Keras-master/data/neg_tweets.neg\").readlines())\n",
    "    #negative_examples = [s.strip() for s in negative_examples]\n",
    "    # Split by words\n",
    "    #x_text = positive_examples + negative_examples\n",
    "    x_text = positive_examples\n",
    "    x_text = [clean_str(sent) for sent in x_text]\n",
    "    x_text = [s.split(\" \") for s in x_text]\n",
    "    # Generate labels\n",
    "    positive_labels = [[0, 1] for _ in positive_examples]\n",
    "    #negative_labels = [[1, 0] for _ in negative_examples]\n",
    "    #y = np.concatenate([positive_labels, negative_labels], 0)\n",
    "    y = np.concatenate([positive_labels], 0)\n",
    "    return [x_text, y]\n",
    "\n",
    "\n",
    "def pad_sentences(sentences, padding_word=\"<PAD/>\"):\n",
    "    \"\"\"\n",
    "    Pads all sentences to the same length. The length is defined by the longest sentence.\n",
    "    Returns padded sentences.\n",
    "    \"\"\"\n",
    "    #sequence_length = max(len(x) for x in sentences)\n",
    "    sequence_length = 41\n",
    "    padded_sentences = []\n",
    "    for i in range(len(sentences)):\n",
    "        sentence = sentences[i]\n",
    "        num_padding = sequence_length - len(sentence)\n",
    "        new_sentence = sentence + [padding_word] * num_padding\n",
    "        padded_sentences.append(new_sentence)\n",
    "    return padded_sentences\n",
    "\n",
    "\n",
    "def build_vocab(sentences):\n",
    "    \"\"\"\n",
    "    Builds a vocabulary mapping from word to index based on the sentences.\n",
    "    Returns vocabulary mapping and inverse vocabulary mapping.\n",
    "    \"\"\"\n",
    "    # Build vocabulary\n",
    "    word_counts = Counter(itertools.chain(*sentences))\n",
    "    # Mapping from index to word\n",
    "    vocabulary_inv = [x[0] for x in word_counts.most_common()]\n",
    "    # Mapping from word to index\n",
    "    vocabulary = {x: i for i, x in enumerate(vocabulary_inv)}\n",
    "    return [vocabulary, vocabulary_inv]\n",
    "\n",
    "\n",
    "def build_input_data(sentences, labels, vocabulary):\n",
    "    \"\"\"\n",
    "    Maps sentencs and labels to vectors based on a vocabulary.\n",
    "    \"\"\"\n",
    "    x = np.array([[vocabulary[word] for word in sentence] for sentence in sentences])\n",
    "    y = np.array(labels)\n",
    "    return [x, y]\n",
    "\n",
    "\n",
    "def load_data():\n",
    "    \"\"\"\n",
    "    Loads and preprocessed data for the MR dataset.\n",
    "    Returns input vectors, labels, vocabulary, and inverse vocabulary.\n",
    "    \"\"\"\n",
    "    # Load and preprocess data\n",
    "    sentences, labels = load_data_and_labels()\n",
    "    sentences_padded = pad_sentences(sentences)\n",
    "    vocabulary, vocabulary_inv = build_vocab(sentences_padded)\n",
    "    x, y = build_input_data(sentences_padded, labels, vocabulary)\n",
    "    return [x, y, vocabulary, vocabulary_inv]\n",
    "\n",
    "\n"
   ]
  },
  {
   "cell_type": "code",
   "execution_count": 109,
   "metadata": {
    "collapsed": false
   },
   "outputs": [],
   "source": [
    "(x, y, vocabulary, vocabulary_inv) = load_data()"
   ]
  },
  {
   "cell_type": "code",
   "execution_count": 102,
   "metadata": {
    "collapsed": false
   },
   "outputs": [
    {
     "data": {
      "text/plain": [
       "array([[ 0.56757182],\n",
       "       [ 0.66915834],\n",
       "       [ 0.70419413],\n",
       "       [ 0.70419413],\n",
       "       [ 0.70419413],\n",
       "       [ 0.69736022],\n",
       "       [ 0.52887195]], dtype=float32)"
      ]
     },
     "execution_count": 102,
     "metadata": {},
     "output_type": "execute_result"
    }
   ],
   "source": [
    "#loaded_model.compile(loss='binary_crossentropy', optimizer='rmsprop', metrics=['accuracy'])\n",
    "#score = loaded_model.evaluate(x, y, verbose=0)\n",
    "#print \"%s: %.2f%%\" % (loaded_model.metrics_names[1], score[1]*100)\n",
    "loaded_model.predict(x)"
   ]
  },
  {
   "cell_type": "code",
   "execution_count": 104,
   "metadata": {
    "collapsed": false
   },
   "outputs": [
    {
     "data": {
      "text/plain": [
       "array([[ 0.68338937],\n",
       "       [ 0.43895966],\n",
       "       [ 0.56683445],\n",
       "       [ 0.57988816],\n",
       "       [ 0.76595032],\n",
       "       [ 0.68347049],\n",
       "       [ 0.80272877]], dtype=float32)"
      ]
     },
     "execution_count": 104,
     "metadata": {},
     "output_type": "execute_result"
    }
   ],
   "source": [
    "#loaded_model.add(sequence_length=69)\n",
    "#dataset = numpy.loadtxt(\"pima-indians-diabetes.csv\", delimiter=\",\")\n",
    "loaded_model_pos_other.predict(x)"
   ]
  },
  {
   "cell_type": "code",
   "execution_count": 59,
   "metadata": {
    "collapsed": false
   },
   "outputs": [
    {
     "name": "stdout",
     "output_type": "stream",
     "text": [
      "20726\n",
      "100001\n"
     ]
    }
   ],
   "source": [
    "falsepos=0\n",
    "for p in predictions:\n",
    "    if p>0.7:\n",
    "        falsepos= falsepos +1\n",
    "print falsepos\n",
    "print len(predictions)"
   ]
  },
  {
   "cell_type": "code",
   "execution_count": null,
   "metadata": {
    "collapsed": true
   },
   "outputs": [],
   "source": [
    "def batch_iter(data, batch_size, num_epochs):\n",
    "    \"\"\"\n",
    "    Generates a batch iterator for a dataset.\n",
    "    \"\"\"\n",
    "    data = np.array(data)\n",
    "    data_size = len(data)\n",
    "    num_batches_per_epoch = int(len(data)/batch_size) + 1\n",
    "    for epoch in range(num_epochs):\n",
    "        # Shuffle the data at each epoch\n",
    "        shuffle_indices = np.random.permutation(np.arange(data_size))\n",
    "        shuffled_data = data[shuffle_indices]\n",
    "        for batch_num in range(num_batches_per_epoch):\n",
    "            start_index = batch_num * batch_size\n",
    "            end_index = min((batch_num + 1) * batch_size, data_size)\n",
    "            yield shuffled_data[start_index:end_index]"
   ]
  },
  {
   "cell_type": "code",
   "execution_count": 100,
   "metadata": {
    "collapsed": false
   },
   "outputs": [
    {
     "data": {
      "text/html": [
       "<pre>Finished parsing file /home/omar/CNN-for-Sentence-Classification-in-Keras-master/data/tweets17.csv</pre>"
      ],
      "text/plain": [
       "Finished parsing file /home/omar/CNN-for-Sentence-Classification-in-Keras-master/data/tweets17.csv"
      ]
     },
     "metadata": {},
     "output_type": "display_data"
    },
    {
     "data": {
      "text/html": [
       "<pre>Parsing completed. Parsed 100 lines in 0.03268 secs.</pre>"
      ],
      "text/plain": [
       "Parsing completed. Parsed 100 lines in 0.03268 secs."
      ]
     },
     "metadata": {},
     "output_type": "display_data"
    },
    {
     "name": "stdout",
     "output_type": "stream",
     "text": [
      "------------------------------------------------------\n",
      "Inferred types from first 100 line(s) of file as \n",
      "column_type_hints=[int,str,str,str,str]\n",
      "If parsing fails due to incorrect types, you can correct\n",
      "the inferred type list above and pass it to read_csv in\n",
      "the column_type_hints argument\n",
      "------------------------------------------------------\n"
     ]
    },
    {
     "data": {
      "text/html": [
       "<pre>Finished parsing file /home/omar/CNN-for-Sentence-Classification-in-Keras-master/data/tweets17.csv</pre>"
      ],
      "text/plain": [
       "Finished parsing file /home/omar/CNN-for-Sentence-Classification-in-Keras-master/data/tweets17.csv"
      ]
     },
     "metadata": {},
     "output_type": "display_data"
    },
    {
     "data": {
      "text/html": [
       "<pre>Parsing completed. Parsed 3589 lines in 0.026009 secs.</pre>"
      ],
      "text/plain": [
       "Parsing completed. Parsed 3589 lines in 0.026009 secs."
      ]
     },
     "metadata": {},
     "output_type": "display_data"
    }
   ],
   "source": [
    "val_tweets = graphlab.SFrame('/home/omar/CNN-for-Sentence-Classification-in-Keras-master/data/tweets17.csv')"
   ]
  },
  {
   "cell_type": "code",
   "execution_count": 101,
   "metadata": {
    "collapsed": false
   },
   "outputs": [
    {
     "data": {
      "text/html": [
       "<div style=\"max-height:1000px;max-width:1500px;overflow:auto;\"><table frame=\"box\" rules=\"cols\">\n",
       "    <tr>\n",
       "        <th style=\"padding-left: 1em; padding-right: 1em; text-align: center\">ID</th>\n",
       "        <th style=\"padding-left: 1em; padding-right: 1em; text-align: center\">Sentiment</th>\n",
       "        <th style=\"padding-left: 1em; padding-right: 1em; text-align: center\">Tweet</th>\n",
       "        <th style=\"padding-left: 1em; padding-right: 1em; text-align: center\">clean_tweet</th>\n",
       "    </tr>\n",
       "    <tr>\n",
       "        <td style=\"padding-left: 1em; padding-right: 1em; text-align: center; vertical-align: top\">629226490152914944</td>\n",
       "        <td style=\"padding-left: 1em; padding-right: 1em; text-align: center; vertical-align: top\">positive</td>\n",
       "        <td style=\"padding-left: 1em; padding-right: 1em; text-align: center; vertical-align: top\">Microsoft, I may not<br>prefer your gaming br ...</td>\n",
       "        <td style=\"padding-left: 1em; padding-right: 1em; text-align: center; vertical-align: top\">Microsoft I may not<br>prefer your gaming br ...</td>\n",
       "    </tr>\n",
       "    <tr>\n",
       "        <td style=\"padding-left: 1em; padding-right: 1em; text-align: center; vertical-align: top\">629650766580609026</td>\n",
       "        <td style=\"padding-left: 1em; padding-right: 1em; text-align: center; vertical-align: top\">positive</td>\n",
       "        <td style=\"padding-left: 1em; padding-right: 1em; text-align: center; vertical-align: top\">Just ordered my 1st ever<br>tablet; @Microsoft ...</td>\n",
       "        <td style=\"padding-left: 1em; padding-right: 1em; text-align: center; vertical-align: top\">Just ordered my 1st ever<br>tablet Microsoft Surface ...</td>\n",
       "    </tr>\n",
       "    <tr>\n",
       "        <td style=\"padding-left: 1em; padding-right: 1em; text-align: center; vertical-align: top\">630159517058142208</td>\n",
       "        <td style=\"padding-left: 1em; padding-right: 1em; text-align: center; vertical-align: top\">positive</td>\n",
       "        <td style=\"padding-left: 1em; padding-right: 1em; text-align: center; vertical-align: top\">Sunday morning, quiet day<br>so time to welcome in ...</td>\n",
       "        <td style=\"padding-left: 1em; padding-right: 1em; text-align: center; vertical-align: top\">Sunday morning quiet day<br>so time to welcome in ...</td>\n",
       "    </tr>\n",
       "    <tr>\n",
       "        <td style=\"padding-left: 1em; padding-right: 1em; text-align: center; vertical-align: top\">630818265799921664</td>\n",
       "        <td style=\"padding-left: 1em; padding-right: 1em; text-align: center; vertical-align: top\">positive</td>\n",
       "        <td style=\"padding-left: 1em; padding-right: 1em; text-align: center; vertical-align: top\">Innovation for jobs is<br>just around the corner - ...</td>\n",
       "        <td style=\"padding-left: 1em; padding-right: 1em; text-align: center; vertical-align: top\">Innovation for jobs is<br>just around the corner ...</td>\n",
       "    </tr>\n",
       "    <tr>\n",
       "        <td style=\"padding-left: 1em; padding-right: 1em; text-align: center; vertical-align: top\">631368262979297281</td>\n",
       "        <td style=\"padding-left: 1em; padding-right: 1em; text-align: center; vertical-align: top\">positive</td>\n",
       "        <td style=\"padding-left: 1em; padding-right: 1em; text-align: center; vertical-align: top\">#Vote for @AIESEC to<br>become the 10th Global ...</td>\n",
       "        <td style=\"padding-left: 1em; padding-right: 1em; text-align: center; vertical-align: top\">Vote for AIESEC to become<br>the 10th Global non ...</td>\n",
       "    </tr>\n",
       "    <tr>\n",
       "        <td style=\"padding-left: 1em; padding-right: 1em; text-align: center; vertical-align: top\">631521079245307904</td>\n",
       "        <td style=\"padding-left: 1em; padding-right: 1em; text-align: center; vertical-align: top\">positive</td>\n",
       "        <td style=\"padding-left: 1em; padding-right: 1em; text-align: center; vertical-align: top\">Top 5 most searched for<br>Back-to-School topics -- ...</td>\n",
       "        <td style=\"padding-left: 1em; padding-right: 1em; text-align: center; vertical-align: top\">Top 5 most searched for<br>BacktoSchool topics  the ...</td>\n",
       "    </tr>\n",
       "    <tr>\n",
       "        <td style=\"padding-left: 1em; padding-right: 1em; text-align: center; vertical-align: top\">631696872323850240</td>\n",
       "        <td style=\"padding-left: 1em; padding-right: 1em; text-align: center; vertical-align: top\">positive</td>\n",
       "        <td style=\"padding-left: 1em; padding-right: 1em; text-align: center; vertical-align: top\">@trucker_squigz<br>@Microsoft @MISpeedway ...</td>\n",
       "        <td style=\"padding-left: 1em; padding-right: 1em; text-align: center; vertical-align: top\">truckersquigz Microsoft<br>MISpeedway nationwide88 ...</td>\n",
       "    </tr>\n",
       "    <tr>\n",
       "        <td style=\"padding-left: 1em; padding-right: 1em; text-align: center; vertical-align: top\">631842974268305408</td>\n",
       "        <td style=\"padding-left: 1em; padding-right: 1em; text-align: center; vertical-align: top\">positive</td>\n",
       "        <td style=\"padding-left: 1em; padding-right: 1em; text-align: center; vertical-align: top\">@ScottArbeit @GabeAul<br>@Microsoft isntall the ...</td>\n",
       "        <td style=\"padding-left: 1em; padding-right: 1em; text-align: center; vertical-align: top\">ScottArbeit GabeAul<br>Microsoft isntall the ...</td>\n",
       "    </tr>\n",
       "    <tr>\n",
       "        <td style=\"padding-left: 1em; padding-right: 1em; text-align: center; vertical-align: top\">631843393971204097</td>\n",
       "        <td style=\"padding-left: 1em; padding-right: 1em; text-align: center; vertical-align: top\">positive</td>\n",
       "        <td style=\"padding-left: 1em; padding-right: 1em; text-align: center; vertical-align: top\">@taehongmin1 We have an<br>IOT workshop by ...</td>\n",
       "        <td style=\"padding-left: 1em; padding-right: 1em; text-align: center; vertical-align: top\">taehongmin1 We have an<br>IOT workshop by Micro ...</td>\n",
       "    </tr>\n",
       "    <tr>\n",
       "        <td style=\"padding-left: 1em; padding-right: 1em; text-align: center; vertical-align: top\">633628599271190528</td>\n",
       "        <td style=\"padding-left: 1em; padding-right: 1em; text-align: center; vertical-align: top\">positive</td>\n",
       "        <td style=\"padding-left: 1em; padding-right: 1em; text-align: center; vertical-align: top\">@ProfessorF @gilwuvsyou<br>@Microsoft @LivioDeLa ...</td>\n",
       "        <td style=\"padding-left: 1em; padding-right: 1em; text-align: center; vertical-align: top\">ProfessorF gilwuvsyou<br>Microsoft LivioDeLaCruz ...</td>\n",
       "    </tr>\n",
       "</table>\n",
       "<table frame=\"box\" rules=\"cols\">\n",
       "    <tr>\n",
       "        <th style=\"padding-left: 1em; padding-right: 1em; text-align: center\">cut_tweet</th>\n",
       "    </tr>\n",
       "    <tr>\n",
       "        <td style=\"padding-left: 1em; padding-right: 1em; text-align: center; vertical-align: top\">Microsoft I may not<br>prefer your gaming br ...</td>\n",
       "    </tr>\n",
       "    <tr>\n",
       "        <td style=\"padding-left: 1em; padding-right: 1em; text-align: center; vertical-align: top\">Just ordered my 1st ever<br>tablet Microsoft Surface ...</td>\n",
       "    </tr>\n",
       "    <tr>\n",
       "        <td style=\"padding-left: 1em; padding-right: 1em; text-align: center; vertical-align: top\">Sunday morning quiet day<br>so time to welcome in ...</td>\n",
       "    </tr>\n",
       "    <tr>\n",
       "        <td style=\"padding-left: 1em; padding-right: 1em; text-align: center; vertical-align: top\">Innovation for jobs is<br>just around the corner ...</td>\n",
       "    </tr>\n",
       "    <tr>\n",
       "        <td style=\"padding-left: 1em; padding-right: 1em; text-align: center; vertical-align: top\">Vote for AIESEC to become<br>the 10th Global non ...</td>\n",
       "    </tr>\n",
       "    <tr>\n",
       "        <td style=\"padding-left: 1em; padding-right: 1em; text-align: center; vertical-align: top\">Top 5 most searched for<br>BacktoSchool topics  the ...</td>\n",
       "    </tr>\n",
       "    <tr>\n",
       "        <td style=\"padding-left: 1em; padding-right: 1em; text-align: center; vertical-align: top\">truckersquigz Microsoft<br>MISpeedway nationwide88 ...</td>\n",
       "    </tr>\n",
       "    <tr>\n",
       "        <td style=\"padding-left: 1em; padding-right: 1em; text-align: center; vertical-align: top\">ScottArbeit GabeAul<br>Microsoft isntall the ...</td>\n",
       "    </tr>\n",
       "    <tr>\n",
       "        <td style=\"padding-left: 1em; padding-right: 1em; text-align: center; vertical-align: top\">taehongmin1 We have an<br>IOT workshop by Micro ...</td>\n",
       "    </tr>\n",
       "    <tr>\n",
       "        <td style=\"padding-left: 1em; padding-right: 1em; text-align: center; vertical-align: top\">ProfessorF gilwuvsyou<br>Microsoft LivioDeLaCruz ...</td>\n",
       "    </tr>\n",
       "</table>\n",
       "[3589 rows x 5 columns]<br/>Note: Only the head of the SFrame is printed.<br/>You can use print_rows(num_rows=m, num_columns=n) to print more rows and columns.\n",
       "</div>"
      ],
      "text/plain": [
       "Columns:\n",
       "\tID\tint\n",
       "\tSentiment\tstr\n",
       "\tTweet\tstr\n",
       "\tclean_tweet\tstr\n",
       "\tcut_tweet\tstr\n",
       "\n",
       "Rows: 3589\n",
       "\n",
       "Data:\n",
       "+--------------------+-----------+-------------------------------+\n",
       "|         ID         | Sentiment |             Tweet             |\n",
       "+--------------------+-----------+-------------------------------+\n",
       "| 629226490152914944 |  positive | Microsoft, I may not prefe... |\n",
       "| 629650766580609026 |  positive | Just ordered my 1st ever t... |\n",
       "| 630159517058142208 |  positive | Sunday morning, quiet day ... |\n",
       "| 630818265799921664 |  positive | Innovation for jobs is jus... |\n",
       "| 631368262979297281 |  positive | #Vote for @AIESEC to becom... |\n",
       "| 631521079245307904 |  positive | Top 5 most searched for Ba... |\n",
       "| 631696872323850240 |  positive | @trucker_squigz @Microsoft... |\n",
       "| 631842974268305408 |  positive | @ScottArbeit @GabeAul @Mic... |\n",
       "| 631843393971204097 |  positive | @taehongmin1 We have an IO... |\n",
       "| 633628599271190528 |  positive | @ProfessorF @gilwuvsyou @M... |\n",
       "+--------------------+-----------+-------------------------------+\n",
       "+-------------------------------+-------------------------------+\n",
       "|          clean_tweet          |           cut_tweet           |\n",
       "+-------------------------------+-------------------------------+\n",
       "| Microsoft I may not prefer... | Microsoft I may not prefer... |\n",
       "| Just ordered my 1st ever t... | Just ordered my 1st ever t... |\n",
       "| Sunday morning quiet day s... | Sunday morning quiet day s... |\n",
       "| Innovation for jobs is jus... | Innovation for jobs is jus... |\n",
       "| Vote for AIESEC to become ... | Vote for AIESEC to become ... |\n",
       "| Top 5 most searched for Ba... | Top 5 most searched for Ba... |\n",
       "| truckersquigz Microsoft MI... | truckersquigz Microsoft MI... |\n",
       "| ScottArbeit GabeAul Micros... | ScottArbeit GabeAul Micros... |\n",
       "| taehongmin1 We have an IOT... | taehongmin1 We have an IOT... |\n",
       "| ProfessorF gilwuvsyou Micr... | ProfessorF gilwuvsyou Micr... |\n",
       "+-------------------------------+-------------------------------+\n",
       "[3589 rows x 5 columns]\n",
       "Note: Only the head of the SFrame is printed.\n",
       "You can use print_rows(num_rows=m, num_columns=n) to print more rows and columns."
      ]
     },
     "execution_count": 101,
     "metadata": {},
     "output_type": "execute_result"
    }
   ],
   "source": [
    "val_tweets"
   ]
  },
  {
   "cell_type": "code",
   "execution_count": 126,
   "metadata": {
    "collapsed": false
   },
   "outputs": [
    {
     "name": "stdout",
     "output_type": "stream",
     "text": [
      "3584/3589 [============================>.] - ETA: 0s\b\b\b\b\b\b\b\b\b\b\b\b\b\b\b\b\b\b\b\b\b\b\b\b\b\b\b\b\b\b\b\b\b\b\b\b\b\b\b\b\b\b\b\b\b\b\b\b\b\b\b\b\b\b\b\b\b\b\b\b\b\b\b\b\b\b\b\b\b\b\b\b\b\b\b\b\b\b\b\b\b\b\b\b\b\b\b\b\b\b\b\b\b\b\b\b\b\b\b\b\b\b\b\b\b\b\b\b\b\b\b\b\b\b\b\b\b\b\b\b\b\b\b\b\b\b\b\b\b\b\b\b\b\b\b\b\b\b\b\b\b\b\b\b\b\b\b\b\b\b\b\b\b\b\b\b\b\b\b\b\b\b\b\b\b\b\b\b\b\b\b\b\b\b\b\b\b\b\b\b\b\b\b\b\b\b\b\b\b\b\b\b\b\b\b\b\b\b\b\b\b\b\b\b\b\b\b\b\b\b\b\b\b\b\b\b\b\b\b\b\b\b\b\b\b\b\b\b\b\b\b\b\b\b\b\b\b\b\b\b\b\b\b\b\b\b\b\b\b\b\b\b\b\b\b\b\b\b\b\b\b\b\b\b\b\b\b\b\b\b\b\b\b\b\b\b\b\b\b\b\b\b\b\b\b\b\b\b\b\b\b\b\b\b\b\b\b\b\b\b\b\b\b\b\b\b\b\b\b\b\b\b\b\b\b\b\b\b\b\b\b\b\b\b\b\b\b\b\b\b\b\b\b\b\b\b\b\b\b\b\b\b\b\b\b\b\b\b\b\b\b\b\b\b\b\b\b\b\b\b\b\b\b\b\b\b\b\b\b\b\b\b\b\b\b\b\b\b\b\b\b\b\b\b\b\b\b\b\b\b\b\b\b\b\b\b\b\b\b\b\b\b\b\b\b\b\b\b\b\b\b\b\b\b\b\b\b\b\b\b\b\b\b\b\b\b\b\b\b\b\b\b\b\b\b\b\b\b\b\b\b\b\b\b\b\b\b\b\b\b\b\b\b\b\b\b\b\b\b\b\b\b\b\b\b\b\b\b\b\b\b\b\b\b\b\b\b\b\b\b\b\b\b\b\b\b\b\b\b\b\b\b\b\b\b\b\b\b\b\b\b\b\b\b\b\b\b\b\b\b\b\b\b\b\b\b\b\b\b\b\b\b\b\b\b\b\b\b\b\b\b\b\b\b\b\b\b\b\b\b\b\b\b\b\b\b\b\b\b\b\b\b\b\b\b\b\b\b\b\b\b\b\b\b\b\b\b\b\b\b\b\b\b\b\b\b\b\b\b\b\b\b\b\b\b\b\b\b\b\b\b\b\b\b\b\b\b\b\b\b\b\b\b\b\b\b\b\b\b\b\b\b\b\b\b\b\b\b\b\b\b\b\b\b\b\b\b\b\b\b\b\b\b\b\b\b\b\b\b\b\b\b\b\b\b\b\b\b\b\b\b\b\b\b\b\b\b\b\b\b\b\b\b\b\b\b\b\b\b\b\b\b\b\b\b\b\b\b\b\b\b\b\b\b\b\b\b\b\b\b\b\b\b\b\b\b\b\b\b\b\b\b\b\b\b\b\b\b\b\b\b\b\b\b\b\b\b\b\b\b\b\b\b\b\b\b\b\b\b\b\b\b\b\b\b\b\b\b\b\b\b\b\b\b\b\b\b\b\b\b\b\b\b\b\b\b\b\b\b\b\b\b\b\b\b\b\b\b\b\b\b\b\b\b\b\b\b\b\b\b\b\b\b\b\b\b\b\b\b\b\b\b\b\b\b\b\b\b\b\b\b\b\b\b\b\b\b\b\b\b\b\b\b\b\b\b\b\b\b\b\b\b\b\b\b\b\b\b\b\b\b\b\b\b\b\b\b\b\b\b\b\b\b\b\b\b\b\b\b\b\b\b\b\b\b\b\b\b\b\b\b\b\b\b\b\b\b\b\b\b\b\b\b\b\b\b\b\b\b\b\b\b\b\b\b\b\b\b\b\b\b\b\b\b\b\b\b\b\b\b\b\b\b\b\b\b\b\b\b\b\b\b\b\b\b\b\b\b\b\b\b\b\b\b\b\b\b\b\b\b\b\b\b\b\b\b\b\b\b\b\b\b\b\b\b\b\b\b\b\b\b\b\b\b\b\b\b\b\b\b\b\b\b\b\b\b\b\b\b\b\b\b\b\b\b\b\b\b\b\b\b\b\b\b\b\b\b\b\b\b\b\b\b\b\b\b\b\b\b\b\b\b\b\b\b\b\b\b\b\b\b\b\b\b\b\b\b\b\b\b\b\b\b\b\b\b\b\b\b\b\b\b\b\b\b\b\b\b\b\b\b\b\b\b\b\b\b\b\b\b\b\b\b\b\b\b\b\b\b\b\b\b\b\b\b\b\b\b\b\b\b\b\b\b\b\b\b\b\b\b\b\b\b\b\b\b\b\b\b\b\b\b\b\b\b\b\b\b\b\b\b\b\b\b\b\b\b\b\b\b\b\b\b\b\b\b\b\b\b\b\b\b\b\b\b\b\b\b\b\b\b\b\b\b\b\b\b\b\b\b\b\b\b\b\b\b\b\b\b\b\b\b\b\b\b\b\b\b\b\b\b\b\b\b\b\b\b\b\b\b\b\b\b\b\b\b\b\b\b\b\b\b\b\b\b\b\b\b\b\b\b\b\b\b\b\b\b\b\b\b\b\b\b\b\b\b\b\b\b\b\b\b\b\b\b\b\b\b\b\b\b\b\b\b\b\b\b\b\b\b\b\b\b\b\b\b\b\b\b\b\b\b\b\b\b\b\b\b\b\b\b\b\b\b\b\b\b\b\b\b\b\b\b\b\b\b\b\b\b\b\b\b\b\b\b\b\b\b\b\b\b\b\b\b\b\b\b\b\b\b\b\b\b\b\b\b\b\b\b\b\b\b\b\b\b\b\b\b\b\b\b\b\b\b\b\b\b\b\b\b\b\b\b\b\b\b\b\b\b\b\b\b\b\b\b\b\b\b\b\b\b\b\b\b\b\b\b\b\b\b\b\b\b\b\b\b\b\b\b\b\b\b\b\b\b\b\b\b\b\b\b\b\b\b\b\b\b\b\b\b\b\b\b\b\b\b\b\b\b\b\b\b\b\b\b\b\b\b\b\b\b\b\b\b\b\b\b\b\b\b\b\b\b\b\b\b\b\b\b\b\b\b\b\b\b\b\b\b\b\b\b\b\b\b\b\b\b\b\b\b\b\b\b\b\b\b\b\b\b\b\b\b\b\b\b\b\b\b\b\b\b\b\b\b\b\b\b\b\b\b\b\b\b\b\b\b\b\b\b\b\b\b\b\b\b\b\b\b\b\b\b\b\b\b\b\b\b\b\b\b\b\b\b\b\b\b\b\b\b\b\b\b\b\b\b\b\b\b\b\b\b\b\b\b\b\b\b\b\b\b\b\b\b\b\b\b\b\b\b\b\b\b\b\b\b\b\b\b\b\b\b\b\b\b\b\b\b\b\b\b\b\b\b\b\b\b\b\b\b\b\b\b\b\b\b\b\b\b\b\b\b\b\b\b\b\b\b\b\b\b\b\b\b\b\b\b\b\b\b\b\b\b\b\b\b\b\b\b\b\b\b\b\b\b\b\b\b\b\b\b\b\b\b\b\b\b\b\b\b\b\b\b\b\b\b\b\b\b\b\b\b\b\b\b\b\b\b\b\b\b\b\b\b\b\b\b\b\b\b\b\b\b\b\b\b\b\b\b\b\b\b\b\b\b\b\b\b\b\b\b\b\b\b\b\b\b\b\b\b\b\b\b\b\b\b\b\b\b\b\b\b\b\b\b\b\b\b\b\b\b\b\b\b\b\b\b\b\b\b\b\b\b\b\b\b\b\b\b\b\b\b\b\b\b\b\b\b\b\b\b\b\b\b\b\b\b\b\b\b\b\b\b\b\b\b\b\b\b\b\b\b\b\b\b\b\b\b\b\b\b\b\b\b\b\b\b\b\b\b\b\b\b\b\b\b\b\b\b\b\b\b\b\b\b\b\b\b\b\b\b\b\b\b\b\b\b\b\b\b\b\b\b\b\b\b\b\b\b\b\b\b\b\b\b\b\b\b\b\b\b\b\b\b\b\b\b\b\b\b\b\b\b\b\b\b\b\b\b\b\b\b\b\b\b\b\b\b\b\b\b\b\b\b\b\b\b\b\b\b\b\b\b\b\b\b\b\b\b\b\b\b\b\b\b\b\b\b\b\b\b\b\b\b\b\b\b\b\b\b\b\b\b\b\b\b\b\b\b\b\b\b\b\b\b\b\b\b\b\b\b\b\b\b\b\b\b\b\b\b\b\b\b\b\b\b\b\b\b\b\b\b\b\b\b\b\b\b\b\b\b\b\b\b\b\b\b\b\b\b\b\b\b\b\b\b\b\b\b\b\b\b\b\b\b\b\b"
     ]
    }
   ],
   "source": [
    "val_tweets['predictions_positive_other_proba'] = loaded_model.predict_proba(x)"
   ]
  },
  {
   "cell_type": "code",
   "execution_count": 127,
   "metadata": {
    "collapsed": false
   },
   "outputs": [
    {
     "data": {
      "text/html": [
       "<div style=\"max-height:1000px;max-width:1500px;overflow:auto;\"><table frame=\"box\" rules=\"cols\">\n",
       "    <tr>\n",
       "        <th style=\"padding-left: 1em; padding-right: 1em; text-align: center\">ID</th>\n",
       "        <th style=\"padding-left: 1em; padding-right: 1em; text-align: center\">Sentiment</th>\n",
       "        <th style=\"padding-left: 1em; padding-right: 1em; text-align: center\">Tweet</th>\n",
       "        <th style=\"padding-left: 1em; padding-right: 1em; text-align: center\">clean_tweet</th>\n",
       "    </tr>\n",
       "    <tr>\n",
       "        <td style=\"padding-left: 1em; padding-right: 1em; text-align: center; vertical-align: top\">629226490152914944</td>\n",
       "        <td style=\"padding-left: 1em; padding-right: 1em; text-align: center; vertical-align: top\">positive</td>\n",
       "        <td style=\"padding-left: 1em; padding-right: 1em; text-align: center; vertical-align: top\">Microsoft, I may not<br>prefer your gaming br ...</td>\n",
       "        <td style=\"padding-left: 1em; padding-right: 1em; text-align: center; vertical-align: top\">Microsoft I may not<br>prefer your gaming br ...</td>\n",
       "    </tr>\n",
       "    <tr>\n",
       "        <td style=\"padding-left: 1em; padding-right: 1em; text-align: center; vertical-align: top\">629650766580609026</td>\n",
       "        <td style=\"padding-left: 1em; padding-right: 1em; text-align: center; vertical-align: top\">positive</td>\n",
       "        <td style=\"padding-left: 1em; padding-right: 1em; text-align: center; vertical-align: top\">Just ordered my 1st ever<br>tablet; @Microsoft ...</td>\n",
       "        <td style=\"padding-left: 1em; padding-right: 1em; text-align: center; vertical-align: top\">Just ordered my 1st ever<br>tablet Microsoft Surface ...</td>\n",
       "    </tr>\n",
       "    <tr>\n",
       "        <td style=\"padding-left: 1em; padding-right: 1em; text-align: center; vertical-align: top\">630159517058142208</td>\n",
       "        <td style=\"padding-left: 1em; padding-right: 1em; text-align: center; vertical-align: top\">positive</td>\n",
       "        <td style=\"padding-left: 1em; padding-right: 1em; text-align: center; vertical-align: top\">Sunday morning, quiet day<br>so time to welcome in ...</td>\n",
       "        <td style=\"padding-left: 1em; padding-right: 1em; text-align: center; vertical-align: top\">Sunday morning quiet day<br>so time to welcome in ...</td>\n",
       "    </tr>\n",
       "    <tr>\n",
       "        <td style=\"padding-left: 1em; padding-right: 1em; text-align: center; vertical-align: top\">630818265799921664</td>\n",
       "        <td style=\"padding-left: 1em; padding-right: 1em; text-align: center; vertical-align: top\">positive</td>\n",
       "        <td style=\"padding-left: 1em; padding-right: 1em; text-align: center; vertical-align: top\">Innovation for jobs is<br>just around the corner - ...</td>\n",
       "        <td style=\"padding-left: 1em; padding-right: 1em; text-align: center; vertical-align: top\">Innovation for jobs is<br>just around the corner ...</td>\n",
       "    </tr>\n",
       "    <tr>\n",
       "        <td style=\"padding-left: 1em; padding-right: 1em; text-align: center; vertical-align: top\">631368262979297281</td>\n",
       "        <td style=\"padding-left: 1em; padding-right: 1em; text-align: center; vertical-align: top\">positive</td>\n",
       "        <td style=\"padding-left: 1em; padding-right: 1em; text-align: center; vertical-align: top\">#Vote for @AIESEC to<br>become the 10th Global ...</td>\n",
       "        <td style=\"padding-left: 1em; padding-right: 1em; text-align: center; vertical-align: top\">Vote for AIESEC to become<br>the 10th Global non ...</td>\n",
       "    </tr>\n",
       "    <tr>\n",
       "        <td style=\"padding-left: 1em; padding-right: 1em; text-align: center; vertical-align: top\">631521079245307904</td>\n",
       "        <td style=\"padding-left: 1em; padding-right: 1em; text-align: center; vertical-align: top\">positive</td>\n",
       "        <td style=\"padding-left: 1em; padding-right: 1em; text-align: center; vertical-align: top\">Top 5 most searched for<br>Back-to-School topics -- ...</td>\n",
       "        <td style=\"padding-left: 1em; padding-right: 1em; text-align: center; vertical-align: top\">Top 5 most searched for<br>BacktoSchool topics  the ...</td>\n",
       "    </tr>\n",
       "    <tr>\n",
       "        <td style=\"padding-left: 1em; padding-right: 1em; text-align: center; vertical-align: top\">631696872323850240</td>\n",
       "        <td style=\"padding-left: 1em; padding-right: 1em; text-align: center; vertical-align: top\">positive</td>\n",
       "        <td style=\"padding-left: 1em; padding-right: 1em; text-align: center; vertical-align: top\">@trucker_squigz<br>@Microsoft @MISpeedway ...</td>\n",
       "        <td style=\"padding-left: 1em; padding-right: 1em; text-align: center; vertical-align: top\">truckersquigz Microsoft<br>MISpeedway nationwide88 ...</td>\n",
       "    </tr>\n",
       "    <tr>\n",
       "        <td style=\"padding-left: 1em; padding-right: 1em; text-align: center; vertical-align: top\">631842974268305408</td>\n",
       "        <td style=\"padding-left: 1em; padding-right: 1em; text-align: center; vertical-align: top\">positive</td>\n",
       "        <td style=\"padding-left: 1em; padding-right: 1em; text-align: center; vertical-align: top\">@ScottArbeit @GabeAul<br>@Microsoft isntall the ...</td>\n",
       "        <td style=\"padding-left: 1em; padding-right: 1em; text-align: center; vertical-align: top\">ScottArbeit GabeAul<br>Microsoft isntall the ...</td>\n",
       "    </tr>\n",
       "    <tr>\n",
       "        <td style=\"padding-left: 1em; padding-right: 1em; text-align: center; vertical-align: top\">631843393971204097</td>\n",
       "        <td style=\"padding-left: 1em; padding-right: 1em; text-align: center; vertical-align: top\">positive</td>\n",
       "        <td style=\"padding-left: 1em; padding-right: 1em; text-align: center; vertical-align: top\">@taehongmin1 We have an<br>IOT workshop by ...</td>\n",
       "        <td style=\"padding-left: 1em; padding-right: 1em; text-align: center; vertical-align: top\">taehongmin1 We have an<br>IOT workshop by Micro ...</td>\n",
       "    </tr>\n",
       "    <tr>\n",
       "        <td style=\"padding-left: 1em; padding-right: 1em; text-align: center; vertical-align: top\">633628599271190528</td>\n",
       "        <td style=\"padding-left: 1em; padding-right: 1em; text-align: center; vertical-align: top\">positive</td>\n",
       "        <td style=\"padding-left: 1em; padding-right: 1em; text-align: center; vertical-align: top\">@ProfessorF @gilwuvsyou<br>@Microsoft @LivioDeLa ...</td>\n",
       "        <td style=\"padding-left: 1em; padding-right: 1em; text-align: center; vertical-align: top\">ProfessorF gilwuvsyou<br>Microsoft LivioDeLaCruz ...</td>\n",
       "    </tr>\n",
       "</table>\n",
       "<table frame=\"box\" rules=\"cols\">\n",
       "    <tr>\n",
       "        <th style=\"padding-left: 1em; padding-right: 1em; text-align: center\">cut_tweet</th>\n",
       "        <th style=\"padding-left: 1em; padding-right: 1em; text-align: center\">predictions_positive_othe<br>r ...</th>\n",
       "        <th style=\"padding-left: 1em; padding-right: 1em; text-align: center\">predictions_positive_othe<br>r_classes ...</th>\n",
       "        <th style=\"padding-left: 1em; padding-right: 1em; text-align: center\">predictions_positive_othe<br>r_proba ...</th>\n",
       "    </tr>\n",
       "    <tr>\n",
       "        <td style=\"padding-left: 1em; padding-right: 1em; text-align: center; vertical-align: top\">Microsoft I may not<br>prefer your gaming br ...</td>\n",
       "        <td style=\"padding-left: 1em; padding-right: 1em; text-align: center; vertical-align: top\">[0.41836938262]</td>\n",
       "        <td style=\"padding-left: 1em; padding-right: 1em; text-align: center; vertical-align: top\">[0.0]</td>\n",
       "        <td style=\"padding-left: 1em; padding-right: 1em; text-align: center; vertical-align: top\">[0.41836938262]</td>\n",
       "    </tr>\n",
       "    <tr>\n",
       "        <td style=\"padding-left: 1em; padding-right: 1em; text-align: center; vertical-align: top\">Just ordered my 1st ever<br>tablet Microsoft Surface ...</td>\n",
       "        <td style=\"padding-left: 1em; padding-right: 1em; text-align: center; vertical-align: top\">[0.368052631617]</td>\n",
       "        <td style=\"padding-left: 1em; padding-right: 1em; text-align: center; vertical-align: top\">[0.0]</td>\n",
       "        <td style=\"padding-left: 1em; padding-right: 1em; text-align: center; vertical-align: top\">[0.368052631617]</td>\n",
       "    </tr>\n",
       "    <tr>\n",
       "        <td style=\"padding-left: 1em; padding-right: 1em; text-align: center; vertical-align: top\">Sunday morning quiet day<br>so time to welcome in ...</td>\n",
       "        <td style=\"padding-left: 1em; padding-right: 1em; text-align: center; vertical-align: top\">[0.180717661977]</td>\n",
       "        <td style=\"padding-left: 1em; padding-right: 1em; text-align: center; vertical-align: top\">[0.0]</td>\n",
       "        <td style=\"padding-left: 1em; padding-right: 1em; text-align: center; vertical-align: top\">[0.180717661977]</td>\n",
       "    </tr>\n",
       "    <tr>\n",
       "        <td style=\"padding-left: 1em; padding-right: 1em; text-align: center; vertical-align: top\">Innovation for jobs is<br>just around the corner ...</td>\n",
       "        <td style=\"padding-left: 1em; padding-right: 1em; text-align: center; vertical-align: top\">[0.238421499729]</td>\n",
       "        <td style=\"padding-left: 1em; padding-right: 1em; text-align: center; vertical-align: top\">[0.0]</td>\n",
       "        <td style=\"padding-left: 1em; padding-right: 1em; text-align: center; vertical-align: top\">[0.238421499729]</td>\n",
       "    </tr>\n",
       "    <tr>\n",
       "        <td style=\"padding-left: 1em; padding-right: 1em; text-align: center; vertical-align: top\">Vote for AIESEC to become<br>the 10th Global non ...</td>\n",
       "        <td style=\"padding-left: 1em; padding-right: 1em; text-align: center; vertical-align: top\">[0.245652601123]</td>\n",
       "        <td style=\"padding-left: 1em; padding-right: 1em; text-align: center; vertical-align: top\">[0.0]</td>\n",
       "        <td style=\"padding-left: 1em; padding-right: 1em; text-align: center; vertical-align: top\">[0.245652601123]</td>\n",
       "    </tr>\n",
       "    <tr>\n",
       "        <td style=\"padding-left: 1em; padding-right: 1em; text-align: center; vertical-align: top\">Top 5 most searched for<br>BacktoSchool topics  the ...</td>\n",
       "        <td style=\"padding-left: 1em; padding-right: 1em; text-align: center; vertical-align: top\">[0.300413936377]</td>\n",
       "        <td style=\"padding-left: 1em; padding-right: 1em; text-align: center; vertical-align: top\">[0.0]</td>\n",
       "        <td style=\"padding-left: 1em; padding-right: 1em; text-align: center; vertical-align: top\">[0.300413936377]</td>\n",
       "    </tr>\n",
       "    <tr>\n",
       "        <td style=\"padding-left: 1em; padding-right: 1em; text-align: center; vertical-align: top\">truckersquigz Microsoft<br>MISpeedway nationwide88 ...</td>\n",
       "        <td style=\"padding-left: 1em; padding-right: 1em; text-align: center; vertical-align: top\">[0.30386903882]</td>\n",
       "        <td style=\"padding-left: 1em; padding-right: 1em; text-align: center; vertical-align: top\">[0.0]</td>\n",
       "        <td style=\"padding-left: 1em; padding-right: 1em; text-align: center; vertical-align: top\">[0.30386903882]</td>\n",
       "    </tr>\n",
       "    <tr>\n",
       "        <td style=\"padding-left: 1em; padding-right: 1em; text-align: center; vertical-align: top\">ScottArbeit GabeAul<br>Microsoft isntall the ...</td>\n",
       "        <td style=\"padding-left: 1em; padding-right: 1em; text-align: center; vertical-align: top\">[0.389814198017]</td>\n",
       "        <td style=\"padding-left: 1em; padding-right: 1em; text-align: center; vertical-align: top\">[0.0]</td>\n",
       "        <td style=\"padding-left: 1em; padding-right: 1em; text-align: center; vertical-align: top\">[0.389814198017]</td>\n",
       "    </tr>\n",
       "    <tr>\n",
       "        <td style=\"padding-left: 1em; padding-right: 1em; text-align: center; vertical-align: top\">taehongmin1 We have an<br>IOT workshop by Micro ...</td>\n",
       "        <td style=\"padding-left: 1em; padding-right: 1em; text-align: center; vertical-align: top\">[0.268384575844]</td>\n",
       "        <td style=\"padding-left: 1em; padding-right: 1em; text-align: center; vertical-align: top\">[0.0]</td>\n",
       "        <td style=\"padding-left: 1em; padding-right: 1em; text-align: center; vertical-align: top\">[0.268384575844]</td>\n",
       "    </tr>\n",
       "    <tr>\n",
       "        <td style=\"padding-left: 1em; padding-right: 1em; text-align: center; vertical-align: top\">ProfessorF gilwuvsyou<br>Microsoft LivioDeLaCruz ...</td>\n",
       "        <td style=\"padding-left: 1em; padding-right: 1em; text-align: center; vertical-align: top\">[0.14913661778]</td>\n",
       "        <td style=\"padding-left: 1em; padding-right: 1em; text-align: center; vertical-align: top\">[0.0]</td>\n",
       "        <td style=\"padding-left: 1em; padding-right: 1em; text-align: center; vertical-align: top\">[0.14913661778]</td>\n",
       "    </tr>\n",
       "</table>\n",
       "[3589 rows x 8 columns]<br/>Note: Only the head of the SFrame is printed.<br/>You can use print_rows(num_rows=m, num_columns=n) to print more rows and columns.\n",
       "</div>"
      ],
      "text/plain": [
       "Columns:\n",
       "\tID\tint\n",
       "\tSentiment\tstr\n",
       "\tTweet\tstr\n",
       "\tclean_tweet\tstr\n",
       "\tcut_tweet\tstr\n",
       "\tpredictions_positive_other\tarray\n",
       "\tpredictions_positive_other_classes\tarray\n",
       "\tpredictions_positive_other_proba\tarray\n",
       "\n",
       "Rows: 3589\n",
       "\n",
       "Data:\n",
       "+--------------------+-----------+-------------------------------+\n",
       "|         ID         | Sentiment |             Tweet             |\n",
       "+--------------------+-----------+-------------------------------+\n",
       "| 629226490152914944 |  positive | Microsoft, I may not prefe... |\n",
       "| 629650766580609026 |  positive | Just ordered my 1st ever t... |\n",
       "| 630159517058142208 |  positive | Sunday morning, quiet day ... |\n",
       "| 630818265799921664 |  positive | Innovation for jobs is jus... |\n",
       "| 631368262979297281 |  positive | #Vote for @AIESEC to becom... |\n",
       "| 631521079245307904 |  positive | Top 5 most searched for Ba... |\n",
       "| 631696872323850240 |  positive | @trucker_squigz @Microsoft... |\n",
       "| 631842974268305408 |  positive | @ScottArbeit @GabeAul @Mic... |\n",
       "| 631843393971204097 |  positive | @taehongmin1 We have an IO... |\n",
       "| 633628599271190528 |  positive | @ProfessorF @gilwuvsyou @M... |\n",
       "+--------------------+-----------+-------------------------------+\n",
       "+-------------------------------+-------------------------------+\n",
       "|          clean_tweet          |           cut_tweet           |\n",
       "+-------------------------------+-------------------------------+\n",
       "| Microsoft I may not prefer... | Microsoft I may not prefer... |\n",
       "| Just ordered my 1st ever t... | Just ordered my 1st ever t... |\n",
       "| Sunday morning quiet day s... | Sunday morning quiet day s... |\n",
       "| Innovation for jobs is jus... | Innovation for jobs is jus... |\n",
       "| Vote for AIESEC to become ... | Vote for AIESEC to become ... |\n",
       "| Top 5 most searched for Ba... | Top 5 most searched for Ba... |\n",
       "| truckersquigz Microsoft MI... | truckersquigz Microsoft MI... |\n",
       "| ScottArbeit GabeAul Micros... | ScottArbeit GabeAul Micros... |\n",
       "| taehongmin1 We have an IOT... | taehongmin1 We have an IOT... |\n",
       "| ProfessorF gilwuvsyou Micr... | ProfessorF gilwuvsyou Micr... |\n",
       "+-------------------------------+-------------------------------+\n",
       "+----------------------------+-------------------------------+\n",
       "| predictions_positive_other | predictions_positive_other... |\n",
       "+----------------------------+-------------------------------+\n",
       "|      [0.41836938262]       |             [0.0]             |\n",
       "|      [0.368052631617]      |             [0.0]             |\n",
       "|      [0.180717661977]      |             [0.0]             |\n",
       "|      [0.238421499729]      |             [0.0]             |\n",
       "|      [0.245652601123]      |             [0.0]             |\n",
       "|      [0.300413936377]      |             [0.0]             |\n",
       "|      [0.30386903882]       |             [0.0]             |\n",
       "|      [0.389814198017]      |             [0.0]             |\n",
       "|      [0.268384575844]      |             [0.0]             |\n",
       "|      [0.14913661778]       |             [0.0]             |\n",
       "+----------------------------+-------------------------------+\n",
       "+-------------------------------+\n",
       "| predictions_positive_other... |\n",
       "+-------------------------------+\n",
       "|        [0.41836938262]        |\n",
       "|        [0.368052631617]       |\n",
       "|        [0.180717661977]       |\n",
       "|        [0.238421499729]       |\n",
       "|        [0.245652601123]       |\n",
       "|        [0.300413936377]       |\n",
       "|        [0.30386903882]        |\n",
       "|        [0.389814198017]       |\n",
       "|        [0.268384575844]       |\n",
       "|        [0.14913661778]        |\n",
       "+-------------------------------+\n",
       "[3589 rows x 8 columns]\n",
       "Note: Only the head of the SFrame is printed.\n",
       "You can use print_rows(num_rows=m, num_columns=n) to print more rows and columns."
      ]
     },
     "execution_count": 127,
     "metadata": {},
     "output_type": "execute_result"
    }
   ],
   "source": [
    "val_tweets"
   ]
  },
  {
   "cell_type": "code",
   "execution_count": 132,
   "metadata": {
    "collapsed": false
   },
   "outputs": [
    {
     "data": {
      "text/plain": [
       "0.0"
      ]
     },
     "execution_count": 132,
     "metadata": {},
     "output_type": "execute_result"
    }
   ],
   "source": [
    "val_tweets['predictions_positive_other_classes'][3500][0]"
   ]
  },
  {
   "cell_type": "code",
   "execution_count": 133,
   "metadata": {
    "collapsed": true
   },
   "outputs": [],
   "source": [
    "t = val_tweets[val_tweets['predictions_positive_other_classes'][0]!=0.0]"
   ]
  },
  {
   "cell_type": "code",
   "execution_count": 134,
   "metadata": {
    "collapsed": false
   },
   "outputs": [
    {
     "data": {
      "text/plain": [
       "{'ID': 629650766580609026,\n",
       " 'Sentiment': 'positive',\n",
       " 'Tweet': 'Just ordered my 1st ever tablet; @Microsoft Surface Pro 3, i7/8GB 512GB SSD. Hopefully it works out for dev to replace my laptop =)',\n",
       " 'clean_tweet': 'Just ordered my 1st ever tablet Microsoft Surface Pro 3 i78GB 512GB SSD Hopefully it works out for dev to replace my laptop',\n",
       " 'cut_tweet': 'Just ordered my 1st ever tablet Microsoft Surface Pro 3 i78GB 512GB SSD Hopefully it works out for dev to replace my laptop',\n",
       " 'predictions_positive_other': array('d', [0.3680526316165924]),\n",
       " 'predictions_positive_other_classes': array('d', [0.0]),\n",
       " 'predictions_positive_other_proba': array('d', [0.3680526316165924])}"
      ]
     },
     "execution_count": 134,
     "metadata": {},
     "output_type": "execute_result"
    }
   ],
   "source": [
    "t"
   ]
  },
  {
   "cell_type": "code",
   "execution_count": 112,
   "metadata": {
    "collapsed": false
   },
   "outputs": [],
   "source": [
    "sentiment140_tweets['senti'] = sentiment140_tweets['Sentiment'].apply(lambda x: 0 if x==0 else 1)"
   ]
  },
  {
   "cell_type": "code",
   "execution_count": 15,
   "metadata": {
    "collapsed": false
   },
   "outputs": [
    {
     "name": "stderr",
     "output_type": "stream",
     "text": [
      "/home/omar/miniconda2/lib/python2.7/site-packages/sklearn/cross_validation.py:44: DeprecationWarning: This module was deprecated in version 0.18 in favor of the model_selection module into which all the refactored classes and functions are moved. Also note that the interface of the new CV iterators are different from that of this module. This module will be removed in 0.20.\n",
      "  \"This module will be removed in 0.20.\", DeprecationWarning)\n"
     ]
    }
   ],
   "source": [
    "import graphlab\n",
    "import os\n",
    "import gensim\n",
    "import re\n",
    "import nltk\n",
    "from nltk.corpus import stopwords\n",
    "from bs4 import BeautifulSoup\n",
    "from sklearn.cross_validation import train_test_split\n",
    "from gensim.models.word2vec import Word2Vec\n",
    "from gensim.models.doc2vec import LabeledSentence\n",
    "from gensim.models import Doc2Vec\n",
    "def split_sentence(sentence):\n",
    "    return re.split('\\W+', sentence)"
   ]
  },
  {
   "cell_type": "code",
   "execution_count": 16,
   "metadata": {
    "collapsed": false
   },
   "outputs": [],
   "source": [
    "pos_neg_w2v_model = Word2Vec.load('/home/omar/CNN-for-Sentence-Classification-in-Keras-master/pos_neg_model_w2v')\n",
    "\n",
    "pos_neutral_model_w2v = Word2Vec.load('/home/omar/CNN-for-Sentence-Classification-in-Keras-master/pos_neutral_model_w2v')\n",
    "\n",
    "positive_nonpositive_model_w2v = Word2Vec.load('/home/omar/CNN-for-Sentence-Classification-in-Keras-master/positive_nonpositive_model_w2v')\n",
    "negative_nonnegative_model_w2v = Word2Vec.load('/home/omar/CNN-for-Sentence-Classification-in-Keras-master/negative_nonnegative_model_w2v')\n",
    "#neutral_nonneutral_model_w2v = Word2Vec.load('/home/omar/CNN-for-Sentence-Classification-in-Keras-master/neutral_nonneutral_model_w2v')\n",
    "#doc2vec_reviewsonly_dm = Doc2Vec.load('C:/Python27/doc2vec_dm_reviewsonly')\n",
    "doc2vec_tweetsonly_dm = Doc2Vec.load('/home/omar/CNN-for-Sentence-Classification-in-Keras-master/doc2vec_dm_tweetsonly')"
   ]
  },
  {
   "cell_type": "code",
   "execution_count": 18,
   "metadata": {
    "collapsed": true
   },
   "outputs": [],
   "source": [
    "from numpy import average\n",
    "import graphlab as gl\n",
    "import numpy as np\n",
    "import gensim\n",
    "\n",
    "class DeepTextAnalyzer(object):\n",
    "    def __init__(self, word2vec_model):\n",
    "        \"\"\"\n",
    "        Construct a DeepTextAnalyzer using the input Word2Vec model\n",
    "        :param word2vec_model: a trained Word2Vec model\n",
    "        \"\"\"\n",
    "        self._model = word2vec_model\n",
    "\n",
    "    def txt2vectors(self,txt, is_html):\n",
    "        \"\"\"\n",
    "        Convert input text into an iterator that returns the corresponding vector representation of each\n",
    "        word in the text, if it exists in the Word2Vec model\n",
    "        :param txt: input text\n",
    "        :param is_html: if True, then extract the text from the input HTML\n",
    "        :return: iterator of vectors created from the words in the text using the Word2Vec model.\n",
    "        \"\"\"\n",
    "        words = txt2words(txt,is_html=is_html, lower=True, remove_none_english_chars=True)\n",
    "        words = [w for w in words if w in self._model]\n",
    "        #yield self._model[txt]\n",
    "        if len(words) != 0:\n",
    "            for w in words:\n",
    "                yield self._model[w]\n",
    "\n",
    "\n",
    "    def txt2avg_vector(self, txt, is_html):\n",
    "        \"\"\"\n",
    "        Calculate the average vector representation of the input text\n",
    "        :param txt: input text\n",
    "        :param is_html: is the text is a HTML\n",
    "        :return the average vector of the vector representations of the words in the text \n",
    "        \"\"\"\n",
    "        ##vector = self.txt2vectors(txt,is_html=is_html)\n",
    "        ##return vector\n",
    "        vectors = self.txt2vectors(txt,is_html=is_html)\n",
    "        vectors_sum = next(vectors, None)\n",
    "        if vectors_sum is None:\n",
    "            return None\n",
    "        count =1.0\n",
    "        for v in vectors:\n",
    "            count += 1\n",
    "            vectors_sum = np.add(vectors_sum,v)\n",
    "       \n",
    "        #calculate the average vector and replace +infy and -inf with numeric values\n",
    "        avg_vector = np.nan_to_num(vectors_sum/count)\n",
    "        return avg_vector"
   ]
  },
  {
   "cell_type": "code",
   "execution_count": 119,
   "metadata": {
    "collapsed": false
   },
   "outputs": [],
   "source": [
    "#dt = DeepTextAnalyzer(pos_neg_w2v_model)\n",
    "#sentiment140_tweets_500['vectors_pos_neg'] = sentiment140_tweets_500['clean_tweet'].apply(lambda p: dt.txt2avg_vector(p,is_html=False))\n",
    "#dt = DeepTextAnalyzer(pos_neutral_model_w2v)\n",
    "#sentiment140_tweets_500['vectors_pos_neutral'] = sentiment140_tweets_500['clean_tweet'].apply(lambda p: dt.txt2avg_vector(p,is_html=False))\n",
    "#dt = DeepTextAnalyzer(positive_nonpositive_model_w2v)\n",
    "#sentiment140_tweets_500['vectors_pos_nonpos'] = sentiment140_tweets_500['clean_tweet'].apply(lambda p: dt.txt2avg_vector(p,is_html=False))\n",
    "#dt = DeepTextAnalyzer(negative_nonnegative_model_w2v)\n",
    "#sentiment140_tweets_500['vectors_neg_nonneg'] = sentiment140_tweets_500['clean_tweet'].apply(lambda p: dt.txt2avg_vector(p,is_html=False))\n",
    "#sentiment140_tweets_500['vectors_neg_nonneg'] = sentiment140_tweets_500['clean_tweet'].apply(lambda p: dt.txt2avg_vector(p,is_html=False))\n",
    "#sentiment140_tweets_500['vectors_doc2vec_tweetsonly_dm'] = sentiment140_tweets_500['clean_tweet'].apply(lambda p: doc2vec_tweetsonly_dm.infer_vector(split_sentence(p)))\n",
    "##del sentiment140_tweets_500['vectors_pos_neg']\n",
    "\n",
    "\n",
    "dt = DeepTextAnalyzer(pos_neg_w2v_model)\n",
    "sentiment140_tweets_1M['vectors_pos_neg'] = sentiment140_tweets_1M['clean_tweet'].apply(lambda p: dt.txt2avg_vector(p,is_html=False))\n",
    "\n",
    "dt = DeepTextAnalyzer(pos_neutral_model_w2v)\n",
    "sentiment140_tweets_1M['vectors_pos_neutral'] = sentiment140_tweets_1M['clean_tweet'].apply(lambda p: dt.txt2avg_vector(p,is_html=False))\n",
    "\n",
    "dt = DeepTextAnalyzer(positive_nonpositive_model_w2v)\n",
    "sentiment140_tweets_1M['vectors_pos_nonpos'] = sentiment140_tweets_1M['clean_tweet'].apply(lambda p: dt.txt2avg_vector(p,is_html=False))\n",
    "\n",
    "dt = DeepTextAnalyzer(negative_nonnegative_model_w2v)\n",
    "sentiment140_tweets_1M['vectors_neg_nonneg'] = sentiment140_tweets_1M['clean_tweet'].apply(lambda p: dt.txt2avg_vector(p,is_html=False))\n",
    "\n",
    "sentiment140_tweets_1M['vectors_doc2vec_tweetsonly_dm'] = sentiment140_tweets_1M['clean_tweet'].apply(lambda p: doc2vec_tweetsonly_dm.infer_vector(split_sentence(p)))"
   ]
  },
  {
   "cell_type": "code",
   "execution_count": 19,
   "metadata": {
    "collapsed": false
   },
   "outputs": [],
   "source": [
    "import os\n",
    "import gensim\n",
    "import re\n",
    "import nltk\n",
    "from nltk.corpus import stopwords\n",
    "from bs4 import BeautifulSoup\n",
    "\n",
    "BASE_DIR = \"/home/graphlab_create/data/blogs\" # NOTE: Update BASE_DIR to your own directory path\n",
    "class TrainSentences(object):\n",
    "    \"\"\"\n",
    "    Iterator class that returns Sentences from texts files in a input directory\n",
    "    \"\"\"\n",
    "    RE_WIHTE_SPACES = re.compile(\"\\s+\")\n",
    "    STOP_WORDS = set(stopwords.words(\"english\"))\n",
    "    def __init__(self, dirname):\n",
    "        \"\"\"\n",
    "        Initialize a TrainSentences object with a input directory that contains text files for training\n",
    "        :param dirname: directory name which contains the text files       \n",
    "        \"\"\"\n",
    "        self.dirname = dirname\n",
    "\n",
    "    def __iter__(self):\n",
    "        \"\"\"\n",
    "        Sentences iterator that return sentences parsed from files in the input directory.\n",
    "        Each sentences is returned as list of words\n",
    "        \"\"\"\n",
    "        #First iterate  on all files in the input directory\n",
    "        for fname in os.listdir(self.dirname):\n",
    "            # read line from file (Without reading the entire file)\n",
    "            for line in file(os.path.join(self.dirname, fname), \"rb\"):\n",
    "                # split the read line into sentences using NLTK\n",
    "                for s in txt2sentences(line, is_html=True):\n",
    "                    # split the sentence into words using regex\n",
    "                    w =txt2words(s, lower=True, is_html=False, remove_stop_words=False,\n",
    "                                                 remove_none_english_chars=True)\n",
    "                    #skip short sentneces with less than 3 words\n",
    "                    if len(w) < 3:\n",
    "                        continue\n",
    "                    yield w\n",
    "\n",
    "def txt2sentences(txt, is_html=False, remove_none_english_chars=True):\n",
    "    \"\"\"\n",
    "    Split the English text into sentences using NLTK\n",
    "    :param txt: input text.\n",
    "    :param is_html: If True thenremove HTML tags using BeautifulSoup\n",
    "    :param remove_none_english_chars: if True then remove non-english chars from text\n",
    "    :return: string in which each line consists of single sentence from the original input text.\n",
    "    :rtype: str\n",
    "    \"\"\"\n",
    "    if is_html:\n",
    "        txt = BeautifulSoup(txt).get_text()\n",
    "    tokenizer = nltk.data.load('tokenizers/punkt/english.pickle')\n",
    "\n",
    "    # split text into sentences using nltk packages\n",
    "    for s in tokenizer.tokenize(txt):\n",
    "        if remove_none_english_chars:\n",
    "            #remove none English chars\n",
    "            s = re.sub(\"[^a-zA-Z]\", \" \", s)\n",
    "        yield s\n",
    "   \n",
    "def txt2words(txt, lower=True, is_html=False, remove_none_english_chars=True, remove_stop_words=True):\n",
    "    \"\"\"\n",
    "    Split text into words list\n",
    "    :param txt: the input text\n",
    "    :param lower: if to make the  text to lowercase or not.\n",
    "    :param is_html: If True then  remove HTML tags using BeautifulSoup\n",
    "    :param remove_none_english_chars: if True then remove non-english chars from text\n",
    "    :param remove_stop_words: if True then remove stop words from text\n",
    "    :return: words list create from the input text according to the input parameters.\n",
    "    :rtype: list\n",
    "    \"\"\"\n",
    "    if is_html:\n",
    "        txt = BeautifulSoup(txt).get_text()\n",
    "    if lower:\n",
    "        txt = txt.lower()\n",
    "    if remove_none_english_chars:\n",
    "        txt = re.sub(\"[^a-zA-Z]\", \" \", txt)\n",
    "\n",
    "    words = TrainSentences.RE_WIHTE_SPACES.split(txt.strip().lower())\n",
    "    if remove_stop_words:\n",
    "        #remove stop words from text\n",
    "        words = [w for w in words if w not in TrainSentences.STOP_WORDS]\n",
    "    return words"
   ]
  },
  {
   "cell_type": "code",
   "execution_count": 25,
   "metadata": {
    "collapsed": false
   },
   "outputs": [],
   "source": [
    "def split_sentence(sentence):\n",
    "    return re.split('\\W+', sentence)"
   ]
  },
  {
   "cell_type": "code",
   "execution_count": 113,
   "metadata": {
    "collapsed": false
   },
   "outputs": [],
   "source": [
    "sentiment140_tweets_pos = sentiment140_tweets[sentiment140_tweets['senti']==1]\n",
    "sentiment140_tweets_neg = sentiment140_tweets[sentiment140_tweets['senti']==0]"
   ]
  },
  {
   "cell_type": "code",
   "execution_count": 114,
   "metadata": {
    "collapsed": true
   },
   "outputs": [],
   "source": [
    "#sentiment140_tweets_500 = sentiment140_tweets_pos[:250000]\n",
    "sentiment140_tweets_1M = sentiment140_tweets_pos[:500000]\n",
    "#sentiment140_tweets_neg_250 = sentiment140_tweets_neg[:250000]\n",
    "#sentiment140_tweets_500 = sentiment140_tweets_500.append(sentiment140_tweets_neg[:250000])\n",
    "sentiment140_tweets_1M = sentiment140_tweets_1M.append(sentiment140_tweets_neg[:500000])"
   ]
  },
  {
   "cell_type": "code",
   "execution_count": 115,
   "metadata": {
    "collapsed": false
   },
   "outputs": [],
   "source": [
    "#sentiment140_tweets_500['clean_tweet'] = sentiment140_tweets_500['Tweet'].apply(lambda x: remove_punctuation(x))\n",
    "#sentiment140_tweets_500['word_count'] = graphlab.text_analytics.count_words(sentiment140_tweets_500['clean_tweet'])\n",
    "\n",
    "sentiment140_tweets_1M['clean_tweet'] = sentiment140_tweets_1M['Tweet'].apply(lambda x: remove_punctuation(x))\n",
    "sentiment140_tweets_1M['word_count'] = graphlab.text_analytics.count_words(sentiment140_tweets_1M['clean_tweet'])"
   ]
  },
  {
   "cell_type": "code",
   "execution_count": 116,
   "metadata": {
    "collapsed": false
   },
   "outputs": [],
   "source": [
    "#tfidf = graphlab.text_analytics.tf_idf(sentiment140_tweets_500['word_count'])\n",
    "#sentiment140_tweets_500['tfidf'] = tfidf\n",
    "\n",
    "tfidf = graphlab.text_analytics.tf_idf(sentiment140_tweets_1M['word_count'])\n",
    "sentiment140_tweets_1M['tfidf'] = tfidf"
   ]
  },
  {
   "cell_type": "code",
   "execution_count": 117,
   "metadata": {
    "collapsed": true
   },
   "outputs": [],
   "source": [
    "#sentiment140_tweets_500['1gram features'] = gl.text_analytics.count_ngrams(sentiment140_tweets_500['clean_tweet'], 1)\n",
    "#sentiment140_tweets_500['2gram features'] = gl.text_analytics.count_ngrams(sentiment140_tweets_500['clean_tweet'], 2)\n",
    "#sentiment140_tweets_500['3gram features'] = gl.text_analytics.count_ngrams(sentiment140_tweets_500['clean_tweet'], 3)\n",
    "\n",
    "sentiment140_tweets_1M['1gram features'] = gl.text_analytics.count_ngrams(sentiment140_tweets_1M['clean_tweet'], 1)\n",
    "sentiment140_tweets_1M['2gram features'] = gl.text_analytics.count_ngrams(sentiment140_tweets_1M['clean_tweet'], 2)\n",
    "sentiment140_tweets_1M['3gram features'] = gl.text_analytics.count_ngrams(sentiment140_tweets_1M['clean_tweet'], 3)"
   ]
  },
  {
   "cell_type": "code",
   "execution_count": 149,
   "metadata": {
    "collapsed": true
   },
   "outputs": [],
   "source": [
    "featureset1=['tfidf','1gram features','2gram features','3gram features','vectors_pos_neg','vectors_doc2vec_tweetsonly_dm','vectors_pos_neutral','vectors_neg_nonneg','vectors_pos_nonpos']\n",
    "\n",
    "\n",
    "train,test = sentiment140_tweets_dropped.random_split(0.9,seed=0)"
   ]
  },
  {
   "cell_type": "code",
   "execution_count": 150,
   "metadata": {
    "collapsed": false,
    "scrolled": true
   },
   "outputs": [
    {
     "ename": "IOError",
     "evalue": "Fail to write. Disk may be full.: unspecified iostream_category error: unspecified iostream_category error",
     "output_type": "error",
     "traceback": [
      "\u001b[0;31m---------------------------------------------------------------------------\u001b[0m",
      "\u001b[0;31mIOError\u001b[0m                                   Traceback (most recent call last)",
      "\u001b[0;32m<ipython-input-150-f8a0abd48bbf>\u001b[0m in \u001b[0;36m<module>\u001b[0;34m()\u001b[0m\n\u001b[0;32m----> 1\u001b[0;31m \u001b[0mmodel_pos_neg_1M_real\u001b[0m \u001b[0;34m=\u001b[0m \u001b[0mgraphlab\u001b[0m\u001b[0;34m.\u001b[0m\u001b[0mlogistic_classifier\u001b[0m\u001b[0;34m.\u001b[0m\u001b[0mcreate\u001b[0m\u001b[0;34m(\u001b[0m\u001b[0mtrain\u001b[0m\u001b[0;34m,\u001b[0m\u001b[0mtarget\u001b[0m\u001b[0;34m=\u001b[0m\u001b[0;34m'senti'\u001b[0m\u001b[0;34m,\u001b[0m\u001b[0mfeatures\u001b[0m\u001b[0;34m=\u001b[0m\u001b[0mfeatureset1\u001b[0m\u001b[0;34m)\u001b[0m\u001b[0;34m\u001b[0m\u001b[0m\n\u001b[0m",
      "\u001b[0;32m/home/omar/miniconda2/lib/python2.7/site-packages/graphlab/toolkits/classifier/logistic_classifier.pyc\u001b[0m in \u001b[0;36mcreate\u001b[0;34m(dataset, target, features, l2_penalty, l1_penalty, solver, feature_rescaling, convergence_threshold, step_size, lbfgs_memory_level, max_iterations, class_weights, validation_set, verbose)\u001b[0m\n\u001b[1;32m    306\u001b[0m                         \u001b[0mlbfgs_memory_level\u001b[0m \u001b[0;34m=\u001b[0m \u001b[0mlbfgs_memory_level\u001b[0m\u001b[0;34m,\u001b[0m\u001b[0;34m\u001b[0m\u001b[0m\n\u001b[1;32m    307\u001b[0m                         \u001b[0mmax_iterations\u001b[0m \u001b[0;34m=\u001b[0m \u001b[0mmax_iterations\u001b[0m\u001b[0;34m,\u001b[0m\u001b[0;34m\u001b[0m\u001b[0m\n\u001b[0;32m--> 308\u001b[0;31m                         class_weights = class_weights)\n\u001b[0m\u001b[1;32m    309\u001b[0m \u001b[0;34m\u001b[0m\u001b[0m\n\u001b[1;32m    310\u001b[0m     \u001b[0;32mreturn\u001b[0m \u001b[0mLogisticClassifier\u001b[0m\u001b[0;34m(\u001b[0m\u001b[0mmodel\u001b[0m\u001b[0;34m.\u001b[0m\u001b[0m__proxy__\u001b[0m\u001b[0;34m)\u001b[0m\u001b[0;34m\u001b[0m\u001b[0m\n",
      "\u001b[0;32m/home/omar/miniconda2/lib/python2.7/site-packages/graphlab/toolkits/_supervised_learning.pyc\u001b[0m in \u001b[0;36mcreate\u001b[0;34m(dataset, target, model_name, features, validation_set, verbose, distributed, **kwargs)\u001b[0m\n\u001b[1;32m    388\u001b[0m     \u001b[0;32mif\u001b[0m \u001b[0misinstance\u001b[0m\u001b[0;34m(\u001b[0m\u001b[0mvalidation_set\u001b[0m\u001b[0;34m,\u001b[0m \u001b[0mstr\u001b[0m\u001b[0;34m)\u001b[0m\u001b[0;34m:\u001b[0m\u001b[0;34m\u001b[0m\u001b[0m\n\u001b[1;32m    389\u001b[0m         \u001b[0;32mif\u001b[0m \u001b[0mvalidation_set\u001b[0m \u001b[0;34m==\u001b[0m \u001b[0;34m'auto'\u001b[0m\u001b[0;34m:\u001b[0m\u001b[0;34m\u001b[0m\u001b[0m\n\u001b[0;32m--> 390\u001b[0;31m             \u001b[0;32mif\u001b[0m \u001b[0mdataset\u001b[0m\u001b[0;34m.\u001b[0m\u001b[0mnum_rows\u001b[0m\u001b[0;34m(\u001b[0m\u001b[0;34m)\u001b[0m \u001b[0;34m>=\u001b[0m \u001b[0;36m100\u001b[0m\u001b[0;34m:\u001b[0m\u001b[0;34m\u001b[0m\u001b[0m\n\u001b[0m\u001b[1;32m    391\u001b[0m                 \u001b[0;32mif\u001b[0m \u001b[0mverbose\u001b[0m\u001b[0;34m:\u001b[0m\u001b[0;34m\u001b[0m\u001b[0m\n\u001b[1;32m    392\u001b[0m                     \u001b[0mprint_validation_track_notification\u001b[0m\u001b[0;34m(\u001b[0m\u001b[0;34m)\u001b[0m\u001b[0;34m\u001b[0m\u001b[0m\n",
      "\u001b[0;32m/home/omar/miniconda2/lib/python2.7/site-packages/graphlab/data_structures/sframe.pyc\u001b[0m in \u001b[0;36mnum_rows\u001b[0;34m(self)\u001b[0m\n\u001b[1;32m   2821\u001b[0m         \u001b[0mnum_columns\u001b[0m\u001b[0;34m\u001b[0m\u001b[0m\n\u001b[1;32m   2822\u001b[0m         \"\"\"\n\u001b[0;32m-> 2823\u001b[0;31m         \u001b[0;32mreturn\u001b[0m \u001b[0mself\u001b[0m\u001b[0;34m.\u001b[0m\u001b[0m__proxy__\u001b[0m\u001b[0;34m.\u001b[0m\u001b[0mnum_rows\u001b[0m\u001b[0;34m(\u001b[0m\u001b[0;34m)\u001b[0m\u001b[0;34m\u001b[0m\u001b[0m\n\u001b[0m\u001b[1;32m   2824\u001b[0m \u001b[0;34m\u001b[0m\u001b[0m\n\u001b[1;32m   2825\u001b[0m     \u001b[0;32mdef\u001b[0m \u001b[0mnum_cols\u001b[0m\u001b[0;34m(\u001b[0m\u001b[0mself\u001b[0m\u001b[0;34m)\u001b[0m\u001b[0;34m:\u001b[0m\u001b[0;34m\u001b[0m\u001b[0m\n",
      "\u001b[0;32mgraphlab/cython/cy_sframe.pyx\u001b[0m in \u001b[0;36mgraphlab.cython.cy_sframe.UnitySFrameProxy.num_rows\u001b[0;34m()\u001b[0m\n",
      "\u001b[0;32mgraphlab/cython/cy_sframe.pyx\u001b[0m in \u001b[0;36mgraphlab.cython.cy_sframe.UnitySFrameProxy.num_rows\u001b[0;34m()\u001b[0m\n",
      "\u001b[0;31mIOError\u001b[0m: Fail to write. Disk may be full.: unspecified iostream_category error: unspecified iostream_category error"
     ]
    }
   ],
   "source": [
    "model_pos_neg_1M_real = graphlab.logistic_classifier.create(train,target='senti',features=featureset1,l2_penalty=1e2)\n",
    "\n",
    "    "
   ]
  },
  {
   "cell_type": "code",
   "execution_count": null,
   "metadata": {
    "collapsed": false
   },
   "outputs": [],
   "source": [
    "#len(sentiment140_tweets_500_dropped)\n",
    "#model1.save('pos_neg_model1')\n",
    "#model_pos_neg_1M.save('model_pos_neg_1M')\n",
    "#train"
   ]
  },
  {
   "cell_type": "code",
   "execution_count": 43,
   "metadata": {
    "collapsed": false
   },
   "outputs": [
    {
     "data": {
      "text/html": [
       "<div style=\"max-height:1000px;max-width:1500px;overflow:auto;\"><table frame=\"box\" rules=\"cols\">\n",
       "    <tr>\n",
       "        <th style=\"padding-left: 1em; padding-right: 1em; text-align: center\">Sentiment</th>\n",
       "        <th style=\"padding-left: 1em; padding-right: 1em; text-align: center\">ID</th>\n",
       "        <th style=\"padding-left: 1em; padding-right: 1em; text-align: center\">Date</th>\n",
       "        <th style=\"padding-left: 1em; padding-right: 1em; text-align: center\">Query</th>\n",
       "        <th style=\"padding-left: 1em; padding-right: 1em; text-align: center\">user</th>\n",
       "        <th style=\"padding-left: 1em; padding-right: 1em; text-align: center\">Tweet</th>\n",
       "        <th style=\"padding-left: 1em; padding-right: 1em; text-align: center\">senti</th>\n",
       "    </tr>\n",
       "    <tr>\n",
       "        <td style=\"padding-left: 1em; padding-right: 1em; text-align: center; vertical-align: top\">4</td>\n",
       "        <td style=\"padding-left: 1em; padding-right: 1em; text-align: center; vertical-align: top\">1467822635</td>\n",
       "        <td style=\"padding-left: 1em; padding-right: 1em; text-align: center; vertical-align: top\">Mon Apr 06 22:22:51 PDT<br>2009 ...</td>\n",
       "        <td style=\"padding-left: 1em; padding-right: 1em; text-align: center; vertical-align: top\">NO_QUERY</td>\n",
       "        <td style=\"padding-left: 1em; padding-right: 1em; text-align: center; vertical-align: top\">JJLuver756</td>\n",
       "        <td style=\"padding-left: 1em; padding-right: 1em; text-align: center; vertical-align: top\">@nileyjileyluver Haha,<br>don't worry! You'll get ...</td>\n",
       "        <td style=\"padding-left: 1em; padding-right: 1em; text-align: center; vertical-align: top\">1</td>\n",
       "    </tr>\n",
       "    <tr>\n",
       "        <td style=\"padding-left: 1em; padding-right: 1em; text-align: center; vertical-align: top\">4</td>\n",
       "        <td style=\"padding-left: 1em; padding-right: 1em; text-align: center; vertical-align: top\">1467822814</td>\n",
       "        <td style=\"padding-left: 1em; padding-right: 1em; text-align: center; vertical-align: top\">Mon Apr 06 22:22:54 PDT<br>2009 ...</td>\n",
       "        <td style=\"padding-left: 1em; padding-right: 1em; text-align: center; vertical-align: top\">NO_QUERY</td>\n",
       "        <td style=\"padding-left: 1em; padding-right: 1em; text-align: center; vertical-align: top\">misstoriblack</td>\n",
       "        <td style=\"padding-left: 1em; padding-right: 1em; text-align: center; vertical-align: top\">Just added tweetie to my<br>new iPhone ...</td>\n",
       "        <td style=\"padding-left: 1em; padding-right: 1em; text-align: center; vertical-align: top\">1</td>\n",
       "    </tr>\n",
       "    <tr>\n",
       "        <td style=\"padding-left: 1em; padding-right: 1em; text-align: center; vertical-align: top\">4</td>\n",
       "        <td style=\"padding-left: 1em; padding-right: 1em; text-align: center; vertical-align: top\">1467823132</td>\n",
       "        <td style=\"padding-left: 1em; padding-right: 1em; text-align: center; vertical-align: top\">Mon Apr 06 22:22:58 PDT<br>2009 ...</td>\n",
       "        <td style=\"padding-left: 1em; padding-right: 1em; text-align: center; vertical-align: top\">NO_QUERY</td>\n",
       "        <td style=\"padding-left: 1em; padding-right: 1em; text-align: center; vertical-align: top\">MissNikki22</td>\n",
       "        <td style=\"padding-left: 1em; padding-right: 1em; text-align: center; vertical-align: top\">Aw i'm holding my new<br>puppy. Well He's not  ...</td>\n",
       "        <td style=\"padding-left: 1em; padding-right: 1em; text-align: center; vertical-align: top\">1</td>\n",
       "    </tr>\n",
       "    <tr>\n",
       "        <td style=\"padding-left: 1em; padding-right: 1em; text-align: center; vertical-align: top\">4</td>\n",
       "        <td style=\"padding-left: 1em; padding-right: 1em; text-align: center; vertical-align: top\">1467823618</td>\n",
       "        <td style=\"padding-left: 1em; padding-right: 1em; text-align: center; vertical-align: top\">Mon Apr 06 22:23:06 PDT<br>2009 ...</td>\n",
       "        <td style=\"padding-left: 1em; padding-right: 1em; text-align: center; vertical-align: top\">NO_QUERY</td>\n",
       "        <td style=\"padding-left: 1em; padding-right: 1em; text-align: center; vertical-align: top\">conniechiwa23</td>\n",
       "        <td style=\"padding-left: 1em; padding-right: 1em; text-align: center; vertical-align: top\">happy to spend time with<br>the family. ...</td>\n",
       "        <td style=\"padding-left: 1em; padding-right: 1em; text-align: center; vertical-align: top\">1</td>\n",
       "    </tr>\n",
       "    <tr>\n",
       "        <td style=\"padding-left: 1em; padding-right: 1em; text-align: center; vertical-align: top\">4</td>\n",
       "        <td style=\"padding-left: 1em; padding-right: 1em; text-align: center; vertical-align: top\">1467823719</td>\n",
       "        <td style=\"padding-left: 1em; padding-right: 1em; text-align: center; vertical-align: top\">Mon Apr 06 22:23:07 PDT<br>2009 ...</td>\n",
       "        <td style=\"padding-left: 1em; padding-right: 1em; text-align: center; vertical-align: top\">NO_QUERY</td>\n",
       "        <td style=\"padding-left: 1em; padding-right: 1em; text-align: center; vertical-align: top\">alderina</td>\n",
       "        <td style=\"padding-left: 1em; padding-right: 1em; text-align: center; vertical-align: top\">@deon upload di<br>indowebster dong bang ...</td>\n",
       "        <td style=\"padding-left: 1em; padding-right: 1em; text-align: center; vertical-align: top\">1</td>\n",
       "    </tr>\n",
       "    <tr>\n",
       "        <td style=\"padding-left: 1em; padding-right: 1em; text-align: center; vertical-align: top\">4</td>\n",
       "        <td style=\"padding-left: 1em; padding-right: 1em; text-align: center; vertical-align: top\">1467823989</td>\n",
       "        <td style=\"padding-left: 1em; padding-right: 1em; text-align: center; vertical-align: top\">Mon Apr 06 22:23:12 PDT<br>2009 ...</td>\n",
       "        <td style=\"padding-left: 1em; padding-right: 1em; text-align: center; vertical-align: top\">NO_QUERY</td>\n",
       "        <td style=\"padding-left: 1em; padding-right: 1em; text-align: center; vertical-align: top\">andwhenyousing</td>\n",
       "        <td style=\"padding-left: 1em; padding-right: 1em; text-align: center; vertical-align: top\">Across the Universe.<br>Sleep. Rehearsal ...</td>\n",
       "        <td style=\"padding-left: 1em; padding-right: 1em; text-align: center; vertical-align: top\">1</td>\n",
       "    </tr>\n",
       "    <tr>\n",
       "        <td style=\"padding-left: 1em; padding-right: 1em; text-align: center; vertical-align: top\">4</td>\n",
       "        <td style=\"padding-left: 1em; padding-right: 1em; text-align: center; vertical-align: top\">1467824088</td>\n",
       "        <td style=\"padding-left: 1em; padding-right: 1em; text-align: center; vertical-align: top\">Mon Apr 06 22:23:13 PDT<br>2009 ...</td>\n",
       "        <td style=\"padding-left: 1em; padding-right: 1em; text-align: center; vertical-align: top\">NO_QUERY</td>\n",
       "        <td style=\"padding-left: 1em; padding-right: 1em; text-align: center; vertical-align: top\">Dori23</td>\n",
       "        <td style=\"padding-left: 1em; padding-right: 1em; text-align: center; vertical-align: top\">@JonathanRKnight Hi Jon!<br>Great to hear from you! ...</td>\n",
       "        <td style=\"padding-left: 1em; padding-right: 1em; text-align: center; vertical-align: top\">1</td>\n",
       "    </tr>\n",
       "    <tr>\n",
       "        <td style=\"padding-left: 1em; padding-right: 1em; text-align: center; vertical-align: top\">4</td>\n",
       "        <td style=\"padding-left: 1em; padding-right: 1em; text-align: center; vertical-align: top\">1467824606</td>\n",
       "        <td style=\"padding-left: 1em; padding-right: 1em; text-align: center; vertical-align: top\">Mon Apr 06 22:23:22 PDT<br>2009 ...</td>\n",
       "        <td style=\"padding-left: 1em; padding-right: 1em; text-align: center; vertical-align: top\">NO_QUERY</td>\n",
       "        <td style=\"padding-left: 1em; padding-right: 1em; text-align: center; vertical-align: top\">SeanDB1</td>\n",
       "        <td style=\"padding-left: 1em; padding-right: 1em; text-align: center; vertical-align: top\">Morning Tweetland, a long<br>day ahead! Hope everyone ...</td>\n",
       "        <td style=\"padding-left: 1em; padding-right: 1em; text-align: center; vertical-align: top\">1</td>\n",
       "    </tr>\n",
       "    <tr>\n",
       "        <td style=\"padding-left: 1em; padding-right: 1em; text-align: center; vertical-align: top\">4</td>\n",
       "        <td style=\"padding-left: 1em; padding-right: 1em; text-align: center; vertical-align: top\">1467824840</td>\n",
       "        <td style=\"padding-left: 1em; padding-right: 1em; text-align: center; vertical-align: top\">Mon Apr 06 22:23:25 PDT<br>2009 ...</td>\n",
       "        <td style=\"padding-left: 1em; padding-right: 1em; text-align: center; vertical-align: top\">NO_QUERY</td>\n",
       "        <td style=\"padding-left: 1em; padding-right: 1em; text-align: center; vertical-align: top\">msclace</td>\n",
       "        <td style=\"padding-left: 1em; padding-right: 1em; text-align: center; vertical-align: top\">@fuzeb they are so<br>serious too while sin ...</td>\n",
       "        <td style=\"padding-left: 1em; padding-right: 1em; text-align: center; vertical-align: top\">1</td>\n",
       "    </tr>\n",
       "    <tr>\n",
       "        <td style=\"padding-left: 1em; padding-right: 1em; text-align: center; vertical-align: top\">4</td>\n",
       "        <td style=\"padding-left: 1em; padding-right: 1em; text-align: center; vertical-align: top\">1467825218</td>\n",
       "        <td style=\"padding-left: 1em; padding-right: 1em; text-align: center; vertical-align: top\">Mon Apr 06 22:23:34 PDT<br>2009 ...</td>\n",
       "        <td style=\"padding-left: 1em; padding-right: 1em; text-align: center; vertical-align: top\">NO_QUERY</td>\n",
       "        <td style=\"padding-left: 1em; padding-right: 1em; text-align: center; vertical-align: top\">Maeny</td>\n",
       "        <td style=\"padding-left: 1em; padding-right: 1em; text-align: center; vertical-align: top\">@theragingocean BonJour<br>Spacecowboy,I wish I was ...</td>\n",
       "        <td style=\"padding-left: 1em; padding-right: 1em; text-align: center; vertical-align: top\">1</td>\n",
       "    </tr>\n",
       "</table>\n",
       "<table frame=\"box\" rules=\"cols\">\n",
       "    <tr>\n",
       "        <th style=\"padding-left: 1em; padding-right: 1em; text-align: center\">clean_tweet</th>\n",
       "        <th style=\"padding-left: 1em; padding-right: 1em; text-align: center\">word_count</th>\n",
       "        <th style=\"padding-left: 1em; padding-right: 1em; text-align: center\">tfidf</th>\n",
       "        <th style=\"padding-left: 1em; padding-right: 1em; text-align: center\">1gram features</th>\n",
       "    </tr>\n",
       "    <tr>\n",
       "        <td style=\"padding-left: 1em; padding-right: 1em; text-align: center; vertical-align: top\">nileyjileyluver Haha dont<br>worry Youll get the hang ...</td>\n",
       "        <td style=\"padding-left: 1em; padding-right: 1em; text-align: center; vertical-align: top\">{'nileyjileyluver': 1,<br>'dont': 1, 'get': 1, ...</td>\n",
       "        <td style=\"padding-left: 1em; padding-right: 1em; text-align: center; vertical-align: top\">{'nileyjileyluver':<br>13.122363377404328, ...</td>\n",
       "        <td style=\"padding-left: 1em; padding-right: 1em; text-align: center; vertical-align: top\">{'nileyjileyluver': 1,<br>'dont': 1, 'get': 1, ...</td>\n",
       "    </tr>\n",
       "    <tr>\n",
       "        <td style=\"padding-left: 1em; padding-right: 1em; text-align: center; vertical-align: top\">Just added tweetie to my<br>new iPhone ...</td>\n",
       "        <td style=\"padding-left: 1em; padding-right: 1em; text-align: center; vertical-align: top\">{'added': 1, 'just': 1,<br>'tweetie': 1, 'to': 1, ...</td>\n",
       "        <td style=\"padding-left: 1em; padding-right: 1em; text-align: center; vertical-align: top\">{'added':<br>7.082108666126914, ...</td>\n",
       "        <td style=\"padding-left: 1em; padding-right: 1em; text-align: center; vertical-align: top\">{'added': 1, 'just': 1,<br>'tweetie': 1, 'to': 1, ...</td>\n",
       "    </tr>\n",
       "    <tr>\n",
       "        <td style=\"padding-left: 1em; padding-right: 1em; text-align: center; vertical-align: top\">Aw im holding my new<br>puppy Well Hes not mine ...</td>\n",
       "        <td style=\"padding-left: 1em; padding-right: 1em; text-align: center; vertical-align: top\">{'a': 1, 'cutie': 1,<br>'aw': 1, 'hes': 2, ...</td>\n",
       "        <td style=\"padding-left: 1em; padding-right: 1em; text-align: center; vertical-align: top\">{'a': 1.5615719847634788,<br>'cutie': ...</td>\n",
       "        <td style=\"padding-left: 1em; padding-right: 1em; text-align: center; vertical-align: top\">{'a': 1, 'puppy': 1,<br>'holding': 1, 'hes': 2, ...</td>\n",
       "    </tr>\n",
       "    <tr>\n",
       "        <td style=\"padding-left: 1em; padding-right: 1em; text-align: center; vertical-align: top\">happy to spend time with<br>the family ...</td>\n",
       "        <td style=\"padding-left: 1em; padding-right: 1em; text-align: center; vertical-align: top\">{'family': 1, 'to': 1,<br>'time': 1, 'the': 1, ...</td>\n",
       "        <td style=\"padding-left: 1em; padding-right: 1em; text-align: center; vertical-align: top\">{'family':<br>5.389994155119941, 'to': ...</td>\n",
       "        <td style=\"padding-left: 1em; padding-right: 1em; text-align: center; vertical-align: top\">{'family': 1, 'to': 1,<br>'time': 1, 'the': 1, ...</td>\n",
       "    </tr>\n",
       "    <tr>\n",
       "        <td style=\"padding-left: 1em; padding-right: 1em; text-align: center; vertical-align: top\">deon upload di<br>indowebster dong bang ...</td>\n",
       "        <td style=\"padding-left: 1em; padding-right: 1em; text-align: center; vertical-align: top\">{'indowebster': 1,<br>'dong': 1, 'di': 1, ...</td>\n",
       "        <td style=\"padding-left: 1em; padding-right: 1em; text-align: center; vertical-align: top\">{'indowebster':<br>13.122363377404328, ...</td>\n",
       "        <td style=\"padding-left: 1em; padding-right: 1em; text-align: center; vertical-align: top\">{'indowebster': 1,<br>'dong': 1, 'di': 1, ...</td>\n",
       "    </tr>\n",
       "    <tr>\n",
       "        <td style=\"padding-left: 1em; padding-right: 1em; text-align: center; vertical-align: top\">Across the Universe Sleep<br>Rehearsal tomorrow ...</td>\n",
       "        <td style=\"padding-left: 1em; padding-right: 1em; text-align: center; vertical-align: top\">{'universe': 1, 'across':<br>1, 'rehearsal': 1, ...</td>\n",
       "        <td style=\"padding-left: 1em; padding-right: 1em; text-align: center; vertical-align: top\">{'universe':<br>8.431015495175185, ...</td>\n",
       "        <td style=\"padding-left: 1em; padding-right: 1em; text-align: center; vertical-align: top\">{'universe': 1, 'across':<br>1, 'rehearsal': 1, ...</td>\n",
       "    </tr>\n",
       "    <tr>\n",
       "        <td style=\"padding-left: 1em; padding-right: 1em; text-align: center; vertical-align: top\">JonathanRKnight Hi Jon<br>Great to hear from you ...</td>\n",
       "        <td style=\"padding-left: 1em; padding-right: 1em; text-align: center; vertical-align: top\">{'all': 1, 'is': 1,<br>'see': 1, 'are': 1, ...</td>\n",
       "        <td style=\"padding-left: 1em; padding-right: 1em; text-align: center; vertical-align: top\">{'all':<br>2.9908243372014085, ' ...</td>\n",
       "        <td style=\"padding-left: 1em; padding-right: 1em; text-align: center; vertical-align: top\">{'all': 1, 'is': 1,<br>'see': 1, 'are': 1, ...</td>\n",
       "    </tr>\n",
       "    <tr>\n",
       "        <td style=\"padding-left: 1em; padding-right: 1em; text-align: center; vertical-align: top\">Morning Tweetland a long<br>day ahead Hope everyone ...</td>\n",
       "        <td style=\"padding-left: 1em; padding-right: 1em; text-align: center; vertical-align: top\">{'a': 2, 'great': 1,<br>'everyone': 1, 'ahead': ...</td>\n",
       "        <td style=\"padding-left: 1em; padding-right: 1em; text-align: center; vertical-align: top\">{'a': 3.1231439695269576,<br>'great': ...</td>\n",
       "        <td style=\"padding-left: 1em; padding-right: 1em; text-align: center; vertical-align: top\">{'a': 2, 'great': 1,<br>'everyone': 1, 'ahead': ...</td>\n",
       "    </tr>\n",
       "    <tr>\n",
       "        <td style=\"padding-left: 1em; padding-right: 1em; text-align: center; vertical-align: top\">fuzeb they are so serious<br>too while singing like ...</td>\n",
       "        <td style=\"padding-left: 1em; padding-right: 1em; text-align: center; vertical-align: top\">{'are': 1, 'lsd': 1,<br>'like': 1, 'hehe': 1, ...</td>\n",
       "        <td style=\"padding-left: 1em; padding-right: 1em; text-align: center; vertical-align: top\">{'are': 3.07603168083872,<br>'lsd': ...</td>\n",
       "        <td style=\"padding-left: 1em; padding-right: 1em; text-align: center; vertical-align: top\">{'lsd': 1, 'like': 1,<br>'hehe': 1, 'maybe': 1, ...</td>\n",
       "    </tr>\n",
       "    <tr>\n",
       "        <td style=\"padding-left: 1em; padding-right: 1em; text-align: center; vertical-align: top\">theragingocean BonJour<br>SpacecowboyI wish I was ...</td>\n",
       "        <td style=\"padding-left: 1em; padding-right: 1em; text-align: center; vertical-align: top\">{'and': 1,<br>'spacecowboyi': 1, ...</td>\n",
       "        <td style=\"padding-left: 1em; padding-right: 1em; text-align: center; vertical-align: top\">{'and':<br>1.7764256356628716, ...</td>\n",
       "        <td style=\"padding-left: 1em; padding-right: 1em; text-align: center; vertical-align: top\">{'and': 1,<br>'spacecowboyi': 1, ...</td>\n",
       "    </tr>\n",
       "</table>\n",
       "<table frame=\"box\" rules=\"cols\">\n",
       "    <tr>\n",
       "        <th style=\"padding-left: 1em; padding-right: 1em; text-align: center\">2gram features</th>\n",
       "        <th style=\"padding-left: 1em; padding-right: 1em; text-align: center\">3gram features</th>\n",
       "        <th style=\"padding-left: 1em; padding-right: 1em; text-align: center\">vectors_pos_neg</th>\n",
       "        <th style=\"padding-left: 1em; padding-right: 1em; text-align: center\">vectors_pos_neutral</th>\n",
       "    </tr>\n",
       "    <tr>\n",
       "        <td style=\"padding-left: 1em; padding-right: 1em; text-align: center; vertical-align: top\">{'get the': 1, 'dont<br>worry': 1, 'of it': 1, ...</td>\n",
       "        <td style=\"padding-left: 1em; padding-right: 1em; text-align: center; vertical-align: top\">{'dont worry youll': 1,<br>'youll get the': 1, ...</td>\n",
       "        <td style=\"padding-left: 1em; padding-right: 1em; text-align: center; vertical-align: top\">[0.0652433484793,<br>0.032108142972, ...</td>\n",
       "        <td style=\"padding-left: 1em; padding-right: 1em; text-align: center; vertical-align: top\">[-0.0303177349269,<br>0.106237776577, ...</td>\n",
       "    </tr>\n",
       "    <tr>\n",
       "        <td style=\"padding-left: 1em; padding-right: 1em; text-align: center; vertical-align: top\">{'tweetie to': 1, 'to<br>my': 1, 'added tweetie': ...</td>\n",
       "        <td style=\"padding-left: 1em; padding-right: 1em; text-align: center; vertical-align: top\">{'to my new': 1, 'added<br>tweetie to': 1, 'tweetie ...</td>\n",
       "        <td style=\"padding-left: 1em; padding-right: 1em; text-align: center; vertical-align: top\">[-0.1010273844,<br>-0.199035406113, ...</td>\n",
       "        <td style=\"padding-left: 1em; padding-right: 1em; text-align: center; vertical-align: top\">[-0.0870327651501,<br>-0.0523580610752, ...</td>\n",
       "    </tr>\n",
       "    <tr>\n",
       "        <td style=\"padding-left: 1em; padding-right: 1em; text-align: center; vertical-align: top\">{'a cutie': 1, 'hes a':<br>1, 'but hes': 1, 'im ...</td>\n",
       "        <td style=\"padding-left: 1em; padding-right: 1em; text-align: center; vertical-align: top\">{'not mine but': 1, 'but<br>hes a': 1, 'new puppy ...</td>\n",
       "        <td style=\"padding-left: 1em; padding-right: 1em; text-align: center; vertical-align: top\">[0.0422840192914,<br>-0.0266917888075, ...</td>\n",
       "        <td style=\"padding-left: 1em; padding-right: 1em; text-align: center; vertical-align: top\">[-0.0216517038643,<br>0.061764549464, ...</td>\n",
       "    </tr>\n",
       "    <tr>\n",
       "        <td style=\"padding-left: 1em; padding-right: 1em; text-align: center; vertical-align: top\">{'time with': 1, 'with<br>the': 1, 'spend time' ...</td>\n",
       "        <td style=\"padding-left: 1em; padding-right: 1em; text-align: center; vertical-align: top\">{'with the family': 1,<br>'happy to spend': 1, ...</td>\n",
       "        <td style=\"padding-left: 1em; padding-right: 1em; text-align: center; vertical-align: top\">[-0.129141673446,<br>0.00763268209994, ...</td>\n",
       "        <td style=\"padding-left: 1em; padding-right: 1em; text-align: center; vertical-align: top\">[-0.0536094419658,<br>0.191626280546, ...</td>\n",
       "    </tr>\n",
       "    <tr>\n",
       "        <td style=\"padding-left: 1em; padding-right: 1em; text-align: center; vertical-align: top\">{'dong banggggg': 1,<br>'indowebster dong': 1, ...</td>\n",
       "        <td style=\"padding-left: 1em; padding-right: 1em; text-align: center; vertical-align: top\">{'upload di indowebster':<br>1, 'deon upload di': 1, ...</td>\n",
       "        <td style=\"padding-left: 1em; padding-right: 1em; text-align: center; vertical-align: top\">[0.0781180411577,<br>0.00725541822612, ...</td>\n",
       "        <td style=\"padding-left: 1em; padding-right: 1em; text-align: center; vertical-align: top\">[0.0372952222824,<br>0.0249723643064, ...</td>\n",
       "    </tr>\n",
       "    <tr>\n",
       "        <td style=\"padding-left: 1em; padding-right: 1em; text-align: center; vertical-align: top\">{'across the': 1,<br>'universe sleep': 1, ...</td>\n",
       "        <td style=\"padding-left: 1em; padding-right: 1em; text-align: center; vertical-align: top\">{'the universe sleep': 1,<br>'across the universe' ...</td>\n",
       "        <td style=\"padding-left: 1em; padding-right: 1em; text-align: center; vertical-align: top\">[-0.0628112182021,<br>0.0194490198046, ...</td>\n",
       "        <td style=\"padding-left: 1em; padding-right: 1em; text-align: center; vertical-align: top\">[-0.0227306485176,<br>0.0999423936009, ...</td>\n",
       "    </tr>\n",
       "    <tr>\n",
       "        <td style=\"padding-left: 1em; padding-right: 1em; text-align: center; vertical-align: top\">{'bus you': 1, 'you on':<br>1, 'on the': 2, ...</td>\n",
       "        <td style=\"padding-left: 1em; padding-right: 1em; text-align: center; vertical-align: top\">{'on the knight': 1,<br>'hope all is': 1, 'cr ...</td>\n",
       "        <td style=\"padding-left: 1em; padding-right: 1em; text-align: center; vertical-align: top\">[-0.0210476014763,<br>-0.0378108993173, ...</td>\n",
       "        <td style=\"padding-left: 1em; padding-right: 1em; text-align: center; vertical-align: top\">[-0.0565692037344,<br>0.0131506659091, ...</td>\n",
       "    </tr>\n",
       "    <tr>\n",
       "        <td style=\"padding-left: 1em; padding-right: 1em; text-align: center; vertical-align: top\">{'great day': 1, 'a<br>great': 1, 'a long': 1, ...</td>\n",
       "        <td style=\"padding-left: 1em; padding-right: 1em; text-align: center; vertical-align: top\">{'tweetland a long': 1,<br>'everyone has a': 1, 'a ...</td>\n",
       "        <td style=\"padding-left: 1em; padding-right: 1em; text-align: center; vertical-align: top\">[0.0309565588832,<br>0.011607453227, ...</td>\n",
       "        <td style=\"padding-left: 1em; padding-right: 1em; text-align: center; vertical-align: top\">[-0.083696141839,<br>-0.0157204996794, ...</td>\n",
       "    </tr>\n",
       "    <tr>\n",
       "        <td style=\"padding-left: 1em; padding-right: 1em; text-align: center; vertical-align: top\">{'too while': 1, 'hehe<br>lsd': 1, 'like whoa': 1, ...</td>\n",
       "        <td style=\"padding-left: 1em; padding-right: 1em; text-align: center; vertical-align: top\">{'are so serious': 1,<br>'too while singing': 1, ...</td>\n",
       "        <td style=\"padding-left: 1em; padding-right: 1em; text-align: center; vertical-align: top\">[0.119461230934,<br>0.0880321115255, ...</td>\n",
       "        <td style=\"padding-left: 1em; padding-right: 1em; text-align: center; vertical-align: top\">[-0.011182946153,<br>-0.0875660032034, ...</td>\n",
       "    </tr>\n",
       "    <tr>\n",
       "        <td style=\"padding-left: 1em; padding-right: 1em; text-align: center; vertical-align: top\">{'i work': 1, 'with<br>kids': 1, 'was either': ...</td>\n",
       "        <td style=\"padding-left: 1em; padding-right: 1em; text-align: center; vertical-align: top\">{'i was either': 1, 'out<br>whenever i': 1, 'go ...</td>\n",
       "        <td style=\"padding-left: 1em; padding-right: 1em; text-align: center; vertical-align: top\">[0.0370592288673,<br>0.0929647535086, ...</td>\n",
       "        <td style=\"padding-left: 1em; padding-right: 1em; text-align: center; vertical-align: top\">[-0.0197320580482,<br>0.0169024821371, ...</td>\n",
       "    </tr>\n",
       "</table>\n",
       "<table frame=\"box\" rules=\"cols\">\n",
       "    <tr>\n",
       "        <th style=\"padding-left: 1em; padding-right: 1em; text-align: center\">vectors_pos_nonpos</th>\n",
       "        <th style=\"padding-left: 1em; padding-right: 1em; text-align: center\">vectors_neg_nonneg</th>\n",
       "        <th style=\"padding-left: 1em; padding-right: 1em; text-align: center\">vectors_doc2vec_tweetsonl<br>y_dm ...</th>\n",
       "    </tr>\n",
       "    <tr>\n",
       "        <td style=\"padding-left: 1em; padding-right: 1em; text-align: center; vertical-align: top\">[-0.00772365555167,<br>0.0819314718246, ...</td>\n",
       "        <td style=\"padding-left: 1em; padding-right: 1em; text-align: center; vertical-align: top\">[-0.107196994126,<br>-0.01209675055, ...</td>\n",
       "        <td style=\"padding-left: 1em; padding-right: 1em; text-align: center; vertical-align: top\">[0.0290324389935,<br>0.0227123033255, ...</td>\n",
       "    </tr>\n",
       "    <tr>\n",
       "        <td style=\"padding-left: 1em; padding-right: 1em; text-align: center; vertical-align: top\">[0.0995449274778,<br>-0.195693641901, ...</td>\n",
       "        <td style=\"padding-left: 1em; padding-right: 1em; text-align: center; vertical-align: top\">[-0.076555877924,<br>-0.308078229427, ...</td>\n",
       "        <td style=\"padding-left: 1em; padding-right: 1em; text-align: center; vertical-align: top\">[-0.0235258098692,<br>0.0188709832728, ...</td>\n",
       "    </tr>\n",
       "    <tr>\n",
       "        <td style=\"padding-left: 1em; padding-right: 1em; text-align: center; vertical-align: top\">[0.00797966308892,<br>0.00294420192949, ...</td>\n",
       "        <td style=\"padding-left: 1em; padding-right: 1em; text-align: center; vertical-align: top\">[0.0458968505263,<br>-0.040108576417, ...</td>\n",
       "        <td style=\"padding-left: 1em; padding-right: 1em; text-align: center; vertical-align: top\">[-0.00170375138987,<br>5.54980179004e-05, ...</td>\n",
       "    </tr>\n",
       "    <tr>\n",
       "        <td style=\"padding-left: 1em; padding-right: 1em; text-align: center; vertical-align: top\">[-0.201768815517,<br>0.261031836271, ...</td>\n",
       "        <td style=\"padding-left: 1em; padding-right: 1em; text-align: center; vertical-align: top\">[0.156085252762,<br>0.103475727141, ...</td>\n",
       "        <td style=\"padding-left: 1em; padding-right: 1em; text-align: center; vertical-align: top\">[0.00908663962036,<br>-0.0115970065817, ...</td>\n",
       "    </tr>\n",
       "    <tr>\n",
       "        <td style=\"padding-left: 1em; padding-right: 1em; text-align: center; vertical-align: top\">[0.112263582647,<br>-0.0201161168516, ...</td>\n",
       "        <td style=\"padding-left: 1em; padding-right: 1em; text-align: center; vertical-align: top\">[0.0166102591902,<br>-0.0722947493196, ...</td>\n",
       "        <td style=\"padding-left: 1em; padding-right: 1em; text-align: center; vertical-align: top\">[-0.0107286637649,<br>0.00866848789155, ...</td>\n",
       "    </tr>\n",
       "    <tr>\n",
       "        <td style=\"padding-left: 1em; padding-right: 1em; text-align: center; vertical-align: top\">[0.0417317338288,<br>-0.0282075703144, ...</td>\n",
       "        <td style=\"padding-left: 1em; padding-right: 1em; text-align: center; vertical-align: top\">[-0.148580804467,<br>0.0254094544798, ...</td>\n",
       "        <td style=\"padding-left: 1em; padding-right: 1em; text-align: center; vertical-align: top\">[0.0143560729921,<br>0.0133927967399, ...</td>\n",
       "    </tr>\n",
       "    <tr>\n",
       "        <td style=\"padding-left: 1em; padding-right: 1em; text-align: center; vertical-align: top\">[-0.096899241209,<br>0.0290858410299, ...</td>\n",
       "        <td style=\"padding-left: 1em; padding-right: 1em; text-align: center; vertical-align: top\">[-0.0402190461755,<br>-0.0153256608173, ...</td>\n",
       "        <td style=\"padding-left: 1em; padding-right: 1em; text-align: center; vertical-align: top\">[0.0237317979336,<br>0.0454240776598, ...</td>\n",
       "    </tr>\n",
       "    <tr>\n",
       "        <td style=\"padding-left: 1em; padding-right: 1em; text-align: center; vertical-align: top\">[-0.00195096433163,<br>0.1038896963, ...</td>\n",
       "        <td style=\"padding-left: 1em; padding-right: 1em; text-align: center; vertical-align: top\">[-0.107136622071,<br>-0.0316119752824, ...</td>\n",
       "        <td style=\"padding-left: 1em; padding-right: 1em; text-align: center; vertical-align: top\">[-0.0109287798405,<br>0.00356773729436, ...</td>\n",
       "    </tr>\n",
       "    <tr>\n",
       "        <td style=\"padding-left: 1em; padding-right: 1em; text-align: center; vertical-align: top\">[0.0282396171242,<br>-0.0772325843573, ...</td>\n",
       "        <td style=\"padding-left: 1em; padding-right: 1em; text-align: center; vertical-align: top\">[-0.00401109084487,<br>0.0356861203909, ...</td>\n",
       "        <td style=\"padding-left: 1em; padding-right: 1em; text-align: center; vertical-align: top\">[0.00889424048364,<br>0.0221967212856, ...</td>\n",
       "    </tr>\n",
       "    <tr>\n",
       "        <td style=\"padding-left: 1em; padding-right: 1em; text-align: center; vertical-align: top\">[0.00221224338748,<br>0.0588356927037, ...</td>\n",
       "        <td style=\"padding-left: 1em; padding-right: 1em; text-align: center; vertical-align: top\">[-0.0550877824426,<br>0.0554715581238, ...</td>\n",
       "        <td style=\"padding-left: 1em; padding-right: 1em; text-align: center; vertical-align: top\">[0.0101744197309,<br>0.0212762579322, ...</td>\n",
       "    </tr>\n",
       "</table>\n",
       "[? rows x 18 columns]<br/>Note: Only the head of the SFrame is printed. This SFrame is lazily evaluated.<br/>You can use sf.materialize() to force materialization.\n",
       "</div>"
      ],
      "text/plain": [
       "Columns:\n",
       "\tSentiment\tint\n",
       "\tID\tint\n",
       "\tDate\tstr\n",
       "\tQuery\tstr\n",
       "\tuser\tstr\n",
       "\tTweet\tstr\n",
       "\tsenti\tint\n",
       "\tclean_tweet\tstr\n",
       "\tword_count\tdict\n",
       "\ttfidf\tdict\n",
       "\t1gram features\tdict\n",
       "\t2gram features\tdict\n",
       "\t3gram features\tdict\n",
       "\tvectors_pos_neg\tarray\n",
       "\tvectors_pos_neutral\tarray\n",
       "\tvectors_pos_nonpos\tarray\n",
       "\tvectors_neg_nonneg\tarray\n",
       "\tvectors_doc2vec_tweetsonly_dm\tarray\n",
       "\n",
       "Rows: Unknown\n",
       "\n",
       "Data:\n",
       "+-----------+------------+------------------------------+----------+\n",
       "| Sentiment |     ID     |             Date             |  Query   |\n",
       "+-----------+------------+------------------------------+----------+\n",
       "|     4     | 1467822635 | Mon Apr 06 22:22:51 PDT 2009 | NO_QUERY |\n",
       "|     4     | 1467822814 | Mon Apr 06 22:22:54 PDT 2009 | NO_QUERY |\n",
       "|     4     | 1467823132 | Mon Apr 06 22:22:58 PDT 2009 | NO_QUERY |\n",
       "|     4     | 1467823618 | Mon Apr 06 22:23:06 PDT 2009 | NO_QUERY |\n",
       "|     4     | 1467823719 | Mon Apr 06 22:23:07 PDT 2009 | NO_QUERY |\n",
       "|     4     | 1467823989 | Mon Apr 06 22:23:12 PDT 2009 | NO_QUERY |\n",
       "|     4     | 1467824088 | Mon Apr 06 22:23:13 PDT 2009 | NO_QUERY |\n",
       "|     4     | 1467824606 | Mon Apr 06 22:23:22 PDT 2009 | NO_QUERY |\n",
       "|     4     | 1467824840 | Mon Apr 06 22:23:25 PDT 2009 | NO_QUERY |\n",
       "|     4     | 1467825218 | Mon Apr 06 22:23:34 PDT 2009 | NO_QUERY |\n",
       "+-----------+------------+------------------------------+----------+\n",
       "+----------------+-------------------------------+-------+\n",
       "|      user      |             Tweet             | senti |\n",
       "+----------------+-------------------------------+-------+\n",
       "|   JJLuver756   | @nileyjileyluver Haha, don... |   1   |\n",
       "| misstoriblack  | Just added tweetie to my n... |   1   |\n",
       "|  MissNikki22   | Aw i'm holding my new pupp... |   1   |\n",
       "| conniechiwa23  | happy to spend time with t... |   1   |\n",
       "|    alderina    | @deon upload di indowebste... |   1   |\n",
       "| andwhenyousing | Across the Universe. Sleep... |   1   |\n",
       "|     Dori23     | @JonathanRKnight Hi Jon! G... |   1   |\n",
       "|    SeanDB1     | Morning Tweetland, a long ... |   1   |\n",
       "|    msclace     | @fuzeb they are so serious... |   1   |\n",
       "|     Maeny      | @theragingocean BonJour Sp... |   1   |\n",
       "+----------------+-------------------------------+-------+\n",
       "+-------------------------------+-------------------------------+\n",
       "|          clean_tweet          |           word_count          |\n",
       "+-------------------------------+-------------------------------+\n",
       "| nileyjileyluver Haha dont ... | {'nileyjileyluver': 1, 'do... |\n",
       "| Just added tweetie to my n... | {'added': 1, 'just': 1, 't... |\n",
       "| Aw im holding my new puppy... | {'a': 1, 'cutie': 1, 'aw':... |\n",
       "| happy to spend time with t... | {'family': 1, 'to': 1, 'ti... |\n",
       "| deon upload di indowebster... | {'indowebster': 1, 'dong':... |\n",
       "| Across the Universe Sleep ... | {'universe': 1, 'across': ... |\n",
       "| JonathanRKnight Hi Jon Gre... | {'all': 1, 'is': 1, 'see':... |\n",
       "| Morning Tweetland a long d... | {'a': 2, 'great': 1, 'ever... |\n",
       "| fuzeb they are so serious ... | {'are': 1, 'lsd': 1, 'like... |\n",
       "| theragingocean BonJour Spa... | {'and': 1, 'spacecowboyi':... |\n",
       "+-------------------------------+-------------------------------+\n",
       "+-------------------------------+-------------------------------+\n",
       "|             tfidf             |         1gram features        |\n",
       "+-------------------------------+-------------------------------+\n",
       "| {'nileyjileyluver': 13.122... | {'nileyjileyluver': 1, 'do... |\n",
       "| {'added': 7.08210866612691... | {'added': 1, 'just': 1, 't... |\n",
       "| {'a': 1.5615719847634788, ... | {'a': 1, 'puppy': 1, 'hold... |\n",
       "| {'family': 5.3899941551199... | {'family': 1, 'to': 1, 'ti... |\n",
       "| {'indowebster': 13.1223633... | {'indowebster': 1, 'dong':... |\n",
       "| {'universe': 8.43101549517... | {'universe': 1, 'across': ... |\n",
       "| {'all': 2.9908243372014085... | {'all': 1, 'is': 1, 'see':... |\n",
       "| {'a': 3.1231439695269576, ... | {'a': 2, 'great': 1, 'ever... |\n",
       "| {'are': 3.07603168083872, ... | {'lsd': 1, 'like': 1, 'heh... |\n",
       "| {'and': 1.7764256356628716... | {'and': 1, 'spacecowboyi':... |\n",
       "+-------------------------------+-------------------------------+\n",
       "+-------------------------------+-------------------------------+\n",
       "|         2gram features        |         3gram features        |\n",
       "+-------------------------------+-------------------------------+\n",
       "| {'get the': 1, 'dont worry... | {'dont worry youll': 1, 'y... |\n",
       "| {'tweetie to': 1, 'to my':... | {'to my new': 1, 'added tw... |\n",
       "| {'a cutie': 1, 'hes a': 1,... | {'not mine but': 1, 'but h... |\n",
       "| {'time with': 1, 'with the... | {'with the family': 1, 'ha... |\n",
       "| {'dong banggggg': 1, 'indo... | {'upload di indowebster': ... |\n",
       "| {'across the': 1, 'univers... | {'the universe sleep': 1, ... |\n",
       "| {'bus you': 1, 'you on': 1... | {'on the knight': 1, 'hope... |\n",
       "| {'great day': 1, 'a great'... | {'tweetland a long': 1, 'e... |\n",
       "| {'too while': 1, 'hehe lsd... | {'are so serious': 1, 'too... |\n",
       "| {'i work': 1, 'with kids':... | {'i was either': 1, 'out w... |\n",
       "+-------------------------------+-------------------------------+\n",
       "+-------------------------------+-------------------------------+\n",
       "|        vectors_pos_neg        |      vectors_pos_neutral      |\n",
       "+-------------------------------+-------------------------------+\n",
       "| [0.0652433484793, 0.032108... | [-0.0303177349269, 0.10623... |\n",
       "| [-0.1010273844, -0.1990354... | [-0.0870327651501, -0.0523... |\n",
       "| [0.0422840192914, -0.02669... | [-0.0216517038643, 0.06176... |\n",
       "| [-0.129141673446, 0.007632... | [-0.0536094419658, 0.19162... |\n",
       "| [0.0781180411577, 0.007255... | [0.0372952222824, 0.024972... |\n",
       "| [-0.0628112182021, 0.01944... | [-0.0227306485176, 0.09994... |\n",
       "| [-0.0210476014763, -0.0378... | [-0.0565692037344, 0.01315... |\n",
       "| [0.0309565588832, 0.011607... | [-0.083696141839, -0.01572... |\n",
       "| [0.119461230934, 0.0880321... | [-0.011182946153, -0.08756... |\n",
       "| [0.0370592288673, 0.092964... | [-0.0197320580482, 0.01690... |\n",
       "+-------------------------------+-------------------------------+\n",
       "+-------------------------------+-------------------------------+\n",
       "|       vectors_pos_nonpos      |       vectors_neg_nonneg      |\n",
       "+-------------------------------+-------------------------------+\n",
       "| [-0.00772365555167, 0.0819... | [-0.107196994126, -0.01209... |\n",
       "| [0.0995449274778, -0.19569... | [-0.076555877924, -0.30807... |\n",
       "| [0.00797966308892, 0.00294... | [0.0458968505263, -0.04010... |\n",
       "| [-0.201768815517, 0.261031... | [0.156085252762, 0.1034757... |\n",
       "| [0.112263582647, -0.020116... | [0.0166102591902, -0.07229... |\n",
       "| [0.0417317338288, -0.02820... | [-0.148580804467, 0.025409... |\n",
       "| [-0.096899241209, 0.029085... | [-0.0402190461755, -0.0153... |\n",
       "| [-0.00195096433163, 0.1038... | [-0.107136622071, -0.03161... |\n",
       "| [0.0282396171242, -0.07723... | [-0.00401109084487, 0.0356... |\n",
       "| [0.00221224338748, 0.05883... | [-0.0550877824426, 0.05547... |\n",
       "+-------------------------------+-------------------------------+\n",
       "+-------------------------------+\n",
       "| vectors_doc2vec_tweetsonly_dm |\n",
       "+-------------------------------+\n",
       "| [0.0290324389935, 0.022712... |\n",
       "| [-0.0235258098692, 0.01887... |\n",
       "| [-0.00170375138987, 5.5498... |\n",
       "| [0.00908663962036, -0.0115... |\n",
       "| [-0.0107286637649, 0.00866... |\n",
       "| [0.0143560729921, 0.013392... |\n",
       "| [0.0237317979336, 0.045424... |\n",
       "| [-0.0109287798405, 0.00356... |\n",
       "| [0.00889424048364, 0.02219... |\n",
       "| [0.0101744197309, 0.021276... |\n",
       "+-------------------------------+\n",
       "[? rows x 18 columns]\n",
       "Note: Only the head of the SFrame is printed. This SFrame is lazily evaluated.\n",
       "You can use sf.materialize() to force materialization."
      ]
     },
     "execution_count": 43,
     "metadata": {},
     "output_type": "execute_result"
    }
   ],
   "source": [
    "#train.dropna('vectors_pos_neg')\n",
    "#test.dropna('vectors_pos_neg')\n",
    "#train.dropna('vectors_pos_neutral')\n",
    "#test.dropna('vectors_pos_neutral')\n",
    "#train.dropna('vectors_neg_nonneg')\n",
    "#test.dropna('vectors_neg_nonneg')\n",
    "#train.dropna('vectors_pos_nonpos')\n",
    "#test.dropna('vectors_pos_nonpos')\n",
    "#train.dropna('vectors_doc2vec_tweetsonly_dm')\n",
    "#test.dropna('vectors_doc2vec_tweetsonly_dm')\n",
    "train.dropna()\n",
    "test.dropna()"
   ]
  },
  {
   "cell_type": "code",
   "execution_count": null,
   "metadata": {
    "collapsed": false
   },
   "outputs": [],
   "source": [
    "#print len(test)\n",
    "#print len(te)\n",
    "#len(sentiment140_tweets_500)\n",
    "sentiment140_tweets_500_dropped = sentiment140_tweets_500.dropna()\n",
    "print len(sentiment140_tweets_500_dropped)"
   ]
  },
  {
   "cell_type": "code",
   "execution_count": 147,
   "metadata": {
    "collapsed": false
   },
   "outputs": [
    {
     "data": {
      "text/html": [
       "<div style=\"max-height:1000px;max-width:1500px;overflow:auto;\"><table frame=\"box\" rules=\"cols\">\n",
       "    <tr>\n",
       "        <th style=\"padding-left: 1em; padding-right: 1em; text-align: center\">Sentiment</th>\n",
       "        <th style=\"padding-left: 1em; padding-right: 1em; text-align: center\">ID</th>\n",
       "        <th style=\"padding-left: 1em; padding-right: 1em; text-align: center\">Date</th>\n",
       "        <th style=\"padding-left: 1em; padding-right: 1em; text-align: center\">Query</th>\n",
       "        <th style=\"padding-left: 1em; padding-right: 1em; text-align: center\">user</th>\n",
       "        <th style=\"padding-left: 1em; padding-right: 1em; text-align: center\">Tweet</th>\n",
       "        <th style=\"padding-left: 1em; padding-right: 1em; text-align: center\">senti</th>\n",
       "    </tr>\n",
       "    <tr>\n",
       "        <td style=\"padding-left: 1em; padding-right: 1em; text-align: center; vertical-align: top\">4</td>\n",
       "        <td style=\"padding-left: 1em; padding-right: 1em; text-align: center; vertical-align: top\">1467822272</td>\n",
       "        <td style=\"padding-left: 1em; padding-right: 1em; text-align: center; vertical-align: top\">Mon Apr 06 22:22:45 PDT<br>2009 ...</td>\n",
       "        <td style=\"padding-left: 1em; padding-right: 1em; text-align: center; vertical-align: top\">NO_QUERY</td>\n",
       "        <td style=\"padding-left: 1em; padding-right: 1em; text-align: center; vertical-align: top\">ersle</td>\n",
       "        <td style=\"padding-left: 1em; padding-right: 1em; text-align: center; vertical-align: top\">I LOVE @Health4UandPets u<br>guys r the best!! ...</td>\n",
       "        <td style=\"padding-left: 1em; padding-right: 1em; text-align: center; vertical-align: top\">1</td>\n",
       "    </tr>\n",
       "    <tr>\n",
       "        <td style=\"padding-left: 1em; padding-right: 1em; text-align: center; vertical-align: top\">4</td>\n",
       "        <td style=\"padding-left: 1em; padding-right: 1em; text-align: center; vertical-align: top\">1467822273</td>\n",
       "        <td style=\"padding-left: 1em; padding-right: 1em; text-align: center; vertical-align: top\">Mon Apr 06 22:22:45 PDT<br>2009 ...</td>\n",
       "        <td style=\"padding-left: 1em; padding-right: 1em; text-align: center; vertical-align: top\">NO_QUERY</td>\n",
       "        <td style=\"padding-left: 1em; padding-right: 1em; text-align: center; vertical-align: top\">becca210</td>\n",
       "        <td style=\"padding-left: 1em; padding-right: 1em; text-align: center; vertical-align: top\">im meeting up with one of<br>my besties tonight! Cant ...</td>\n",
       "        <td style=\"padding-left: 1em; padding-right: 1em; text-align: center; vertical-align: top\">1</td>\n",
       "    </tr>\n",
       "    <tr>\n",
       "        <td style=\"padding-left: 1em; padding-right: 1em; text-align: center; vertical-align: top\">4</td>\n",
       "        <td style=\"padding-left: 1em; padding-right: 1em; text-align: center; vertical-align: top\">1467822283</td>\n",
       "        <td style=\"padding-left: 1em; padding-right: 1em; text-align: center; vertical-align: top\">Mon Apr 06 22:22:46 PDT<br>2009 ...</td>\n",
       "        <td style=\"padding-left: 1em; padding-right: 1em; text-align: center; vertical-align: top\">NO_QUERY</td>\n",
       "        <td style=\"padding-left: 1em; padding-right: 1em; text-align: center; vertical-align: top\">Wingman29</td>\n",
       "        <td style=\"padding-left: 1em; padding-right: 1em; text-align: center; vertical-align: top\">@DaRealSunisaKim Thanks<br>for the Twitter add, ...</td>\n",
       "        <td style=\"padding-left: 1em; padding-right: 1em; text-align: center; vertical-align: top\">1</td>\n",
       "    </tr>\n",
       "    <tr>\n",
       "        <td style=\"padding-left: 1em; padding-right: 1em; text-align: center; vertical-align: top\">4</td>\n",
       "        <td style=\"padding-left: 1em; padding-right: 1em; text-align: center; vertical-align: top\">1467822287</td>\n",
       "        <td style=\"padding-left: 1em; padding-right: 1em; text-align: center; vertical-align: top\">Mon Apr 06 22:22:46 PDT<br>2009 ...</td>\n",
       "        <td style=\"padding-left: 1em; padding-right: 1em; text-align: center; vertical-align: top\">NO_QUERY</td>\n",
       "        <td style=\"padding-left: 1em; padding-right: 1em; text-align: center; vertical-align: top\">katarinka</td>\n",
       "        <td style=\"padding-left: 1em; padding-right: 1em; text-align: center; vertical-align: top\">Being sick can be really<br>cheap when it hurts too ...</td>\n",
       "        <td style=\"padding-left: 1em; padding-right: 1em; text-align: center; vertical-align: top\">1</td>\n",
       "    </tr>\n",
       "    <tr>\n",
       "        <td style=\"padding-left: 1em; padding-right: 1em; text-align: center; vertical-align: top\">4</td>\n",
       "        <td style=\"padding-left: 1em; padding-right: 1em; text-align: center; vertical-align: top\">1467822293</td>\n",
       "        <td style=\"padding-left: 1em; padding-right: 1em; text-align: center; vertical-align: top\">Mon Apr 06 22:22:46 PDT<br>2009 ...</td>\n",
       "        <td style=\"padding-left: 1em; padding-right: 1em; text-align: center; vertical-align: top\">NO_QUERY</td>\n",
       "        <td style=\"padding-left: 1em; padding-right: 1em; text-align: center; vertical-align: top\">_EmilyYoung</td>\n",
       "        <td style=\"padding-left: 1em; padding-right: 1em; text-align: center; vertical-align: top\">@LovesBrooklyn2 he has<br>that effect on everyone ...</td>\n",
       "        <td style=\"padding-left: 1em; padding-right: 1em; text-align: center; vertical-align: top\">1</td>\n",
       "    </tr>\n",
       "    <tr>\n",
       "        <td style=\"padding-left: 1em; padding-right: 1em; text-align: center; vertical-align: top\">4</td>\n",
       "        <td style=\"padding-left: 1em; padding-right: 1em; text-align: center; vertical-align: top\">1467822391</td>\n",
       "        <td style=\"padding-left: 1em; padding-right: 1em; text-align: center; vertical-align: top\">Mon Apr 06 22:22:47 PDT<br>2009 ...</td>\n",
       "        <td style=\"padding-left: 1em; padding-right: 1em; text-align: center; vertical-align: top\">NO_QUERY</td>\n",
       "        <td style=\"padding-left: 1em; padding-right: 1em; text-align: center; vertical-align: top\">ajarofalmonds</td>\n",
       "        <td style=\"padding-left: 1em; padding-right: 1em; text-align: center; vertical-align: top\">@ProductOfFear You can<br>tell him that I just ...</td>\n",
       "        <td style=\"padding-left: 1em; padding-right: 1em; text-align: center; vertical-align: top\">1</td>\n",
       "    </tr>\n",
       "    <tr>\n",
       "        <td style=\"padding-left: 1em; padding-right: 1em; text-align: center; vertical-align: top\">4</td>\n",
       "        <td style=\"padding-left: 1em; padding-right: 1em; text-align: center; vertical-align: top\">1467822447</td>\n",
       "        <td style=\"padding-left: 1em; padding-right: 1em; text-align: center; vertical-align: top\">Mon Apr 06 22:22:51 PDT<br>2009 ...</td>\n",
       "        <td style=\"padding-left: 1em; padding-right: 1em; text-align: center; vertical-align: top\">NO_QUERY</td>\n",
       "        <td style=\"padding-left: 1em; padding-right: 1em; text-align: center; vertical-align: top\">vmdavinci</td>\n",
       "        <td style=\"padding-left: 1em; padding-right: 1em; text-align: center; vertical-align: top\">@r_keith_hill Thans for<br>your response. Ihad ...</td>\n",
       "        <td style=\"padding-left: 1em; padding-right: 1em; text-align: center; vertical-align: top\">1</td>\n",
       "    </tr>\n",
       "    <tr>\n",
       "        <td style=\"padding-left: 1em; padding-right: 1em; text-align: center; vertical-align: top\">4</td>\n",
       "        <td style=\"padding-left: 1em; padding-right: 1em; text-align: center; vertical-align: top\">1467822465</td>\n",
       "        <td style=\"padding-left: 1em; padding-right: 1em; text-align: center; vertical-align: top\">Mon Apr 06 22:22:48 PDT<br>2009 ...</td>\n",
       "        <td style=\"padding-left: 1em; padding-right: 1em; text-align: center; vertical-align: top\">NO_QUERY</td>\n",
       "        <td style=\"padding-left: 1em; padding-right: 1em; text-align: center; vertical-align: top\">jessicavaliyi</td>\n",
       "        <td style=\"padding-left: 1em; padding-right: 1em; text-align: center; vertical-align: top\">@KeepinUpWKris I am so<br>jealous, hope you had a ...</td>\n",
       "        <td style=\"padding-left: 1em; padding-right: 1em; text-align: center; vertical-align: top\">1</td>\n",
       "    </tr>\n",
       "    <tr>\n",
       "        <td style=\"padding-left: 1em; padding-right: 1em; text-align: center; vertical-align: top\">4</td>\n",
       "        <td style=\"padding-left: 1em; padding-right: 1em; text-align: center; vertical-align: top\">1467822489</td>\n",
       "        <td style=\"padding-left: 1em; padding-right: 1em; text-align: center; vertical-align: top\">Mon Apr 06 22:22:49 PDT<br>2009 ...</td>\n",
       "        <td style=\"padding-left: 1em; padding-right: 1em; text-align: center; vertical-align: top\">NO_QUERY</td>\n",
       "        <td style=\"padding-left: 1em; padding-right: 1em; text-align: center; vertical-align: top\">emmasaur28</td>\n",
       "        <td style=\"padding-left: 1em; padding-right: 1em; text-align: center; vertical-align: top\">@tommcfly ah, congrats mr<br>fletcher for finally ...</td>\n",
       "        <td style=\"padding-left: 1em; padding-right: 1em; text-align: center; vertical-align: top\">1</td>\n",
       "    </tr>\n",
       "    <tr>\n",
       "        <td style=\"padding-left: 1em; padding-right: 1em; text-align: center; vertical-align: top\">4</td>\n",
       "        <td style=\"padding-left: 1em; padding-right: 1em; text-align: center; vertical-align: top\">1467822496</td>\n",
       "        <td style=\"padding-left: 1em; padding-right: 1em; text-align: center; vertical-align: top\">Mon Apr 06 22:22:49 PDT<br>2009 ...</td>\n",
       "        <td style=\"padding-left: 1em; padding-right: 1em; text-align: center; vertical-align: top\">NO_QUERY</td>\n",
       "        <td style=\"padding-left: 1em; padding-right: 1em; text-align: center; vertical-align: top\">SherylBreuker</td>\n",
       "        <td style=\"padding-left: 1em; padding-right: 1em; text-align: center; vertical-align: top\">@e4VoIP I RESPONDED<br>Stupid cat is helping me ...</td>\n",
       "        <td style=\"padding-left: 1em; padding-right: 1em; text-align: center; vertical-align: top\">1</td>\n",
       "    </tr>\n",
       "</table>\n",
       "<table frame=\"box\" rules=\"cols\">\n",
       "    <tr>\n",
       "        <th style=\"padding-left: 1em; padding-right: 1em; text-align: center\">clean_tweet</th>\n",
       "        <th style=\"padding-left: 1em; padding-right: 1em; text-align: center\">word_count</th>\n",
       "        <th style=\"padding-left: 1em; padding-right: 1em; text-align: center\">tfidf</th>\n",
       "        <th style=\"padding-left: 1em; padding-right: 1em; text-align: center\">1gram features</th>\n",
       "    </tr>\n",
       "    <tr>\n",
       "        <td style=\"padding-left: 1em; padding-right: 1em; text-align: center; vertical-align: top\">I LOVE Health4UandPets u<br>guys r the best ...</td>\n",
       "        <td style=\"padding-left: 1em; padding-right: 1em; text-align: center; vertical-align: top\">{'love': 1, 'i': 1, 'r':<br>1, 'u': 1, 'the': 1, ...</td>\n",
       "        <td style=\"padding-left: 1em; padding-right: 1em; text-align: center; vertical-align: top\">{'love':<br>3.2940035475600404, 'i': ...</td>\n",
       "        <td style=\"padding-left: 1em; padding-right: 1em; text-align: center; vertical-align: top\">{'love': 1, 'i': 1, 'r':<br>1, 'u': 1, 'the': 1, ...</td>\n",
       "    </tr>\n",
       "    <tr>\n",
       "        <td style=\"padding-left: 1em; padding-right: 1em; text-align: center; vertical-align: top\">im meeting up with one of<br>my besties tonight Cant ...</td>\n",
       "        <td style=\"padding-left: 1em; padding-right: 1em; text-align: center; vertical-align: top\">{'besties': 1, 'of': 1,<br>'up': 1, 'one': 1, ...</td>\n",
       "        <td style=\"padding-left: 1em; padding-right: 1em; text-align: center; vertical-align: top\">{'besties':<br>8.512205649905198, 'of': ...</td>\n",
       "        <td style=\"padding-left: 1em; padding-right: 1em; text-align: center; vertical-align: top\">{'besties': 1, 'with': 1,<br>'of': 1, 'up': 1, 'one': ...</td>\n",
       "    </tr>\n",
       "    <tr>\n",
       "        <td style=\"padding-left: 1em; padding-right: 1em; text-align: center; vertical-align: top\">DaRealSunisaKim Thanks<br>for the Twitter add ...</td>\n",
       "        <td style=\"padding-left: 1em; padding-right: 1em; text-align: center; vertical-align: top\">{'and': 1,<br>'darealsunisakim': 1, ...</td>\n",
       "        <td style=\"padding-left: 1em; padding-right: 1em; text-align: center; vertical-align: top\">{'and':<br>1.7843748031172946, ...</td>\n",
       "        <td style=\"padding-left: 1em; padding-right: 1em; text-align: center; vertical-align: top\">{'and': 1,<br>'darealsunisakim': 1, ...</td>\n",
       "    </tr>\n",
       "    <tr>\n",
       "        <td style=\"padding-left: 1em; padding-right: 1em; text-align: center; vertical-align: top\">Being sick can be really<br>cheap when it hurts too ...</td>\n",
       "        <td style=\"padding-left: 1em; padding-right: 1em; text-align: center; vertical-align: top\">{'real': 1, 'be': 1,<br>'being': 1, 'to': 1, ...</td>\n",
       "        <td style=\"padding-left: 1em; padding-right: 1em; text-align: center; vertical-align: top\">{'real':<br>5.550632295162526, 'be': ...</td>\n",
       "        <td style=\"padding-left: 1em; padding-right: 1em; text-align: center; vertical-align: top\">{'real': 1, 'be': 1,<br>'being': 1, 'to': 1, ...</td>\n",
       "    </tr>\n",
       "    <tr>\n",
       "        <td style=\"padding-left: 1em; padding-right: 1em; text-align: center; vertical-align: top\">LovesBrooklyn2 he has<br>that effect on everyone ...</td>\n",
       "        <td style=\"padding-left: 1em; padding-right: 1em; text-align: center; vertical-align: top\">{'on': 1, 'everyone': 1,<br>'that': 1, ...</td>\n",
       "        <td style=\"padding-left: 1em; padding-right: 1em; text-align: center; vertical-align: top\">{'on':<br>2.3199550815565733, ...</td>\n",
       "        <td style=\"padding-left: 1em; padding-right: 1em; text-align: center; vertical-align: top\">{'on': 1, 'everyone': 1,<br>'that': 1, ...</td>\n",
       "    </tr>\n",
       "    <tr>\n",
       "        <td style=\"padding-left: 1em; padding-right: 1em; text-align: center; vertical-align: top\">ProductOfFear You can<br>tell him that I just ...</td>\n",
       "        <td style=\"padding-left: 1em; padding-right: 1em; text-align: center; vertical-align: top\">{'because': 1, 'just': 1,<br>'burst': 1, 'thanks': 1, ...</td>\n",
       "        <td style=\"padding-left: 1em; padding-right: 1em; text-align: center; vertical-align: top\">{'because':<br>4.816632232528463, ...</td>\n",
       "        <td style=\"padding-left: 1em; padding-right: 1em; text-align: center; vertical-align: top\">{'because': 1, 'just': 1,<br>'burst': 1, 'thanks': 1, ...</td>\n",
       "    </tr>\n",
       "    <tr>\n",
       "        <td style=\"padding-left: 1em; padding-right: 1em; text-align: center; vertical-align: top\">rkeithhill Thans for your<br>response Ihad already ...</td>\n",
       "        <td style=\"padding-left: 1em; padding-right: 1em; text-align: center; vertical-align: top\">{'rkeithhill': 1,<br>'already': 1, 'thans' ...</td>\n",
       "        <td style=\"padding-left: 1em; padding-right: 1em; text-align: center; vertical-align: top\">{'rkeithhill':<br>13.122363377404328, ...</td>\n",
       "        <td style=\"padding-left: 1em; padding-right: 1em; text-align: center; vertical-align: top\">{'rkeithhill': 1,<br>'already': 1, 'thans' ...</td>\n",
       "    </tr>\n",
       "    <tr>\n",
       "        <td style=\"padding-left: 1em; padding-right: 1em; text-align: center; vertical-align: top\">KeepinUpWKris I am so<br>jealous hope you had a ...</td>\n",
       "        <td style=\"padding-left: 1em; padding-right: 1em; text-align: center; vertical-align: top\">{'a': 1, 'great': 1,<br>'love': 1, 'like': 1, ...</td>\n",
       "        <td style=\"padding-left: 1em; padding-right: 1em; text-align: center; vertical-align: top\">{'a': 1.5753360474891283,<br>'great': ...</td>\n",
       "        <td style=\"padding-left: 1em; padding-right: 1em; text-align: center; vertical-align: top\">{'a': 1, 'great': 1,<br>'love': 1, 'like': 1, ...</td>\n",
       "    </tr>\n",
       "    <tr>\n",
       "        <td style=\"padding-left: 1em; padding-right: 1em; text-align: center; vertical-align: top\">tommcfly ah congrats mr<br>fletcher for finally ...</td>\n",
       "        <td style=\"padding-left: 1em; padding-right: 1em; text-align: center; vertical-align: top\">{'for': 1, 'congrats': 1,<br>'ah': 1, 'twitter': 1, ...</td>\n",
       "        <td style=\"padding-left: 1em; padding-right: 1em; text-align: center; vertical-align: top\">{'for':<br>2.0750034047952264, ...</td>\n",
       "        <td style=\"padding-left: 1em; padding-right: 1em; text-align: center; vertical-align: top\">{'for': 1, 'congrats': 1,<br>'ah': 1, 'twitter': 1, ...</td>\n",
       "    </tr>\n",
       "    <tr>\n",
       "        <td style=\"padding-left: 1em; padding-right: 1em; text-align: center; vertical-align: top\">e4VoIP I RESPONDED<br>Stupid cat is helping me ...</td>\n",
       "        <td style=\"padding-left: 1em; padding-right: 1em; text-align: center; vertical-align: top\">{'me': 1, 'e4voip': 1,<br>'errors': 1, 'i': 1, ...</td>\n",
       "        <td style=\"padding-left: 1em; padding-right: 1em; text-align: center; vertical-align: top\">{'me': 2.374467850467672,<br>'e4voip': ...</td>\n",
       "        <td style=\"padding-left: 1em; padding-right: 1em; text-align: center; vertical-align: top\">{'me': 1, 'e4voip': 1,<br>'errors': 1, 'i': 1, ...</td>\n",
       "    </tr>\n",
       "</table>\n",
       "<table frame=\"box\" rules=\"cols\">\n",
       "    <tr>\n",
       "        <th style=\"padding-left: 1em; padding-right: 1em; text-align: center\">2gram features</th>\n",
       "        <th style=\"padding-left: 1em; padding-right: 1em; text-align: center\">3gram features</th>\n",
       "        <th style=\"padding-left: 1em; padding-right: 1em; text-align: center\">vectors_pos_neg</th>\n",
       "        <th style=\"padding-left: 1em; padding-right: 1em; text-align: center\">vectors_pos_neutral</th>\n",
       "    </tr>\n",
       "    <tr>\n",
       "        <td style=\"padding-left: 1em; padding-right: 1em; text-align: center; vertical-align: top\">{'love health4uandpets':<br>1, 'guys r': 1, 'u gu ...</td>\n",
       "        <td style=\"padding-left: 1em; padding-right: 1em; text-align: center; vertical-align: top\">{'health4uandpets u<br>guys': 1, 'love ...</td>\n",
       "        <td style=\"padding-left: 1em; padding-right: 1em; text-align: center; vertical-align: top\">[0.0377185158432,<br>-0.0986364707351, ...</td>\n",
       "        <td style=\"padding-left: 1em; padding-right: 1em; text-align: center; vertical-align: top\">[-0.0214873440564,<br>0.0287189744413, ...</td>\n",
       "    </tr>\n",
       "    <tr>\n",
       "        <td style=\"padding-left: 1em; padding-right: 1em; text-align: center; vertical-align: top\">{'cant wait': 1, 'girl<br>talk': 1, 'wait girl' ...</td>\n",
       "        <td style=\"padding-left: 1em; padding-right: 1em; text-align: center; vertical-align: top\">{'wait girl talk': 1, 'up<br>with one': 1, 'my bes ...</td>\n",
       "        <td style=\"padding-left: 1em; padding-right: 1em; text-align: center; vertical-align: top\">[-0.0802707597613,<br>-0.0891906395555, ...</td>\n",
       "        <td style=\"padding-left: 1em; padding-right: 1em; text-align: center; vertical-align: top\">[0.0932187959552,<br>0.132740423083, ...</td>\n",
       "    </tr>\n",
       "    <tr>\n",
       "        <td style=\"padding-left: 1em; padding-right: 1em; text-align: center; vertical-align: top\">{'thanks for': 1, 'and<br>you': 1, 'for the': 1, ...</td>\n",
       "        <td style=\"padding-left: 1em; padding-right: 1em; text-align: center; vertical-align: top\">{'in the dc': 1, 'here in<br>the': 1, 'meet you on ...</td>\n",
       "        <td style=\"padding-left: 1em; padding-right: 1em; text-align: center; vertical-align: top\">[0.0452120192349,<br>-0.0383285582066, ...</td>\n",
       "        <td style=\"padding-left: 1em; padding-right: 1em; text-align: center; vertical-align: top\">[-0.0111720981076,<br>-0.00752272317186, ...</td>\n",
       "    </tr>\n",
       "    <tr>\n",
       "        <td style=\"padding-left: 1em; padding-right: 1em; text-align: center; vertical-align: top\">{'plus your': 1, 'hurts<br>too': 1, 'you soup': 1, ...</td>\n",
       "        <td style=\"padding-left: 1em; padding-right: 1em; text-align: center; vertical-align: top\">{'your friends make': 1,<br>'eat real food': 1, ...</td>\n",
       "        <td style=\"padding-left: 1em; padding-right: 1em; text-align: center; vertical-align: top\">[0.0562775954604,<br>-0.0647150203586, ...</td>\n",
       "        <td style=\"padding-left: 1em; padding-right: 1em; text-align: center; vertical-align: top\">[0.0405183434486,<br>0.092673137784, ...</td>\n",
       "    </tr>\n",
       "    <tr>\n",
       "        <td style=\"padding-left: 1em; padding-right: 1em; text-align: center; vertical-align: top\">{'effect on': 1, 'he<br>has': 1, 'that effect': ...</td>\n",
       "        <td style=\"padding-left: 1em; padding-right: 1em; text-align: center; vertical-align: top\">{'lovesbrooklyn2 he has':<br>1, 'effect on everyone': ...</td>\n",
       "        <td style=\"padding-left: 1em; padding-right: 1em; text-align: center; vertical-align: top\">[-0.0123173510656,<br>-0.0411220602691, ...</td>\n",
       "        <td style=\"padding-left: 1em; padding-right: 1em; text-align: center; vertical-align: top\">[-0.111257381737,<br>0.214990586042, ...</td>\n",
       "    </tr>\n",
       "    <tr>\n",
       "        <td style=\"padding-left: 1em; padding-right: 1em; text-align: center; vertical-align: top\">{'thanks for': 1, 'of<br>that': 1, 'making me' ...</td>\n",
       "        <td style=\"padding-left: 1em; padding-right: 1em; text-align: center; vertical-align: top\">{'can tell him': 1, 'that<br>i just': 1, 'just burst ...</td>\n",
       "        <td style=\"padding-left: 1em; padding-right: 1em; text-align: center; vertical-align: top\">[0.128977969289,<br>-0.0263375863433, ...</td>\n",
       "        <td style=\"padding-left: 1em; padding-right: 1em; text-align: center; vertical-align: top\">[0.0473983809352,<br>-0.0464536547661, ...</td>\n",
       "    </tr>\n",
       "    <tr>\n",
       "        <td style=\"padding-left: 1em; padding-right: 1em; text-align: center; vertical-align: top\">{'this answer': 1, 'your<br>response': 1, 'ihad ...</td>\n",
       "        <td style=\"padding-left: 1em; padding-right: 1em; text-align: center; vertical-align: top\">{'ihad already find': 1,<br>'thans for your': 1, ...</td>\n",
       "        <td style=\"padding-left: 1em; padding-right: 1em; text-align: center; vertical-align: top\">[-0.0515893399715,<br>0.0658255368471, ...</td>\n",
       "        <td style=\"padding-left: 1em; padding-right: 1em; text-align: center; vertical-align: top\">[-0.0679344907403,<br>-0.210462778807, ...</td>\n",
       "    </tr>\n",
       "    <tr>\n",
       "        <td style=\"padding-left: 1em; padding-right: 1em; text-align: center; vertical-align: top\">{'your show': 1, 'had a':<br>1, 'acms love': 1, ...</td>\n",
       "        <td style=\"padding-left: 1em; padding-right: 1em; text-align: center; vertical-align: top\">{'like the acms': 1,<br>'jealous hope you': 1, ...</td>\n",
       "        <td style=\"padding-left: 1em; padding-right: 1em; text-align: center; vertical-align: top\">[0.126378521323,<br>0.0205101352185, ...</td>\n",
       "        <td style=\"padding-left: 1em; padding-right: 1em; text-align: center; vertical-align: top\">[-0.11717941612,<br>-0.0733485221863, ...</td>\n",
       "    </tr>\n",
       "    <tr>\n",
       "        <td style=\"padding-left: 1em; padding-right: 1em; text-align: center; vertical-align: top\">{'congrats mr': 1, 'mr<br>fletcher': 1, 'finally ...</td>\n",
       "        <td style=\"padding-left: 1em; padding-right: 1em; text-align: center; vertical-align: top\">{'fletcher for finally':<br>1, 'mr fletcher for': 1, ...</td>\n",
       "        <td style=\"padding-left: 1em; padding-right: 1em; text-align: center; vertical-align: top\">[0.0216531679034,<br>0.00122966617346, ...</td>\n",
       "        <td style=\"padding-left: 1em; padding-right: 1em; text-align: center; vertical-align: top\">[-0.00624802149832,<br>0.0166742578149, ...</td>\n",
       "    </tr>\n",
       "    <tr>\n",
       "        <td style=\"padding-left: 1em; padding-right: 1em; text-align: center; vertical-align: top\">{'forgive errors': 1,<br>'responded stupid': 1, ...</td>\n",
       "        <td style=\"padding-left: 1em; padding-right: 1em; text-align: center; vertical-align: top\">{'i responded stupid': 1,<br>'me type forgive': 1, ...</td>\n",
       "        <td style=\"padding-left: 1em; padding-right: 1em; text-align: center; vertical-align: top\">[0.070495441556,<br>0.0232084412128, ...</td>\n",
       "        <td style=\"padding-left: 1em; padding-right: 1em; text-align: center; vertical-align: top\">[-0.132903590798,<br>-0.169769346714, ...</td>\n",
       "    </tr>\n",
       "</table>\n",
       "<table frame=\"box\" rules=\"cols\">\n",
       "    <tr>\n",
       "        <th style=\"padding-left: 1em; padding-right: 1em; text-align: center\">vectors_pos_nonpos</th>\n",
       "        <th style=\"padding-left: 1em; padding-right: 1em; text-align: center\">vectors_neg_nonneg</th>\n",
       "        <th style=\"padding-left: 1em; padding-right: 1em; text-align: center\">vectors_doc2vec_tweetsonl<br>y_dm ...</th>\n",
       "    </tr>\n",
       "    <tr>\n",
       "        <td style=\"padding-left: 1em; padding-right: 1em; text-align: center; vertical-align: top\">[-0.0742236375809,<br>-0.0932690054178, ...</td>\n",
       "        <td style=\"padding-left: 1em; padding-right: 1em; text-align: center; vertical-align: top\">[0.00664216885343,<br>0.0822194218636, ...</td>\n",
       "        <td style=\"padding-left: 1em; padding-right: 1em; text-align: center; vertical-align: top\">[0.00249863928184,<br>-0.00419544009492, ...</td>\n",
       "    </tr>\n",
       "    <tr>\n",
       "        <td style=\"padding-left: 1em; padding-right: 1em; text-align: center; vertical-align: top\">[-0.00423456495628,<br>0.0556982569396, ...</td>\n",
       "        <td style=\"padding-left: 1em; padding-right: 1em; text-align: center; vertical-align: top\">[0.0370770692825,<br>-0.00447387015447, ...</td>\n",
       "        <td style=\"padding-left: 1em; padding-right: 1em; text-align: center; vertical-align: top\">[0.00698675122112,<br>-0.00311828171834, ...</td>\n",
       "    </tr>\n",
       "    <tr>\n",
       "        <td style=\"padding-left: 1em; padding-right: 1em; text-align: center; vertical-align: top\">[0.0684202611446,<br>-0.00665804604068, ...</td>\n",
       "        <td style=\"padding-left: 1em; padding-right: 1em; text-align: center; vertical-align: top\">[-0.0937731564045,<br>-0.0414012111723, ...</td>\n",
       "        <td style=\"padding-left: 1em; padding-right: 1em; text-align: center; vertical-align: top\">[-0.0193189736456,<br>0.00794003345072, ...</td>\n",
       "    </tr>\n",
       "    <tr>\n",
       "        <td style=\"padding-left: 1em; padding-right: 1em; text-align: center; vertical-align: top\">[-0.0132984919474,<br>-0.0359589233994, ...</td>\n",
       "        <td style=\"padding-left: 1em; padding-right: 1em; text-align: center; vertical-align: top\">[0.0988466739655,<br>-0.0062286159955, ...</td>\n",
       "        <td style=\"padding-left: 1em; padding-right: 1em; text-align: center; vertical-align: top\">[0.00837906450033,<br>0.00393089000136, ...</td>\n",
       "    </tr>\n",
       "    <tr>\n",
       "        <td style=\"padding-left: 1em; padding-right: 1em; text-align: center; vertical-align: top\">[-0.107977949083,<br>0.000552022480406, ...</td>\n",
       "        <td style=\"padding-left: 1em; padding-right: 1em; text-align: center; vertical-align: top\">[-0.0431224144995,<br>0.0949056148529, ...</td>\n",
       "        <td style=\"padding-left: 1em; padding-right: 1em; text-align: center; vertical-align: top\">[-0.00615875795484,<br>0.00106048572343, ...</td>\n",
       "    </tr>\n",
       "    <tr>\n",
       "        <td style=\"padding-left: 1em; padding-right: 1em; text-align: center; vertical-align: top\">[0.0827018022537,<br>-0.0727837607265, ...</td>\n",
       "        <td style=\"padding-left: 1em; padding-right: 1em; text-align: center; vertical-align: top\">[-0.0976572185755,<br>-0.0399765633047, ...</td>\n",
       "        <td style=\"padding-left: 1em; padding-right: 1em; text-align: center; vertical-align: top\">[0.0182425640523,<br>-0.0231979843229, ...</td>\n",
       "    </tr>\n",
       "    <tr>\n",
       "        <td style=\"padding-left: 1em; padding-right: 1em; text-align: center; vertical-align: top\">[0.250356972218,<br>-0.17356570065, ...</td>\n",
       "        <td style=\"padding-left: 1em; padding-right: 1em; text-align: center; vertical-align: top\">[-0.037451993674,<br>0.0151961632073, ...</td>\n",
       "        <td style=\"padding-left: 1em; padding-right: 1em; text-align: center; vertical-align: top\">[0.02639327012,<br>0.0375990942121, ...</td>\n",
       "    </tr>\n",
       "    <tr>\n",
       "        <td style=\"padding-left: 1em; padding-right: 1em; text-align: center; vertical-align: top\">[-0.0605209693313,<br>-3.40122714988e-05, ...</td>\n",
       "        <td style=\"padding-left: 1em; padding-right: 1em; text-align: center; vertical-align: top\">[-0.070907458663,<br>0.134511306882, ...</td>\n",
       "        <td style=\"padding-left: 1em; padding-right: 1em; text-align: center; vertical-align: top\">[-0.0216981321573,<br>-0.0166855789721, ...</td>\n",
       "    </tr>\n",
       "    <tr>\n",
       "        <td style=\"padding-left: 1em; padding-right: 1em; text-align: center; vertical-align: top\">[0.0312983803451,<br>0.00737584801391, ...</td>\n",
       "        <td style=\"padding-left: 1em; padding-right: 1em; text-align: center; vertical-align: top\">[-0.0350643135607,<br>0.0123011982068, ...</td>\n",
       "        <td style=\"padding-left: 1em; padding-right: 1em; text-align: center; vertical-align: top\">[-0.0103123178706,<br>0.00837343372405, ...</td>\n",
       "    </tr>\n",
       "    <tr>\n",
       "        <td style=\"padding-left: 1em; padding-right: 1em; text-align: center; vertical-align: top\">[0.142574876547,<br>-0.198779433966, ...</td>\n",
       "        <td style=\"padding-left: 1em; padding-right: 1em; text-align: center; vertical-align: top\">[-0.112545654178,<br>-0.0905753523111, ...</td>\n",
       "        <td style=\"padding-left: 1em; padding-right: 1em; text-align: center; vertical-align: top\">[0.0231636837125,<br>-0.0233344659209, ...</td>\n",
       "    </tr>\n",
       "</table>\n",
       "[937303 rows x 18 columns]<br/>Note: Only the head of the SFrame is printed.<br/>You can use print_rows(num_rows=m, num_columns=n) to print more rows and columns.\n",
       "</div>"
      ],
      "text/plain": [
       "Columns:\n",
       "\tSentiment\tint\n",
       "\tID\tint\n",
       "\tDate\tstr\n",
       "\tQuery\tstr\n",
       "\tuser\tstr\n",
       "\tTweet\tstr\n",
       "\tsenti\tint\n",
       "\tclean_tweet\tstr\n",
       "\tword_count\tdict\n",
       "\ttfidf\tdict\n",
       "\t1gram features\tdict\n",
       "\t2gram features\tdict\n",
       "\t3gram features\tdict\n",
       "\tvectors_pos_neg\tarray\n",
       "\tvectors_pos_neutral\tarray\n",
       "\tvectors_pos_nonpos\tarray\n",
       "\tvectors_neg_nonneg\tarray\n",
       "\tvectors_doc2vec_tweetsonly_dm\tarray\n",
       "\n",
       "Rows: 937303\n",
       "\n",
       "Data:\n",
       "+-----------+------------+------------------------------+----------+\n",
       "| Sentiment |     ID     |             Date             |  Query   |\n",
       "+-----------+------------+------------------------------+----------+\n",
       "|     4     | 1467822272 | Mon Apr 06 22:22:45 PDT 2009 | NO_QUERY |\n",
       "|     4     | 1467822273 | Mon Apr 06 22:22:45 PDT 2009 | NO_QUERY |\n",
       "|     4     | 1467822283 | Mon Apr 06 22:22:46 PDT 2009 | NO_QUERY |\n",
       "|     4     | 1467822287 | Mon Apr 06 22:22:46 PDT 2009 | NO_QUERY |\n",
       "|     4     | 1467822293 | Mon Apr 06 22:22:46 PDT 2009 | NO_QUERY |\n",
       "|     4     | 1467822391 | Mon Apr 06 22:22:47 PDT 2009 | NO_QUERY |\n",
       "|     4     | 1467822447 | Mon Apr 06 22:22:51 PDT 2009 | NO_QUERY |\n",
       "|     4     | 1467822465 | Mon Apr 06 22:22:48 PDT 2009 | NO_QUERY |\n",
       "|     4     | 1467822489 | Mon Apr 06 22:22:49 PDT 2009 | NO_QUERY |\n",
       "|     4     | 1467822496 | Mon Apr 06 22:22:49 PDT 2009 | NO_QUERY |\n",
       "+-----------+------------+------------------------------+----------+\n",
       "+---------------+-------------------------------+-------+\n",
       "|      user     |             Tweet             | senti |\n",
       "+---------------+-------------------------------+-------+\n",
       "|     ersle     | I LOVE @Health4UandPets u ... |   1   |\n",
       "|    becca210   | im meeting up with one of ... |   1   |\n",
       "|   Wingman29   | @DaRealSunisaKim Thanks fo... |   1   |\n",
       "|   katarinka   | Being sick can be really c... |   1   |\n",
       "|  _EmilyYoung  | @LovesBrooklyn2 he has tha... |   1   |\n",
       "| ajarofalmonds | @ProductOfFear You can tel... |   1   |\n",
       "|   vmdavinci   | @r_keith_hill Thans for yo... |   1   |\n",
       "| jessicavaliyi | @KeepinUpWKris I am so jea... |   1   |\n",
       "|   emmasaur28  | @tommcfly ah, congrats mr ... |   1   |\n",
       "| SherylBreuker | @e4VoIP I RESPONDED  Stupi... |   1   |\n",
       "+---------------+-------------------------------+-------+\n",
       "+-------------------------------+-------------------------------+\n",
       "|          clean_tweet          |           word_count          |\n",
       "+-------------------------------+-------------------------------+\n",
       "| I LOVE Health4UandPets u g... | {'love': 1, 'i': 1, 'r': 1... |\n",
       "| im meeting up with one of ... | {'besties': 1, 'of': 1, 'u... |\n",
       "| DaRealSunisaKim Thanks for... | {'and': 1, 'darealsunisaki... |\n",
       "| Being sick can be really c... | {'real': 1, 'be': 1, 'bein... |\n",
       "| LovesBrooklyn2 he has that... | {'on': 1, 'everyone': 1, '... |\n",
       "| ProductOfFear You can tell... | {'because': 1, 'just': 1, ... |\n",
       "| rkeithhill Thans for your ... | {'rkeithhill': 1, 'already... |\n",
       "| KeepinUpWKris I am so jeal... | {'a': 1, 'great': 1, 'love... |\n",
       "| tommcfly ah congrats mr fl... | {'for': 1, 'congrats': 1, ... |\n",
       "| e4VoIP I RESPONDED  Stupid... | {'me': 1, 'e4voip': 1, 'er... |\n",
       "+-------------------------------+-------------------------------+\n",
       "+-------------------------------+-------------------------------+\n",
       "|             tfidf             |         1gram features        |\n",
       "+-------------------------------+-------------------------------+\n",
       "| {'love': 3.294003547560040... | {'love': 1, 'i': 1, 'r': 1... |\n",
       "| {'besties': 8.512205649905... | {'besties': 1, 'with': 1, ... |\n",
       "| {'and': 1.7843748031172946... | {'and': 1, 'darealsunisaki... |\n",
       "| {'real': 5.550632295162526... | {'real': 1, 'be': 1, 'bein... |\n",
       "| {'on': 2.3199550815565733,... | {'on': 1, 'everyone': 1, '... |\n",
       "| {'because': 4.816632232528... | {'because': 1, 'just': 1, ... |\n",
       "| {'rkeithhill': 13.12236337... | {'rkeithhill': 1, 'already... |\n",
       "| {'a': 1.5753360474891283, ... | {'a': 1, 'great': 1, 'love... |\n",
       "| {'for': 2.0750034047952264... | {'for': 1, 'congrats': 1, ... |\n",
       "| {'me': 2.374467850467672, ... | {'me': 1, 'e4voip': 1, 'er... |\n",
       "+-------------------------------+-------------------------------+\n",
       "+-------------------------------+-------------------------------+\n",
       "|         2gram features        |         3gram features        |\n",
       "+-------------------------------+-------------------------------+\n",
       "| {'love health4uandpets': 1... | {'health4uandpets u guys':... |\n",
       "| {'cant wait': 1, 'girl tal... | {'wait girl talk': 1, 'up ... |\n",
       "| {'thanks for': 1, 'and you... | {'in the dc': 1, 'here in ... |\n",
       "| {'plus your': 1, 'hurts to... | {'your friends make': 1, '... |\n",
       "| {'effect on': 1, 'he has':... | {'lovesbrooklyn2 he has': ... |\n",
       "| {'thanks for': 1, 'of that... | {'can tell him': 1, 'that ... |\n",
       "| {'this answer': 1, 'your r... | {'ihad already find': 1, '... |\n",
       "| {'your show': 1, 'had a': ... | {'like the acms': 1, 'jeal... |\n",
       "| {'congrats mr': 1, 'mr fle... | {'fletcher for finally': 1... |\n",
       "| {'forgive errors': 1, 'res... | {'i responded stupid': 1, ... |\n",
       "+-------------------------------+-------------------------------+\n",
       "+-------------------------------+-------------------------------+\n",
       "|        vectors_pos_neg        |      vectors_pos_neutral      |\n",
       "+-------------------------------+-------------------------------+\n",
       "| [0.0377185158432, -0.09863... | [-0.0214873440564, 0.02871... |\n",
       "| [-0.0802707597613, -0.0891... | [0.0932187959552, 0.132740... |\n",
       "| [0.0452120192349, -0.03832... | [-0.0111720981076, -0.0075... |\n",
       "| [0.0562775954604, -0.06471... | [0.0405183434486, 0.092673... |\n",
       "| [-0.0123173510656, -0.0411... | [-0.111257381737, 0.214990... |\n",
       "| [0.128977969289, -0.026337... | [0.0473983809352, -0.04645... |\n",
       "| [-0.0515893399715, 0.06582... | [-0.0679344907403, -0.2104... |\n",
       "| [0.126378521323, 0.0205101... | [-0.11717941612, -0.073348... |\n",
       "| [0.0216531679034, 0.001229... | [-0.00624802149832, 0.0166... |\n",
       "| [0.070495441556, 0.0232084... | [-0.132903590798, -0.16976... |\n",
       "+-------------------------------+-------------------------------+\n",
       "+-------------------------------+-------------------------------+\n",
       "|       vectors_pos_nonpos      |       vectors_neg_nonneg      |\n",
       "+-------------------------------+-------------------------------+\n",
       "| [-0.0742236375809, -0.0932... | [0.00664216885343, 0.08221... |\n",
       "| [-0.00423456495628, 0.0556... | [0.0370770692825, -0.00447... |\n",
       "| [0.0684202611446, -0.00665... | [-0.0937731564045, -0.0414... |\n",
       "| [-0.0132984919474, -0.0359... | [0.0988466739655, -0.00622... |\n",
       "| [-0.107977949083, 0.000552... | [-0.0431224144995, 0.09490... |\n",
       "| [0.0827018022537, -0.07278... | [-0.0976572185755, -0.0399... |\n",
       "| [0.250356972218, -0.173565... | [-0.037451993674, 0.015196... |\n",
       "| [-0.0605209693313, -3.4012... | [-0.070907458663, 0.134511... |\n",
       "| [0.0312983803451, 0.007375... | [-0.0350643135607, 0.01230... |\n",
       "| [0.142574876547, -0.198779... | [-0.112545654178, -0.09057... |\n",
       "+-------------------------------+-------------------------------+\n",
       "+-------------------------------+\n",
       "| vectors_doc2vec_tweetsonly_dm |\n",
       "+-------------------------------+\n",
       "| [0.00249863928184, -0.0041... |\n",
       "| [0.00698675122112, -0.0031... |\n",
       "| [-0.0193189736456, 0.00794... |\n",
       "| [0.00837906450033, 0.00393... |\n",
       "| [-0.00615875795484, 0.0010... |\n",
       "| [0.0182425640523, -0.02319... |\n",
       "| [0.02639327012, 0.03759909... |\n",
       "| [-0.0216981321573, -0.0166... |\n",
       "| [-0.0103123178706, 0.00837... |\n",
       "| [0.0231636837125, -0.02333... |\n",
       "+-------------------------------+\n",
       "[937303 rows x 18 columns]\n",
       "Note: Only the head of the SFrame is printed.\n",
       "You can use print_rows(num_rows=m, num_columns=n) to print more rows and columns."
      ]
     },
     "execution_count": 147,
     "metadata": {},
     "output_type": "execute_result"
    }
   ],
   "source": [
    "sentiment140_tweets_1M_dropped"
   ]
  },
  {
   "cell_type": "code",
   "execution_count": 59,
   "metadata": {
    "collapsed": false
   },
   "outputs": [
    {
     "data": {
      "text/html": [
       "<div style=\"max-height:1000px;max-width:1500px;overflow:auto;\"><table frame=\"box\" rules=\"cols\">\n",
       "    <tr>\n",
       "        <th style=\"padding-left: 1em; padding-right: 1em; text-align: center\">Sentiment</th>\n",
       "        <th style=\"padding-left: 1em; padding-right: 1em; text-align: center\">ID</th>\n",
       "        <th style=\"padding-left: 1em; padding-right: 1em; text-align: center\">Date</th>\n",
       "        <th style=\"padding-left: 1em; padding-right: 1em; text-align: center\">Query</th>\n",
       "        <th style=\"padding-left: 1em; padding-right: 1em; text-align: center\">user</th>\n",
       "        <th style=\"padding-left: 1em; padding-right: 1em; text-align: center\">Tweet</th>\n",
       "    </tr>\n",
       "    <tr>\n",
       "        <td style=\"padding-left: 1em; padding-right: 1em; text-align: center; vertical-align: top\">4</td>\n",
       "        <td style=\"padding-left: 1em; padding-right: 1em; text-align: center; vertical-align: top\">1467822635</td>\n",
       "        <td style=\"padding-left: 1em; padding-right: 1em; text-align: center; vertical-align: top\">Mon Apr 06 22:22:51 PDT<br>2009 ...</td>\n",
       "        <td style=\"padding-left: 1em; padding-right: 1em; text-align: center; vertical-align: top\">NO_QUERY</td>\n",
       "        <td style=\"padding-left: 1em; padding-right: 1em; text-align: center; vertical-align: top\">JJLuver756</td>\n",
       "        <td style=\"padding-left: 1em; padding-right: 1em; text-align: center; vertical-align: top\">@nileyjileyluver Haha,<br>don't worry! You'll get ...</td>\n",
       "    </tr>\n",
       "    <tr>\n",
       "        <td style=\"padding-left: 1em; padding-right: 1em; text-align: center; vertical-align: top\">4</td>\n",
       "        <td style=\"padding-left: 1em; padding-right: 1em; text-align: center; vertical-align: top\">1467822814</td>\n",
       "        <td style=\"padding-left: 1em; padding-right: 1em; text-align: center; vertical-align: top\">Mon Apr 06 22:22:54 PDT<br>2009 ...</td>\n",
       "        <td style=\"padding-left: 1em; padding-right: 1em; text-align: center; vertical-align: top\">NO_QUERY</td>\n",
       "        <td style=\"padding-left: 1em; padding-right: 1em; text-align: center; vertical-align: top\">misstoriblack</td>\n",
       "        <td style=\"padding-left: 1em; padding-right: 1em; text-align: center; vertical-align: top\">Just added tweetie to my<br>new iPhone ...</td>\n",
       "    </tr>\n",
       "    <tr>\n",
       "        <td style=\"padding-left: 1em; padding-right: 1em; text-align: center; vertical-align: top\">4</td>\n",
       "        <td style=\"padding-left: 1em; padding-right: 1em; text-align: center; vertical-align: top\">1467823132</td>\n",
       "        <td style=\"padding-left: 1em; padding-right: 1em; text-align: center; vertical-align: top\">Mon Apr 06 22:22:58 PDT<br>2009 ...</td>\n",
       "        <td style=\"padding-left: 1em; padding-right: 1em; text-align: center; vertical-align: top\">NO_QUERY</td>\n",
       "        <td style=\"padding-left: 1em; padding-right: 1em; text-align: center; vertical-align: top\">MissNikki22</td>\n",
       "        <td style=\"padding-left: 1em; padding-right: 1em; text-align: center; vertical-align: top\">Aw i'm holding my new<br>puppy. Well He's not  ...</td>\n",
       "    </tr>\n",
       "    <tr>\n",
       "        <td style=\"padding-left: 1em; padding-right: 1em; text-align: center; vertical-align: top\">4</td>\n",
       "        <td style=\"padding-left: 1em; padding-right: 1em; text-align: center; vertical-align: top\">1467823618</td>\n",
       "        <td style=\"padding-left: 1em; padding-right: 1em; text-align: center; vertical-align: top\">Mon Apr 06 22:23:06 PDT<br>2009 ...</td>\n",
       "        <td style=\"padding-left: 1em; padding-right: 1em; text-align: center; vertical-align: top\">NO_QUERY</td>\n",
       "        <td style=\"padding-left: 1em; padding-right: 1em; text-align: center; vertical-align: top\">conniechiwa23</td>\n",
       "        <td style=\"padding-left: 1em; padding-right: 1em; text-align: center; vertical-align: top\">happy to spend time with<br>the family. ...</td>\n",
       "    </tr>\n",
       "    <tr>\n",
       "        <td style=\"padding-left: 1em; padding-right: 1em; text-align: center; vertical-align: top\">4</td>\n",
       "        <td style=\"padding-left: 1em; padding-right: 1em; text-align: center; vertical-align: top\">1467823719</td>\n",
       "        <td style=\"padding-left: 1em; padding-right: 1em; text-align: center; vertical-align: top\">Mon Apr 06 22:23:07 PDT<br>2009 ...</td>\n",
       "        <td style=\"padding-left: 1em; padding-right: 1em; text-align: center; vertical-align: top\">NO_QUERY</td>\n",
       "        <td style=\"padding-left: 1em; padding-right: 1em; text-align: center; vertical-align: top\">alderina</td>\n",
       "        <td style=\"padding-left: 1em; padding-right: 1em; text-align: center; vertical-align: top\">@deon upload di<br>indowebster dong bang ...</td>\n",
       "    </tr>\n",
       "    <tr>\n",
       "        <td style=\"padding-left: 1em; padding-right: 1em; text-align: center; vertical-align: top\">4</td>\n",
       "        <td style=\"padding-left: 1em; padding-right: 1em; text-align: center; vertical-align: top\">1467823989</td>\n",
       "        <td style=\"padding-left: 1em; padding-right: 1em; text-align: center; vertical-align: top\">Mon Apr 06 22:23:12 PDT<br>2009 ...</td>\n",
       "        <td style=\"padding-left: 1em; padding-right: 1em; text-align: center; vertical-align: top\">NO_QUERY</td>\n",
       "        <td style=\"padding-left: 1em; padding-right: 1em; text-align: center; vertical-align: top\">andwhenyousing</td>\n",
       "        <td style=\"padding-left: 1em; padding-right: 1em; text-align: center; vertical-align: top\">Across the Universe.<br>Sleep. Rehearsal ...</td>\n",
       "    </tr>\n",
       "    <tr>\n",
       "        <td style=\"padding-left: 1em; padding-right: 1em; text-align: center; vertical-align: top\">4</td>\n",
       "        <td style=\"padding-left: 1em; padding-right: 1em; text-align: center; vertical-align: top\">1467824088</td>\n",
       "        <td style=\"padding-left: 1em; padding-right: 1em; text-align: center; vertical-align: top\">Mon Apr 06 22:23:13 PDT<br>2009 ...</td>\n",
       "        <td style=\"padding-left: 1em; padding-right: 1em; text-align: center; vertical-align: top\">NO_QUERY</td>\n",
       "        <td style=\"padding-left: 1em; padding-right: 1em; text-align: center; vertical-align: top\">Dori23</td>\n",
       "        <td style=\"padding-left: 1em; padding-right: 1em; text-align: center; vertical-align: top\">@JonathanRKnight Hi Jon!<br>Great to hear from you! ...</td>\n",
       "    </tr>\n",
       "    <tr>\n",
       "        <td style=\"padding-left: 1em; padding-right: 1em; text-align: center; vertical-align: top\">4</td>\n",
       "        <td style=\"padding-left: 1em; padding-right: 1em; text-align: center; vertical-align: top\">1467824606</td>\n",
       "        <td style=\"padding-left: 1em; padding-right: 1em; text-align: center; vertical-align: top\">Mon Apr 06 22:23:22 PDT<br>2009 ...</td>\n",
       "        <td style=\"padding-left: 1em; padding-right: 1em; text-align: center; vertical-align: top\">NO_QUERY</td>\n",
       "        <td style=\"padding-left: 1em; padding-right: 1em; text-align: center; vertical-align: top\">SeanDB1</td>\n",
       "        <td style=\"padding-left: 1em; padding-right: 1em; text-align: center; vertical-align: top\">Morning Tweetland, a long<br>day ahead! Hope everyone ...</td>\n",
       "    </tr>\n",
       "    <tr>\n",
       "        <td style=\"padding-left: 1em; padding-right: 1em; text-align: center; vertical-align: top\">4</td>\n",
       "        <td style=\"padding-left: 1em; padding-right: 1em; text-align: center; vertical-align: top\">1467824840</td>\n",
       "        <td style=\"padding-left: 1em; padding-right: 1em; text-align: center; vertical-align: top\">Mon Apr 06 22:23:25 PDT<br>2009 ...</td>\n",
       "        <td style=\"padding-left: 1em; padding-right: 1em; text-align: center; vertical-align: top\">NO_QUERY</td>\n",
       "        <td style=\"padding-left: 1em; padding-right: 1em; text-align: center; vertical-align: top\">msclace</td>\n",
       "        <td style=\"padding-left: 1em; padding-right: 1em; text-align: center; vertical-align: top\">@fuzeb they are so<br>serious too while sin ...</td>\n",
       "    </tr>\n",
       "    <tr>\n",
       "        <td style=\"padding-left: 1em; padding-right: 1em; text-align: center; vertical-align: top\">4</td>\n",
       "        <td style=\"padding-left: 1em; padding-right: 1em; text-align: center; vertical-align: top\">1467825218</td>\n",
       "        <td style=\"padding-left: 1em; padding-right: 1em; text-align: center; vertical-align: top\">Mon Apr 06 22:23:34 PDT<br>2009 ...</td>\n",
       "        <td style=\"padding-left: 1em; padding-right: 1em; text-align: center; vertical-align: top\">NO_QUERY</td>\n",
       "        <td style=\"padding-left: 1em; padding-right: 1em; text-align: center; vertical-align: top\">Maeny</td>\n",
       "        <td style=\"padding-left: 1em; padding-right: 1em; text-align: center; vertical-align: top\">@theragingocean BonJour<br>Spacecowboy,I wish I was ...</td>\n",
       "    </tr>\n",
       "</table>\n",
       "<table frame=\"box\" rules=\"cols\">\n",
       "    <tr>\n",
       "        <th style=\"padding-left: 1em; padding-right: 1em; text-align: center\">clean_tweet</th>\n",
       "        <th style=\"padding-left: 1em; padding-right: 1em; text-align: center\">senti</th>\n",
       "        <th style=\"padding-left: 1em; padding-right: 1em; text-align: center\">vectors_pos_neg</th>\n",
       "        <th style=\"padding-left: 1em; padding-right: 1em; text-align: center\">word_count</th>\n",
       "        <th style=\"padding-left: 1em; padding-right: 1em; text-align: center\">tfidf</th>\n",
       "    </tr>\n",
       "    <tr>\n",
       "        <td style=\"padding-left: 1em; padding-right: 1em; text-align: center; vertical-align: top\">nileyjileyluver Haha dont<br>worry Youll get the hang ...</td>\n",
       "        <td style=\"padding-left: 1em; padding-right: 1em; text-align: center; vertical-align: top\">1</td>\n",
       "        <td style=\"padding-left: 1em; padding-right: 1em; text-align: center; vertical-align: top\">[0.0652433484793,<br>0.032108142972, ...</td>\n",
       "        <td style=\"padding-left: 1em; padding-right: 1em; text-align: center; vertical-align: top\">{'nileyjileyluver': 1,<br>'dont': 1, 'get': 1, ...</td>\n",
       "        <td style=\"padding-left: 1em; padding-right: 1em; text-align: center; vertical-align: top\">{'nileyjileyluver':<br>13.122363377404328, ...</td>\n",
       "    </tr>\n",
       "    <tr>\n",
       "        <td style=\"padding-left: 1em; padding-right: 1em; text-align: center; vertical-align: top\">Just added tweetie to my<br>new iPhone ...</td>\n",
       "        <td style=\"padding-left: 1em; padding-right: 1em; text-align: center; vertical-align: top\">1</td>\n",
       "        <td style=\"padding-left: 1em; padding-right: 1em; text-align: center; vertical-align: top\">[-0.1010273844,<br>-0.199035406113, ...</td>\n",
       "        <td style=\"padding-left: 1em; padding-right: 1em; text-align: center; vertical-align: top\">{'added': 1, 'just': 1,<br>'tweetie': 1, 'to': 1, ...</td>\n",
       "        <td style=\"padding-left: 1em; padding-right: 1em; text-align: center; vertical-align: top\">{'added':<br>7.082108666126914, ...</td>\n",
       "    </tr>\n",
       "    <tr>\n",
       "        <td style=\"padding-left: 1em; padding-right: 1em; text-align: center; vertical-align: top\">Aw im holding my new<br>puppy Well Hes not mine ...</td>\n",
       "        <td style=\"padding-left: 1em; padding-right: 1em; text-align: center; vertical-align: top\">1</td>\n",
       "        <td style=\"padding-left: 1em; padding-right: 1em; text-align: center; vertical-align: top\">[0.0422840192914,<br>-0.0266917888075, ...</td>\n",
       "        <td style=\"padding-left: 1em; padding-right: 1em; text-align: center; vertical-align: top\">{'a': 1, 'cutie': 1,<br>'aw': 1, 'hes': 2, ...</td>\n",
       "        <td style=\"padding-left: 1em; padding-right: 1em; text-align: center; vertical-align: top\">{'a': 1.5615719847634788,<br>'cutie': ...</td>\n",
       "    </tr>\n",
       "    <tr>\n",
       "        <td style=\"padding-left: 1em; padding-right: 1em; text-align: center; vertical-align: top\">happy to spend time with<br>the family ...</td>\n",
       "        <td style=\"padding-left: 1em; padding-right: 1em; text-align: center; vertical-align: top\">1</td>\n",
       "        <td style=\"padding-left: 1em; padding-right: 1em; text-align: center; vertical-align: top\">[-0.129141673446,<br>0.00763268209994, ...</td>\n",
       "        <td style=\"padding-left: 1em; padding-right: 1em; text-align: center; vertical-align: top\">{'family': 1, 'to': 1,<br>'time': 1, 'the': 1, ...</td>\n",
       "        <td style=\"padding-left: 1em; padding-right: 1em; text-align: center; vertical-align: top\">{'family':<br>5.389994155119941, 'to': ...</td>\n",
       "    </tr>\n",
       "    <tr>\n",
       "        <td style=\"padding-left: 1em; padding-right: 1em; text-align: center; vertical-align: top\">deon upload di<br>indowebster dong bang ...</td>\n",
       "        <td style=\"padding-left: 1em; padding-right: 1em; text-align: center; vertical-align: top\">1</td>\n",
       "        <td style=\"padding-left: 1em; padding-right: 1em; text-align: center; vertical-align: top\">[0.0781180411577,<br>0.00725541822612, ...</td>\n",
       "        <td style=\"padding-left: 1em; padding-right: 1em; text-align: center; vertical-align: top\">{'indowebster': 1,<br>'dong': 1, 'di': 1, ...</td>\n",
       "        <td style=\"padding-left: 1em; padding-right: 1em; text-align: center; vertical-align: top\">{'indowebster':<br>13.122363377404328, ...</td>\n",
       "    </tr>\n",
       "    <tr>\n",
       "        <td style=\"padding-left: 1em; padding-right: 1em; text-align: center; vertical-align: top\">Across the Universe Sleep<br>Rehearsal tomorrow ...</td>\n",
       "        <td style=\"padding-left: 1em; padding-right: 1em; text-align: center; vertical-align: top\">1</td>\n",
       "        <td style=\"padding-left: 1em; padding-right: 1em; text-align: center; vertical-align: top\">[-0.0628112182021,<br>0.0194490198046, ...</td>\n",
       "        <td style=\"padding-left: 1em; padding-right: 1em; text-align: center; vertical-align: top\">{'universe': 1, 'across':<br>1, 'rehearsal': 1, ...</td>\n",
       "        <td style=\"padding-left: 1em; padding-right: 1em; text-align: center; vertical-align: top\">{'universe':<br>8.431015495175185, ...</td>\n",
       "    </tr>\n",
       "    <tr>\n",
       "        <td style=\"padding-left: 1em; padding-right: 1em; text-align: center; vertical-align: top\">JonathanRKnight Hi Jon<br>Great to hear from you ...</td>\n",
       "        <td style=\"padding-left: 1em; padding-right: 1em; text-align: center; vertical-align: top\">1</td>\n",
       "        <td style=\"padding-left: 1em; padding-right: 1em; text-align: center; vertical-align: top\">[-0.0210476014763,<br>-0.0378108993173, ...</td>\n",
       "        <td style=\"padding-left: 1em; padding-right: 1em; text-align: center; vertical-align: top\">{'all': 1, 'is': 1,<br>'see': 1, 'are': 1, ...</td>\n",
       "        <td style=\"padding-left: 1em; padding-right: 1em; text-align: center; vertical-align: top\">{'all':<br>2.9908243372014085, ' ...</td>\n",
       "    </tr>\n",
       "    <tr>\n",
       "        <td style=\"padding-left: 1em; padding-right: 1em; text-align: center; vertical-align: top\">Morning Tweetland a long<br>day ahead Hope everyone ...</td>\n",
       "        <td style=\"padding-left: 1em; padding-right: 1em; text-align: center; vertical-align: top\">1</td>\n",
       "        <td style=\"padding-left: 1em; padding-right: 1em; text-align: center; vertical-align: top\">[0.0309565588832,<br>0.011607453227, ...</td>\n",
       "        <td style=\"padding-left: 1em; padding-right: 1em; text-align: center; vertical-align: top\">{'a': 2, 'great': 1,<br>'everyone': 1, 'ahead': ...</td>\n",
       "        <td style=\"padding-left: 1em; padding-right: 1em; text-align: center; vertical-align: top\">{'a': 3.1231439695269576,<br>'great': ...</td>\n",
       "    </tr>\n",
       "    <tr>\n",
       "        <td style=\"padding-left: 1em; padding-right: 1em; text-align: center; vertical-align: top\">fuzeb they are so serious<br>too while singing like ...</td>\n",
       "        <td style=\"padding-left: 1em; padding-right: 1em; text-align: center; vertical-align: top\">1</td>\n",
       "        <td style=\"padding-left: 1em; padding-right: 1em; text-align: center; vertical-align: top\">[0.119461230934,<br>0.0880321115255, ...</td>\n",
       "        <td style=\"padding-left: 1em; padding-right: 1em; text-align: center; vertical-align: top\">{'are': 1, 'lsd': 1,<br>'like': 1, 'hehe': 1, ...</td>\n",
       "        <td style=\"padding-left: 1em; padding-right: 1em; text-align: center; vertical-align: top\">{'are': 3.07603168083872,<br>'lsd': ...</td>\n",
       "    </tr>\n",
       "    <tr>\n",
       "        <td style=\"padding-left: 1em; padding-right: 1em; text-align: center; vertical-align: top\">theragingocean BonJour<br>SpacecowboyI wish I was ...</td>\n",
       "        <td style=\"padding-left: 1em; padding-right: 1em; text-align: center; vertical-align: top\">1</td>\n",
       "        <td style=\"padding-left: 1em; padding-right: 1em; text-align: center; vertical-align: top\">[0.0370592288673,<br>0.0929647535086, ...</td>\n",
       "        <td style=\"padding-left: 1em; padding-right: 1em; text-align: center; vertical-align: top\">{'and': 1,<br>'spacecowboyi': 1, ...</td>\n",
       "        <td style=\"padding-left: 1em; padding-right: 1em; text-align: center; vertical-align: top\">{'and':<br>1.7764256356628716, ...</td>\n",
       "    </tr>\n",
       "</table>\n",
       "<table frame=\"box\" rules=\"cols\">\n",
       "    <tr>\n",
       "        <th style=\"padding-left: 1em; padding-right: 1em; text-align: center\">1gram features</th>\n",
       "        <th style=\"padding-left: 1em; padding-right: 1em; text-align: center\">2gram features</th>\n",
       "        <th style=\"padding-left: 1em; padding-right: 1em; text-align: center\">3gram features</th>\n",
       "        <th style=\"padding-left: 1em; padding-right: 1em; text-align: center\">predictions</th>\n",
       "    </tr>\n",
       "    <tr>\n",
       "        <td style=\"padding-left: 1em; padding-right: 1em; text-align: center; vertical-align: top\">{'nileyjileyluver': 1,<br>'dont': 1, 'get': 1, ...</td>\n",
       "        <td style=\"padding-left: 1em; padding-right: 1em; text-align: center; vertical-align: top\">{'get the': 1, 'dont<br>worry': 1, 'of it': 1, ...</td>\n",
       "        <td style=\"padding-left: 1em; padding-right: 1em; text-align: center; vertical-align: top\">{'dont worry youll': 1,<br>'youll get the': 1, ...</td>\n",
       "        <td style=\"padding-left: 1em; padding-right: 1em; text-align: center; vertical-align: top\">1</td>\n",
       "    </tr>\n",
       "    <tr>\n",
       "        <td style=\"padding-left: 1em; padding-right: 1em; text-align: center; vertical-align: top\">{'added': 1, 'just': 1,<br>'tweetie': 1, 'to': 1, ...</td>\n",
       "        <td style=\"padding-left: 1em; padding-right: 1em; text-align: center; vertical-align: top\">{'tweetie to': 1, 'to<br>my': 1, 'added tweetie': ...</td>\n",
       "        <td style=\"padding-left: 1em; padding-right: 1em; text-align: center; vertical-align: top\">{'to my new': 1, 'added<br>tweetie to': 1, 'tweetie ...</td>\n",
       "        <td style=\"padding-left: 1em; padding-right: 1em; text-align: center; vertical-align: top\">1</td>\n",
       "    </tr>\n",
       "    <tr>\n",
       "        <td style=\"padding-left: 1em; padding-right: 1em; text-align: center; vertical-align: top\">{'a': 1, 'puppy': 1,<br>'holding': 1, 'hes': 2, ...</td>\n",
       "        <td style=\"padding-left: 1em; padding-right: 1em; text-align: center; vertical-align: top\">{'a cutie': 1, 'hes a':<br>1, 'but hes': 1, 'im ...</td>\n",
       "        <td style=\"padding-left: 1em; padding-right: 1em; text-align: center; vertical-align: top\">{'not mine but': 1, 'but<br>hes a': 1, 'new puppy ...</td>\n",
       "        <td style=\"padding-left: 1em; padding-right: 1em; text-align: center; vertical-align: top\">1</td>\n",
       "    </tr>\n",
       "    <tr>\n",
       "        <td style=\"padding-left: 1em; padding-right: 1em; text-align: center; vertical-align: top\">{'family': 1, 'to': 1,<br>'time': 1, 'the': 1, ...</td>\n",
       "        <td style=\"padding-left: 1em; padding-right: 1em; text-align: center; vertical-align: top\">{'time with': 1, 'with<br>the': 1, 'spend time' ...</td>\n",
       "        <td style=\"padding-left: 1em; padding-right: 1em; text-align: center; vertical-align: top\">{'with the family': 1,<br>'happy to spend': 1, ...</td>\n",
       "        <td style=\"padding-left: 1em; padding-right: 1em; text-align: center; vertical-align: top\">1</td>\n",
       "    </tr>\n",
       "    <tr>\n",
       "        <td style=\"padding-left: 1em; padding-right: 1em; text-align: center; vertical-align: top\">{'indowebster': 1,<br>'dong': 1, 'di': 1, ...</td>\n",
       "        <td style=\"padding-left: 1em; padding-right: 1em; text-align: center; vertical-align: top\">{'dong banggggg': 1,<br>'indowebster dong': 1, ...</td>\n",
       "        <td style=\"padding-left: 1em; padding-right: 1em; text-align: center; vertical-align: top\">{'upload di indowebster':<br>1, 'deon upload di': 1, ...</td>\n",
       "        <td style=\"padding-left: 1em; padding-right: 1em; text-align: center; vertical-align: top\">1</td>\n",
       "    </tr>\n",
       "    <tr>\n",
       "        <td style=\"padding-left: 1em; padding-right: 1em; text-align: center; vertical-align: top\">{'universe': 1, 'across':<br>1, 'rehearsal': 1, ...</td>\n",
       "        <td style=\"padding-left: 1em; padding-right: 1em; text-align: center; vertical-align: top\">{'across the': 1,<br>'universe sleep': 1, ...</td>\n",
       "        <td style=\"padding-left: 1em; padding-right: 1em; text-align: center; vertical-align: top\">{'the universe sleep': 1,<br>'across the universe' ...</td>\n",
       "        <td style=\"padding-left: 1em; padding-right: 1em; text-align: center; vertical-align: top\">1</td>\n",
       "    </tr>\n",
       "    <tr>\n",
       "        <td style=\"padding-left: 1em; padding-right: 1em; text-align: center; vertical-align: top\">{'all': 1, 'is': 1,<br>'see': 1, 'are': 1, ...</td>\n",
       "        <td style=\"padding-left: 1em; padding-right: 1em; text-align: center; vertical-align: top\">{'bus you': 1, 'you on':<br>1, 'on the': 2, ...</td>\n",
       "        <td style=\"padding-left: 1em; padding-right: 1em; text-align: center; vertical-align: top\">{'on the knight': 1,<br>'hope all is': 1, 'cr ...</td>\n",
       "        <td style=\"padding-left: 1em; padding-right: 1em; text-align: center; vertical-align: top\">1</td>\n",
       "    </tr>\n",
       "    <tr>\n",
       "        <td style=\"padding-left: 1em; padding-right: 1em; text-align: center; vertical-align: top\">{'a': 2, 'great': 1,<br>'everyone': 1, 'ahead': ...</td>\n",
       "        <td style=\"padding-left: 1em; padding-right: 1em; text-align: center; vertical-align: top\">{'great day': 1, 'a<br>great': 1, 'a long': 1, ...</td>\n",
       "        <td style=\"padding-left: 1em; padding-right: 1em; text-align: center; vertical-align: top\">{'tweetland a long': 1,<br>'everyone has a': 1, 'a ...</td>\n",
       "        <td style=\"padding-left: 1em; padding-right: 1em; text-align: center; vertical-align: top\">1</td>\n",
       "    </tr>\n",
       "    <tr>\n",
       "        <td style=\"padding-left: 1em; padding-right: 1em; text-align: center; vertical-align: top\">{'lsd': 1, 'like': 1,<br>'hehe': 1, 'maybe': 1, ...</td>\n",
       "        <td style=\"padding-left: 1em; padding-right: 1em; text-align: center; vertical-align: top\">{'too while': 1, 'hehe<br>lsd': 1, 'like whoa': 1, ...</td>\n",
       "        <td style=\"padding-left: 1em; padding-right: 1em; text-align: center; vertical-align: top\">{'are so serious': 1,<br>'too while singing': 1, ...</td>\n",
       "        <td style=\"padding-left: 1em; padding-right: 1em; text-align: center; vertical-align: top\">1</td>\n",
       "    </tr>\n",
       "    <tr>\n",
       "        <td style=\"padding-left: 1em; padding-right: 1em; text-align: center; vertical-align: top\">{'and': 1,<br>'spacecowboyi': 1, ...</td>\n",
       "        <td style=\"padding-left: 1em; padding-right: 1em; text-align: center; vertical-align: top\">{'i work': 1, 'with<br>kids': 1, 'was either': ...</td>\n",
       "        <td style=\"padding-left: 1em; padding-right: 1em; text-align: center; vertical-align: top\">{'i was either': 1, 'out<br>whenever i': 1, 'go ...</td>\n",
       "        <td style=\"padding-left: 1em; padding-right: 1em; text-align: center; vertical-align: top\">0</td>\n",
       "    </tr>\n",
       "</table>\n",
       "[94088 rows x 15 columns]<br/>Note: Only the head of the SFrame is printed.<br/>You can use print_rows(num_rows=m, num_columns=n) to print more rows and columns.\n",
       "</div>"
      ],
      "text/plain": [
       "Columns:\n",
       "\tSentiment\tint\n",
       "\tID\tint\n",
       "\tDate\tstr\n",
       "\tQuery\tstr\n",
       "\tuser\tstr\n",
       "\tTweet\tstr\n",
       "\tclean_tweet\tstr\n",
       "\tsenti\tint\n",
       "\tvectors_pos_neg\tarray\n",
       "\tword_count\tdict\n",
       "\ttfidf\tdict\n",
       "\t1gram features\tdict\n",
       "\t2gram features\tdict\n",
       "\t3gram features\tdict\n",
       "\tpredictions\tint\n",
       "\n",
       "Rows: 94088\n",
       "\n",
       "Data:\n",
       "+-----------+------------+------------------------------+----------+\n",
       "| Sentiment |     ID     |             Date             |  Query   |\n",
       "+-----------+------------+------------------------------+----------+\n",
       "|     4     | 1467822635 | Mon Apr 06 22:22:51 PDT 2009 | NO_QUERY |\n",
       "|     4     | 1467822814 | Mon Apr 06 22:22:54 PDT 2009 | NO_QUERY |\n",
       "|     4     | 1467823132 | Mon Apr 06 22:22:58 PDT 2009 | NO_QUERY |\n",
       "|     4     | 1467823618 | Mon Apr 06 22:23:06 PDT 2009 | NO_QUERY |\n",
       "|     4     | 1467823719 | Mon Apr 06 22:23:07 PDT 2009 | NO_QUERY |\n",
       "|     4     | 1467823989 | Mon Apr 06 22:23:12 PDT 2009 | NO_QUERY |\n",
       "|     4     | 1467824088 | Mon Apr 06 22:23:13 PDT 2009 | NO_QUERY |\n",
       "|     4     | 1467824606 | Mon Apr 06 22:23:22 PDT 2009 | NO_QUERY |\n",
       "|     4     | 1467824840 | Mon Apr 06 22:23:25 PDT 2009 | NO_QUERY |\n",
       "|     4     | 1467825218 | Mon Apr 06 22:23:34 PDT 2009 | NO_QUERY |\n",
       "+-----------+------------+------------------------------+----------+\n",
       "+----------------+-------------------------------+\n",
       "|      user      |             Tweet             |\n",
       "+----------------+-------------------------------+\n",
       "|   JJLuver756   | @nileyjileyluver Haha, don... |\n",
       "| misstoriblack  | Just added tweetie to my n... |\n",
       "|  MissNikki22   | Aw i'm holding my new pupp... |\n",
       "| conniechiwa23  | happy to spend time with t... |\n",
       "|    alderina    | @deon upload di indowebste... |\n",
       "| andwhenyousing | Across the Universe. Sleep... |\n",
       "|     Dori23     | @JonathanRKnight Hi Jon! G... |\n",
       "|    SeanDB1     | Morning Tweetland, a long ... |\n",
       "|    msclace     | @fuzeb they are so serious... |\n",
       "|     Maeny      | @theragingocean BonJour Sp... |\n",
       "+----------------+-------------------------------+\n",
       "+-------------------------------+-------+-------------------------------+\n",
       "|          clean_tweet          | senti |        vectors_pos_neg        |\n",
       "+-------------------------------+-------+-------------------------------+\n",
       "| nileyjileyluver Haha dont ... |   1   | [0.0652433484793, 0.032108... |\n",
       "| Just added tweetie to my n... |   1   | [-0.1010273844, -0.1990354... |\n",
       "| Aw im holding my new puppy... |   1   | [0.0422840192914, -0.02669... |\n",
       "| happy to spend time with t... |   1   | [-0.129141673446, 0.007632... |\n",
       "| deon upload di indowebster... |   1   | [0.0781180411577, 0.007255... |\n",
       "| Across the Universe Sleep ... |   1   | [-0.0628112182021, 0.01944... |\n",
       "| JonathanRKnight Hi Jon Gre... |   1   | [-0.0210476014763, -0.0378... |\n",
       "| Morning Tweetland a long d... |   1   | [0.0309565588832, 0.011607... |\n",
       "| fuzeb they are so serious ... |   1   | [0.119461230934, 0.0880321... |\n",
       "| theragingocean BonJour Spa... |   1   | [0.0370592288673, 0.092964... |\n",
       "+-------------------------------+-------+-------------------------------+\n",
       "+-------------------------------+-------------------------------+\n",
       "|           word_count          |             tfidf             |\n",
       "+-------------------------------+-------------------------------+\n",
       "| {'nileyjileyluver': 1, 'do... | {'nileyjileyluver': 13.122... |\n",
       "| {'added': 1, 'just': 1, 't... | {'added': 7.08210866612691... |\n",
       "| {'a': 1, 'cutie': 1, 'aw':... | {'a': 1.5615719847634788, ... |\n",
       "| {'family': 1, 'to': 1, 'ti... | {'family': 5.3899941551199... |\n",
       "| {'indowebster': 1, 'dong':... | {'indowebster': 13.1223633... |\n",
       "| {'universe': 1, 'across': ... | {'universe': 8.43101549517... |\n",
       "| {'all': 1, 'is': 1, 'see':... | {'all': 2.9908243372014085... |\n",
       "| {'a': 2, 'great': 1, 'ever... | {'a': 3.1231439695269576, ... |\n",
       "| {'are': 1, 'lsd': 1, 'like... | {'are': 3.07603168083872, ... |\n",
       "| {'and': 1, 'spacecowboyi':... | {'and': 1.7764256356628716... |\n",
       "+-------------------------------+-------------------------------+\n",
       "+-------------------------------+-------------------------------+\n",
       "|         1gram features        |         2gram features        |\n",
       "+-------------------------------+-------------------------------+\n",
       "| {'nileyjileyluver': 1, 'do... | {'get the': 1, 'dont worry... |\n",
       "| {'added': 1, 'just': 1, 't... | {'tweetie to': 1, 'to my':... |\n",
       "| {'a': 1, 'puppy': 1, 'hold... | {'a cutie': 1, 'hes a': 1,... |\n",
       "| {'family': 1, 'to': 1, 'ti... | {'time with': 1, 'with the... |\n",
       "| {'indowebster': 1, 'dong':... | {'dong banggggg': 1, 'indo... |\n",
       "| {'universe': 1, 'across': ... | {'across the': 1, 'univers... |\n",
       "| {'all': 1, 'is': 1, 'see':... | {'bus you': 1, 'you on': 1... |\n",
       "| {'a': 2, 'great': 1, 'ever... | {'great day': 1, 'a great'... |\n",
       "| {'lsd': 1, 'like': 1, 'heh... | {'too while': 1, 'hehe lsd... |\n",
       "| {'and': 1, 'spacecowboyi':... | {'i work': 1, 'with kids':... |\n",
       "+-------------------------------+-------------------------------+\n",
       "+-------------------------------+-------------+\n",
       "|         3gram features        | predictions |\n",
       "+-------------------------------+-------------+\n",
       "| {'dont worry youll': 1, 'y... |      1      |\n",
       "| {'to my new': 1, 'added tw... |      1      |\n",
       "| {'not mine but': 1, 'but h... |      1      |\n",
       "| {'with the family': 1, 'ha... |      1      |\n",
       "| {'upload di indowebster': ... |      1      |\n",
       "| {'the universe sleep': 1, ... |      1      |\n",
       "| {'on the knight': 1, 'hope... |      1      |\n",
       "| {'tweetland a long': 1, 'e... |      1      |\n",
       "| {'are so serious': 1, 'too... |      1      |\n",
       "| {'i was either': 1, 'out w... |      0      |\n",
       "+-------------------------------+-------------+\n",
       "[94088 rows x 15 columns]\n",
       "Note: Only the head of the SFrame is printed.\n",
       "You can use print_rows(num_rows=m, num_columns=n) to print more rows and columns."
      ]
     },
     "execution_count": 59,
     "metadata": {},
     "output_type": "execute_result"
    }
   ],
   "source": [
    "te"
   ]
  },
  {
   "cell_type": "code",
   "execution_count": 98,
   "metadata": {
    "collapsed": false
   },
   "outputs": [
    {
     "data": {
      "text/plain": [
       "{'accuracy': 0.7874700590834087,\n",
       " 'auc': 0.8639029687485013,\n",
       " 'confusion_matrix': Columns:\n",
       " \ttarget_label\tint\n",
       " \tpredicted_label\tint\n",
       " \tcount\tint\n",
       " \n",
       " Rows: 4\n",
       " \n",
       " Data:\n",
       " +--------------+-----------------+-------+\n",
       " | target_label | predicted_label | count |\n",
       " +--------------+-----------------+-------+\n",
       " |      1       |        0        | 11571 |\n",
       " |      1       |        1        | 34865 |\n",
       " |      0       |        0        | 39106 |\n",
       " |      0       |        1        |  8393 |\n",
       " +--------------+-----------------+-------+\n",
       " [4 rows x 3 columns],\n",
       " 'f1_score': 0.7774210092090887,\n",
       " 'log_loss': 0.5948909029003755,\n",
       " 'precision': 0.8059780849785011,\n",
       " 'recall': 0.7508183306055647,\n",
       " 'roc_curve': Columns:\n",
       " \tthreshold\tfloat\n",
       " \tfpr\tfloat\n",
       " \ttpr\tfloat\n",
       " \tp\tint\n",
       " \tn\tint\n",
       " \n",
       " Rows: 100001\n",
       " \n",
       " Data:\n",
       " +-----------+----------------+----------------+-------+-------+\n",
       " | threshold |      fpr       |      tpr       |   p   |   n   |\n",
       " +-----------+----------------+----------------+-------+-------+\n",
       " |    0.0    |      1.0       |      1.0       | 46436 | 47499 |\n",
       " |   1e-05   |  0.9735152319  | 0.998557153932 | 46436 | 47499 |\n",
       " |   2e-05   | 0.965430851176 | 0.998234128693 | 46436 | 47499 |\n",
       " |   3e-05   | 0.959093875661 | 0.997781893359 | 46436 | 47499 |\n",
       " |   4e-05   | 0.953914819259 | 0.997545008183 | 46436 | 47499 |\n",
       " |   5e-05   | 0.95010421272  | 0.997178912912 | 46436 | 47499 |\n",
       " |   6e-05   | 0.945956756984 | 0.996942027737 | 46436 | 47499 |\n",
       " |   7e-05   | 0.941914566622 | 0.996748212594 | 46436 | 47499 |\n",
       " |   8e-05   | 0.93844080928  | 0.99655439745  | 46436 | 47499 |\n",
       " |   9e-05   | 0.935619697257 | 0.996252907227 | 46436 | 47499 |\n",
       " +-----------+----------------+----------------+-------+-------+\n",
       " [100001 rows x 5 columns]\n",
       " Note: Only the head of the SFrame is printed.\n",
       " You can use print_rows(num_rows=m, num_columns=n) to print more rows and columns.}"
      ]
     },
     "execution_count": 98,
     "metadata": {},
     "output_type": "execute_result"
    }
   ],
   "source": [
    "model1.evaluate(test)"
   ]
  },
  {
   "cell_type": "code",
   "execution_count": 59,
   "metadata": {
    "collapsed": false
   },
   "outputs": [
    {
     "data": {
      "text/html": [
       "<pre>Read 100 lines. Lines per second: 770.945</pre>"
      ],
      "text/plain": [
       "Read 100 lines. Lines per second: 770.945"
      ]
     },
     "metadata": {},
     "output_type": "display_data"
    },
    {
     "data": {
      "text/html": [
       "<pre>Finished parsing file /home/omar/CNN-for-Sentence-Classification-in-Keras-master/data/tweets_pos_neg_neu17.csv</pre>"
      ],
      "text/plain": [
       "Finished parsing file /home/omar/CNN-for-Sentence-Classification-in-Keras-master/data/tweets_pos_neg_neu17.csv"
      ]
     },
     "metadata": {},
     "output_type": "display_data"
    },
    {
     "data": {
      "text/html": [
       "<pre>Parsing completed. Parsed 100 lines in 0.129792 secs.</pre>"
      ],
      "text/plain": [
       "Parsing completed. Parsed 100 lines in 0.129792 secs."
      ]
     },
     "metadata": {},
     "output_type": "display_data"
    },
    {
     "name": "stdout",
     "output_type": "stream",
     "text": [
      "------------------------------------------------------\n",
      "Inferred types from first 100 line(s) of file as \n",
      "column_type_hints=[int,str,str,str,str]\n",
      "If parsing fails due to incorrect types, you can correct\n",
      "the inferred type list above and pass it to read_csv in\n",
      "the column_type_hints argument\n",
      "------------------------------------------------------\n"
     ]
    },
    {
     "data": {
      "text/html": [
       "<pre>Finished parsing file /home/omar/CNN-for-Sentence-Classification-in-Keras-master/data/tweets_pos_neg_neu17.csv</pre>"
      ],
      "text/plain": [
       "Finished parsing file /home/omar/CNN-for-Sentence-Classification-in-Keras-master/data/tweets_pos_neg_neu17.csv"
      ]
     },
     "metadata": {},
     "output_type": "display_data"
    },
    {
     "data": {
      "text/html": [
       "<pre>Parsing completed. Parsed 5501 lines in 0.085754 secs.</pre>"
      ],
      "text/plain": [
       "Parsing completed. Parsed 5501 lines in 0.085754 secs."
      ]
     },
     "metadata": {},
     "output_type": "display_data"
    }
   ],
   "source": [
    "fulltweets16 = graphlab.SFrame(\"/home/omar/CNN-for-Sentence-Classification-in-Keras-master/data/tweets_pos_neg_neu17.csv\",format='csv')"
   ]
  },
  {
   "cell_type": "code",
   "execution_count": 61,
   "metadata": {
    "collapsed": false
   },
   "outputs": [
    {
     "data": {
      "text/html": [
       "<div style=\"max-height:1000px;max-width:1500px;overflow:auto;\"><table frame=\"box\" rules=\"cols\">\n",
       "    <tr>\n",
       "        <th style=\"padding-left: 1em; padding-right: 1em; text-align: center\">ID</th>\n",
       "        <th style=\"padding-left: 1em; padding-right: 1em; text-align: center\">Sentiment</th>\n",
       "        <th style=\"padding-left: 1em; padding-right: 1em; text-align: center\">Tweet</th>\n",
       "        <th style=\"padding-left: 1em; padding-right: 1em; text-align: center\">clean_tweet</th>\n",
       "    </tr>\n",
       "    <tr>\n",
       "        <td style=\"padding-left: 1em; padding-right: 1em; text-align: center; vertical-align: top\">629226490152914944</td>\n",
       "        <td style=\"padding-left: 1em; padding-right: 1em; text-align: center; vertical-align: top\">positive</td>\n",
       "        <td style=\"padding-left: 1em; padding-right: 1em; text-align: center; vertical-align: top\">Microsoft, I may not<br>prefer your gaming br ...</td>\n",
       "        <td style=\"padding-left: 1em; padding-right: 1em; text-align: center; vertical-align: top\">Microsoft I may not<br>prefer your gaming br ...</td>\n",
       "    </tr>\n",
       "    <tr>\n",
       "        <td style=\"padding-left: 1em; padding-right: 1em; text-align: center; vertical-align: top\">629650766580609026</td>\n",
       "        <td style=\"padding-left: 1em; padding-right: 1em; text-align: center; vertical-align: top\">positive</td>\n",
       "        <td style=\"padding-left: 1em; padding-right: 1em; text-align: center; vertical-align: top\">Just ordered my 1st ever<br>tablet; @Microsoft ...</td>\n",
       "        <td style=\"padding-left: 1em; padding-right: 1em; text-align: center; vertical-align: top\">Just ordered my 1st ever<br>tablet Microsoft Surface ...</td>\n",
       "    </tr>\n",
       "    <tr>\n",
       "        <td style=\"padding-left: 1em; padding-right: 1em; text-align: center; vertical-align: top\">630159517058142208</td>\n",
       "        <td style=\"padding-left: 1em; padding-right: 1em; text-align: center; vertical-align: top\">positive</td>\n",
       "        <td style=\"padding-left: 1em; padding-right: 1em; text-align: center; vertical-align: top\">Sunday morning, quiet day<br>so time to welcome in ...</td>\n",
       "        <td style=\"padding-left: 1em; padding-right: 1em; text-align: center; vertical-align: top\">Sunday morning quiet day<br>so time to welcome in ...</td>\n",
       "    </tr>\n",
       "    <tr>\n",
       "        <td style=\"padding-left: 1em; padding-right: 1em; text-align: center; vertical-align: top\">630818265799921664</td>\n",
       "        <td style=\"padding-left: 1em; padding-right: 1em; text-align: center; vertical-align: top\">positive</td>\n",
       "        <td style=\"padding-left: 1em; padding-right: 1em; text-align: center; vertical-align: top\">Innovation for jobs is<br>just around the corner - ...</td>\n",
       "        <td style=\"padding-left: 1em; padding-right: 1em; text-align: center; vertical-align: top\">Innovation for jobs is<br>just around the corner ...</td>\n",
       "    </tr>\n",
       "    <tr>\n",
       "        <td style=\"padding-left: 1em; padding-right: 1em; text-align: center; vertical-align: top\">631368262979297281</td>\n",
       "        <td style=\"padding-left: 1em; padding-right: 1em; text-align: center; vertical-align: top\">positive</td>\n",
       "        <td style=\"padding-left: 1em; padding-right: 1em; text-align: center; vertical-align: top\">#Vote for @AIESEC to<br>become the 10th Global ...</td>\n",
       "        <td style=\"padding-left: 1em; padding-right: 1em; text-align: center; vertical-align: top\">Vote for AIESEC to become<br>the 10th Global non ...</td>\n",
       "    </tr>\n",
       "    <tr>\n",
       "        <td style=\"padding-left: 1em; padding-right: 1em; text-align: center; vertical-align: top\">631521079245307904</td>\n",
       "        <td style=\"padding-left: 1em; padding-right: 1em; text-align: center; vertical-align: top\">positive</td>\n",
       "        <td style=\"padding-left: 1em; padding-right: 1em; text-align: center; vertical-align: top\">Top 5 most searched for<br>Back-to-School topics -- ...</td>\n",
       "        <td style=\"padding-left: 1em; padding-right: 1em; text-align: center; vertical-align: top\">Top 5 most searched for<br>BacktoSchool topics  the ...</td>\n",
       "    </tr>\n",
       "    <tr>\n",
       "        <td style=\"padding-left: 1em; padding-right: 1em; text-align: center; vertical-align: top\">631696872323850240</td>\n",
       "        <td style=\"padding-left: 1em; padding-right: 1em; text-align: center; vertical-align: top\">positive</td>\n",
       "        <td style=\"padding-left: 1em; padding-right: 1em; text-align: center; vertical-align: top\">@trucker_squigz<br>@Microsoft @MISpeedway ...</td>\n",
       "        <td style=\"padding-left: 1em; padding-right: 1em; text-align: center; vertical-align: top\">truckersquigz Microsoft<br>MISpeedway nationwide88 ...</td>\n",
       "    </tr>\n",
       "    <tr>\n",
       "        <td style=\"padding-left: 1em; padding-right: 1em; text-align: center; vertical-align: top\">631842974268305408</td>\n",
       "        <td style=\"padding-left: 1em; padding-right: 1em; text-align: center; vertical-align: top\">positive</td>\n",
       "        <td style=\"padding-left: 1em; padding-right: 1em; text-align: center; vertical-align: top\">@ScottArbeit @GabeAul<br>@Microsoft isntall the ...</td>\n",
       "        <td style=\"padding-left: 1em; padding-right: 1em; text-align: center; vertical-align: top\">ScottArbeit GabeAul<br>Microsoft isntall the ...</td>\n",
       "    </tr>\n",
       "    <tr>\n",
       "        <td style=\"padding-left: 1em; padding-right: 1em; text-align: center; vertical-align: top\">631843393971204097</td>\n",
       "        <td style=\"padding-left: 1em; padding-right: 1em; text-align: center; vertical-align: top\">positive</td>\n",
       "        <td style=\"padding-left: 1em; padding-right: 1em; text-align: center; vertical-align: top\">@taehongmin1 We have an<br>IOT workshop by ...</td>\n",
       "        <td style=\"padding-left: 1em; padding-right: 1em; text-align: center; vertical-align: top\">taehongmin1 We have an<br>IOT workshop by Micro ...</td>\n",
       "    </tr>\n",
       "    <tr>\n",
       "        <td style=\"padding-left: 1em; padding-right: 1em; text-align: center; vertical-align: top\">633628599271190528</td>\n",
       "        <td style=\"padding-left: 1em; padding-right: 1em; text-align: center; vertical-align: top\">positive</td>\n",
       "        <td style=\"padding-left: 1em; padding-right: 1em; text-align: center; vertical-align: top\">@ProfessorF @gilwuvsyou<br>@Microsoft @LivioDeLa ...</td>\n",
       "        <td style=\"padding-left: 1em; padding-right: 1em; text-align: center; vertical-align: top\">ProfessorF gilwuvsyou<br>Microsoft LivioDeLaCruz ...</td>\n",
       "    </tr>\n",
       "</table>\n",
       "<table frame=\"box\" rules=\"cols\">\n",
       "    <tr>\n",
       "        <th style=\"padding-left: 1em; padding-right: 1em; text-align: center\">cut_tweet</th>\n",
       "    </tr>\n",
       "    <tr>\n",
       "        <td style=\"padding-left: 1em; padding-right: 1em; text-align: center; vertical-align: top\">Microsoft I may not<br>prefer your gaming br ...</td>\n",
       "    </tr>\n",
       "    <tr>\n",
       "        <td style=\"padding-left: 1em; padding-right: 1em; text-align: center; vertical-align: top\">Just ordered my 1st ever<br>tablet Microsoft Surface ...</td>\n",
       "    </tr>\n",
       "    <tr>\n",
       "        <td style=\"padding-left: 1em; padding-right: 1em; text-align: center; vertical-align: top\">Sunday morning quiet day<br>so time to welcome in ...</td>\n",
       "    </tr>\n",
       "    <tr>\n",
       "        <td style=\"padding-left: 1em; padding-right: 1em; text-align: center; vertical-align: top\">Innovation for jobs is<br>just around the corner ...</td>\n",
       "    </tr>\n",
       "    <tr>\n",
       "        <td style=\"padding-left: 1em; padding-right: 1em; text-align: center; vertical-align: top\">Vote for AIESEC to become<br>the 10th Global non ...</td>\n",
       "    </tr>\n",
       "    <tr>\n",
       "        <td style=\"padding-left: 1em; padding-right: 1em; text-align: center; vertical-align: top\">Top 5 most searched for<br>BacktoSchool topics  the ...</td>\n",
       "    </tr>\n",
       "    <tr>\n",
       "        <td style=\"padding-left: 1em; padding-right: 1em; text-align: center; vertical-align: top\">truckersquigz Microsoft<br>MISpeedway nationwide88 ...</td>\n",
       "    </tr>\n",
       "    <tr>\n",
       "        <td style=\"padding-left: 1em; padding-right: 1em; text-align: center; vertical-align: top\">ScottArbeit GabeAul<br>Microsoft isntall the ...</td>\n",
       "    </tr>\n",
       "    <tr>\n",
       "        <td style=\"padding-left: 1em; padding-right: 1em; text-align: center; vertical-align: top\">taehongmin1 We have an<br>IOT workshop by Micro ...</td>\n",
       "    </tr>\n",
       "    <tr>\n",
       "        <td style=\"padding-left: 1em; padding-right: 1em; text-align: center; vertical-align: top\">ProfessorF gilwuvsyou<br>Microsoft LivioDeLaCruz ...</td>\n",
       "    </tr>\n",
       "</table>\n",
       "[5501 rows x 5 columns]<br/>Note: Only the head of the SFrame is printed.<br/>You can use print_rows(num_rows=m, num_columns=n) to print more rows and columns.\n",
       "</div>"
      ],
      "text/plain": [
       "Columns:\n",
       "\tID\tint\n",
       "\tSentiment\tstr\n",
       "\tTweet\tstr\n",
       "\tclean_tweet\tstr\n",
       "\tcut_tweet\tstr\n",
       "\n",
       "Rows: 5501\n",
       "\n",
       "Data:\n",
       "+--------------------+-----------+-------------------------------+\n",
       "|         ID         | Sentiment |             Tweet             |\n",
       "+--------------------+-----------+-------------------------------+\n",
       "| 629226490152914944 |  positive | Microsoft, I may not prefe... |\n",
       "| 629650766580609026 |  positive | Just ordered my 1st ever t... |\n",
       "| 630159517058142208 |  positive | Sunday morning, quiet day ... |\n",
       "| 630818265799921664 |  positive | Innovation for jobs is jus... |\n",
       "| 631368262979297281 |  positive | #Vote for @AIESEC to becom... |\n",
       "| 631521079245307904 |  positive | Top 5 most searched for Ba... |\n",
       "| 631696872323850240 |  positive | @trucker_squigz @Microsoft... |\n",
       "| 631842974268305408 |  positive | @ScottArbeit @GabeAul @Mic... |\n",
       "| 631843393971204097 |  positive | @taehongmin1 We have an IO... |\n",
       "| 633628599271190528 |  positive | @ProfessorF @gilwuvsyou @M... |\n",
       "+--------------------+-----------+-------------------------------+\n",
       "+-------------------------------+-------------------------------+\n",
       "|          clean_tweet          |           cut_tweet           |\n",
       "+-------------------------------+-------------------------------+\n",
       "| Microsoft I may not prefer... | Microsoft I may not prefer... |\n",
       "| Just ordered my 1st ever t... | Just ordered my 1st ever t... |\n",
       "| Sunday morning quiet day s... | Sunday morning quiet day s... |\n",
       "| Innovation for jobs is jus... | Innovation for jobs is jus... |\n",
       "| Vote for AIESEC to become ... | Vote for AIESEC to become ... |\n",
       "| Top 5 most searched for Ba... | Top 5 most searched for Ba... |\n",
       "| truckersquigz Microsoft MI... | truckersquigz Microsoft MI... |\n",
       "| ScottArbeit GabeAul Micros... | ScottArbeit GabeAul Micros... |\n",
       "| taehongmin1 We have an IOT... | taehongmin1 We have an IOT... |\n",
       "| ProfessorF gilwuvsyou Micr... | ProfessorF gilwuvsyou Micr... |\n",
       "+-------------------------------+-------------------------------+\n",
       "[5501 rows x 5 columns]\n",
       "Note: Only the head of the SFrame is printed.\n",
       "You can use print_rows(num_rows=m, num_columns=n) to print more rows and columns."
      ]
     },
     "execution_count": 61,
     "metadata": {},
     "output_type": "execute_result"
    }
   ],
   "source": [
    "fulltweets16"
   ]
  },
  {
   "cell_type": "code",
   "execution_count": 73,
   "metadata": {
    "collapsed": true
   },
   "outputs": [],
   "source": [
    "fulltweets16['pos_other_prediction_CNN'] = loaded_model.predict(x)"
   ]
  },
  {
   "cell_type": "code",
   "execution_count": null,
   "metadata": {
    "collapsed": true
   },
   "outputs": [],
   "source": [
    "loaded_model.predict(x)"
   ]
  },
  {
   "cell_type": "code",
   "execution_count": 76,
   "metadata": {
    "collapsed": true
   },
   "outputs": [],
   "source": [
    "fulltweets16['neg_other_prediction_CNN'] = loaded_model.predict(x)"
   ]
  },
  {
   "cell_type": "code",
   "execution_count": 77,
   "metadata": {
    "collapsed": false
   },
   "outputs": [
    {
     "name": "stdout",
     "output_type": "stream",
     "text": [
      "5501/5501 [==============================] - 2s     \b\b\b\b\b\b\b\b\b\b\b\b\b\b\b\b\b\b\b\b\b\b\b\b\b\b\b\b\b\b\b\b\b\b\b\b\b\b\b\b\b\b\b\b\b\b\b\b\b\b\b\b\b\b\b\b\b\b\b\b\b\b\b\b\b\b\b\b\b\b\b\b\b\b\b\b\b\b\b\b\b\b\b\b\b\b\b\b\b\b\b\b\b\b\b\b\b\b\b\b\b\b\b\b\b\b\b\b\b\b\b\b\b\b\b\b\b\b\b\b\b\b\b\b\b\b\b\b\b\b\b\b\b\b\b\b\b\b\b\b\b\b\b\b\b\b\b\b\b\b\b\b\b\b\b\b\b\b\b\b\b\b\b\b\b\b\b\b\b\b\b\b\b\b\b\b\b\b\b\b\b\b\b\b\b\b\b\b\b\b\b\b\b\b\b\b\b\b\b\b\b\b\b\b\b\b\b\b\b\b\b\b\b\b\b\b\b\b\b\b\b\b\b\b\b\b\b\b\b\b\b\b\b\b\b\b\b\b\b\b\b\b\b\b\b\b\b\b\b\b\b\b\b\b\b\b\b\b\b\b\b\b\b\b\b\b\b\b\b\b\b\b\b\b\b\b\b\b\b\b\b\b\b\b\b\b\b\b\b\b\b\b\b\b\b\b\b\b\b\b\b\b\b\b\b\b\b\b\b\b\b\b\b\b\b\b\b\b\b\b\b\b\b\b\b\b\b\b\b\b\b\b\b\b\b\b\b\b\b\b\b\b\b\b\b\b\b\b\b\b\b\b\b\b\b\b\b\b\b\b\b\b\b\b\b\b\b\b\b\b\b\b\b\b\b\b\b\b\b\b\b\b\b\b\b\b\b\b\b\b\b\b\b\b\b\b\b\b\b\b\b\b\b\b\b\b\b\b\b\b\b\b\b\b\b\b\b\b\b\b\b\b\b\b\b\b\b\b\b\b\b\b\b\b\b\b\b\b\b\b\b\b\b\b\b\b\b\b\b\b\b\b\b\b\b\b\b\b\b\b\b\b\b\b\b\b\b\b\b\b\b\b\b\b\b\b\b\b\b\b\b\b\b\b\b\b\b\b\b\b\b\b\b\b\b\b\b\b\b\b\b\b\b\b\b\b\b\b\b\b\b\b\b\b\b\b\b\b\b\b\b\b\b\b\b\b\b\b\b\b\b\b\b\b\b\b\b\b\b\b\b\b\b\b\b\b\b\b\b\b\b\b\b\b\b\b\b\b\b\b\b\b\b\b\b\b\b\b\b\b\b\b\b\b\b\b\b\b\b\b\b\b\b\b\b\b\b\b\b\b\b\b\b\b\b\b\b\b\b\b\b\b\b\b\b\b\b\b\b\b\b\b\b\b\b\b\b\b\b\b\b\b\b\b\b\b\b\b\b\b\b\b\b\b\b\b\b\b\b\b\b\b\b\b\b\b\b\b\b\b\b\b\b\b\b\b\b\b\b\b\b\b\b\b\b\b\b\b\b\b\b\b\b\b\b\b\b\b\b\b\b\b\b\b\b\b\b\b\b\b\b\b\b\b\b\b\b\b\b\b\b\b\b\b\b\b\b\b\b\b\b\b\b\b\b\b\b\b\b\b\b\b\b\b\b\b\b\b\b\b\b\b\b\b\b\b\b\b\b\b\b\b\b\b\b\b\b\b\b\b\b\b\b\b\b\b\b\b\b\b\b\b\b\b\b\b\b\b\b\b\b\b\b\b\b\b\b\b\b\b\b\b\b\b\b\b\b\b\b\b\b\b\b\b\b\b\b\b\b\b\b\b\b\b\b\b\b\b\b\b\b\b\b\b\b\b\b\b\b\b\b\b\b\b\b\b\b\b\b\b\b\b\b\b\b\b\b\b\b\b\b\b\b\b\b\b\b\b\b\b\b\b\b\b\b\b\b\b\b\b\b\b\b\b\b\b\b\b\b\b\b\b\b\b\b\b\b\b\b\b\b\b\b\b\b\b\b\b\b\b\b\b\b\b\b\b\b\b\b\b\b\b\b\b\b\b\b\b\b\b\b\b\b\b\b\b\b\b\b\b\b\b\b\b\b\b\b\b\b\b\b\b\b\b\b\b\b\b\b\b\b\b\b\b\b\b\b\b\b\b\b\b\b\b\b\b\b\b\b\b\b\b\b\b\b\b\b\b\b\b\b\b\b\b\b\b\b\b\b\b\b\b\b\b\b\b\b\b\b\b\b\b\b\b\b\b\b\b\b\b\b\b\b\b\b\b\b\b\b\b\b\b\b\b\b\b\b\b\b\b\b\b\b\b\b\b\b\b\b\b\b\b\b\b\b\b\b\b\b\b\b\b\b\b\b\b\b\b\b\b\b\b\b\b\b\b\b\b\b\b\b\b\b\b\b\b\b\b\b\b\b\b\b\b\b\b\b\b\b\b\b\b\b\b\b\b\b\b\b\b\b\b\b\b\b\b\b\b\b\b\b\b\b\b\b\b\b\b\b\b\b\b\b\b\b\b\b\b\b\b\b\b\b\b\b\b\b\b\b\b\b\b\b\b\b\b\b\b\b\b\b\b\b\b\b\b\b\b\b\b\b\b\b\b\b\b\b\b\b\b\b\b\b\b\b\b\b\b\b\b\b\b\b\b\b\b\b\b\b\b\b\b\b\b\b\b\b\b\b\b\b\b\b\b\b\b\b\b\b\b\b\b\b\b\b\b\b\b\b\b\b\b\b\b\b\b\b\b\b\b\b\b\b\b\b\b\b\b\b\b\b\b\b\b\b\b\b\b\b\b\b\b\b\b\b\b\b\b\b\b\b\b\b\b\b\b\b\b\b\b\b\b\b\b\b\b\b\b\b\b\b\b\b\b\b\b\b\b\b\b\b\b\b\b\b\b\b\b\b\b\b\b\b\b\b\b\b\b\b\b\b\b\b\b\b\b\b\b\b\b\b\b\b\b\b\b\b\b\b\b\b\b\b\b\b\b\b\b\b\b\b\b\b\b\b\b\b\b\b\b\b\b\b\b\b\b\b\b\b\b\b\b\b\b\b\b\b\b\b\b\b\b\b\b\b\b\b\b\b\b\b\b\b\b\b\b\b\b\b\b\b\b\b\b\b\b\b\b\b\b\b\b\b\b\b\b\b\b\b\b\b\b\b\b\b\b\b\b\b\b\b\b\b\b\b\b\b\b\b\b\b\b\b\b\b\b\b\b\b\b\b\b\b\b\b\b\b\b\b\b\b\b\b\b\b\b\b\b\b\b\b\b\b\b\b\b\b\b\b\b\b\b\b\b\b\b\b\b\b\b\b\b\b\b\b\b\b\b\b\b\b\b\b\b\b\b\b\b\b\b\b\b\b\b\b\b\b\b\b\b\b\b\b\b\b\b\b\b\b\b\b\b\b\b\b\b\b\b\b\b\b\b\b\b\b\b\b\b\b\b\b\b\b\b\b\b\b\b\b\b\b\b\b\b\b\b\b\b\b\b\b\b\b\b\b\b\b\b\b\b\b\b\b\b\b\b\b\b\b\b\b\b\b\b\b\b\b\b\b\b\b\b\b\b\b\b\b\b\b\b\b\b\b\b\b\b\b\b\b\b\b\b\b\b\b\b\b\b\b\b\b\b\b\b\b\b\b\b\b\b\b\b\b\b\b\b\b\b\b\b\b\b\b\b\b\b\b\b\b\b\b\b\b\b\b\b\b\b\b\b\b\b\b\b\b\b\b\b\b\b\b\b\b\b\b\b\b\b\b\b\b\b\b\b\b\b\b\b\b\b\b\b\b\b\b\b\b\b\b\b\b\b\b\b\b\b\b\b\b\b\b\b\b\b\b\b\b\b\b\b\b\b\b\b\b\b\b\b\b\b\b\b\b\b\b\b\b\b\b\b\b\b\b\b\b\b\b\b\b\b\b\b\b\b\b\b\b\b\b\b\b\b\b\b\b\b\b\b\b\b\b\b\b\b\b\b\b\b\b\b\b\b\b\b\b\b\b\b\b\b\b\b\b\b\b\b\b\b\b\b\b\b\b\b\b\b\b\b\b\b\b\b\b\b\b\b\b\b\b\b\b\b\b\b\b\b\b\b\b\b\b\b\b\b\b\b\b\b\b\b\b\b\b\b\b\b\b\b\b\b\b\b\b\b\b\b\b\b\b\b\b\b\b\b\b\b\b\b\b\b\b\b\b\b\b\b\b\b\b\b\b\b\b\b\b\b\b\b\b\b\b\b\b\b\b\b\b\b\b\b\b\b\b\b\b\b\b\b\b\b\b\b\b\b\b\b\b\b\b\b\b\b\b\b\b\b\b\b\b\b\b\b\b\b\b\b\b\b\b\b\b\b\b\b\b\b\b\b\b\b\b\b\b\b\b\b\b\b\b\b\b\b\b\b\b\b\b\b\b\b\b\b\b\b\b\b\b\b\b\b\b\b\b\b\b\b\b\b\b\b\b\b\b\b\b\b\b\b\b\b\b\b\b\b\b\b\b\b\b\b\b\b\b\b\b\b\b\b\b\b\b\b\b\b\b\b\b\b\b\b\b\b\b\b\b\b\b\b\b\b\b\b\b\b\b\b\b\b\b\b\b\b\b\b\b\b\b\b\b\b\b\b\b\b\b\b\b\b\b\b\b\b\b\b\b\b\b\b\b\b\b\b\b\b\b\b\b\b\b\b\b\b\b\b\b\b\b\b\b\b\b\b\b\b\b\b\b\b\b\b\b\b\b\b\b\b\b\b\b\b\b\b\b\b\b\b\b\b\b\b\b\b\b\b\b\b\b\b\b\b\b\b\b\b\b\b\b\b\b\b\b\b\b\b\b\b\b\b\b\b\b\b\b\b\b\b\b\b\b\b\b\b\b\b\b\b\b\b\b\b\b\b\b\b\b\b\b\b\b\b\b\b\b\b\b\b\b\b\b\b\b\b\b\b\b\b\b\b\b\b\b\b\b\b\b\b\b\b\b\b\b\b\b\b\b\b\b\b\b\b\b\b\b\b\b\b\b\b\b\b\b\b\b\b\b\b\b\b\b\b\b\b\b\b\b\b\b\b\b\b\b\b\b\b\b\b\b\b\b\b\b\b\b\b\b\b\b\b\b\b\b\b\b\b\b\b\b\b\b\b\b\b\b\b\b\b\b\b\b\b\b\b\b\b\b\b\b\b\b\b\b\b\b\b\b\b\b\b\b\b\b\b\b\b\b\b\b\b\b\b\b\b\b\b\b\b\b\b\b\b\b\b\b\b\b\b\b\b\b\b\b\b\b\b\b\b\b\b\b\b\b\b\b\b\b\b\b\b\b\b\b\b\b\b\b\b\b\b\b\b\b\b\b\b\b\b\b\b\b\b\b\b\b\b\b\b\b\b\b\b\b\b\b\b\b\b\b\b\b\b\b\b\b\b\b\b\b\b\b\b\b\b\b\b\b\b\b\b\b\b\b\b\b\b\b\b\b\b\b\b\b\b\b\b\b\b\b\b\b\b\b\b\b\b\b\b\b\b\b\b\b\b\b\b\b\b\b\b\b\b\b\b\b\b\b\b\b\b\b\b\b\b\b\b\b\b\b\b\b\b\b\b\b\b\b\b\b\b\b\b\b\b\b\b\b\b\b\b\b\b\b\b\b\b\b\b\b\b\b\b\b\b\b\b\b\b\b\b\b\b\b\b\b\b\b\b\b\b\b\b\b\b\b\b\b\b\b\b\b\b\b\b\b\b\b\b\b\b\b\b\b\b\b\b\b\b\b\b\b\b\b\b\b\b\b\b\b\b\b\b\b\b\b\b\b\b\b\b\b\b\b\b\b\b\b\b\b\b\b\b\b\b\b\b\b\b\b\b\b\b\b\b\b\b\b\b\b\b\b\b\b\b\b\b\b\b\b\b\b\b\b\b\b\b\b\b\b\b\b\b\b\b\b\b\b\b\b\b\b\b\b\b\b\b\b\b\b\b\b\b\b\b\b\b\b\b\b\b\b\b\b\b\b\b\b\b\b\b\b\b\b\b\b\b\b\b\b\b\b\b\b\b\b\b\b\b\b\b\b\b\b\b\b\b\b\b\b\b\b\b\b\b\b\b\b\b\b\b\b\b\b\b\b\b\b\b\b\b\b\b\b\b\b\b\b\b\b\b\b\b\b\b\b\b\b\b\b\b\b\b\b\b\b\b\b\b\b\b\b\b\b\b\b\b\b\b\b\b\b\b\b\b\b\b\b\b\b\b\b\b\b\b\b\b\b\b\b\b\b\b\b\b\b\b\b\b\b\b\b\b\b\b\b\b\b\b\b\b\b\b\b\b\b\b\b\b\b\b\b\b\b\b\b\b\b\b\b\b\b\b\b\b\b\b\b\b\b\b\b\b\b\b\b\b\b\b\b\b\b\b\b\b\b\b\b\b\b\b\b\b\b\b\b\b\b\b\b\b\b\b\b\b\b\b\b\b\b\b\b\b\b\b\b\b\b\b\b\b\b\b\b\b\b\b\b\b\b\b\b\b\b\b\b\b\b\b\b\b\b\b\b\b\b\b\b\b\b\b\b\b\b\b\b\b\b\b\b\b\b\b\b\b\b\b\b\b\b\b\b\b\b\b\b\b\b\b\b\b\b\b\b\b\b\b\b\b\b\b\b\b\b\b\b\b\b\b\b\b\b\b\b\b\b\b\b\b\b\b\b\b\b\b\b\b\b\b\b\b\b\b\b\b\b\b\b\b\b\b\b\b\b\b\b\b\b\b\b\b\b\b\b\b\b\b\b\b\b\b\b\b\b\b\b\b\b\b\b\b\b\b\b\b\b\b\b\b\b\b\b\b\b\b\b\b\b\b\b\b\b\b\b\b\b\b\b\b\b\b\b\b\b\b\b\b\b\b\b\b\b\b\b\b\b\b\b\b\b\b\b\b\b\b\b\b\b\b\b\b\b\b\b\b\b\b\b\b\b\b\b\b\b\b\b\b\b\b\b\b\b\b\b\b\b\b\b\b\b\b\b\b\b\b\b\b\b\b\b\b\b\b\b\b\b\b\b\b\b\b\b\b\b\b\b\b\b\b\b\b\b\b\b\b\b\b\b\b\b\b\b\b\b\b\b\b\b\b\b\b\b\b\b\b\b\b\b\b\b\b\b\b\b\b\b\b\b\b\b\b\b\b\b\b\b\b\b\b\b\b\b\b\b\b\b\b\b\b\b\b\b\b\b\b\b\b\b\b\b\b\b\b\b\b\b\b\b\b\b\b\b\b\b\b\b\b\b\b\b\b\b\b\b\b\b\b\b\b\b\b\b\b\b\b\b\b\b\b\b\b\b\b\b\b\b\b\b\b\b\b\b\b\b\b\b\b\b\b\b\b\b\b\b\b\b\b\b\b\b\b\b\b\b\b\b\b\b\b\b\b\b\b\b\b\b\b\b\b\b\b\b\b\b\b\b\b\b\b\b\b\b\b\b\b\b\b\b\b\b\b\b\b\b\b\b\b\b\b\b\b\b\b\b\b\b\b\b\b\b\b\b\b\b\b\b\b\b\b\b\b\b\b\b\b\b\b\b\b\b\b\b\b\b\b\b\b\b\b\b\b\b\b\b\b\b\b\b\b\b\b\b\b\b\b\b\b\b\b\b\b\b\b\b\b\b\b\b\b\b\b\b\b\b\b\b\b\b\b\b\b\b\b\b\b\b\b\b\b\b\b\b\b\b\b\b\b\b\b\b\b\b\b\b\b\b\b\b\b\b\b\b\b\b\b\b\b\b\b\b\b\b\b\b\b\b\b\b\b\b\b\b\b\b\b\b\b\b\b\b\b\b\b\b\b\b\b\b\b\b\b\b\b\b\b\b\b\b\b\b\b\b\b\b\b\b\b\b\b\b\b\b\b\b\b\b\b\b\b\b\b\b\b\b\b\b\b\b\b\b\b\b\b\b\b\b\b\b\b\b\b\b\b\b\b\b\b\b\b\b\b\b\b\b\b\b\b\b\b\b\b\b\b\b\b\b\b\b\b\b\b\b\b\b\b\b\b\b\b\b\b\b\b\b\b\b\b\b\b\b\b\b\b\b\b\b\b\b\b\b\b\b\b\b\b\b\b\b\b\b\b\b\b\b\b\b\b\b\b\b\b\b\b\b\b\b\b\b\b\b\b\b\b\b\b\b\b\b\b\b\b\b\b\b\b\b\b\b\b\b\b\b\b\b\b\b\b\b\b\b\b\b\b\b\b\b\b\b\b\b\b\b\b\b\b\b\b\b\b\b\b\b\b\b\b\b\b\b\b\b\b\b\b\b\b\b\b\b\b\b\b\b\b\b\b\b\b\b\b\b\b\b\b\b\b\b\b\b\b\b\b\b\b\b\b\b\b\b\b\b\b\b\b\b\b\b\b\b\b\b\b\b\b\b\b\b\b\b\b\b\b\b\b\b\b\b\b\b\b\b\b\b\b\b\b\b\b\b\b\b\b\b\b\b\b\b\b\b\b\b\b\b\b\b\b\b\b\b\b\b\b\b\b\b\b\b\b\b\b\b\b\b\b\b\b\b\b\b\b\b\b\b\b\b\b\b\b\b\b\b\b\b\b\b\b\b\b\b\b\b\b\b\b\b\b\b\b\b\b\b\b\b\b\b\b\b\b\b\b\b\b\b\b\b\b\b\b\b\b\b\b\b\b\b\b\b\b\b\b\b\b\b\b\b\b\b\b\b\b\b\b\b\b\b\b\b\b\b\b\b\b\b\b\b\b\b\b\b\b\b\b\b\b\b\b\b\b\b\b\b\b\b\b\b\b\b\b\b\b\b\b\b\b\b\b\b\b\b\b\b\b\b\b\b\b\b\b\b\b\b\b\b\b\b\b\b\b\b\b\b\b\b\b\b\b\b\b\b\b\b\b\b\b\b\b\b\b\b\b\b\b\b\b\b\b\b\b\b\b\b\b\b\b\b\b\b\b\b\b\b\b\b\b\b\b\b\b\b\b\b\b\b\b\b\b\b\b\b\b\b\b\b\b\b\b\b\b\b\b\b\b\b\b\b\b\b\b\b\b\b\b\b\b\b\b\b\b\b\b\b\b\b\b\b\b\b\b\b\b\b\b\b\b\b\b\b\b\b\b\b\b\b\b\b\b\b\b\b\b\b\b\b\b\b\b\b\b\b\b\b\b\b\b\b\b\b\b\b\b\b\b\b\b\b\b\b\b\b\b\b\b\b\b\b\b\b\b\b\b\b\b\b\b\b\b\b\b\b\b\b\b\b\b\b\b\b\b\b\b\b\b\b\b\b\b\b\b\b\b\b\b\b\b\b\b\b\b\b\b\b\b\b\b\b\b\b\b\b\b\b\b\b\b\b\b\b\b\b\b\b\b\b\b\b\b\b\b\b\b\b\b\b\b\b\b\b\b\b\b\b\b\b\b\b\b\b\b\b\b\b\b\b\b\b\b\b\b\b\b\b\b\b\b\b\b\b\b\b\b\b\b\b\b\b\b\b\b\b\b\b\b\b\b\b\b\b\b\b\b\b\b\b\b\b\b\b\b\b\b\b\b\b\b\b\b\b\b\b\b\b\b\b\b\b\b\b\b\b\b\b\b\b\b\b\b\b\b\b\b\b\b\b\b\b\b\b\b\b\b\b\b\b\b\b\b\b\b\b\b\b\b\b\b\b\b\b\b\b\b\b\b\b\b\b\b\b\b\b\b\b\b\b\b\b\b\b\b\b\b\b\b\b\b\b\b\b\b\b\b\b\b\b\b\b\b\b\b\b\b\b\b\b\b\b\b\b\b\b\b\b\b\b\b\b\b\b\b\b\b\b\b\b\b\b\b\b\b\b\b\b\b\b\b\b\b\b\b\b\b\b\b\b\b\b\b\b\b\b\b\b\b\b\b\b\b\b\b\b\b\b\b\b\b\b\b\b\b\b\b\b\b\b\b\b\b\b\b\b\b\b\b\b\b\b\b\b\b\b\b\b\b\b\b\b\b\b\b\b\b\b\b\b\b\b\b\b\b\b\b\b\b\b\b\b\b\b\b\b\b\b\b\b\b\b\b\b\b\b\b\b\b\b\b\b\b\b\b\b\b\b\b\b\b\b\b\b\b\b\b\b\b\b\b\b\b\b\b\b\b\b\b\b\b\b\b\b\b\b\b\b\b\b\b\b\b\b\b\b\b\b\b\b\b\b\b\b\b\b\b\b\b\b\b\b\b\b\b\b\b\b\b\b\b\b\b\b\b\b\b\b\b\b\b\b\b\b\b\b\b\b\b\b\b\b\b\b\b\b\b\b\b\b\b\b\b\b\b\b\b\b\b\b\b\b\b\b\b\b\b\b\b\b\b\b\b\b\b\b\b\b\b\b\b\b\b\b\b\b\b\b\b\b\b\b\b\b\b\b\b\b\b\b\b\b\b\b\b\b\b\b\b\b\b\b\b\b\b\b\b\b\b\b\b\b\b\b\b\b\b\b\b\b\b\b\b\b\b\b\b\b\b\b\b\b\b\b\b\b\b\b\b\b\b\b\b\b\b\b\b\b\b\b\b\b\b\b\b\b\b\b\b\b\b\b\b\b\b\b\b\b\b\b\b\b\b\b\b\b\b\b\b\b\b\b\b\b\b\b\b\b\b\b\b\b\b\b\b\b\b\b\b\b\b\b\b\b\b\b\b\b\b\b\b\b\b\b\b\b\b\b\b\b\b\b\b\b\b\b\b\b\b\b\b\b\b\b\b\b\b\b\b\b\b\b\b\b\b\b\b\b\b\b\b\b\b\b\b\b\b\b\b\b\b\b\b\b\b\b\b\b\b\b\b\b\b\b\b\b\b\b\b\b\b\b\b\b\b\b\b\b\b\b\b\b\b\b\b\b\b\b\b\b\b\b\b\b\b\b\b\b\b\b\b\b\b\b\b\b\b\b\b\b\b\b\b\b\b\b\b\b\b\b\b\b\b\b\b\b\b\b\b\b\b\b\b\b\b\b\b\b\b\b\b\b\b\b\b\b\b\b\b\b\b\b\b\b\b\b\b\b\b\b\b\b\b\b\b\b\b\b\b\b\b\b\b\b\b\b\b\b\b\b\b\b\b\b\b\b\b\b\b\b\b\b\b\b\b\b\b\b\b\b\b\b\b\b\b\b\b\b\b\b\b\b\b\b\b\b\b\b\b\b\b\b\b\b\b\b\b\b\b\b\b\b\b\b\b\b\b\b\b\b\b\b\b\b\b\b\b\b\b\b\b\b\b\b\b\b\b\b\b\b\b\b\b\b\b\b\b\b\b\b\b\b\b\b\b\b\b\b\b\b\b\b\b\b\b\b\b\b\b\b\b\b\b\b\b\b\b\b\b\b\b\b\b\b\b\b\b\b\b\b\b\b\b\b\b\b\b\b\b\b\b\b\b\b\b\b\b\b\b\b\b\b\b\b\b\b\b\b\b\b\b\b\b\b\b\b\b\b\b\b\b\b\b\b\b\b\b\b\b\b\b\b\b\b\b\b\b\b\b\b\b\b\b\b\b\b\b\b\b\b\b\b\b\b\b\b\b\b\b\b\b\b\b\b\b\b\b\b\b\b\b\b\b\b\b\b\b\b\b\b\b\b\b\b\b\b\b\b\b\b\b\b\b\b\b\b\b\b\b\b\b\b\b\b\b\b\b\b\b\b\b\b\b\b\b\b\b\b\b\b\b\b\b\b\b\b\b\b\b\b\b\b\b\b\b\b\b\b\b\b\b\b\b\b\b\b\b\b\b\b\b\b\b\b\b\b\b\b\b\b\b\b\b\b\b\b\b\b\b\b\b\b\b\b\b\b\b\b\b\b\b\b\b\b\b\b\b\b\b\b\b\b\b\b\b\b\b\b\b\b\b\b\b\b\b\b\b\b\b\b\b\b\b\b\b\b\b\b\b\b\b\b\b\b\b\b\b\b\b\b\b\b\b\b\b\b\b\b\b\b\b\b\b\b\b\b\b\b\b\b\b\b\b\b\b\b\b\b\b\b\b\b\b\b\b\b\b\b\b\b\b\b\b\b\b\b\b\b\b\b\b\b\b\b\b\b\b\b\b\b\b\b\b\b\b\b\b\b\b\b\b\b\b\b\b\b\b\b\b\b\b\b\b\b\b\b\b\b\b\b\b\b\b\b\b\b\b\b\b\b\b\b\b\b\b\b\b\b\b\b\b\b\b\b\b\b\b\b\b\b\b\b\b\b\b\b\b\b\b\b\b\b\b\b\b\b\b\b\b\b\b\b\b\b\b\b\b\b\b\b\b\b\b\b\b\b\b\b\b\b\b\b\b\b\b\b\b\b\b\b\b\b\b\b\b\b\b\b\b\b\b\b\b\b\b\b\b\b\b\b\b\b\b\b\b\b\b\b\b\b\b\b\b\b\b\b\b\b\b\b\b\b\b\b\b\b\b\b\b\b\b\b\b\b\b\b\b\b\b\b\b\b\b\b\b\b\b\b\b\b\b\b\b\b\b\b\b\b\b\b\b\b\b\b\b\b\b\b\b\b\b\b\b\b\b\b\b\b\b\b\b\b\b\b\b\b\b\b\b\b\b\b\b\b\b\b\b\b\b\b\b\b\b\b\b\b\b\b\b\b\b\b\b\b\b\b\b\b\b\b\b\b\b\b\b\b\b\b\b\b\b\b\b\b\b\b\b\b\b\b\b\b\b\b\b\b\b\b\b\b\b\b\b\b\b\b\b\b\b\b\b\b\b\b\b\b\b\b\b\b\b\b\b\b\b\b\b\b\b\b\b\b\b\b\b\b\b\b\b\b\b\b\b\b\b\b\b\b\b\b\b\b\b\b\b\b\b\b\b\b\b\b\b\b\b\b\b\b\b\b\b\b\b\b\b\b\b\b\b\b\b\b\b\b\b\b\b\b\b\b\b\b\b\b\b\b\b\b\b\b\b\b\b\b\b\b\b\b\b\b\b\b\b\b\b\b\b\b\b\b\b\b\b\b\b\b\b\b\b\b\b\b\b\b\b\b\b\b\b\b\b\b\b\b\b\b\b\b\b\b\b\b\b\b\b\b\b\b\b\b\b\b\b\b\b\b\b\b\b\b\b\b\b\b\b\b\b\b\b\b\b\b\b\b\b\b\b\b\b\b\b\b\b\b\b\b\b\b\b\b\b\b\b\b\b\b\b\b\b\b\b\b\b\b\b\b\b\b\b\b\b\b\b\b\b\b\b\b\b\b\b\b\b\b\b\b\b\b\b\b\b\b\b\b\b\b\b\b\b\b\b\b\b\b\b\b\b\b\b\b\b\b\b\b\b\b\b\b\b\b\b\b\b\b\b\b\b\b\b\b\b\b\b\b\b\b\b\b\b\b\b\b\b\b\b\b\b\b\b\b\b\b\b\b\b\b\b\b\b\b\b\b\b\b\b\b\b\b\b\b\b\b\b\b\b\b\b\b\b\b\b\b\b\b\b\b\b\b\b\b\b\b\b\b\b\b\b\b\b\b\b\b\b\b\b\b\b\b\b\b\b\b\b\b\b\b\b\b\b\b\b\b\b\b\b\b\b\b\b\b\b\b\b\b\b\b\b\b\b\b\b\b\b\b\b\b\b\b\b\b\b\b\b\b\b\b\b\b\b\b\b\b\b\b\b\b\b\b\b\b\b\b\b\b\b\b\b\b\b\b\b\b\b\b\b\b\b\b\b\b\b\b\b\b\b\b\b\b\b\b\b\b\b\b\b\b\b\b\b\b\b\b\b\b\b\b\b\b\b\b\b\b\b\b\b\b\b\b\b\b\b\b\b\b\b\b\b\b\b\b\b\b\b\b\b\b\b\b\b\b\b\b\b\b\b\b\b\b\b\b\b\b\b\b\b\b\b\b\b\b\b\b\b\b\b\b\b\b\b\b\b\b\b\b\b\b\b\b\b\b\b\b\b\b\b\b\b\b\b\b\b\b\b\b\b\b\b\b\b\b\b\b\b\b\b\b\b\b\b\b\b\b\b\b\b\b\b\b\b\b\b\b\b\b\b\b\b\b\b\b\b\b\b\b\b\b\b\b\b\b\b\b\b\b\b\b\b\b\b\b\b\b\b\b\b\b\b\b\b\b\b\b\b\b\b\b\b\b\b\b\b\b\b\b\b\b\b\b\b\b\b\b\b\b\b\b\b\b\b\b\b\b\b\b\b\b\b\b\b\b\b\b\b\b\b\b\b\b\b\b\b\b\b\b\b\b\b\b\b\b\b\b\b\b\b\b\b\b\b\b\b\b\b\b\b\b\b\b\b\b\b\b\b\b\b\b\b\b\b\b\b\b\b\b\b\b\b\b\b\b\b\b\b\b\b\b\b\b\b\b\b\b\b\b\b\b\b\b\b\b\b\b\b\b\b\b\b\b\b\b\b\b\b\b\b\b\b\b\b\b\b\b\b\b\b\b\b\b\b\b\b\b\b\b\b\b\b\b\b\b\b\b\b\b\b\b\b\b\b\b\b\b\b\b\b\b\b\b\b\b\b\b\b\b\b\b\b\b\b\b\b\b\b\b\b\b\b\b\b\b\b\b\b\b\b\b\b\b\b\b\b\b\b\b\b\b\b\b\b\b\b\b\b\b\b\b\b\b\b\b\b\b\b\b\b\b\b\b\b\b\b\b\b\b\b\b\b\b\b\b\b\b\b\b\b\b\b\b\b\b\b\b\b\b\b\b\b\b\b\b\b\b\b\b\b\b\b\b\b\b\b\b\b\b\b\b\b\b\b\b\b\b\b\b\b\b\b\b\b\b\b\b\b\b\b\b\b\b\b\b\b\b\b\b\b\b\b\b\b\b\b\b\b\b\b\b\b\b\b\b\b\b\b\b\b\b\b\b\b\b\b\b\b\b\b\b\b\b\b\b\b\b\b\b\b\b\b\b\b\b\b\b\b\b\b\b\b\b\b\b\b\b\b\b\b\b\b\b\b\b\b\b\b\b\b\b\b\b\b\b\b\b\b\b\b\b\b\b\b\b\b\b\b\b\b\b\b\b\b\b\b\b\b\b\b\b\b\b\b\b\b\b\b\b\b\b\b\b\b\b\b\b\b\b\b\b\b\b\b\b\b\b\b\b\b\b\b\b\b\b\b\b\b\b\b\b\b\b\b\b\b\b\b\b\b\b\b\b\b\b\b\b\b\b\b\b\b\b\b\b\b\b\b\b\b\b\b\b\b\b\b\b\b\b\b\b\b\b\b\b\b\b\b\b\b\b\b\b\b\b\b\b\b\b\b\b\b\b\b\b\b\b\b\b\b\b\b\b\b\b\b\b\b\b\b\b\b\b\b\b\b\b\b\b\b\b\b\b\b\b\b\b\b\b\b\b\b\b\b\b\b\b\b\b\b\b\b\b\b\b\b\b\b\b\b\b\b\b\b\b\b\b\b\b\b\b\b\b\b\b\b\b\b\b\b\b\b\b\b\b\b\b\b\b\b\b\b\b\b\b\b\b\b\b\b\b\b\b\b\b\b\b\b\b\b\b\b\b\b\b\b\b\b\b\b\b\b\b\b\b\b\b\b\b\b\b\b\b\b\b\b\b\b\b\b\b\b\b\b\b\b\b\b\b\b\b\b\b\b\b\b\b\b\b\b\b\b\b\b\b\b\b\b\b\b\b\b\b\b\b\b\b\b\b\b\b\b\b\b\b\b\b\b\b\b\b\b\b\b\b\b\b\b\b\b\b\b\b\b\b\b\b\b\b\b\b\b\b\b\b\b\b\b\b\b\b\b\b\b\b\b\b\b\b\b\b\b\b\b\b\b\b\b\b\b\b\b\b\b\b\b\b\b\b\b\b\b\b\b\b\b\b\b\b\b\b\b\b\b\b\b\b\b\b\b\b\b\b\b\b\b\b\b\b\b\b\b\b\b\b\b\b\b\b\b\b\b\b\b\b\b\b\b\b\b\b\b\b\b\b\b\b\b\b\b\b\b\b\b\b\b\b\b\b\b\b\b\b\b\b\b\b\b\b\b\b\b\b\b\b\b\b\b\b\b\b\b\b\b\b\b\b\b\b\b\b\b\b\b\b\b\b\b\b\b\b\b\b\b\b\b\b\b\b\b\b\b\b\b\b\b\b\b\b\b\b\b\b\b\b\b\b\b\b\b\b\b\b\b\b\b\b\b\b\b\b\b\b\b\b\b\b\b\b\b\b\b\b\b\b\b\b\b\b\b\b\b\b\b\b\b\b\b\b\b\b\b\b\b\b\b\b\b\b\b\b\b\b\b\b\b\b\b\b\b\b\b\b\b\b\b\b\b\b\b\b\b\b\b\b\b\b\b\b\b\b\b\b\b\b\b\b\b\b\b\b\b\b\b\b\b\b\b\b\b\b\b\b\b\b\b\b\b\b\b\b\b\b\b\b\b\b\b\b\b\b\b\b\b\b\b\b\b\b\b\b\b\b\b\b\b\b\b\b\b\b\b\b\b\b\b\b\b\b\b\b\b\b\b\b\b\b\b\b\b\b\b\b\b\b\b\b\b\b\b\b\b\b\b\b\b\b\b\b\b\b\b\b\b\b\b\b\b\b\b\b\b\b\b\b\b\b\b\b\b\b\b\b\b\b\b\b\b\b\b\b\b\b\b\b\b\b\b\b\b\b\b\b\b\b\b\b\b\b\b\b\b\b\b\b\b\b\b\b\b\b\b\b\b\b\b\b\b\b\b\b\b\b\b\b\b\b\b\b\b\b\b\b\b\b\b\b\b\b\b\b\b\b\b\b\b\b\b\b\b\b\b\b\b\b\b\b\b\b\b\b\b\b\b\b\b\b\b\b\b\b\b\b\b\b\b\b\b\b\b\b\b\b\b\b\b\b\b\b\b\b\b\b\b\b\b\b\b\b\b\b\b\b\b\b\b\b\b\b\b\b\b\b\b\b\b\b\b\b\b\b\b\b\b\b\b\b\b\b\b\b\b\b\b\b\b\b\b\b\b\b\b\b\b\b\b\b\b\b\b\b\b\b\b\b\b\b\b\b\b\b\b\b\b\b\b\b\b\b\b\b\b\b\b\b\b\b\b\b\b\b\b\b\b\b\b\b\b\b\b\b\b\b\b\b\b\b\b\b\b\b\b\b\b\b\b\b\b\b\b\b\b\b\b\b\b\b\b\b\b\b\b\b\b\b\b\b\b\b\b\b\b\b\b\b\b\b\b\b\b\b\b\b\b\b\b\b\b\b\b\b\b\b\b\b\b\b\b\b\b\b\b\b\b\b\b\b\b\b\b\b\b\b\b\b\b\b\b\b\b\b\b\b\b\b\b\b\b\b\b\b\b\b\b\b\b\b\b\b\b\b\b\b\b\b\b\b\b\b\b\b\b\b\b\b\b\b\b\b\b\b\b\b\b\b\b\b\b\b\b\b\b\b\b\b\b\b\b\b\b\b\b\b\b\b\b\b\b\b\b\b\b\b\b\b\b\b\b\b\b\b\b\b\b\b\b\b\b\b\b\b\b\b\b\b\b\b\b\b\b\b\b\b\b\b\b\b\b\b\b\b\b\b\b\b\b\b\b\b\b\b\b\b\b\b\b\b\b\b\b\b\b\b\b\b\b\b\b\b\b\b\b\b\b\b\b\b\b\b\b\b\b\b\b\b\b\b\b\b\b\b\b\b\b\b\b\b\b\b\b\b\b\b\b\b\b\b\b\n"
     ]
    }
   ],
   "source": [
    "fulltweets16['neg_other_predicted_classes_CNN'] = loaded_model.predict_classes(x)"
   ]
  },
  {
   "cell_type": "code",
   "execution_count": 79,
   "metadata": {
    "collapsed": false
   },
   "outputs": [
    {
     "name": "stdout",
     "output_type": "stream",
     "text": [
      "5501/5501 [==============================] - 2s     \b\b\b\b\b\b\b\b\b\b\b\b\b\b\b\b\b\b\b\b\b\b\b\b\b\b\b\b\b\b\b\b\b\b\b\b\b\b\b\b\b\b\b\b\b\b\b\b\b\b\b\b\b\b\b\b\b\b\b\b\b\b\b\b\b\b\b\b\b\b\b\b\b\b\b\b\b\b\b\b\b\b\b\b\b\b\b\b\b\b\b\b\b\b\b\b\b\b\b\b\b\b\b\b\b\b\b\b\b\b\b\b\b\b\b\b\b\b\b\b\b\b\b\b\b\b\b\b\b\b\b\b\b\b\b\b\b\b\b\b\b\b\b\b\b\b\b\b\b\b\b\b\b\b\b\b\b\b\b\b\b\b\b\b\b\b\b\b\b\b\b\b\b\b\b\b\b\b\b\b\b\b\b\b\b\b\b\b\b\b\b\b\b\b\b\b\b\b\b\b\b\b\b\b\b\b\b\b\b\b\b\b\b\b\b\b\b\b\b\b\b\b\b\b\b\b\b\b\b\b\b\b\b\b\b\b\b\b\b\b\b\b\b\b\b\b\b\b\b\b\b\b\b\b\b\b\b\b\b\b\b\b\b\b\b\b\b\b\b\b\b\b\b\b\b\b\b\b\b\b\b\b\b\b\b\b\b\b\b\b\b\b\b\b\b\b\b\b\b\b\b\b\b\b\b\b\b\b\b\b\b\b\b\b\b\b\b\b\b\b\b\b\b\b\b\b\b\b\b\b\b\b\b\b\b\b\b\b\b\b\b\b\b\b\b\b\b\b\b\b\b\b\b\b\b\b\b\b\b\b\b\b\b\b\b\b\b\b\b\b\b\b\b\b\b\b\b\b\b\b\b\b\b\b\b\b\b\b\b\b\b\b\b\b\b\b\b\b\b\b\b\b\b\b\b\b\b\b\b\b\b\b\b\b\b\b\b\b\b\b\b\b\b\b\b\b\b\b\b\b\b\b\b\b\b\b\b\b\b\b\b\b\b\b\b\b\b\b\b\b\b\b\b\b\b\b\b\b\b\b\b\b\b\b\b\b\b\b\b\b\b\b\b\b\b\b\b\b\b\b\b\b\b\b\b\b\b\b\b\b\b\b\b\b\b\b\b\b\b\b\b\b\b\b\b\b\b\b\b\b\b\b\b\b\b\b\b\b\b\b\b\b\b\b\b\b\b\b\b\b\b\b\b\b\b\b\b\b\b\b\b\b\b\b\b\b\b\b\b\b\b\b\b\b\b\b\b\b\b\b\b\b\b\b\b\b\b\b\b\b\b\b\b\b\b\b\b\b\b\b\b\b\b\b\b\b\b\b\b\b\b\b\b\b\b\b\b\b\b\b\b\b\b\b\b\b\b\b\b\b\b\b\b\b\b\b\b\b\b\b\b\b\b\b\b\b\b\b\b\b\b\b\b\b\b\b\b\b\b\b\b\b\b\b\b\b\b\b\b\b\b\b\b\b\b\b\b\b\b\b\b\b\b\b\b\b\b\b\b\b\b\b\b\b\b\b\b\b\b\b\b\b\b\b\b\b\b\b\b\b\b\b\b\b\b\b\b\b\b\b\b\b\b\b\b\b\b\b\b\b\b\b\b\b\b\b\b\b\b\b\b\b\b\b\b\b\b\b\b\b\b\b\b\b\b\b\b\b\b\b\b\b\b\b\b\b\b\b\b\b\b\b\b\b\b\b\b\b\b\b\b\b\b\b\b\b\b\b\b\b\b\b\b\b\b\b\b\b\b\b\b\b\b\b\b\b\b\b\b\b\b\b\b\b\b\b\b\b\b\b\b\b\b\b\b\b\b\b\b\b\b\b\b\b\b\b\b\b\b\b\b\b\b\b\b\b\b\b\b\b\b\b\b\b\b\b\b\b\b\b\b\b\b\b\b\b\b\b\b\b\b\b\b\b\b\b\b\b\b\b\b\b\b\b\b\b\b\b\b\b\b\b\b\b\b\b\b\b\b\b\b\b\b\b\b\b\b\b\b\b\b\b\b\b\b\b\b\b\b\b\b\b\b\b\b\b\b\b\b\b\b\b\b\b\b\b\b\b\b\b\b\b\b\b\b\b\b\b\b\b\b\b\b\b\b\b\b\b\b\b\b\b\b\b\b\b\b\b\b\b\b\b\b\b\b\b\b\b\b\b\b\b\b\b\b\b\b\b\b\b\b\b\b\b\b\b\b\b\b\b\b\b\b\b\b\b\b\b\b\b\b\b\b\b\b\b\b\b\b\b\b\b\b\b\b\b\b\b\b\b\b\b\b\b\b\b\b\b\b\b\b\b\b\b\b\b\b\b\b\b\b\b\b\b\b\b\b\b\b\b\b\b\b\b\b\b\b\b\b\b\b\b\b\b\b\b\b\b\b\b\b\b\b\b\b\b\b\b\b\b\b\b\b\b\b\b\b\b\b\b\b\b\b\b\b\b\b\b\b\b\b\b\b\b\b\b\b\b\b\b\b\b\b\b\b\b\b\b\b\b\b\b\b\b\b\b\b\b\b\b\b\b\b\b\b\b\b\b\b\b\b\b\b\b\b\b\b\b\b\b\b\b\b\b\b\b\b\b\b\b\b\b\b\b\b\b\b\b\b\b\b\b\b\b\b\b\b\b\b\b\b\b\b\b\b\b\b\b\b\b\b\b\b\b\b\b\b\b\b\b\b\b\b\b\b\b\b\b\b\b\b\b\b\b\b\b\b\b\b\b\b\b\b\b\b\b\b\b\b\b\b\b\b\b\b\b\b\b\b\b\b\b\b\b\b\b\b\b\b\b\b\b\b\b\b\b\b\b\b\b\b\b\b\b\b\b\b\b\b\b\b\b\b\b\b\b\b\b\b\b\b\b\b\b\b\b\b\b\b\b\b\b\b\b\b\b\b\b\b\b\b\b\b\b\b\b\b\b\b\b\b\b\b\b\b\b\b\b\b\b\b\b\b\b\b\b\b\b\b\b\b\b\b\b\b\b\b\b\b\b\b\b\b\b\b\b\b\b\b\b\b\b\b\b\b\b\b\b\b\b\b\b\b\b\b\b\b\b\b\b\b\b\b\b\b\b\b\b\b\b\b\b\b\b\b\b\b\b\b\b\b\b\b\b\b\b\b\b\b\b\b\b\b\b\b\b\b\b\b\b\b\b\b\b\b\b\b\b\b\b\b\b\b\b\b\b\b\b\b\b\b\b\b\b\b\b\b\b\b\b\b\b\b\b\b\b\b\b\b\b\b\b\b\b\b\b\b\b\b\b\b\b\b\b\b\b\b\b\b\b\b\b\b\b\b\b\b\b\b\b\b\b\b\b\b\b\b\b\b\b\b\b\b\b\b\b\b\b\b\b\b\b\b\b\b\b\b\b\b\b\b\b\b\b\b\b\b\b\b\b\b\b\b\b\b\b\b\b\b\b\b\b\b\b\b\b\b\b\b\b\b\b\b\b\b\b\b\b\b\b\b\b\b\b\b\b\b\b\b\b\b\b\b\b\b\b\b\b\b\b\b\b\b\b\b\b\b\b\b\b\b\b\b\b\b\b\b\b\b\b\b\b\b\b\b\b\b\b\b\b\b\b\b\b\b\b\b\b\b\b\b\b\b\b\b\b\b\b\b\b\b\b\b\b\b\b\b\b\b\b\b\b\b\b\b\b\b\b\b\b\b\b\b\b\b\b\b\b\b\b\b\b\b\b\b\b\b\b\b\b\b\b\b\b\b\b\b\b\b\b\b\b\b\b\b\b\b\b\b\b\b\b\b\b\b\b\b\b\b\b\b\b\b\b\b\b\b\b\b\b\b\b\b\b\b\b\b\b\b\b\b\b\b\b\b\b\b\b\b\b\b\b\b\b\b\b\b\b\b\b\b\b\b\b\b\b\b\b\b\b\b\b\b\b\b\b\b\b\b\b\b\b\b\b\b\b\b\b\b\b\b\b\b\b\b\b\b\b\b\b\b\b\b\b\b\b\b\b\b\b\b\b\b\b\b\b\b\b\b\b\b\b\b\b\b\b\b\b\b\b\b\b\b\b\b\b\b\b\b\b\b\b\b\b\b\b\b\b\b\b\b\b\b\b\b\b\b\b\b\b\b\b\b\b\b\b\b\b\b\b\b\b\b\b\b\b\b\b\b\b\b\b\b\b\b\b\b\b\b\b\b\b\b\b\b\b\b\b\b\b\b\b\b\b\b\b\b\b\b\b\b\b\b\b\b\b\b\b\b\b\b\b\b\b\b\b\b\b\b\b\b\b\b\b\b\b\b\b\b\b\b\b\b\b\b\b\b\b\b\b\b\b\b\b\b\b\b\b\b\b\b\b\b\b\b\b\b\b\b\b\b\b\b\b\b\b\b\b\b\b\b\b\b\b\b\b\b\b\b\b\b\b\b\b\b\b\b\b\b\b\b\b\b\b\b\b\b\b\b\b\b\b\b\b\b\b\b\b\b\b\b\b\b\b\b\b\b\b\b\b\b\b\b\b\b\b\b\b\b\b\b\b\b\b\b\b\b\b\b\b\b\b\b\b\b\b\b\b\b\b\b\b\b\b\b\b\b\b\b\b\b\b\b\b\b\b\b\b\b\b\b\b\b\b\b\b\b\b\b\b\b\b\b\b\b\b\b\b\b\b\b\b\b\b\b\b\b\b\b\b\b\b\b\b\b\b\b\b\b\b\b\b\b\b\b\b\b\b\b\b\b\b\b\b\b\b\b\b\b\b\b\b\b\b\b\b\b\b\b\b\b\b\b\b\b\b\b\b\b\b\b\b\b\b\b\b\b\b\b\b\b\b\b\b\b\b\b\b\b\b\b\b\b\b\b\b\b\b\b\b\b\b\b\b\b\b\b\b\b\b\b\b\b\b\b\b\b\b\b\b\b\b\b\b\b\b\b\b\b\b\b\b\b\b\b\b\b\b\b\b\b\b\b\b\b\b\b\b\b\b\b\b\b\b\b\b\b\b\b\b\b\b\b\b\b\b\b\b\b\b\b\b\b\b\b\b\b\b\b\b\b\b\b\b\b\b\b\b\b\b\b\b\b\b\b\b\b\b\b\b\b\b\b\b\b\b\b\b\b\b\b\b\b\b\b\b\b\b\b\b\b\b\b\b\b\b\b\b\b\b\b\b\b\b\b\b\b\b\b\b\b\b\b\b\b\b\b\b\b\b\b\b\b\b\b\b\b\b\b\b\b\b\b\b\b\b\b\b\b\b\b\b\b\b\b\b\b\b\b\b\b\b\b\b\b\b\b\b\b\b\b\b\b\b\b\b\b\b\b\b\b\b\b\b\b\b\b\b\b\b\b\b\b\b\b\b\b\b\b\b\b\b\b\b\b\b\b\b\b\b\b\b\b\b\b\b\b\b\b\b\b\b\b\b\b\b\b\b\b\b\b\b\b\b\b\b\b\b\b\b\b\b\b\b\b\b\b\b\b\b\b\b\b\b\b\b\b\b\b\b\b\b\b\b\b\b\b\b\b\b\b\b\b\b\b\b\b\b\b\b\b\b\b\b\b\b\b\b\b\b\b\b\b\b\b\b\b\b\b\b\b\b\b\b\b\b\b\b\b\b\b\b\b\b\b\b\b\b\b\b\b\b\b\b\b\b\b\b\b\b\b\b\b\b\b\b\b\b\b\b\b\b\b\b\b\b\b\b\b\b\b\b\b\b\b\b\b\b\b\b\b\b\b\b\b\b\b\b\b\b\b\b\b\b\b\b\b\b\b\b\b\b\b\b\b\b\b\b\b\b\b\b\b\b\b\b\b\b\b\b\b\b\b\b\b\b\b\b\b\b\b\b\b\b\b\b\b\b\b\b\b\b\b\b\b\b\b\b\b\b\b\b\b\b\b\b\b\b\b\b\b\b\b\b\b\b\b\b\b\b\b\b\b\b\b\b\b\b\b\b\b\b\b\b\b\b\b\b\b\b\b\b\b\b\b\b\b\b\b\b\b\b\b\b\b\b\b\b\b\b\b\b\b\b\b\b\b\b\b\b\b\b\b\b\b\b\b\b\b\b\b\b\b\b\b\b\b\b\b\b\b\b\b\b\b\b\b\b\b\b\b\b\b\b\b\b\b\b\b\b\b\b\b\b\b\b\b\b\b\b\b\b\b\b\b\b\b\b\b\b\b\b\b\b\b\b\b\b\b\b\b\b\b\b\b\b\b\b\b\b\b\b\b\b\b\b\b\b\b\b\b\b\b\b\b\b\b\b\b\b\b\b\b\b\b\b\b\b\b\b\b\b\b\b\b\b\b\b\b\b\b\b\b\b\b\b\b\b\b\b\b\b\b\b\b\b\b\b\b\b\b\b\b\b\b\b\b\b\b\b\b\b\b\b\b\b\b\b\b\b\b\b\b\b\b\b\b\b\b\b\b\b\b\b\b\b\b\b\b\b\b\b\b\b\b\b\b\b\b\b - ETA: 1s\b\b\b\b\b\b\b\b\b\b\b\b\b\b\b\b\b\b\b\b\b\b\b\b\b\b\b\b\b\b\b\b\b\b\b\b\b\b\b\b\b\b\b\b\b\b\b\b\b\b\b\b\b\b\b\b\b\b\b\b\b\b\b\b\b\b\b\b\b\b\b\b\b\b\b\b\b\b\b\b\b\b\b\b\b\b\b\b\b\b\b\b\b\b\b\b\b\b\b\b\b\b\b\b\b\b\b\b\b\b\b\b\b\b\b\b\b\b\b\b\b\b\b\b\b\b\b\b\b\b\b\b\b\b\b\b\b\b\b\b\b\b\b\b\b\b\b\b\b\b\b\b\b\b\b\b\b\b\b\b\b\b\b\b\b\b\b\b\b\b\b\b\b\b\b\b\b\b\b\b\b\b\b\b\b\b\b\b\b\b\b\b\b\b\b\b\b\b\b\b\b\b\b\b\b\b\b\b\b\b\b\b\b\b\b\b\b\b\b\b\b\b\b\b\b\b\b\b\b\b\b\b\b\b\b\b\b\b\b\b\b\b\b\b\b\b\b\b\b\b\b\b\b\b\b\b\b\b\b\b\b\b\b\b\b\b\b\b\b\b\b\b\b\b\b\b\b\b\b\b\b\b\b\b\b\b\b\b\b\b\b\b\b\b\b\b\b\b\b\b\b\b\b\b\b\b\b\b\b\b\b\b\b\b\b\b\b\b\b\b\b\b\b\b\b\b\b\b\b\b\b\b\b\b\b\b\b\b\b\b\b\b\b\b\b\b\b\b\b\b\b\b\b\b\b\b\b\b\b\b\b\b\b\b\b\b\b\b\b\b\b\b\b\b\b\b\b\b\b\b\b\b\b\b\b\b\b\b\b\b\b\b\b\b\b\b\b\b\b\b\b\b\b\b\b\b\b\b\b\b\b\b\b\b\b\b\b\b\b\b\b\b\b\b\b\b\b\b\b\b\b\b\b\b\b\b\b\b\b\b\b\b\b\b\b\b\b\b\b\b\b\b\b\b\b\b\b\b\b\b\b\b\b\b\b\b\b\b\b\b\b\b\b\b\b\b\b\b\b\b\b\b\b\b\b\b\b\b\b\b\b\b\b\b\b\b\b\b\b\b\b\b\b\b\b\b\b\b\b\b\b\b\b\b\b\b\b\b\b\b\b\b\b\b\b\b\b\b\b\b\b\b\b\b\b\b\b\b\b\b\b\b\b\b\b\b\b\b\b\b\b\b\b\b\b\b\b\b\b\b\b\b\b\b\b\b\b\b\b\b\b\b\b\b\b\b\b\b\b\b\b\b\b\b\b\b\b\b\b\b\b\b\b\b\b\b\b\b\b\b\b\b\b\b\b\b\b\b\b\b\b\b\b\b\b\b\b\b\b\b\b\b\b\b\b\b\b\b\b\b\b\b\b\b\b\b\b\b\b\b\b\b\b\b\b\b\b\b\b\b\b\b\b\b\b\b\b\b\b\b\b\b\b\b\b\b\b\b\b\b\b\b\b\b\b\b\b\b\b\b\b\b\b\b\b\b\b\b\b\b\b\b\b\b\b\b\b\b\b\b\b\b\b\b\b\b\b\b\b\b\b\b\b\b\b\b\b\b\b\b\b\b\b\b\b\b\b\b\b\b\b\b\b\b\b\b\b\b\b\b\b\b\b\b\b\b\b\b\b\b\b\b\b\b\b\b\b\b\b\b\b\b\b\b\b\b\b\b\b\b\b\b\b\b\b\b\b\b\b\b\b\b\b\b\b\b\b\b\b\b\b\b\b\b\b\b\b\b\b\b\b\b\b\b\b\b\b\b\b\b\b\b\b\b\b\b\b\b\b\b\b\b\b\b\b\b\b\b\b\b\b\b\b\b\b\b\b\b\b\b\b\b\b\b\b\b\b\b\b\b\b\b\b\b\b\b\b\b\b\b\b\b\b\b\b\b\b\b\b\b\b\b\b\b\b\b\b\b\b\b\b\b\b\b\b\b\b\b\b\b\b\b\b\b\b\b\b\b\b\b\b\b\b\b\b\b\b\b\b\b\b\b\b\b\b\b\b\b\b\b\b\b\b\b\b\b\b\b\b\b\b\b\b\b\b\b\b\b\b\b\b\b\b\b\b\b\b\b\b\b\b\b\b\b\b\b\b\b\b\b\b\b\b\b\b\b\b\b\b\b\b\b\b\b\b\b\b\b\b\b\b\b\b\b\b\b\b\b\b\b\b\b\b\b\b\b\b\b\b\b\b\b\b\b\b\b\b\b\b\b\b\b\b\b\b\b\b\b\b\b\b\b\b\b\b\b\b\b\b\b\b\b\b\b\b\b\b\b\b\b\b\b\b\b\b\b\b\b\b\b\b\b\b\b\b\b\b\b\b\b\b\b\b\b\b\b\b\b\b\b\b\b\b\b\b\b\b\b\b\b\b\b\b\b\b\b\b\b\b\b\b\b\b\b\b\b\b\b\b\b\b\b\b\b\b\b\b\b\b\b\b\b\b\b\b\b\b\b\b\b\b\b\b\b\b\b\b\b\b\b\b\b\b\b\b\b\b\b\b\b\b\b\b\b\b\b\b\b\b\b\b\b\b\b\b\b\b\b\b\b\b\b\b\b\b\b\b\b\b\b\b\b\b\b\b\b\b\b\b\b\b\b\b\b\b\b\b\b\b\b\b\b\b\b\b\b\b\b\b\b\b\b\b\b\b\b\b\b\b\b\b\b\b\b\b\b\b\b\b\b\b\b\b\b\b\b\b\b\b\b\b\b\b\b\b\b\b\b\b\b\b\b\b\b\b\b\b\b\b\b\b\b\b\b\b\b\b\b\b\b\b\b\b\b\b\b\b\b\b\b\b\b\b\b\b\b\b\b\b\b\b\b\b\b\b\b\b\b\b\b\b\b\b\b\b\b\b\b\b\b\b\b\b\b\b\b\b\b\b\b\b\b\b\b\b\b\b\b\b\b\b\b\b\b\b\b\b\b\b\b\b\b\b\b\b\b\b\b\b\b\b\b\b\b\b\b\b\b\b\b\b\b\b\b\b\b\b\b\b\b\b\b\b\b\b\b\b\b\b\b\b\b\b\b\b\b\b\b\b\b\b\b\b\b\b\b\b\b\b\b\b\b\b\b\b\b\b\b\b\b\b\b\b\b\b\b\b\b\b\b\b\b\b\b\b\b\b\b\b\b\b\b\b\b\b\b\b\b\b\b\b\b\b\b\b\b\b\b\b\b\b\b\b\b\b\b\b\b\b\b\b\b\b\b\b\b\b\b\b\b\b\b\b\b\b\b\b\b\b\b\b\b\b\b\b\b\b\b\b\b\b\b\b\b\b\b\b\b\b\b\b\b\b\b\b\b\b\b\b\b\b\b\b\b\b\b\b\b\b\b\b\b\b\b\b\b\b\b\b\b\b\b\b\b\b\b\b\b\b\b\b\b\b\b\b\b\b\b\b\b\b\b\b\b\b\b\b\b\b\b\b\b\b\b\b\b\b\b\b\b\b\b\b\b\b\b\b\b\b\b\b\b\b\b\b\b\b\b\b\b\b\b\b\b\b\b\b\b\b\b\b\b\b\b\b\b\b\b\b\b\b\b\b\b\b\b\b\b\b\b\b\b\b\b\b\b\b\b\b\b\b\b\b\b\b\b\b\b\b\b\b\b\b\b\b\b\b\b\b\b\b\b\b\b\b\b\b\b\b\b\b\b\b\b\b\b\b\b\b\b\b\b\b\b\b\b\b\b\b\b\b\b\b\b\b\b\b\b\b\b\b\b\b\b\b\b\b\b\b\b\b\b\b\b\b\b\b\b\b\b\b\b\b\b\b\b\b\b\b\b\b\b\b\b\b\b\b\b\b\b\b\b\b\b\b\b\b\b\b\b\b\b\b\b\b\b\b\b\b\b\b\b\b\b\b\b\b\b\b\b\b\b\b\b\b\b\b\b\b\b\b\b\b\b\b\b\b\b\b\b\b\b\b\b\b\b\b\b\b\b\b\b\b\b\b\b\b\b\b\b\b\b\b\b\b\b\b\b\b\b\b\b\b\b\b\b\b\b\b\b\b\b\b\b\b\b\b\b\b\b\b\b\b\b\b\b\b\b\b\b\b\b\b\b\b\b\b\b\b\b\b\b\b\b\b\b\b\b\b\b\b\b\b\b\b\b\b\b\b\b\b\b\b\b\b\b\b\b\b\b\b\b\b\b\b\b\b\b\b\b\b\b\b\b\b\b\b\b\b\b\b\b\b\b\b\b\b\b\b\b\b\b\b\b\b\b\b\b\b\b\b\b\b\b\b\b\b\b\b\b\b\b\b\b\b\b\b\b\b\b\b\b\b\b\b\b\b\b\b\b\b\b\b\b\b\b\b\b\b\b\b\b\b\b\b\b\b\b\b\b\b\b\b\b\b\b\b\b\b\b\b\b\b\b\b\b\b\b\b\b\b\b\b\b\b\b\b\b\b\b\b\b\b\b\b\b\b\b\b\b\b\b\b\b\b\b\b\b\b\b\b\b\b\b\b\b\b\b\b\b\b\b\b\b\b\b\b\b\b\b\b\b\b\b\b\b\b\b\b\b\b\b\b\b\b\b\b\b\b\b\b\b\b\b\b\b\b\b\b\b\b\b\b\b\b\b\b\b\b\b\b\b\b\b\b\b\b\b\b\b\b\b\b\b\b\b\b\b\b\b\b\b\b\b\b\b\b\b\b\b\b\b\b\b\b\b\b\b\b\b\b\b\b\b\b\b\b\b\b\b\b\b\b\b\b\b\b\b\b\b\b\b\b\b\b\b\b\b\b\b\b\b\b\b\b\b\b\b\b\b\b\b\b\b\b\b\b\b\b\b\b\b\b\b\b\b\b\b\b\b\b\b\b\b\b\b\b\b\b\b\b\b\b\b\b\b\b\b\b\b\b\b\b\b\b\b\b\b\b\b\b\b\b\b\b\b\b\b\b\b\b\b\b\b\b\b\b\b\b\b\b\b\b\b\b\b\b\b\b\b\b\b\b\b\b\b\b\b\b\b\b\b\b\b\b\b\b\b\b\b\b\b\b\b\b\b\b\b\b\b\b\b\b\b\b\b\b\b\b\b\b\b\b\b\b\b\b\b\b\b\b\b\b\b\b\b\b\b\b\b\b\b\b\b\b\b\b\b\b\b\b\b\b\b\b\b\b\b\b\b\b\b\b\b\b\b\b\b\b\b\b\b\b\b\b\b\b\b\b\b\b\b\b\b\b\b\b\b\b\b\b\b\b\b\b\b\b\b\b\b\b\b\b\b\b\b\b\b\b\b\b\b\b\b\b\b\b\b\b\b\b\b\b\b\b\b\b\b\b\b\b\b\b\b\b\b\b\b\b\b\b\b\b\b\b\b\b\b\b\b\b\b\b\b\b\b\b\b\b\b\b\b\b\b\b\b\b\b\b\b\b\b\b\b\b\b\b\b\b\b\b\b\b\b\b\b\b\b\b\b\b\b\b\b\b\b\b\b\b\b\b\b\b\b\b\b\b\b\b\b\b\b\b\b\b\b\b\b\b\b\b\b\b\b\b\b\b\b\b\b\b\b\b\b\b\b\b\b\b\b\b\b\b\b\b\b\b\b\b\b\b\b\b\b\b\b\b\b\b\b\b\b\b\b\b\b\b\b\b\b\b\b\b\b\b\b\b\b\b\b\b\b\b\b\b\b\b\b\b\b\b\b\b\b\b\b\b\b\b\b\b\b\b\b\b\b\b\b\b\b\b\b\b\b\b\b\b\b\b\b\b\b\b\b\b\b\b\b\b\b\b\b\b\b\b\b\b\b\b\b\b\b\b\b\b\b\b\b\b\b\b\b\b\b\b\b\b\b\b\b\b\b\b\b\b\b\b\b\b\b\b\b\b\b\b\b\b\b\b\b\b\b\b\b\b\b\b\b\b\b\b\b\b\b\b\b\b\b\b\b\b\b\b\b\b\b\b\b\b\b\b\b\b\b\b\b\b\b\b\b\b\b\b\b\b\b\b\b\b\b\b\b\b\b\b\b\b\b\b\b\b\b\b\b\b\b\b\b\b\b\b\b\b\b\b\b\b\b\b\b\b\b\b\b\b\b\b\b\b\b\b\b\b\b\b\b\b\b\b\b\b\b\b\b\b\b\b\b\b\b\b\b\b\b\b\b\b\b\b\b\b\b\b\b\b\b\b\b\b\b\b\b\b\b\b\b\b\b\b\b\b\b\b\b\b\b\b\b\b\b\b\b\b\b\b\b\b\b\b\b\b\b\b\b\b\b\b\b\b\b\b\b\b\b\b\b\b\b\b\b\b\b\b\b\b\b\b\b\b\b\b\b\b\b\b\b\b\b\b\b\b\b\b\b\b\b\b\b\b\b\b\b\b\b\b\b\b\b\b\b\b\b\b\b\b\b\b\b\b\b\b\b\b\b\b\b\b\b\b\b\b\b\b\b\b\b\b\b\b\b\b\b\b\b\b\b\b\b\b\b\b\b\b\b\b\b\b\b\b\b\b\b\b\b\b\b\b\b\b\b\b\b\b\b\b\b\b\b\b\b\b\b\b\b\b\b\b\b\b\b\b\b\b\b\b\b\b\b\b\b\b\b\b\b\b\b\b\b\b\b\b\b\b\b\b\b\b\b\b\b\b\b\b\b\b\b\b\b\b\b\b\b\b\b\b\b\b\b\b\b\b\b\b\b\b\b\b\b\b\b\b\b\b\b\b\b\b\b\b\b\b\b\b\b\b\b\b\b\b\b\b\b\b\b\b\b\b\b\b\b\b\b\b\b\b\b\b\b\b\b\b\b\b\b\b\b\b\b\b\b\b\b\b\b\b\b\b\b\b\b\b\b\b\b\b\b\b\b\b\b\b\b\b\b\b\b\b\b\b\b\b\b\b\b\b\b\b\b\b\b\b\b\b\b\b\b\b\b\b\b\b\b\b\b\b\b\b\b\b\b\b\b\b\b\b\b\b\b\b\b\b\b\b\b\b\b\b\b\b\b\b\b\b\b\b\b\b\b\b\b\b\b\b\b\b\b\b\b\b\b\b\b\b\b\b\b\b\b\b\b\b\b\b\b\b\b\b\b\b\b\b\b\b\b\b\b\b\b\b\b\b\b\b\b\b\b\b\b\b\b\b\b\b\b\b\b\b\b\b\b\b\b\b\b\b\b\b\b\b\b\b\b\b\b\b\b\b\b\b\b\b\b\b\b\b\b\b\b\b\b\b\b\b\b\b\b\b\b\b\b\b\b\b\b\b\b\b\b\b\b\b\b\b\b\b\b\b\b\b\b\b\b\b\b\b\b\b\b\b\b\b\b\b\b\b\b\b\b\b\b\b\b\b\b\b\b\b\b\b\b\b\b\b\b\b\b\b\b\b\b\b\b\b\b\b\b\b\b\b\b\b\b\b\b\b\b\b\b\b\b\b\b\b\b\b\b\b\b\b\b\b\b\b\b\b\b\b\b\b\b\b\b\b\b\b\b\b\b\b\b\b\b\b\b\b\b\b\b\b\b\b\b\b\b\b\b\b\b\b\b\b\b\b\b\b\b\b\b\b\b\b\b\b\b\b\b\b\b\b\b\b\b\b\b\b\b\b\b\b\b\b\b\b\b\b\b\b\b\b\b\b\b\b\b\b\b\b\b\b\b\b\b\b\b\b\b\b\b\b\b\b\b\b\b\b\b\b\b\b\b\b\b\b\b\b\b\b\b\b\b\b\b\b\b\b\b\b\b\b\b\b\b\b\b\b\b\b\b\b\b\b\b\b\b\b\b\b\b\b\b\b\b\b\b\b\b\b\b\b\b\b\b\b\b\b\b\b\b\b\b\b\b\b\b\b\b\b\b\b\b\b\b\b\b\b\b\b\b\b\b\b\b\b\b\b\b\b\b\b\b\b\b\b\b\b\b\b\b\b\b\b\b\b\b\b\b\b\b\b\b\b\b\b\b\b\b\b\b\b\b\b\b\b\b\b\b\b\b\b\b\b\b\b\b\b\b\b\b\b\b\b\b\b\b\b\b\b\b\b\b\b\b\b\b\b\b\b\b\b\b\b\b\b\b\b\b\b\b\b\b\b\b\b\b\b\b\b\b\b\b\b\b\b\b\b\b\b\b\b\b\b\b\b\b\b\b\b\b\b\b\b\b\b\b\b\b\b\b\b\b\b\b\b\b\b\b\b\b\b\b\b\b\b\b\b\b\b\b\b\b\b\b\b\b\b\b\b\b\b\b\b\b\b\b\b\b\b\b\b\b\b\b\b\b\b\b\b\b\b\b\b\b\b\b\b\b\b\b\b\b\b\b\b\b\b\b\b\b\b\b\b\b\b\b\b\b\b\b\b\b\b\b\b\b\b\b\b\b\b\b\b\b\b\b\b\b\b\b\b\b\b\b\b\b\b\b\b\b\b\b\b\b\b\b\b\b\b\b\b\b\b\b\b\b\b\b\b\b\b\b\b\b\b\b\b\b\b\b\b\b\b\b\b\b\b\b\b\b\b\b\b\b\b\b\b\b\b\b\b\b\b\b\b\b\b\b\b\b\b\b\b\b\b\b\b\b\b\b\b\b\b\b\b\b\b\b\b\b\b\b\b\b\b\b\b\b\b\b\b\b\b\b\b\b\b\b\b\b\b\b\b\b\b\b\b\b\b\b\b\b\b\b\b\b\b\b\b\b\b\b\b\b\b\b\b\b\b\b\b\b\b\b\b\b\b\b\b\b\b\b\b\b\b\b\b\b\b\b\b\b\b\b\b\b\b\b\b\b\b\b\b\b\b\b\b\b\b\b\b\b\b\b\b\b\b\b\b\b\b\b\b\b\b\b\b\b\b\b\b\b\b\b\b\b\b\b\b\b\b\b\b\b\b\b\b\b\b\b\b\b\b\b\b\b\b\b\b\b\b\b\b\b\b\b\b\b\b\b\b\b\b\b\b\b\b\b\b\b\b\b\b\b\b\b\b\b\b\b\b\b\b\b\b\b\b\b\b\b\b\b\b\b\b\b\b\b\b\b\b\b\b\b\b\b\b\b\b\b\b\b\b\b\b\b\b\b\b\b\b\b\b\b\b\b\b\b\b\b\b\b\b\b\b\b\b\b\b\b\b\b\b\b\b\b\b\b\b\b\b\b\b\b\b\b\b\b\b\b\b\b\b\b\b\b\b\b\b\b\b\b\b\b\b\b\b\b\b\b\b\b\b\b\b\b\b\b\b\b\b\b\b\b\b\b\b\b\b\b\b\b\b\b\b\b\b\b\b\b\b\b\b\b\b\b\b\b\b\b\b\b\b\b\b\b\b\b\b\b\b\b\b\b\b\b\b\b\b\b\b\b\b\b\b\b\b\b\b\b\b\b\b\b\b\b\b\b\b\b\b\b\b\b\b\b\b\b\b\b\b\b\b\b\b\b\b\b\b\b\b\b\b\b\b\b\b\b\b\b\b\b\b\b\b\b\b\b\b\b\b\b\b\b\b\b\b\b\b\b\b\b\b\b\b\b\b\b\b\b\b\b\b\b\b\b\b\b\b\b\b\b\b\b\b\b\b\b\b\b\b\b\b\b\b\b\b\b\b\b\b\b\b\b\b\b\b\b\b\b\b\b\b\b\b\b\b\b\b\b\b\b\b\b\b\b\b\b\b\b\b\b\b\b\b\b\b\b\b\b\b\b\b\b\b\b\b\b\b\b\b\b\b\b\b\b\b\b\b\b\b\b\b\b\b\b\b\b\b\b\b\b\b\b\b\b\b\b\b\b\b\b\b\b\b\b\b\b\b\b\b\b\b\b\b\b\b\b\b\b\b\b\b\b\b\b\b\b\b\b\b\b\b\b\b\b\b\b\b\b\b\b\b\b\b\b\b\b\b\b\b\b\b\b\b\b\b\b\b\b\b\b\b\b\b\b\b\b\b\b\b\b\b\b\b\b\b\b\b\b\b\b\b\b\b\b\b\b\b\b\b\b\b\b\b\b\b\b\b\b\b\b\b\b\b\b\b\b\b\b\b\b\b\b\b\b\b\b\b\b\b\b\b\b\b\b\b\b\b\b\b\b\b\b\b\b\b\b\b\b\b\b\b\b\b\b\b\b\b\b\b\b\b\b\b\b\b\b\b\b\b\b\b\b\b\b\b\b\b\b\b\b\b\b\b\b\b\b\b\b\b\b\b\b\b\b\b\b\b\b\b\b\b\b\b\b\b\b\b\b\b\b\b\b\b\b\b\b\b\b\b\b\b\b\b\b\b\b\b\b\b\b\b\b\b\b\b\b\b\b\b\b\b\b\b\b\b\b\b\b\b\b\b\b\b\b\b\b\b\b\b\b\b\b\b\b\b\b\b\b\b\b\b\b\b\b\b\b\b\b\b\b\b\b\b\b\b\b\b\b\b\b\b\b\b\b\b\b\b\b\b\b\b\b\b\b\b\b\b\b\b\b\b\b\b\b\b\b\b\b\b\b\b\b\b\b\b\b\b\b\b\b\b\b\b\b\b\b\b\b\b\b\b\b\b\b\b\b\b\b\b\b\b\b\b\b\b\b\b\b\b\b\b\b\b\b\b\b\b\b\b\b\b\b\b\b\b\b\b\b\b\b\b\b\b\b\b\b\b\b\b\b\b\b\b\b\b\b\b\b\b\b\b\b\b\b\b\b\b\b\b\b\b\b\b\b\b\b\b\b\b\b\b\b\b\b\b\b\b\b\b\b\b\b\b\b\b\b\b\b\b\b\b\b\b\b\b\b\b\b\b\b\b\b\b\b\b\b\b\b\b\b\b\b\b\b\b\b\b\b\b\b\b\b\b\b\b\b\b\b\b\b\b\b\b\b\b\b\b\b\b\b\b\b\b\b\b\b\b\b\b\b\b\b\b\b\b\b\b\b\b\b\b\b\b\b\b\b\b\b\b\b\b\b\b\b\b\b\b\b\b\b\b\b\b\b\b\b\b\b\b\b\b\b\b\b\b\b\b\b\b\b\b\b\b\b\b\b\b\b\b\b\b\b\b\b\b\b\b\b\b\b\b\b\b\b\b\b\b\b\b\b\b\b\b\b\b\b\b\b\b\b\b\b\b\b\b\b\b\b\b\b\n"
     ]
    }
   ],
   "source": [
    "fulltweets16['pos_other_predicted_classes_CNN'] = loaded_model_pos_other.predict_classes(x)"
   ]
  },
  {
   "cell_type": "code",
   "execution_count": 82,
   "metadata": {
    "collapsed": false
   },
   "outputs": [
    {
     "data": {
      "text/plain": [
       "1.0"
      ]
     },
     "execution_count": 82,
     "metadata": {},
     "output_type": "execute_result"
    }
   ],
   "source": [
    "fulltweets16['pos_other_predicted_classes_CNN'] [0][0]"
   ]
  },
  {
   "cell_type": "code",
   "execution_count": 97,
   "metadata": {
    "collapsed": false
   },
   "outputs": [
    {
     "data": {
      "text/html": [
       "<div style=\"max-height:1000px;max-width:1500px;overflow:auto;\"><table frame=\"box\" rules=\"cols\">\n",
       "    <tr>\n",
       "        <th style=\"padding-left: 1em; padding-right: 1em; text-align: center\">ID</th>\n",
       "        <th style=\"padding-left: 1em; padding-right: 1em; text-align: center\">Sentiment</th>\n",
       "        <th style=\"padding-left: 1em; padding-right: 1em; text-align: center\">Tweet</th>\n",
       "        <th style=\"padding-left: 1em; padding-right: 1em; text-align: center\">clean_tweet</th>\n",
       "    </tr>\n",
       "    <tr>\n",
       "        <td style=\"padding-left: 1em; padding-right: 1em; text-align: center; vertical-align: top\">629226490152914944</td>\n",
       "        <td style=\"padding-left: 1em; padding-right: 1em; text-align: center; vertical-align: top\">positive</td>\n",
       "        <td style=\"padding-left: 1em; padding-right: 1em; text-align: center; vertical-align: top\">Microsoft, I may not<br>prefer your gaming br ...</td>\n",
       "        <td style=\"padding-left: 1em; padding-right: 1em; text-align: center; vertical-align: top\">Microsoft I may not<br>prefer your gaming br ...</td>\n",
       "    </tr>\n",
       "    <tr>\n",
       "        <td style=\"padding-left: 1em; padding-right: 1em; text-align: center; vertical-align: top\">629650766580609026</td>\n",
       "        <td style=\"padding-left: 1em; padding-right: 1em; text-align: center; vertical-align: top\">positive</td>\n",
       "        <td style=\"padding-left: 1em; padding-right: 1em; text-align: center; vertical-align: top\">Just ordered my 1st ever<br>tablet; @Microsoft ...</td>\n",
       "        <td style=\"padding-left: 1em; padding-right: 1em; text-align: center; vertical-align: top\">Just ordered my 1st ever<br>tablet Microsoft Surface ...</td>\n",
       "    </tr>\n",
       "    <tr>\n",
       "        <td style=\"padding-left: 1em; padding-right: 1em; text-align: center; vertical-align: top\">630159517058142208</td>\n",
       "        <td style=\"padding-left: 1em; padding-right: 1em; text-align: center; vertical-align: top\">positive</td>\n",
       "        <td style=\"padding-left: 1em; padding-right: 1em; text-align: center; vertical-align: top\">Sunday morning, quiet day<br>so time to welcome in ...</td>\n",
       "        <td style=\"padding-left: 1em; padding-right: 1em; text-align: center; vertical-align: top\">Sunday morning quiet day<br>so time to welcome in ...</td>\n",
       "    </tr>\n",
       "    <tr>\n",
       "        <td style=\"padding-left: 1em; padding-right: 1em; text-align: center; vertical-align: top\">630818265799921664</td>\n",
       "        <td style=\"padding-left: 1em; padding-right: 1em; text-align: center; vertical-align: top\">positive</td>\n",
       "        <td style=\"padding-left: 1em; padding-right: 1em; text-align: center; vertical-align: top\">Innovation for jobs is<br>just around the corner - ...</td>\n",
       "        <td style=\"padding-left: 1em; padding-right: 1em; text-align: center; vertical-align: top\">Innovation for jobs is<br>just around the corner ...</td>\n",
       "    </tr>\n",
       "    <tr>\n",
       "        <td style=\"padding-left: 1em; padding-right: 1em; text-align: center; vertical-align: top\">631368262979297281</td>\n",
       "        <td style=\"padding-left: 1em; padding-right: 1em; text-align: center; vertical-align: top\">positive</td>\n",
       "        <td style=\"padding-left: 1em; padding-right: 1em; text-align: center; vertical-align: top\">#Vote for @AIESEC to<br>become the 10th Global ...</td>\n",
       "        <td style=\"padding-left: 1em; padding-right: 1em; text-align: center; vertical-align: top\">Vote for AIESEC to become<br>the 10th Global non ...</td>\n",
       "    </tr>\n",
       "    <tr>\n",
       "        <td style=\"padding-left: 1em; padding-right: 1em; text-align: center; vertical-align: top\">631521079245307904</td>\n",
       "        <td style=\"padding-left: 1em; padding-right: 1em; text-align: center; vertical-align: top\">positive</td>\n",
       "        <td style=\"padding-left: 1em; padding-right: 1em; text-align: center; vertical-align: top\">Top 5 most searched for<br>Back-to-School topics -- ...</td>\n",
       "        <td style=\"padding-left: 1em; padding-right: 1em; text-align: center; vertical-align: top\">Top 5 most searched for<br>BacktoSchool topics  the ...</td>\n",
       "    </tr>\n",
       "    <tr>\n",
       "        <td style=\"padding-left: 1em; padding-right: 1em; text-align: center; vertical-align: top\">631696872323850240</td>\n",
       "        <td style=\"padding-left: 1em; padding-right: 1em; text-align: center; vertical-align: top\">positive</td>\n",
       "        <td style=\"padding-left: 1em; padding-right: 1em; text-align: center; vertical-align: top\">@trucker_squigz<br>@Microsoft @MISpeedway ...</td>\n",
       "        <td style=\"padding-left: 1em; padding-right: 1em; text-align: center; vertical-align: top\">truckersquigz Microsoft<br>MISpeedway nationwide88 ...</td>\n",
       "    </tr>\n",
       "    <tr>\n",
       "        <td style=\"padding-left: 1em; padding-right: 1em; text-align: center; vertical-align: top\">631842974268305408</td>\n",
       "        <td style=\"padding-left: 1em; padding-right: 1em; text-align: center; vertical-align: top\">positive</td>\n",
       "        <td style=\"padding-left: 1em; padding-right: 1em; text-align: center; vertical-align: top\">@ScottArbeit @GabeAul<br>@Microsoft isntall the ...</td>\n",
       "        <td style=\"padding-left: 1em; padding-right: 1em; text-align: center; vertical-align: top\">ScottArbeit GabeAul<br>Microsoft isntall the ...</td>\n",
       "    </tr>\n",
       "    <tr>\n",
       "        <td style=\"padding-left: 1em; padding-right: 1em; text-align: center; vertical-align: top\">631843393971204097</td>\n",
       "        <td style=\"padding-left: 1em; padding-right: 1em; text-align: center; vertical-align: top\">positive</td>\n",
       "        <td style=\"padding-left: 1em; padding-right: 1em; text-align: center; vertical-align: top\">@taehongmin1 We have an<br>IOT workshop by ...</td>\n",
       "        <td style=\"padding-left: 1em; padding-right: 1em; text-align: center; vertical-align: top\">taehongmin1 We have an<br>IOT workshop by Micro ...</td>\n",
       "    </tr>\n",
       "    <tr>\n",
       "        <td style=\"padding-left: 1em; padding-right: 1em; text-align: center; vertical-align: top\">633628599271190528</td>\n",
       "        <td style=\"padding-left: 1em; padding-right: 1em; text-align: center; vertical-align: top\">positive</td>\n",
       "        <td style=\"padding-left: 1em; padding-right: 1em; text-align: center; vertical-align: top\">@ProfessorF @gilwuvsyou<br>@Microsoft @LivioDeLa ...</td>\n",
       "        <td style=\"padding-left: 1em; padding-right: 1em; text-align: center; vertical-align: top\">ProfessorF gilwuvsyou<br>Microsoft LivioDeLaCruz ...</td>\n",
       "    </tr>\n",
       "</table>\n",
       "<table frame=\"box\" rules=\"cols\">\n",
       "    <tr>\n",
       "        <th style=\"padding-left: 1em; padding-right: 1em; text-align: center\">cut_tweet</th>\n",
       "        <th style=\"padding-left: 1em; padding-right: 1em; text-align: center\">pos_other_prediction_CNN</th>\n",
       "        <th style=\"padding-left: 1em; padding-right: 1em; text-align: center\">neg_other_prediction_CNN</th>\n",
       "        <th style=\"padding-left: 1em; padding-right: 1em; text-align: center\">neg_other_predicted_class<br>es_CNN ...</th>\n",
       "        <th style=\"padding-left: 1em; padding-right: 1em; text-align: center\">pos_other_predicted_class<br>es_CNN ...</th>\n",
       "    </tr>\n",
       "    <tr>\n",
       "        <td style=\"padding-left: 1em; padding-right: 1em; text-align: center; vertical-align: top\">Microsoft I may not<br>prefer your gaming br ...</td>\n",
       "        <td style=\"padding-left: 1em; padding-right: 1em; text-align: center; vertical-align: top\">[0.877291500568]</td>\n",
       "        <td style=\"padding-left: 1em; padding-right: 1em; text-align: center; vertical-align: top\">[0.633792698383]</td>\n",
       "        <td style=\"padding-left: 1em; padding-right: 1em; text-align: center; vertical-align: top\">[1.0]</td>\n",
       "        <td style=\"padding-left: 1em; padding-right: 1em; text-align: center; vertical-align: top\">[1.0]</td>\n",
       "    </tr>\n",
       "    <tr>\n",
       "        <td style=\"padding-left: 1em; padding-right: 1em; text-align: center; vertical-align: top\">Just ordered my 1st ever<br>tablet Microsoft Surface ...</td>\n",
       "        <td style=\"padding-left: 1em; padding-right: 1em; text-align: center; vertical-align: top\">[0.000207644770853]</td>\n",
       "        <td style=\"padding-left: 1em; padding-right: 1em; text-align: center; vertical-align: top\">[0.704194128513]</td>\n",
       "        <td style=\"padding-left: 1em; padding-right: 1em; text-align: center; vertical-align: top\">[1.0]</td>\n",
       "        <td style=\"padding-left: 1em; padding-right: 1em; text-align: center; vertical-align: top\">[0.0]</td>\n",
       "    </tr>\n",
       "    <tr>\n",
       "        <td style=\"padding-left: 1em; padding-right: 1em; text-align: center; vertical-align: top\">Sunday morning quiet day<br>so time to welcome in ...</td>\n",
       "        <td style=\"padding-left: 1em; padding-right: 1em; text-align: center; vertical-align: top\">[0.644087970257]</td>\n",
       "        <td style=\"padding-left: 1em; padding-right: 1em; text-align: center; vertical-align: top\">[0.64569067955]</td>\n",
       "        <td style=\"padding-left: 1em; padding-right: 1em; text-align: center; vertical-align: top\">[1.0]</td>\n",
       "        <td style=\"padding-left: 1em; padding-right: 1em; text-align: center; vertical-align: top\">[1.0]</td>\n",
       "    </tr>\n",
       "    <tr>\n",
       "        <td style=\"padding-left: 1em; padding-right: 1em; text-align: center; vertical-align: top\">Innovation for jobs is<br>just around the corner ...</td>\n",
       "        <td style=\"padding-left: 1em; padding-right: 1em; text-align: center; vertical-align: top\">[0.695542573929]</td>\n",
       "        <td style=\"padding-left: 1em; padding-right: 1em; text-align: center; vertical-align: top\">[0.633095860481]</td>\n",
       "        <td style=\"padding-left: 1em; padding-right: 1em; text-align: center; vertical-align: top\">[1.0]</td>\n",
       "        <td style=\"padding-left: 1em; padding-right: 1em; text-align: center; vertical-align: top\">[1.0]</td>\n",
       "    </tr>\n",
       "    <tr>\n",
       "        <td style=\"padding-left: 1em; padding-right: 1em; text-align: center; vertical-align: top\">Vote for AIESEC to become<br>the 10th Global non ...</td>\n",
       "        <td style=\"padding-left: 1em; padding-right: 1em; text-align: center; vertical-align: top\">[0.918338000774]</td>\n",
       "        <td style=\"padding-left: 1em; padding-right: 1em; text-align: center; vertical-align: top\">[0.704194128513]</td>\n",
       "        <td style=\"padding-left: 1em; padding-right: 1em; text-align: center; vertical-align: top\">[1.0]</td>\n",
       "        <td style=\"padding-left: 1em; padding-right: 1em; text-align: center; vertical-align: top\">[1.0]</td>\n",
       "    </tr>\n",
       "    <tr>\n",
       "        <td style=\"padding-left: 1em; padding-right: 1em; text-align: center; vertical-align: top\">Top 5 most searched for<br>BacktoSchool topics  the ...</td>\n",
       "        <td style=\"padding-left: 1em; padding-right: 1em; text-align: center; vertical-align: top\">[0.674247384071]</td>\n",
       "        <td style=\"padding-left: 1em; padding-right: 1em; text-align: center; vertical-align: top\">[0.683057367802]</td>\n",
       "        <td style=\"padding-left: 1em; padding-right: 1em; text-align: center; vertical-align: top\">[1.0]</td>\n",
       "        <td style=\"padding-left: 1em; padding-right: 1em; text-align: center; vertical-align: top\">[1.0]</td>\n",
       "    </tr>\n",
       "    <tr>\n",
       "        <td style=\"padding-left: 1em; padding-right: 1em; text-align: center; vertical-align: top\">truckersquigz Microsoft<br>MISpeedway nationwide88 ...</td>\n",
       "        <td style=\"padding-left: 1em; padding-right: 1em; text-align: center; vertical-align: top\">[0.592662990093]</td>\n",
       "        <td style=\"padding-left: 1em; padding-right: 1em; text-align: center; vertical-align: top\">[0.667353391647]</td>\n",
       "        <td style=\"padding-left: 1em; padding-right: 1em; text-align: center; vertical-align: top\">[1.0]</td>\n",
       "        <td style=\"padding-left: 1em; padding-right: 1em; text-align: center; vertical-align: top\">[1.0]</td>\n",
       "    </tr>\n",
       "    <tr>\n",
       "        <td style=\"padding-left: 1em; padding-right: 1em; text-align: center; vertical-align: top\">ScottArbeit GabeAul<br>Microsoft isntall the ...</td>\n",
       "        <td style=\"padding-left: 1em; padding-right: 1em; text-align: center; vertical-align: top\">[0.707917511463]</td>\n",
       "        <td style=\"padding-left: 1em; padding-right: 1em; text-align: center; vertical-align: top\">[0.704194128513]</td>\n",
       "        <td style=\"padding-left: 1em; padding-right: 1em; text-align: center; vertical-align: top\">[1.0]</td>\n",
       "        <td style=\"padding-left: 1em; padding-right: 1em; text-align: center; vertical-align: top\">[1.0]</td>\n",
       "    </tr>\n",
       "    <tr>\n",
       "        <td style=\"padding-left: 1em; padding-right: 1em; text-align: center; vertical-align: top\">taehongmin1 We have an<br>IOT workshop by Micro ...</td>\n",
       "        <td style=\"padding-left: 1em; padding-right: 1em; text-align: center; vertical-align: top\">[0.795155405998]</td>\n",
       "        <td style=\"padding-left: 1em; padding-right: 1em; text-align: center; vertical-align: top\">[0.704194128513]</td>\n",
       "        <td style=\"padding-left: 1em; padding-right: 1em; text-align: center; vertical-align: top\">[1.0]</td>\n",
       "        <td style=\"padding-left: 1em; padding-right: 1em; text-align: center; vertical-align: top\">[1.0]</td>\n",
       "    </tr>\n",
       "    <tr>\n",
       "        <td style=\"padding-left: 1em; padding-right: 1em; text-align: center; vertical-align: top\">ProfessorF gilwuvsyou<br>Microsoft LivioDeLaCruz ...</td>\n",
       "        <td style=\"padding-left: 1em; padding-right: 1em; text-align: center; vertical-align: top\">[0.312042862177]</td>\n",
       "        <td style=\"padding-left: 1em; padding-right: 1em; text-align: center; vertical-align: top\">[0.704194128513]</td>\n",
       "        <td style=\"padding-left: 1em; padding-right: 1em; text-align: center; vertical-align: top\">[1.0]</td>\n",
       "        <td style=\"padding-left: 1em; padding-right: 1em; text-align: center; vertical-align: top\">[0.0]</td>\n",
       "    </tr>\n",
       "</table>\n",
       "[5501 rows x 9 columns]<br/>Note: Only the head of the SFrame is printed.<br/>You can use print_rows(num_rows=m, num_columns=n) to print more rows and columns.\n",
       "</div>"
      ],
      "text/plain": [
       "Columns:\n",
       "\tID\tint\n",
       "\tSentiment\tstr\n",
       "\tTweet\tstr\n",
       "\tclean_tweet\tstr\n",
       "\tcut_tweet\tstr\n",
       "\tpos_other_prediction_CNN\tarray\n",
       "\tneg_other_prediction_CNN\tarray\n",
       "\tneg_other_predicted_classes_CNN\tarray\n",
       "\tpos_other_predicted_classes_CNN\tarray\n",
       "\n",
       "Rows: 5501\n",
       "\n",
       "Data:\n",
       "+--------------------+-----------+-------------------------------+\n",
       "|         ID         | Sentiment |             Tweet             |\n",
       "+--------------------+-----------+-------------------------------+\n",
       "| 629226490152914944 |  positive | Microsoft, I may not prefe... |\n",
       "| 629650766580609026 |  positive | Just ordered my 1st ever t... |\n",
       "| 630159517058142208 |  positive | Sunday morning, quiet day ... |\n",
       "| 630818265799921664 |  positive | Innovation for jobs is jus... |\n",
       "| 631368262979297281 |  positive | #Vote for @AIESEC to becom... |\n",
       "| 631521079245307904 |  positive | Top 5 most searched for Ba... |\n",
       "| 631696872323850240 |  positive | @trucker_squigz @Microsoft... |\n",
       "| 631842974268305408 |  positive | @ScottArbeit @GabeAul @Mic... |\n",
       "| 631843393971204097 |  positive | @taehongmin1 We have an IO... |\n",
       "| 633628599271190528 |  positive | @ProfessorF @gilwuvsyou @M... |\n",
       "+--------------------+-----------+-------------------------------+\n",
       "+-------------------------------+-------------------------------+\n",
       "|          clean_tweet          |           cut_tweet           |\n",
       "+-------------------------------+-------------------------------+\n",
       "| Microsoft I may not prefer... | Microsoft I may not prefer... |\n",
       "| Just ordered my 1st ever t... | Just ordered my 1st ever t... |\n",
       "| Sunday morning quiet day s... | Sunday morning quiet day s... |\n",
       "| Innovation for jobs is jus... | Innovation for jobs is jus... |\n",
       "| Vote for AIESEC to become ... | Vote for AIESEC to become ... |\n",
       "| Top 5 most searched for Ba... | Top 5 most searched for Ba... |\n",
       "| truckersquigz Microsoft MI... | truckersquigz Microsoft MI... |\n",
       "| ScottArbeit GabeAul Micros... | ScottArbeit GabeAul Micros... |\n",
       "| taehongmin1 We have an IOT... | taehongmin1 We have an IOT... |\n",
       "| ProfessorF gilwuvsyou Micr... | ProfessorF gilwuvsyou Micr... |\n",
       "+-------------------------------+-------------------------------+\n",
       "+--------------------------+--------------------------+-------------------------------+\n",
       "| pos_other_prediction_CNN | neg_other_prediction_CNN | neg_other_predicted_classe... |\n",
       "+--------------------------+--------------------------+-------------------------------+\n",
       "|     [0.877291500568]     |     [0.633792698383]     |             [1.0]             |\n",
       "|   [0.000207644770853]    |     [0.704194128513]     |             [1.0]             |\n",
       "|     [0.644087970257]     |     [0.64569067955]      |             [1.0]             |\n",
       "|     [0.695542573929]     |     [0.633095860481]     |             [1.0]             |\n",
       "|     [0.918338000774]     |     [0.704194128513]     |             [1.0]             |\n",
       "|     [0.674247384071]     |     [0.683057367802]     |             [1.0]             |\n",
       "|     [0.592662990093]     |     [0.667353391647]     |             [1.0]             |\n",
       "|     [0.707917511463]     |     [0.704194128513]     |             [1.0]             |\n",
       "|     [0.795155405998]     |     [0.704194128513]     |             [1.0]             |\n",
       "|     [0.312042862177]     |     [0.704194128513]     |             [1.0]             |\n",
       "+--------------------------+--------------------------+-------------------------------+\n",
       "+-------------------------------+\n",
       "| pos_other_predicted_classe... |\n",
       "+-------------------------------+\n",
       "|             [1.0]             |\n",
       "|             [0.0]             |\n",
       "|             [1.0]             |\n",
       "|             [1.0]             |\n",
       "|             [1.0]             |\n",
       "|             [1.0]             |\n",
       "|             [1.0]             |\n",
       "|             [1.0]             |\n",
       "|             [1.0]             |\n",
       "|             [0.0]             |\n",
       "+-------------------------------+\n",
       "[5501 rows x 9 columns]\n",
       "Note: Only the head of the SFrame is printed.\n",
       "You can use print_rows(num_rows=m, num_columns=n) to print more rows and columns."
      ]
     },
     "execution_count": 97,
     "metadata": {},
     "output_type": "execute_result"
    }
   ],
   "source": [
    "fulltweets16"
   ]
  },
  {
   "cell_type": "code",
   "execution_count": 131,
   "metadata": {
    "collapsed": false
   },
   "outputs": [],
   "source": [
    "#train_deep = train\n",
    "test_deep = test"
   ]
  },
  {
   "cell_type": "code",
   "execution_count": 127,
   "metadata": {
    "collapsed": false
   },
   "outputs": [],
   "source": [
    "del train_deep['Sentiment']\n",
    "del train_deep['ID']\n",
    "del train_deep['Date']\n",
    "del train_deep['Query']\n",
    "del train_deep['user']\n",
    "del train_deep['Tweet']\n",
    "del train_deep['word_count']\n",
    "del train_deep['tfidf']\n",
    "del train_deep['1gram features']\n",
    "del train_deep['2gram features']\n",
    "del train_deep['3gram features']\n",
    "del train_deep['vectors_pos_neg']\n",
    "del train_deep['vectors_pos_neutral']\n",
    "del train_deep['vectors_pos_nonpos']\n",
    "del train_deep['vectors_neg_nonneg']\n",
    "del train_deep['vectors_doc2vec_tweetsonly_dm']"
   ]
  },
  {
   "cell_type": "code",
   "execution_count": 130,
   "metadata": {
    "collapsed": false
   },
   "outputs": [],
   "source": [
    "train_deep.save('train_deep.csv',format='csv')"
   ]
  },
  {
   "cell_type": "code",
   "execution_count": 132,
   "metadata": {
    "collapsed": true
   },
   "outputs": [],
   "source": [
    "del test_deep['Sentiment']\n",
    "del test_deep['ID']\n",
    "del test_deep['Date']\n",
    "del test_deep['Query']\n",
    "del test_deep['user']\n",
    "del test_deep['Tweet']\n",
    "del test_deep['word_count']\n",
    "del test_deep['tfidf']\n",
    "del test_deep['1gram features']\n",
    "del test_deep['2gram features']\n",
    "del test_deep['3gram features']\n",
    "del test_deep['vectors_pos_neg']\n",
    "del test_deep['vectors_pos_neutral']\n",
    "del test_deep['vectors_pos_nonpos']\n",
    "del test_deep['vectors_neg_nonneg']\n",
    "del test_deep['vectors_doc2vec_tweetsonly_dm']"
   ]
  },
  {
   "cell_type": "code",
   "execution_count": 134,
   "metadata": {
    "collapsed": false
   },
   "outputs": [],
   "source": [
    "test_deep.save('test_deep.csv',format='csv')"
   ]
  },
  {
   "cell_type": "code",
   "execution_count": 135,
   "metadata": {
    "collapsed": false
   },
   "outputs": [
    {
     "data": {
      "text/html": [
       "<div style=\"max-height:1000px;max-width:1500px;overflow:auto;\"><table frame=\"box\" rules=\"cols\">\n",
       "    <tr>\n",
       "        <th style=\"padding-left: 1em; padding-right: 1em; text-align: center\">Sentiment</th>\n",
       "        <th style=\"padding-left: 1em; padding-right: 1em; text-align: center\">ID</th>\n",
       "        <th style=\"padding-left: 1em; padding-right: 1em; text-align: center\">Date</th>\n",
       "        <th style=\"padding-left: 1em; padding-right: 1em; text-align: center\">Query</th>\n",
       "        <th style=\"padding-left: 1em; padding-right: 1em; text-align: center\">user</th>\n",
       "        <th style=\"padding-left: 1em; padding-right: 1em; text-align: center\">Tweet</th>\n",
       "        <th style=\"padding-left: 1em; padding-right: 1em; text-align: center\">senti</th>\n",
       "    </tr>\n",
       "    <tr>\n",
       "        <td style=\"padding-left: 1em; padding-right: 1em; text-align: center; vertical-align: top\">4</td>\n",
       "        <td style=\"padding-left: 1em; padding-right: 1em; text-align: center; vertical-align: top\">1467822272</td>\n",
       "        <td style=\"padding-left: 1em; padding-right: 1em; text-align: center; vertical-align: top\">Mon Apr 06 22:22:45 PDT<br>2009 ...</td>\n",
       "        <td style=\"padding-left: 1em; padding-right: 1em; text-align: center; vertical-align: top\">NO_QUERY</td>\n",
       "        <td style=\"padding-left: 1em; padding-right: 1em; text-align: center; vertical-align: top\">ersle</td>\n",
       "        <td style=\"padding-left: 1em; padding-right: 1em; text-align: center; vertical-align: top\">I LOVE @Health4UandPets u<br>guys r the best!! ...</td>\n",
       "        <td style=\"padding-left: 1em; padding-right: 1em; text-align: center; vertical-align: top\">1</td>\n",
       "    </tr>\n",
       "    <tr>\n",
       "        <td style=\"padding-left: 1em; padding-right: 1em; text-align: center; vertical-align: top\">4</td>\n",
       "        <td style=\"padding-left: 1em; padding-right: 1em; text-align: center; vertical-align: top\">1467822273</td>\n",
       "        <td style=\"padding-left: 1em; padding-right: 1em; text-align: center; vertical-align: top\">Mon Apr 06 22:22:45 PDT<br>2009 ...</td>\n",
       "        <td style=\"padding-left: 1em; padding-right: 1em; text-align: center; vertical-align: top\">NO_QUERY</td>\n",
       "        <td style=\"padding-left: 1em; padding-right: 1em; text-align: center; vertical-align: top\">becca210</td>\n",
       "        <td style=\"padding-left: 1em; padding-right: 1em; text-align: center; vertical-align: top\">im meeting up with one of<br>my besties tonight! Cant ...</td>\n",
       "        <td style=\"padding-left: 1em; padding-right: 1em; text-align: center; vertical-align: top\">1</td>\n",
       "    </tr>\n",
       "    <tr>\n",
       "        <td style=\"padding-left: 1em; padding-right: 1em; text-align: center; vertical-align: top\">4</td>\n",
       "        <td style=\"padding-left: 1em; padding-right: 1em; text-align: center; vertical-align: top\">1467822283</td>\n",
       "        <td style=\"padding-left: 1em; padding-right: 1em; text-align: center; vertical-align: top\">Mon Apr 06 22:22:46 PDT<br>2009 ...</td>\n",
       "        <td style=\"padding-left: 1em; padding-right: 1em; text-align: center; vertical-align: top\">NO_QUERY</td>\n",
       "        <td style=\"padding-left: 1em; padding-right: 1em; text-align: center; vertical-align: top\">Wingman29</td>\n",
       "        <td style=\"padding-left: 1em; padding-right: 1em; text-align: center; vertical-align: top\">@DaRealSunisaKim Thanks<br>for the Twitter add, ...</td>\n",
       "        <td style=\"padding-left: 1em; padding-right: 1em; text-align: center; vertical-align: top\">1</td>\n",
       "    </tr>\n",
       "    <tr>\n",
       "        <td style=\"padding-left: 1em; padding-right: 1em; text-align: center; vertical-align: top\">4</td>\n",
       "        <td style=\"padding-left: 1em; padding-right: 1em; text-align: center; vertical-align: top\">1467822287</td>\n",
       "        <td style=\"padding-left: 1em; padding-right: 1em; text-align: center; vertical-align: top\">Mon Apr 06 22:22:46 PDT<br>2009 ...</td>\n",
       "        <td style=\"padding-left: 1em; padding-right: 1em; text-align: center; vertical-align: top\">NO_QUERY</td>\n",
       "        <td style=\"padding-left: 1em; padding-right: 1em; text-align: center; vertical-align: top\">katarinka</td>\n",
       "        <td style=\"padding-left: 1em; padding-right: 1em; text-align: center; vertical-align: top\">Being sick can be really<br>cheap when it hurts too ...</td>\n",
       "        <td style=\"padding-left: 1em; padding-right: 1em; text-align: center; vertical-align: top\">1</td>\n",
       "    </tr>\n",
       "    <tr>\n",
       "        <td style=\"padding-left: 1em; padding-right: 1em; text-align: center; vertical-align: top\">4</td>\n",
       "        <td style=\"padding-left: 1em; padding-right: 1em; text-align: center; vertical-align: top\">1467822293</td>\n",
       "        <td style=\"padding-left: 1em; padding-right: 1em; text-align: center; vertical-align: top\">Mon Apr 06 22:22:46 PDT<br>2009 ...</td>\n",
       "        <td style=\"padding-left: 1em; padding-right: 1em; text-align: center; vertical-align: top\">NO_QUERY</td>\n",
       "        <td style=\"padding-left: 1em; padding-right: 1em; text-align: center; vertical-align: top\">_EmilyYoung</td>\n",
       "        <td style=\"padding-left: 1em; padding-right: 1em; text-align: center; vertical-align: top\">@LovesBrooklyn2 he has<br>that effect on everyone ...</td>\n",
       "        <td style=\"padding-left: 1em; padding-right: 1em; text-align: center; vertical-align: top\">1</td>\n",
       "    </tr>\n",
       "    <tr>\n",
       "        <td style=\"padding-left: 1em; padding-right: 1em; text-align: center; vertical-align: top\">4</td>\n",
       "        <td style=\"padding-left: 1em; padding-right: 1em; text-align: center; vertical-align: top\">1467822391</td>\n",
       "        <td style=\"padding-left: 1em; padding-right: 1em; text-align: center; vertical-align: top\">Mon Apr 06 22:22:47 PDT<br>2009 ...</td>\n",
       "        <td style=\"padding-left: 1em; padding-right: 1em; text-align: center; vertical-align: top\">NO_QUERY</td>\n",
       "        <td style=\"padding-left: 1em; padding-right: 1em; text-align: center; vertical-align: top\">ajarofalmonds</td>\n",
       "        <td style=\"padding-left: 1em; padding-right: 1em; text-align: center; vertical-align: top\">@ProductOfFear You can<br>tell him that I just ...</td>\n",
       "        <td style=\"padding-left: 1em; padding-right: 1em; text-align: center; vertical-align: top\">1</td>\n",
       "    </tr>\n",
       "    <tr>\n",
       "        <td style=\"padding-left: 1em; padding-right: 1em; text-align: center; vertical-align: top\">4</td>\n",
       "        <td style=\"padding-left: 1em; padding-right: 1em; text-align: center; vertical-align: top\">1467822447</td>\n",
       "        <td style=\"padding-left: 1em; padding-right: 1em; text-align: center; vertical-align: top\">Mon Apr 06 22:22:51 PDT<br>2009 ...</td>\n",
       "        <td style=\"padding-left: 1em; padding-right: 1em; text-align: center; vertical-align: top\">NO_QUERY</td>\n",
       "        <td style=\"padding-left: 1em; padding-right: 1em; text-align: center; vertical-align: top\">vmdavinci</td>\n",
       "        <td style=\"padding-left: 1em; padding-right: 1em; text-align: center; vertical-align: top\">@r_keith_hill Thans for<br>your response. Ihad ...</td>\n",
       "        <td style=\"padding-left: 1em; padding-right: 1em; text-align: center; vertical-align: top\">1</td>\n",
       "    </tr>\n",
       "    <tr>\n",
       "        <td style=\"padding-left: 1em; padding-right: 1em; text-align: center; vertical-align: top\">4</td>\n",
       "        <td style=\"padding-left: 1em; padding-right: 1em; text-align: center; vertical-align: top\">1467822465</td>\n",
       "        <td style=\"padding-left: 1em; padding-right: 1em; text-align: center; vertical-align: top\">Mon Apr 06 22:22:48 PDT<br>2009 ...</td>\n",
       "        <td style=\"padding-left: 1em; padding-right: 1em; text-align: center; vertical-align: top\">NO_QUERY</td>\n",
       "        <td style=\"padding-left: 1em; padding-right: 1em; text-align: center; vertical-align: top\">jessicavaliyi</td>\n",
       "        <td style=\"padding-left: 1em; padding-right: 1em; text-align: center; vertical-align: top\">@KeepinUpWKris I am so<br>jealous, hope you had a ...</td>\n",
       "        <td style=\"padding-left: 1em; padding-right: 1em; text-align: center; vertical-align: top\">1</td>\n",
       "    </tr>\n",
       "    <tr>\n",
       "        <td style=\"padding-left: 1em; padding-right: 1em; text-align: center; vertical-align: top\">4</td>\n",
       "        <td style=\"padding-left: 1em; padding-right: 1em; text-align: center; vertical-align: top\">1467822489</td>\n",
       "        <td style=\"padding-left: 1em; padding-right: 1em; text-align: center; vertical-align: top\">Mon Apr 06 22:22:49 PDT<br>2009 ...</td>\n",
       "        <td style=\"padding-left: 1em; padding-right: 1em; text-align: center; vertical-align: top\">NO_QUERY</td>\n",
       "        <td style=\"padding-left: 1em; padding-right: 1em; text-align: center; vertical-align: top\">emmasaur28</td>\n",
       "        <td style=\"padding-left: 1em; padding-right: 1em; text-align: center; vertical-align: top\">@tommcfly ah, congrats mr<br>fletcher for finally ...</td>\n",
       "        <td style=\"padding-left: 1em; padding-right: 1em; text-align: center; vertical-align: top\">1</td>\n",
       "    </tr>\n",
       "    <tr>\n",
       "        <td style=\"padding-left: 1em; padding-right: 1em; text-align: center; vertical-align: top\">4</td>\n",
       "        <td style=\"padding-left: 1em; padding-right: 1em; text-align: center; vertical-align: top\">1467822496</td>\n",
       "        <td style=\"padding-left: 1em; padding-right: 1em; text-align: center; vertical-align: top\">Mon Apr 06 22:22:49 PDT<br>2009 ...</td>\n",
       "        <td style=\"padding-left: 1em; padding-right: 1em; text-align: center; vertical-align: top\">NO_QUERY</td>\n",
       "        <td style=\"padding-left: 1em; padding-right: 1em; text-align: center; vertical-align: top\">SherylBreuker</td>\n",
       "        <td style=\"padding-left: 1em; padding-right: 1em; text-align: center; vertical-align: top\">@e4VoIP I RESPONDED<br>Stupid cat is helping me ...</td>\n",
       "        <td style=\"padding-left: 1em; padding-right: 1em; text-align: center; vertical-align: top\">1</td>\n",
       "    </tr>\n",
       "</table>\n",
       "[800000 rows x 7 columns]<br/>Note: Only the head of the SFrame is printed.<br/>You can use print_rows(num_rows=m, num_columns=n) to print more rows and columns.\n",
       "</div>"
      ],
      "text/plain": [
       "Columns:\n",
       "\tSentiment\tint\n",
       "\tID\tint\n",
       "\tDate\tstr\n",
       "\tQuery\tstr\n",
       "\tuser\tstr\n",
       "\tTweet\tstr\n",
       "\tsenti\tint\n",
       "\n",
       "Rows: 800000\n",
       "\n",
       "Data:\n",
       "+-----------+------------+------------------------------+----------+\n",
       "| Sentiment |     ID     |             Date             |  Query   |\n",
       "+-----------+------------+------------------------------+----------+\n",
       "|     4     | 1467822272 | Mon Apr 06 22:22:45 PDT 2009 | NO_QUERY |\n",
       "|     4     | 1467822273 | Mon Apr 06 22:22:45 PDT 2009 | NO_QUERY |\n",
       "|     4     | 1467822283 | Mon Apr 06 22:22:46 PDT 2009 | NO_QUERY |\n",
       "|     4     | 1467822287 | Mon Apr 06 22:22:46 PDT 2009 | NO_QUERY |\n",
       "|     4     | 1467822293 | Mon Apr 06 22:22:46 PDT 2009 | NO_QUERY |\n",
       "|     4     | 1467822391 | Mon Apr 06 22:22:47 PDT 2009 | NO_QUERY |\n",
       "|     4     | 1467822447 | Mon Apr 06 22:22:51 PDT 2009 | NO_QUERY |\n",
       "|     4     | 1467822465 | Mon Apr 06 22:22:48 PDT 2009 | NO_QUERY |\n",
       "|     4     | 1467822489 | Mon Apr 06 22:22:49 PDT 2009 | NO_QUERY |\n",
       "|     4     | 1467822496 | Mon Apr 06 22:22:49 PDT 2009 | NO_QUERY |\n",
       "+-----------+------------+------------------------------+----------+\n",
       "+---------------+-------------------------------+-------+\n",
       "|      user     |             Tweet             | senti |\n",
       "+---------------+-------------------------------+-------+\n",
       "|     ersle     | I LOVE @Health4UandPets u ... |   1   |\n",
       "|    becca210   | im meeting up with one of ... |   1   |\n",
       "|   Wingman29   | @DaRealSunisaKim Thanks fo... |   1   |\n",
       "|   katarinka   | Being sick can be really c... |   1   |\n",
       "|  _EmilyYoung  | @LovesBrooklyn2 he has tha... |   1   |\n",
       "| ajarofalmonds | @ProductOfFear You can tel... |   1   |\n",
       "|   vmdavinci   | @r_keith_hill Thans for yo... |   1   |\n",
       "| jessicavaliyi | @KeepinUpWKris I am so jea... |   1   |\n",
       "|   emmasaur28  | @tommcfly ah, congrats mr ... |   1   |\n",
       "| SherylBreuker | @e4VoIP I RESPONDED  Stupi... |   1   |\n",
       "+---------------+-------------------------------+-------+\n",
       "[800000 rows x 7 columns]\n",
       "Note: Only the head of the SFrame is printed.\n",
       "You can use print_rows(num_rows=m, num_columns=n) to print more rows and columns."
      ]
     },
     "execution_count": 135,
     "metadata": {},
     "output_type": "execute_result"
    }
   ],
   "source": [
    "sentiment140_tweets_pos"
   ]
  },
  {
   "cell_type": "code",
   "execution_count": 157,
   "metadata": {
    "collapsed": false
   },
   "outputs": [
    {
     "ename": "NameError",
     "evalue": "name 'sentiment140_tweets_dropped' is not defined",
     "output_type": "error",
     "traceback": [
      "\u001b[0;31m---------------------------------------------------------------------------\u001b[0m",
      "\u001b[0;31mNameError\u001b[0m                                 Traceback (most recent call last)",
      "\u001b[0;32m<ipython-input-157-84782b38763d>\u001b[0m in \u001b[0;36m<module>\u001b[0;34m()\u001b[0m\n\u001b[0;32m----> 1\u001b[0;31m \u001b[0mtrain_data\u001b[0m\u001b[0;34m,\u001b[0m \u001b[0mvalidation_data\u001b[0m \u001b[0;34m=\u001b[0m \u001b[0msentiment140_tweets_dropped\u001b[0m\u001b[0;34m.\u001b[0m\u001b[0mrandom_split\u001b[0m\u001b[0;34m(\u001b[0m\u001b[0;36m.8\u001b[0m\u001b[0;34m,\u001b[0m \u001b[0mseed\u001b[0m\u001b[0;34m=\u001b[0m\u001b[0;36m2\u001b[0m\u001b[0;34m)\u001b[0m\u001b[0;34m\u001b[0m\u001b[0m\n\u001b[0m",
      "\u001b[0;31mNameError\u001b[0m: name 'sentiment140_tweets_dropped' is not defined"
     ]
    }
   ],
   "source": [
    "train_data, validation_data = sentiment140_tweets_dropped.random_split(.8, seed=2)"
   ]
  },
  {
   "cell_type": "code",
   "execution_count": null,
   "metadata": {
    "collapsed": true
   },
   "outputs": [],
   "source": [
    "def get_numpy_data(dataframe, features, label):\n",
    "    dataframe['constant'] = 1\n",
    "    features = ['constant'] + features\n",
    "    features_frame = dataframe[features]\n",
    "    #feature_matrix = features_frame.as_matrix()\n",
    "    feature_matrix = features_frame.to_numpy()\n",
    "    label_sarray = dataframe[label]\n",
    "    #label_array = label_sarray.as_matrix()\n",
    "    label_array = label_sarray.to_numpy()\n",
    "    return(feature_matrix, label_array)"
   ]
  },
  {
   "cell_type": "code",
   "execution_count": null,
   "metadata": {
    "collapsed": true
   },
   "outputs": [],
   "source": [
    "feature_matrix_train, sentiment_train = get_numpy_data(train_data, important_words, 'sentiment')\n",
    "feature_matrix_valid, sentiment_valid = get_numpy_data(validation_data, important_words, 'sentiment') "
   ]
  },
  {
   "cell_type": "code",
   "execution_count": 151,
   "metadata": {
    "collapsed": true
   },
   "outputs": [],
   "source": [
    "import numpy as np\n",
    "def predict_probability(feature_matrix, coefficients):\n",
    "    # Take dot product of feature_matrix and coefficients  \n",
    "    # YOUR CODE HERE\n",
    "    score = np.dot(feature_matrix,coefficients)\n",
    "    \n",
    "    # Compute P(y_i = +1 | x_i, w) using the link function\n",
    "    # YOUR CODE HERE\n",
    "    predictions = np.divide(1,np.add(1,np.exp(-score)))\n",
    "    \n",
    "    # return predictions\n",
    "    return predictions"
   ]
  },
  {
   "cell_type": "code",
   "execution_count": null,
   "metadata": {
    "collapsed": true
   },
   "outputs": [],
   "source": [
    "def feature_derivative(errors, feature):     \n",
    "    # Compute the dot product of errors and feature\n",
    "    derivative = np.dot(errors,feature)\n",
    "        # Return the derivative\n",
    "    return derivative"
   ]
  },
  {
   "cell_type": "code",
   "execution_count": 154,
   "metadata": {
    "collapsed": true
   },
   "outputs": [],
   "source": [
    "def feature_derivative_with_L2(errors, feature, coefficient, l2_penalty, feature_is_constant): \n",
    "    \n",
    "    # Compute the dot product of errors and feature\n",
    "    ## YOUR CODE HERE\n",
    "    derivative = np.dot(errors,feature)\n",
    "\n",
    "    # add L2 penalty term for any feature that isn't the intercept.\n",
    "    if not feature_is_constant: \n",
    "        ## YOUR CODE HERE\n",
    "        derivative = np.subtract(derivative,2*l2_penalty*coefficient)\n",
    "        \n",
    "    return derivative"
   ]
  },
  {
   "cell_type": "code",
   "execution_count": 153,
   "metadata": {
    "collapsed": true
   },
   "outputs": [],
   "source": [
    "def compute_log_likelihood_with_L2(feature_matrix, sentiment, coefficients, l2_penalty):\n",
    "    indicator = (sentiment==+1)\n",
    "    scores = np.dot(feature_matrix, coefficients)\n",
    "    \n",
    "    lp = np.sum((indicator-1)*scores - np.log(1. + np.exp(-scores))) - l2_penalty*np.sum(coefficients[1:]**2)\n",
    "    \n",
    "    return lp"
   ]
  },
  {
   "cell_type": "code",
   "execution_count": 152,
   "metadata": {
    "collapsed": true
   },
   "outputs": [],
   "source": [
    "def logistic_regression_with_L2(feature_matrix, sentiment, initial_coefficients, step_size, l2_penalty, max_iter):\n",
    "    coefficients = np.array(initial_coefficients) # make sure it's a numpy array\n",
    "    for itr in xrange(max_iter):\n",
    "        # Predict P(y_i = +1|x_i,w) using your predict_probability() function\n",
    "        ## YOUR CODE HERE\n",
    "        predictions = predict_probability(feature_matrix,coefficients)\n",
    "        \n",
    "        # Compute indicator value for (y_i = +1)\n",
    "        indicator = (sentiment==+1)\n",
    "        \n",
    "        # Compute the errors as indicator - predictions\n",
    "        errors = indicator - predictions\n",
    "        for j in xrange(len(coefficients)): # loop over each coefficient\n",
    "            #is_intercept = (j == 0)\n",
    "            if j==0:\n",
    "                is_intercept = True\n",
    "                \n",
    "            if j!=0:\n",
    "                is_intercept = False\n",
    "            # Recall that feature_matrix[:,j] is the feature column associated with coefficients[j].\n",
    "            # Compute the derivative for coefficients[j]. Save it in a variable called derivative\n",
    "            ## YOUR CODE HERE\n",
    "            derivative = feature_derivative_with_L2(errors,feature_matrix[:,j],coefficients[j], l2_penalty, is_intercept)\n",
    "            \n",
    "            # add the step size times the derivative to the current coefficient\n",
    "            ## YOUR CODE HERE\n",
    "            step = step_size*derivative\n",
    "            coefficients[j] = np.add(coefficients[j],step)\n",
    "        \n",
    "        # Checking whether log likelihood is increasing\n",
    "        if itr <= 15 or (itr <= 100 and itr % 10 == 0) or (itr <= 1000 and itr % 100 == 0) \\\n",
    "        or (itr <= 10000 and itr % 1000 == 0) or itr % 10000 == 0:\n",
    "            lp = compute_log_likelihood_with_L2(feature_matrix, sentiment, coefficients, l2_penalty)\n",
    "            print 'iteration %*d: log likelihood of observed labels = %.8f' % \\\n",
    "                (int(np.ceil(np.log10(max_iter))), itr, lp)\n",
    "    return coefficients"
   ]
  },
  {
   "cell_type": "code",
   "execution_count": 155,
   "metadata": {
    "collapsed": true
   },
   "outputs": [],
   "source": [
    "import numpy as np\n",
    "step_size = 5e-6\n",
    "max_iter = 501\n",
    "initial_coefficients = np.zeros(194)"
   ]
  },
  {
   "cell_type": "code",
   "execution_count": 156,
   "metadata": {
    "collapsed": false
   },
   "outputs": [
    {
     "ename": "NameError",
     "evalue": "name 'feature_matrix_train' is not defined",
     "output_type": "error",
     "traceback": [
      "\u001b[0;31m---------------------------------------------------------------------------\u001b[0m",
      "\u001b[0;31mNameError\u001b[0m                                 Traceback (most recent call last)",
      "\u001b[0;32m<ipython-input-156-946d70237c3b>\u001b[0m in \u001b[0;36m<module>\u001b[0;34m()\u001b[0m\n\u001b[0;32m----> 1\u001b[0;31m \u001b[0mfeature_matrix\u001b[0m \u001b[0;34m=\u001b[0m \u001b[0mfeature_matrix_train\u001b[0m\u001b[0;34m\u001b[0m\u001b[0m\n\u001b[0m\u001b[1;32m      2\u001b[0m \u001b[0msentiment\u001b[0m \u001b[0;34m=\u001b[0m \u001b[0msentiment_train\u001b[0m\u001b[0;34m\u001b[0m\u001b[0m\n\u001b[1;32m      3\u001b[0m \u001b[0mcoefficients_0_penalty\u001b[0m \u001b[0;34m=\u001b[0m \u001b[0mlogistic_regression_with_L2\u001b[0m\u001b[0;34m(\u001b[0m\u001b[0mfeature_matrix\u001b[0m\u001b[0;34m,\u001b[0m \u001b[0msentiment\u001b[0m\u001b[0;34m,\u001b[0m \u001b[0minitial_coefficients\u001b[0m\u001b[0;34m,\u001b[0m \u001b[0mstep_size\u001b[0m\u001b[0;34m,\u001b[0m \u001b[0;36m0\u001b[0m\u001b[0;34m,\u001b[0m \u001b[0mmax_iter\u001b[0m\u001b[0;34m)\u001b[0m\u001b[0;34m\u001b[0m\u001b[0m\n",
      "\u001b[0;31mNameError\u001b[0m: name 'feature_matrix_train' is not defined"
     ]
    }
   ],
   "source": [
    "feature_matrix = feature_matrix_train\n",
    "sentiment = sentiment_train\n",
    "coefficients_0_penalty = logistic_regression_with_L2(feature_matrix, sentiment, initial_coefficients, step_size, 0, max_iter)"
   ]
  },
  {
   "cell_type": "code",
   "execution_count": null,
   "metadata": {
    "collapsed": true
   },
   "outputs": [],
   "source": []
  },
  {
   "cell_type": "code",
   "execution_count": null,
   "metadata": {
    "collapsed": true
   },
   "outputs": [],
   "source": []
  },
  {
   "cell_type": "code",
   "execution_count": null,
   "metadata": {
    "collapsed": true
   },
   "outputs": [],
   "source": []
  },
  {
   "cell_type": "code",
   "execution_count": null,
   "metadata": {
    "collapsed": true
   },
   "outputs": [],
   "source": []
  },
  {
   "cell_type": "code",
   "execution_count": null,
   "metadata": {
    "collapsed": true
   },
   "outputs": [],
   "source": []
  }
 ],
 "metadata": {
  "kernelspec": {
   "display_name": "Python 2",
   "language": "python",
   "name": "python2"
  },
  "language_info": {
   "codemirror_mode": {
    "name": "ipython",
    "version": 2
   },
   "file_extension": ".py",
   "mimetype": "text/x-python",
   "name": "python",
   "nbconvert_exporter": "python",
   "pygments_lexer": "ipython2",
   "version": "2.7.12"
  }
 },
 "nbformat": 4,
 "nbformat_minor": 0
}
